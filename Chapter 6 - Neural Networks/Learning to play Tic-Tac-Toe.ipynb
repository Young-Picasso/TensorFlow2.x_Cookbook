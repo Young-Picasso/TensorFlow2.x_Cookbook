{
 "cells": [
  {
   "cell_type": "markdown",
   "metadata": {},
   "source": [
    "## How to do it..."
   ]
  },
  {
   "cell_type": "code",
   "execution_count": 1,
   "metadata": {},
   "outputs": [],
   "source": [
    "import tensorflow as tf\n",
    "import matplotlib.pyplot as plt\n",
    "import csv\n",
    "import numpy as np\n",
    "import random\n",
    "np.random.seed(seed=1)\n",
    "tf.random.set_seed(seed=1)\n",
    "random.seed(1)"
   ]
  },
  {
   "cell_type": "code",
   "execution_count": 2,
   "metadata": {},
   "outputs": [],
   "source": [
    "batch_size = 50"
   ]
  },
  {
   "cell_type": "code",
   "execution_count": 3,
   "metadata": {},
   "outputs": [],
   "source": [
    "def print_board(board):\n",
    "    symbols=['O', ' ', 'X']\n",
    "    board_plus1 = [int(x) + 1 for x in board]\n",
    "    board_line1 = '{} | {} | {}'.format(symbols[board_plus1[0]],\n",
    "                                        symbols[board_plus1[1]],\n",
    "                                        symbols[board_plus1[2]])\n",
    "    board_line2 = '{} | {} | {}'.format(symbols[board_plus1[3]],\n",
    "                                        symbols[board_plus1[4]],\n",
    "                                        symbols[board_plus1[5]])\n",
    "    board_line3 = '{} | {} | {}'.format(symbols[board_plus1[6]],\n",
    "                                        symbols[board_plus1[7]],\n",
    "                                        symbols[board_plus1[8]])\n",
    "    print(board_line1)\n",
    "    print('___________')\n",
    "    print(board_line2)\n",
    "    print('___________')\n",
    "    print(board_line3)"
   ]
  },
  {
   "cell_type": "code",
   "execution_count": 4,
   "metadata": {},
   "outputs": [],
   "source": [
    "def get_symmetry(board, response, transformation):\n",
    "    '''\n",
    "    :param board: list of integers 9 long:\n",
    "    opposing mark = -1\n",
    "    friendly mark = 1\n",
    "    empty space = 0\n",
    "    :param transformation: one of five transformations on a board:\n",
    "    rotate180, rotate90, rotate270, flip_v, flip_h\n",
    "    :return: tuple: (new_board, new_response)'''\n",
    "    \n",
    "    if transformation == 'rotate180':\n",
    "        new_response = 8 - response\n",
    "        return board[::-1], new_response\n",
    "    \n",
    "    elif transformation == 'rotate90':\n",
    "        new_response = [6, 3, 0, 7, 4, 1, 8, 5, 2].index(response)\n",
    "        tuple_board = list(zip(*[board[6:9], board[3:6], board[0:3]]))\n",
    "        return [value for item in tuple_board for value in item], new_response\n",
    "    \n",
    "    elif transformation == 'rotate270':\n",
    "        new_response = [2, 5, 8, 1, 4, 7, 0, 3, 6].index(response)\n",
    "        tuple_board = list(zip(*[board[0:3], board[3:6], board[6:9]]))[::-1]\n",
    "        return [value for item in tuple_board for value in item], new_response\n",
    "    \n",
    "    elif transformation == 'flip_v':\n",
    "        new_response = [6, 7, 8, 3, 4, 5, 0, 1, 2].index(response)\n",
    "        return board[6:9] + board[3:6] + board[0:3], new_response\n",
    "    \n",
    "    elif transformation == 'flip_h':\n",
    "        new_response = [2, 1, 0, 5, 4, 3, 8, 7, 6].index(response)\n",
    "        new_board = board[::-1]\n",
    "        return new_board[6:9] + new_board[3:6] + new_board[0:3], new_response\n",
    "    \n",
    "    else:\n",
    "        raise ValueError('Method not implemented.')"
   ]
  },
  {
   "cell_type": "code",
   "execution_count": 5,
   "metadata": {},
   "outputs": [],
   "source": [
    "def get_moves_from_csv(csv_file):\n",
    "    '''\n",
    "    :param csv_file: csv file location containing the boards w/ responses\n",
    "    :return: moves: list of moves with index of best response    \n",
    "    '''\n",
    "    moves = []\n",
    "    with open(csv_file, 'rt') as csvfile:\n",
    "        reader = csv.reader(csvfile, delimiter=',')\n",
    "        for row in reader:\n",
    "            moves.append(([int(x) for x in row[0:9]], int(row[9])))\n",
    "    return moves"
   ]
  },
  {
   "cell_type": "code",
   "execution_count": 6,
   "metadata": {},
   "outputs": [],
   "source": [
    "def get_rand_move(moves, rand_transforms=2):\n",
    "    # This function performs random transformations on a board.\n",
    "    (board, response) = random.choice(moves)\n",
    "    possible_transforms = ['rotate90', 'rotate180', 'rotate270', 'flip_v', 'flip_h']\n",
    "    for i in range(rand_transforms):\n",
    "        random_transform = random.choice(possible_transforms)\n",
    "        (board, response) = get_symmetry(board, response, random_transform)\n",
    "    return board, response"
   ]
  },
  {
   "cell_type": "code",
   "execution_count": 7,
   "metadata": {},
   "outputs": [],
   "source": [
    "moves = get_moves_from_csv('base_tic_tac_toe_moves.csv')\n",
    "# Create a train set:\n",
    "train_length = 500\n",
    "train_set = []\n",
    "for t in range(train_length):\n",
    "    train_set.append(get_rand_move(moves))"
   ]
  },
  {
   "cell_type": "code",
   "execution_count": 8,
   "metadata": {},
   "outputs": [],
   "source": [
    "test_board = [-1, 0, 0, 1, -1, -1, 0, 0, 1]\n",
    "train_set = [x for x in train_set if x[0] != test_board]"
   ]
  },
  {
   "cell_type": "code",
   "execution_count": 9,
   "metadata": {},
   "outputs": [],
   "source": [
    "def init_weights(shape):\n",
    "    return tf.Variable(tf.random.normal(shape))\n",
    "\n",
    "A1 = init_weights([9, 81])\n",
    "bias1 = init_weights([81])\n",
    "A2 = init_weights([81, 9])\n",
    "bias2 = init_weights([9])"
   ]
  },
  {
   "cell_type": "code",
   "execution_count": 10,
   "metadata": {},
   "outputs": [
    {
     "name": "stdout",
     "output_type": "stream",
     "text": [
      "WARNING:tensorflow:\n",
      "The following Variables were used a Lambda layer's call (lambda), but\n",
      "are not present in its tracked objects:\n",
      "  <tf.Variable 'Variable:0' shape=(9, 81) dtype=float32>\n",
      "  <tf.Variable 'Variable:0' shape=(81,) dtype=float32>\n",
      "It is possible that this is intended behavior, but it is more likely\n",
      "an omission. This is a strong indication that this layer should be\n",
      "formulated as a subclassed Layer rather than a Lambda layer.\n",
      "WARNING:tensorflow:\n",
      "The following Variables were used a Lambda layer's call (lambda_1), but\n",
      "are not present in its tracked objects:\n",
      "  <tf.Variable 'Variable:0' shape=(81, 9) dtype=float32>\n",
      "  <tf.Variable 'Variable:0' shape=(9,) dtype=float32>\n",
      "It is possible that this is intended behavior, but it is more likely\n",
      "an omission. This is a strong indication that this layer should be\n",
      "formulated as a subclassed Layer rather than a Lambda layer.\n"
     ]
    }
   ],
   "source": [
    "# Initialize input data\n",
    "X = tf.keras.Input(dtype=tf.float32, batch_input_shape=[None, 9])\n",
    "hidden_output = tf.keras.layers.Lambda(lambda x: tf.nn.sigmoid(tf.add(tf.matmul(x, A1), bias1)))(X)\n",
    "final_output = tf.keras.layers.Lambda(lambda x: tf.add(tf.matmul(x, A2), bias2))(hidden_output)\n",
    "model = tf.keras.Model(inputs=X, outputs=final_output, name='tic_tac_toe_neural_network')"
   ]
  },
  {
   "cell_type": "code",
   "execution_count": 11,
   "metadata": {},
   "outputs": [],
   "source": [
    "optimizer = tf.keras.optimizers.SGD(0.025)"
   ]
  },
  {
   "cell_type": "code",
   "execution_count": 12,
   "metadata": {},
   "outputs": [
    {
     "name": "stdout",
     "output_type": "stream",
     "text": [
      "Iteration: 0, Loss: 9.745210647583008\n",
      "Iteration: 500, Loss: 1.8692318201065063\n",
      "Iteration: 1000, Loss: 1.447023630142212\n",
      "Iteration: 1500, Loss: 1.4928317070007324\n",
      "Iteration: 2000, Loss: 1.357935905456543\n",
      "Iteration: 2500, Loss: 0.956774890422821\n",
      "Iteration: 3000, Loss: 1.1083436012268066\n",
      "Iteration: 3500, Loss: 1.2603338956832886\n",
      "Iteration: 4000, Loss: 0.8745458722114563\n",
      "Iteration: 4500, Loss: 0.7953532338142395\n",
      "Iteration: 5000, Loss: 0.9076696634292603\n",
      "Iteration: 5500, Loss: 0.8191037774085999\n",
      "Iteration: 6000, Loss: 0.8957198858261108\n",
      "Iteration: 6500, Loss: 0.8624899387359619\n",
      "Iteration: 7000, Loss: 0.9124799370765686\n",
      "Iteration: 7500, Loss: 0.7910048961639404\n",
      "Iteration: 8000, Loss: 0.8169861435890198\n",
      "Iteration: 8500, Loss: 0.7862880825996399\n",
      "Iteration: 9000, Loss: 0.636460542678833\n",
      "Iteration: 9500, Loss: 0.7697885632514954\n"
     ]
    }
   ],
   "source": [
    "# Initialize variables\n",
    "loss_vec = []\n",
    "for i in range(10_000):\n",
    "    rand_indices = np.random.choice(range(len(train_set)), batch_size, replace=False)\n",
    "    batch_data = [train_set[i] for i in rand_indices]\n",
    "    x_input = [x[0] for x in batch_data]\n",
    "    y_target = np.array([y[1] for y in batch_data])\n",
    "    \n",
    "    # Open a GradientTape\n",
    "    with tf.GradientTape(persistent=True) as tape:\n",
    "        # Forward pass.\n",
    "        output = model(np.array(x_input, dtype=float))\n",
    "        \n",
    "        # Apply loss function(Cross entropy loss)\n",
    "        loss = tf.reduce_mean(tf.nn.sparse_softmax_cross_entropy_with_logits(logits=output, labels=y_target))\n",
    "        loss_vec.append(loss)\n",
    "        \n",
    "    # Get gradients of loss with reference to the weights and bias variables to adjust\n",
    "    gradients_A1 = tape.gradient(loss, A1)\n",
    "    gradients_b1 = tape.gradient(loss, bias1)\n",
    "    gradients_A2 = tape.gradient(loss, A2)\n",
    "    gradients_b2 = tape.gradient(loss, bias2)\n",
    "\n",
    "    # Update the weights and bias variables of the model.\n",
    "    optimizer.apply_gradients(zip([gradients_A1, gradients_b1, gradients_A2, gradients_b2],\n",
    "                                  [A1, bias1, A2, bias2]))\n",
    "\n",
    "    if (i) % 500 == 0:\n",
    "        print(f'Iteration: {i}, Loss: {loss}')"
   ]
  },
  {
   "cell_type": "code",
   "execution_count": 14,
   "metadata": {},
   "outputs": [
    {
     "data": {
      "image/png": "[encoded data removed]",
      "text/plain": [
       "<Figure size 432x288 with 1 Axes>"
      ]
     },
     "metadata": {
      "needs_background": "light"
     },
     "output_type": "display_data"
    }
   ],
   "source": [
    "plt.plot(loss_vec, 'k-', label='loss')\n",
    "plt.title('Loss (MSE) per Generation')\n",
    "plt.xlabel('Generation')\n",
    "plt.ylabel('Loss')\n",
    "plt.show()"
   ]
  },
  {
   "cell_type": "code",
   "execution_count": 15,
   "metadata": {},
   "outputs": [
    {
     "name": "stdout",
     "output_type": "stream",
     "text": [
      "tf.Tensor([2], shape=(1,), dtype=int64)\n"
     ]
    }
   ],
   "source": [
    "# Make Prediction:\n",
    "test_boards = [test_board]\n",
    "logits = model.predict(test_boards)\n",
    "predictions = tf.argmax(logits, 1)\n",
    "print(predictions)"
   ]
  },
  {
   "cell_type": "code",
   "execution_count": 16,
   "metadata": {},
   "outputs": [
    {
     "name": "stdout",
     "output_type": "stream",
     "text": [
      "Input index of your move (0-8): 1\n",
      "Model has moved\n",
      "  | X | O\n",
      "___________\n",
      "  |   |  \n",
      "___________\n",
      "  |   |  \n",
      "Input index of your move (0-8): 4\n",
      "Model has moved\n",
      "  | X | O\n",
      "___________\n",
      "O | X |  \n",
      "___________\n",
      "  |   |  \n",
      "Input index of your move (0-8): 7\n",
      "Model has moved\n",
      "  | X | O\n",
      "___________\n",
      "O | X |  \n",
      "___________\n",
      "  | X | O\n",
      "Congratulations, You won!\n"
     ]
    }
   ],
   "source": [
    "# Declare function to check for win\n",
    "def check(board):\n",
    "    wins = [[0, 1, 2], [3, 4, 5], [6, 7, 8], [0, 3, 6], [1, 4, 7], [2, 5, 8], [0, 4, 8], [2, 4, 6]]\n",
    "    for ix in range(len(wins)):\n",
    "        if board[wins[ix][0]] == board[wins[ix][1]] == board[wins[ix][2]] == 1.:\n",
    "            return 1\n",
    "        elif board[wins[ix][0]] == board[wins[ix][1]] == board[wins[ix][2]] == -1.:\n",
    "            return -1\n",
    "    return 0\n",
    "\n",
    "# Let's play against our model\n",
    "game_tracker = [0., 0., 0., 0., 0., 0., 0., 0., 0.]\n",
    "win_logical = False\n",
    "num_moves = 0\n",
    "while not win_logical:\n",
    "    player_index = input('Input index of your move (0-8): ')\n",
    "    num_moves += 1\n",
    "    # Add player move to game\n",
    "    game_tracker[int(player_index)] = 1.\n",
    "    \n",
    "    # Get model's move by first getting all the logits for each index\n",
    "    [potential_moves] = model(np.array([game_tracker], dtype=float))\n",
    "    # Now find allowed moves (where game tracker values = 0.0)\n",
    "    allowed_moves = [ix for ix, x in enumerate(game_tracker) if x == 0.0]\n",
    "    # Find best move by taking argmax of logits if they are in allowed moves\n",
    "    model_move = np.argmax([x if ix in allowed_moves else -999.0 for ix, x in enumerate(potential_moves)])\n",
    "    \n",
    "    # Add model move to game\n",
    "    game_tracker[int(model_move)] = -1.\n",
    "    print('Model has moved')\n",
    "    print_board(game_tracker)\n",
    "    # Now check for win or too many moves\n",
    "    if check(game_tracker) == -1 or num_moves >= 5:\n",
    "        print('Game Over!')\n",
    "        win_logical = True\n",
    "    elif check(game_tracker) == 1:\n",
    "        print('Congratulations, You won!')\n",
    "        win_logical = True"
   ]
  },
  {
   "cell_type": "markdown",
   "metadata": {},
   "source": [
    "Not perfect, could benefit from better NN architecture or a reinforcement learning approach. "
   ]
  }
 ],
 "metadata": {
  "kernelspec": {
   "display_name": "py365",
   "language": "python",
   "name": "py365"
  },
  "language_info": {
   "codemirror_mode": {
    "name": "ipython",
    "version": 3
   },
   "file_extension": ".py",
   "mimetype": "text/x-python",
   "name": "python",
   "nbconvert_exporter": "python",
   "pygments_lexer": "ipython3",
   "version": "3.6.5"
  }
 },
 "nbformat": 4,
 "nbformat_minor": 2
}
