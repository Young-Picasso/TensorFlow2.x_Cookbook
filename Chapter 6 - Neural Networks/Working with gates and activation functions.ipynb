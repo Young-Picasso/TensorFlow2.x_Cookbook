{
 "cells": [
  {
   "cell_type": "markdown",
   "metadata": {},
   "source": [
    "## Getting ready"
   ]
  },
  {
   "cell_type": "markdown",
   "metadata": {},
   "source": [
    "In this section, we will compare and contrast two different activation functions: sigmoid and ReLU."
   ]
  },
  {
   "cell_type": "markdown",
   "metadata": {},
   "source": [
    "## How to do it..."
   ]
  },
  {
   "cell_type": "code",
   "execution_count": 6,
   "metadata": {},
   "outputs": [],
   "source": [
    "# Import the required libraries\n",
    "import tensorflow as tf\n",
    "import numpy as np\n",
    "import matplotlib.pyplot as plt\n",
    "tf.random.set_seed(5)\n",
    "np.random.seed(42)"
   ]
  },
  {
   "cell_type": "code",
   "execution_count": 16,
   "metadata": {},
   "outputs": [],
   "source": [
    "# Declare batch size, model variables, and data model inputs\n",
    "batch_size = 50\n",
    "x = np.random.normal(2, 0.1, 500)\n",
    "x_data = tf.keras.Input(shape=(1,))\n",
    "a1 = tf.Variable(tf.random.normal(shape=[1, 1], seed=5))\n",
    "b1 = tf.Variable(tf.random.uniform(shape=[1, 1], seed=5))\n",
    "a2 = tf.Variable(tf.random.normal(shape=[1, 1], seed=5))\n",
    "b2 = tf.Variable(tf.random.uniform(shape=[1, 1], seed=5))"
   ]
  },
  {
   "cell_type": "code",
   "execution_count": 12,
   "metadata": {},
   "outputs": [],
   "source": [
    "# Declare the sigmoid and ReLU activation models as follows:\n",
    "class MyCustomGateSigmoid(tf.keras.layers.Layer):\n",
    "    \n",
    "    def __init__(self, units, a1, b1):\n",
    "        super(MyCustomGateSigmoid, self).__init__()\n",
    "        self.units = units\n",
    "        self.a1 = a1\n",
    "        self.b1 = b1\n",
    "        \n",
    "    # Compute f(x) = sigmoid(a1 + x + b1)\n",
    "    def call(self, inputs):\n",
    "        return tf.math.sigmoid(inputs * self.a1 + self.b1)\n",
    "    \n",
    "# Add a layer which computes f(x) = sigmoid(a1 * x + b1)\n",
    "my_custom_gate_sigmoid = MyCustomGateSigmoid(units=1, a1=a1, b1=b1)\n",
    "output_sigmoid = my_custom_gate_sigmoid(x_data)\n",
    "\n",
    "# Build the model\n",
    "model_sigmoid = tf.keras.Model(inputs=x_data, outputs=output_sigmoid, name=\"gate_sigmoid\")\n",
    "\n",
    "class MyCustomGateRelu(tf.keras.layers.Layer):\n",
    "    \n",
    "    def __init__(self, units, a2, b2):\n",
    "        super(MyCustomGateRelu, self).__init__()\n",
    "        self.units = units\n",
    "        self.a2 = a2\n",
    "        self.b2 = b2\n",
    "        \n",
    "    # Compute f(x) = relu(a2 * x + b2)\n",
    "    def call(self, inputs):\n",
    "        return tf.nn.relu(inputs * self.a2 + self.b2)\n",
    "    \n",
    "# Add a layer which computes f(x) = relu(a2 * x + b2)\n",
    "my_custom_gate_relu = MyCustomGateRelu(units=1, a2=a2, b2=b2)\n",
    "outputs_relu = my_custom_gate_relu(x_data)\n",
    "\n",
    "# Build the model\n",
    "model_relu = tf.keras.Model(inputs=x_data, outputs=outputs_relu, name=\"gate_relu\")"
   ]
  },
  {
   "cell_type": "code",
   "execution_count": 13,
   "metadata": {},
   "outputs": [],
   "source": [
    "# Declare optimization algorithm\n",
    "optimizer=tf.keras.optimizers.SGD(0.01)"
   ]
  },
  {
   "cell_type": "code",
   "execution_count": 19,
   "metadata": {},
   "outputs": [
    {
     "name": "stdout",
     "output_type": "stream",
     "text": [
      "sigmoid = 0.5943172 relu = 0.75084627\n",
      "sigmoid = 0.6327382 relu = 0.7511134\n",
      "sigmoid = 0.6596761 relu = 0.7507398\n",
      "sigmoid = 0.679226 relu = 0.7499596\n",
      "sigmoid = 0.6941942 relu = 0.7528675\n",
      "sigmoid = 0.7050888 relu = 0.75134677\n",
      "sigmoid = 0.71367717 relu = 0.75109047\n",
      "sigmoid = 0.720386 relu = 0.7519781\n",
      "sigmoid = 0.7258277 relu = 0.7500313\n",
      "sigmoid = 0.7301913 relu = 0.74972975\n"
     ]
    }
   ],
   "source": [
    "# Loop through training for 750 iteration for both models. \n",
    "# Loss function will be average L2 norm between model output and value of 0.75\n",
    "loss_vec_sigmoid = []\n",
    "loss_vec_relu = []\n",
    "\n",
    "activation_sigmoid = []\n",
    "activation_relu = []\n",
    "\n",
    "for i in range(500):\n",
    "    \n",
    "    rand_indices = np.random.choice(len(x), size=batch_size)\n",
    "    x_vals = np.transpose([x[rand_indices]])\n",
    "    # Open a GradientTape\n",
    "    with tf.GradientTape(persistent=True) as tape:\n",
    "        \n",
    "        # Forward pass.\n",
    "        output_sigmoid = model_sigmoid(x_vals)\n",
    "        output_relu = model_relu(x_vals)\n",
    "        \n",
    "        # Loss value as the difference between the output and a target value, 0.75\n",
    "        loss_sigmoid = tf.reduce_mean(tf.square(tf.subtract(output_sigmoid, 0.75)))\n",
    "        loss_vec_sigmoid.append(loss_sigmoid)\n",
    "        loss_relu = tf.reduce_mean(tf.square(tf.subtract(output_relu, 0.75)))\n",
    "        loss_vec_relu.append(loss_relu)\n",
    "        \n",
    "    # Get gradients of loss_sigmoid with reference to the variables \"a1\" and \"b1\" to adjust\n",
    "    gradients_a1 = tape.gradient(loss_sigmoid, my_custom_gate_sigmoid.a1)\n",
    "    gradients_b1 = tape.gradient(loss_sigmoid, my_custom_gate_sigmoid.b1)\n",
    "    \n",
    "    # Get gradients of loss_relu with reference to the variables \"a2\" and \"b2\" to adjust\n",
    "    gradients_a2 = tape.gradient(loss_relu, my_custom_gate_relu.a2)\n",
    "    gradients_b2 = tape.gradient(loss_relu, my_custom_gate_relu.b2)\n",
    "    \n",
    "    # Update the variables \"a1\" and \"b1\" of the model\n",
    "    optimizer.apply_gradients(zip([gradients_a1, gradients_b1], [my_custom_gate_sigmoid.a1, my_custom_gate_sigmoid.b1]))\n",
    "    \n",
    "    # Update the variables \"a2\" and \"b2\" of the model\n",
    "    optimizer.apply_gradients(zip([gradients_a2, gradients_b2], [my_custom_gate_relu.a2, my_custom_gate_relu.b2]))\n",
    "    \n",
    "    output_sigmoid = model_sigmoid(x_vals)\n",
    "    output_relu = model_relu(x_vals)\n",
    "    \n",
    "    activation_sigmoid.append(np.mean(output_sigmoid))\n",
    "    activation_relu.append(np.mean(output_relu))\n",
    "    \n",
    "    if i%50==0:\n",
    "        print('sigmoid = ' + str(np.mean(output_sigmoid)) + ' relu = ' + str(np.mean(output_relu)))"
   ]
  },
  {
   "cell_type": "code",
   "execution_count": 20,
   "metadata": {},
   "outputs": [
    {
     "data": {
      "image/png": "[encoded data removed]",
      "text/plain": [
       "<Figure size 432x288 with 1 Axes>"
      ]
     },
     "metadata": {
      "needs_background": "light"
     },
     "output_type": "display_data"
    },
    {
     "data": {
      "image/png": "[encoded data removed]",
      "text/plain": [
       "<Figure size 432x288 with 1 Axes>"
      ]
     },
     "metadata": {
      "needs_background": "light"
     },
     "output_type": "display_data"
    }
   ],
   "source": [
    "# To plot the loss and activation outputs, we need to input the following code:\n",
    "plt.plot(activation_sigmoid, 'k-', label='Sigmoid Activation') \n",
    "plt.plot(activation_relu, 'r--', label='Relu Activation') \n",
    "plt.ylim([0, 1.0]) \n",
    "plt.title('Activation Outputs') \n",
    "plt.xlabel('Generation') \n",
    "plt.ylabel('Outputs') \n",
    "plt.legend(loc='upper right') \n",
    "plt.show() \n",
    "plt.plot(loss_vec_sigmoid, 'k-', label='Sigmoid Loss') \n",
    "plt.plot(loss_vec_relu, 'r--', label='Relu Loss') \n",
    "plt.ylim([0, 1.0]) \n",
    "plt.title('Loss per Generation') \n",
    "plt.xlabel('Generation') \n",
    "plt.ylabel('Loss') \n",
    "plt.legend(loc='upper right') \n",
    "plt.show() "
   ]
  }
 ],
 "metadata": {
  "kernelspec": {
   "display_name": "py365",
   "language": "python",
   "name": "py365"
  },
  "language_info": {
   "codemirror_mode": {
    "name": "ipython",
    "version": 3
   },
   "file_extension": ".py",
   "mimetype": "text/x-python",
   "name": "python",
   "nbconvert_exporter": "python",
   "pygments_lexer": "ipython3",
   "version": "3.6.5"
  }
 },
 "nbformat": 4,
 "nbformat_minor": 2
}
