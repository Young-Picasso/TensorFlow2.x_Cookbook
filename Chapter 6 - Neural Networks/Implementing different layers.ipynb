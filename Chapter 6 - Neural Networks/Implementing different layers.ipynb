{
 "cells": [
  {
   "cell_type": "markdown",
   "metadata": {},
   "source": [
    "## How to do it"
   ]
  },
  {
   "cell_type": "code",
   "execution_count": 1,
   "metadata": {},
   "outputs": [],
   "source": [
    "import tensorflow as tf\n",
    "import numpy as np"
   ]
  },
  {
   "cell_type": "code",
   "execution_count": 2,
   "metadata": {},
   "outputs": [],
   "source": [
    "data_size = 25\n",
    "conv_size = 5\n",
    "maxpool_size = 5\n",
    "stride_size = 1\n",
    "num_outputs = 5\n",
    "\n",
    "x_input_1d = tf.keras.Input(dtype=tf.float32, shape=(data_size, 1), name='input_layer')"
   ]
  },
  {
   "cell_type": "code",
   "execution_count": 5,
   "metadata": {},
   "outputs": [],
   "source": [
    "my_conv_output = tf.keras.layers.Conv1D(kernel_size=(conv_size),\n",
    "                                       filters=data_size,\n",
    "                                       strides=stride_size,\n",
    "                                       padding='VALID',\n",
    "                                       name='convolution_layer')(x_input_1d)"
   ]
  },
  {
   "cell_type": "code",
   "execution_count": 6,
   "metadata": {},
   "outputs": [],
   "source": [
    "my_activation_output = tf.keras.layers.ReLU(name='activation_layer')(my_conv_output)"
   ]
  },
  {
   "cell_type": "code",
   "execution_count": 7,
   "metadata": {},
   "outputs": [],
   "source": [
    "my_maxpool_output = tf.keras.layers.MaxPool1D(strides=stride_size, pool_size=maxpool_size,\n",
    "                                             padding='Valid', name='maxpool_layer')(my_activation_output)"
   ]
  },
  {
   "cell_type": "code",
   "execution_count": 8,
   "metadata": {},
   "outputs": [],
   "source": [
    "my_full_output = tf.keras.layers.Dense(units=num_outputs, name='fully_connected_layer')(my_activation_output)"
   ]
  },
  {
   "cell_type": "code",
   "execution_count": 12,
   "metadata": {},
   "outputs": [
    {
     "name": "stdout",
     "output_type": "stream",
     "text": [
      ">>>> 1D Data <<<<\n",
      "Model: \"model_1D\"\n",
      "_________________________________________________________________\n",
      "Layer (type)                 Output Shape              Param #   \n",
      "=================================================================\n",
      "input_layer (InputLayer)     [(None, 25, 1)]           0         \n",
      "_________________________________________________________________\n",
      "convolution_layer (Conv1D)   (None, 21, 25)            150       \n",
      "_________________________________________________________________\n",
      "activation_layer (ReLU)      (None, 21, 25)            0         \n",
      "_________________________________________________________________\n",
      "fully_connected_layer (Dense (None, 21, 5)             130       \n",
      "=================================================================\n",
      "Total params: 280\n",
      "Trainable params: 280\n",
      "Non-trainable params: 0\n",
      "_________________________________________________________________\n",
      "\n",
      "== input_layer ==\n",
      "Input = array of length 25\n",
      "\n",
      "== convolution_layer ==\n",
      "Convolution w/ filter, length = 5, stride size = 1, results in an array of length 21\n",
      "\n",
      "== activation_layer ==\n",
      "Input = above array of length 21\n",
      "ReLU element wise returns an array of length 21\n",
      "\n",
      "== maxpool_layer ==\n",
      "Input = above array of length 21\n",
      "MaxPool, window length = 5, stride size = 1, results in the array of length 17\n",
      "\n",
      "== fully_connected_layer ==\n",
      "Input = above array of length 17\n",
      "Fully connected layer on all 4 rows with 21 outputs\n"
     ]
    }
   ],
   "source": [
    "print('>>>> 1D Data <<<<')\n",
    "\n",
    "model_1D = tf.keras.Model(inputs=x_input_1d, outputs=my_full_output, name='model_1D')\n",
    "model_1D.summary()\n",
    "\n",
    "# Input\n",
    "print('\\n== input_layer ==')\n",
    "print(f'Input = array of length {x_input_1d.shape.as_list()[1]}')\n",
    "\n",
    "# Convolution\n",
    "print('\\n== convolution_layer ==')\n",
    "print(f'Convolution w/ filter, length = {conv_size}, stride size = {stride_size}, results in an array of length {my_conv_output.shape.as_list()[1]}')\n",
    "\n",
    "# Activation \n",
    "print('\\n== activation_layer ==')\n",
    "print('Input = above array of length %d' % (my_conv_output.shape.as_list()[1]))\n",
    "print('ReLU element wise returns an array of length %d' % (my_activation_output.shape.as_list()[1]))\n",
    "\n",
    "# Max Pool \n",
    "print('\\n== maxpool_layer ==')\n",
    "print('Input = above array of length %d' % (my_activation_output.shape.as_list()[1]))\n",
    "print('MaxPool, window length = %d, stride size = %d, results in the array of length %d' %\n",
    "     (maxpool_size,stride_size,my_maxpool_output.shape.as_list()[1]))\n",
    "\n",
    "# Fully Connected \n",
    "print('\\n== fully_connected_layer ==')\n",
    "print('Input = above array of length %d' % (my_maxpool_output.shape.as_list()[1]))\n",
    "print('Fully connected layer on all 4 rows with %d outputs' % \n",
    "      (my_full_output.shape.as_list()[1]))"
   ]
  },
  {
   "cell_type": "markdown",
   "metadata": {},
   "source": [
    "We will now consider the same types of layer in an equivalent order but for two-dimensional data:"
   ]
  },
  {
   "cell_type": "code",
   "execution_count": 13,
   "metadata": {},
   "outputs": [],
   "source": [
    "row_size = 10\n",
    "col_size = 10\n",
    "conv_size = 2\n",
    "conv_stride_size = 2\n",
    "maxpool_size = 2\n",
    "maxpool_stride_size = 1\n",
    "num_outputs = 5"
   ]
  },
  {
   "cell_type": "code",
   "execution_count": 14,
   "metadata": {},
   "outputs": [],
   "source": [
    "x_input_2d = tf.keras.Input(dtype=tf.float32, shape=(row_size, col_size, 1), name='input_layer_2d')"
   ]
  },
  {
   "cell_type": "code",
   "execution_count": 17,
   "metadata": {},
   "outputs": [],
   "source": [
    "my_convolution_output_2d = tf.keras.layers.Conv2D(kernel_size=(conv_size), filters=conv_size,\n",
    "                                                 strides=conv_stride_size, padding='VALID', \n",
    "                                                 name='convolution_layer_2d')(x_input_2d)"
   ]
  },
  {
   "cell_type": "code",
   "execution_count": 18,
   "metadata": {},
   "outputs": [],
   "source": [
    "my_activation_output_2d = tf.keras.layers.ReLU(name='activation_layer_2d')(my_convolution_output_2d)"
   ]
  },
  {
   "cell_type": "code",
   "execution_count": 19,
   "metadata": {},
   "outputs": [],
   "source": [
    "my_maxpool_output_2d = tf.keras.layers.MaxPool2D(strides=maxpool_stride_size, pool_size=maxpool_size, padding='VALID',\n",
    "                                                 name='maxpool_layer_2d')(my_activation_output_2d)"
   ]
  },
  {
   "cell_type": "code",
   "execution_count": 21,
   "metadata": {},
   "outputs": [],
   "source": [
    "my_full_output_2d = tf.keras.layers.Dense(units=num_outputs, name='fully_connected_layer_2d')(my_maxpool_output_2d)"
   ]
  },
  {
   "cell_type": "code",
   "execution_count": 22,
   "metadata": {},
   "outputs": [
    {
     "name": "stdout",
     "output_type": "stream",
     "text": [
      ">>>> 2D Data <<<<\n",
      "Model: \"model_2D\"\n",
      "_________________________________________________________________\n",
      "Layer (type)                 Output Shape              Param #   \n",
      "=================================================================\n",
      "input_layer_2d (InputLayer)  [(None, 10, 10, 1)]       0         \n",
      "_________________________________________________________________\n",
      "convolution_layer_2d (Conv2D (None, 5, 5, 2)           10        \n",
      "_________________________________________________________________\n",
      "activation_layer_2d (ReLU)   (None, 5, 5, 2)           0         \n",
      "_________________________________________________________________\n",
      "maxpool_layer_2d (MaxPooling (None, 4, 4, 2)           0         \n",
      "_________________________________________________________________\n",
      "fully_connected_layer_2d (De (None, 4, 4, 5)           15        \n",
      "=================================================================\n",
      "Total params: 25\n",
      "Trainable params: 25\n",
      "Non-trainable params: 0\n",
      "_________________________________________________________________\n",
      "\n",
      "== input_layer ==\n",
      "Input = [10, 10] array\n",
      "\n",
      "== convolution_layer ==\n",
      "[2, 2] Convolution, stride size = [2, 2] , results in the [5, 5] array\n",
      "\n",
      "== activation_layer ==\n",
      "Input = the above [5, 5] array\n",
      "ReLU element wise returns the [5, 5] array\n",
      "\n",
      "== maxpool_layer ==\n",
      "Input = the above [5, 5] array\n",
      "MaxPool, stride size = [1, 1], results in [4, 4] array\n",
      "\n",
      "== fully_connected_layer ==\n",
      "Input = the above [4, 4] array\n",
      "Fully connected layer on all 4 rows results in 5 outputs\n"
     ]
    }
   ],
   "source": [
    "print('>>>> 2D Data <<<<')\n",
    "\n",
    "model_2D = tf.keras.Model(inputs=x_input_2d, outputs=my_full_output_2d, name=\"model_2D\")\n",
    "model_2D.summary()\n",
    "\n",
    "# Input \n",
    "print('\\n== input_layer ==')\n",
    "print('Input = %s array' % (x_input_2d.shape.as_list()[1:3]))\n",
    "\n",
    "# Convolution\n",
    "print('\\n== convolution_layer ==')\n",
    "print('%s Convolution, stride size = [%d, %d] , results in the %s array' % \n",
    "      ([conv_size,conv_size],conv_stride_size,conv_stride_size,my_convolution_output_2d.shape.as_list()[1:3]))\n",
    "\n",
    "# Activation\n",
    "print('\\n== activation_layer ==')\n",
    "print('Input = the above %s array' % (my_convolution_output_2d.shape.as_list()[1:3]))\n",
    "print('ReLU element wise returns the %s array' % (my_activation_output_2d.shape.as_list()[1:3]))\n",
    "\n",
    "# Max Pool\n",
    "print('\\n== maxpool_layer ==')\n",
    "print('Input = the above %s array' % (my_activation_output_2d.shape.as_list()[1:3]))\n",
    "print('MaxPool, stride size = [%d, %d], results in %s array' % \n",
    "      (maxpool_stride_size,maxpool_stride_size,my_maxpool_output_2d.shape.as_list()[1:3]))\n",
    "\n",
    "# Fully Connected\n",
    "print('\\n== fully_connected_layer ==')\n",
    "print('Input = the above %s array' % (my_maxpool_output_2d.shape.as_list()[1:3]))\n",
    "print('Fully connected layer on all %d rows results in %s outputs' % \n",
    "      (my_maxpool_output_2d.shape.as_list()[1],my_full_output_2d.shape.as_list()[3]))"
   ]
  }
 ],
 "metadata": {
  "kernelspec": {
   "display_name": "py365",
   "language": "python",
   "name": "py365"
  },
  "language_info": {
   "codemirror_mode": {
    "name": "ipython",
    "version": 3
   },
   "file_extension": ".py",
   "mimetype": "text/x-python",
   "name": "python",
   "nbconvert_exporter": "python",
   "pygments_lexer": "ipython3",
   "version": "3.6.5"
  }
 },
 "nbformat": 4,
 "nbformat_minor": 2
}
