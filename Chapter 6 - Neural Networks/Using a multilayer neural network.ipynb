{
 "cells": [
  {
   "cell_type": "code",
   "execution_count": 1,
   "metadata": {},
   "outputs": [],
   "source": [
    "import tensorflow as tf\n",
    "import matplotlib.pyplot as plt\n",
    "import csv\n",
    "import random\n",
    "import numpy as np\n",
    "import requests\n",
    "import os"
   ]
  },
  {
   "cell_type": "code",
   "execution_count": 2,
   "metadata": {},
   "outputs": [
    {
     "data": {
      "text/plain": [
       "131072"
      ]
     },
     "execution_count": 2,
     "metadata": {},
     "output_type": "execute_result"
    }
   ],
   "source": [
    "import sys\n",
    "csv.field_size_limit(sys.maxsize)"
   ]
  },
  {
   "cell_type": "code",
   "execution_count": 3,
   "metadata": {},
   "outputs": [],
   "source": [
    "# name of data file\n",
    "birth_weight_file = 'birthweight.dat'\n",
    "\n",
    "# download data and create data file if file does not exist in current directory\n",
    "if not os.path.exists(birth_weight_file):\n",
    "    birthdata_url = 'https://github.com/nfmcclure/tensorflow_cookbook/raw/master/01_Introduction/07_Working_with_Data_Sources/birthweight_data/birthweight.dat'\n",
    "    birth_file = requests.get(birthdata_url)\n",
    "    birth_data = birth_file.text.split('\\r\\n')\n",
    "    birth_header = birth_data[0].split('\\t')\n",
    "    birth_data = [[float(x) for x in y.split('\\t') if len(x)>=1] for y in birth_data[1:] if len(y)>=1]\n",
    "    with open(birth_weight_file, \"w\") as f:\n",
    "        writer = csv.writer(f)\n",
    "        writer.writerows([birth_header])\n",
    "        writer.writerows(birth_data)\n",
    "        f.close()\n",
    "\n",
    "# read birth weight data into memory\n",
    "birth_data = []\n",
    "with open(birth_weight_file, newline='') as csvfile:\n",
    "    csv_reader = csv.reader(csvfile)\n",
    "    birth_header = next(csv_reader)\n",
    "    for row in csv_reader:\n",
    "        birth_data.append(row)\n",
    "\n",
    "birth_data = [[float(x) for x in row] for row in birth_data]\n",
    "\n",
    "\n",
    "# Extract y-target (birth weight)\n",
    "y_vals = np.array([x[8] for x in birth_data])\n",
    "\n",
    "# Filter for features of interest\n",
    "cols_of_interest = ['AGE', 'LWT', 'RACE', 'SMOKE', 'PTL', 'HT', 'UI']\n",
    "x_vals = np.array([[x[ix] for ix, feature in enumerate(birth_header) if feature in cols_of_interest] for x in birth_data])"
   ]
  },
  {
   "cell_type": "code",
   "execution_count": 4,
   "metadata": {},
   "outputs": [],
   "source": [
    "# set batch size for training\n",
    "batch_size = 150\n",
    "\n",
    "# make results reproducible\n",
    "seed = 3\n",
    "np.random.seed(seed)\n",
    "tf.random.set_seed(seed)\n",
    "\n",
    "# Split data into train/test = 80%/20%\n",
    "train_indices = np.random.choice(len(x_vals), round(len(x_vals)*0.8), replace=False)\n",
    "test_indices = np.array(list(set(range(len(x_vals))) - set(train_indices)))\n",
    "x_vals_train = x_vals[train_indices]\n",
    "x_vals_test = x_vals[test_indices]\n",
    "y_vals_train = y_vals[train_indices]\n",
    "y_vals_test = y_vals[test_indices]"
   ]
  },
  {
   "cell_type": "code",
   "execution_count": 5,
   "metadata": {},
   "outputs": [],
   "source": [
    "# Record training column max and min for scaling of non-training data\n",
    "train_max = np.max(x_vals_train, axis=0)\n",
    "train_min = np.min(x_vals_train, axis=0)\n",
    "\n",
    "# Normalize by column (min-max norm to be between 0 and 1)\n",
    "def normalize_cols(mat, max_vals, min_vals):\n",
    "    return (mat - min_vals) / (max_vals - min_vals)\n",
    "\n",
    "x_vals_train = np.nan_to_num(normalize_cols(x_vals_train, train_max, train_min))\n",
    "x_vals_test = np.nan_to_num(normalize_cols(x_vals_test, train_max, train_min))"
   ]
  },
  {
   "cell_type": "code",
   "execution_count": 6,
   "metadata": {},
   "outputs": [],
   "source": [
    "# Define Variable Functions (weights and bias)\n",
    "def init_weight(shape, st_dev):\n",
    "    weight = tf.Variable(tf.random.normal(shape, stddev=st_dev))\n",
    "    return weight\n",
    "\n",
    "def init_bias(shape, st_dev):\n",
    "    bias = tf.Variable(tf.random.normal(shape, stddev=st_dev))\n",
    "    return bias"
   ]
  },
  {
   "cell_type": "code",
   "execution_count": 7,
   "metadata": {},
   "outputs": [],
   "source": [
    "x_data = tf.keras.Input(dtype=tf.float32, shape=(7,))"
   ]
  },
  {
   "cell_type": "code",
   "execution_count": 8,
   "metadata": {},
   "outputs": [],
   "source": [
    "# Create fully connected layer:\n",
    "\n",
    "def fully_connected(input_layer, weights, biases):\n",
    "    return tf.keras.layers.Lambda(lambda x: tf.nn.relu(tf.add(tf.matmul(x, weights), biases)))(input_layer)"
   ]
  },
  {
   "cell_type": "markdown",
   "metadata": {},
   "source": [
    "25 - 10 - 3"
   ]
  },
  {
   "cell_type": "code",
   "execution_count": 9,
   "metadata": {},
   "outputs": [
    {
     "name": "stdout",
     "output_type": "stream",
     "text": [
      "WARNING:tensorflow:\n",
      "The following Variables were used a Lambda layer's call (lambda), but\n",
      "are not present in its tracked objects:\n",
      "  <tf.Variable 'Variable:0' shape=(7, 25) dtype=float32>\n",
      "  <tf.Variable 'Variable:0' shape=(25,) dtype=float32>\n",
      "It is possible that this is intended behavior, but it is more likely\n",
      "an omission. This is a strong indication that this layer should be\n",
      "formulated as a subclassed Layer rather than a Lambda layer.\n",
      "WARNING:tensorflow:\n",
      "The following Variables were used a Lambda layer's call (lambda_1), but\n",
      "are not present in its tracked objects:\n",
      "  <tf.Variable 'Variable:0' shape=(25, 10) dtype=float32>\n",
      "  <tf.Variable 'Variable:0' shape=(10,) dtype=float32>\n",
      "It is possible that this is intended behavior, but it is more likely\n",
      "an omission. This is a strong indication that this layer should be\n",
      "formulated as a subclassed Layer rather than a Lambda layer.\n",
      "WARNING:tensorflow:\n",
      "The following Variables were used a Lambda layer's call (lambda_2), but\n",
      "are not present in its tracked objects:\n",
      "  <tf.Variable 'Variable:0' shape=(10, 3) dtype=float32>\n",
      "  <tf.Variable 'Variable:0' shape=(3,) dtype=float32>\n",
      "It is possible that this is intended behavior, but it is more likely\n",
      "an omission. This is a strong indication that this layer should be\n",
      "formulated as a subclassed Layer rather than a Lambda layer.\n",
      "WARNING:tensorflow:\n",
      "The following Variables were used a Lambda layer's call (lambda_3), but\n",
      "are not present in its tracked objects:\n",
      "  <tf.Variable 'Variable:0' shape=(3, 1) dtype=float32>\n",
      "  <tf.Variable 'Variable:0' shape=(1,) dtype=float32>\n",
      "It is possible that this is intended behavior, but it is more likely\n",
      "an omission. This is a strong indication that this layer should be\n",
      "formulated as a subclassed Layer rather than a Lambda layer.\n"
     ]
    }
   ],
   "source": [
    "#--------Create the first layer (25 hidden nodes)--------\n",
    "weight_1 = init_weight(shape=[7, 25], st_dev=5.0)\n",
    "bias_1 = init_bias(shape=[25], st_dev=10.0)\n",
    "layer_1 = fully_connected(x_data, weight_1, bias_1)\n",
    "\n",
    "#--------Create the second layer (10 hidden nodes)--------\n",
    "weight_2 = init_weight(shape=[25, 10], st_dev=5.0)\n",
    "bias_2 = init_bias(shape=[10], st_dev=10.0)\n",
    "layer_2 = fully_connected(layer_1, weight_2, bias_2)\n",
    "\n",
    "#--------Create the third layer (3 hidden nodes)--------\n",
    "weight_3 = init_weight(shape=[10, 3], st_dev=5.0)\n",
    "bias_3 = init_bias(shape=[3], st_dev=10.0)\n",
    "layer_3 = fully_connected(layer_2, weight_3, bias_3)\n",
    "\n",
    "#--------Create our output layer (1 output value)--------\n",
    "weight_4 = init_weight(shape=[3, 1], st_dev=5.0)\n",
    "bias_4 = init_bias(shape=[1], st_dev=10.0)\n",
    "final_output = fully_connected(layer_3, weight_4, bias_4)\n",
    "\n",
    "model = tf.keras.Model(inputs=x_data, outputs=final_output, name='multiple_layers_neural_network')"
   ]
  },
  {
   "cell_type": "code",
   "execution_count": 10,
   "metadata": {},
   "outputs": [
    {
     "name": "stdout",
     "output_type": "stream",
     "text": [
      "Generation: 25. Loss = 1921.7935791015625\n",
      "Generation: 50. Loss = 1453.40234375\n",
      "Generation: 75. Loss = 987.572998046875\n",
      "Generation: 100. Loss = 709.82177734375\n",
      "Generation: 125. Loss = 508.6255187988281\n",
      "Generation: 150. Loss = 541.3716430664062\n",
      "Generation: 175. Loss = 539.6121826171875\n",
      "Generation: 200. Loss = 441.6407165527344\n"
     ]
    }
   ],
   "source": [
    "# Declare Adam Optimizer\n",
    "optimizer = tf.keras.optimizers.Adam(0.025)\n",
    "\n",
    "# Training Loop\n",
    "loss_vec = []\n",
    "test_loss = []\n",
    "for i in range(200):\n",
    "    rand_index = np.random.choice(len(x_vals_train), size=batch_size)\n",
    "    rand_x = x_vals_train[rand_index]\n",
    "    rand_y = np.transpose([y_vals_train[rand_index]])\n",
    "    \n",
    "    # Open a GradientTape\n",
    "    with tf.GradientTape(persistent=True) as tape:\n",
    "        \n",
    "        # Forward pass.\n",
    "        output = model(rand_x)\n",
    "        \n",
    "        # Apply loss function (MSE)\n",
    "        loss = tf.reduce_mean(tf.abs(rand_y - output))\n",
    "        loss_vec.append(loss)\n",
    "        \n",
    "    # Get gradients of loss with reference to the weights and bias variables to adjust\n",
    "    gradients_w1 = tape.gradient(loss, weight_1)\n",
    "    gradients_b1 = tape.gradient(loss, bias_1)\n",
    "    gradients_w2 = tape.gradient(loss, weight_2)\n",
    "    gradients_b2 = tape.gradient(loss, bias_2)\n",
    "    gradients_w3 = tape.gradient(loss, weight_3)\n",
    "    gradients_b3 = tape.gradient(loss, bias_3)\n",
    "    gradients_w4 = tape.gradient(loss, weight_4)\n",
    "    gradients_b4 = tape.gradient(loss, bias_4)\n",
    "    \n",
    "    # Update the weights and bias variables of the model.\n",
    "    optimizer.apply_gradients(zip([gradients_w1, gradients_b1, gradients_w2, gradients_b2,\n",
    "                                   gradients_w3, gradients_b3, gradients_w4, gradients_b4],\n",
    "                                  [weight_1, bias_1, weight_2, bias_2, weight_3, bias_3, weight_4, bias_4]))\n",
    "    \n",
    "    # Forward pass.\n",
    "    output_test = model(x_vals_test)\n",
    "    # Apply loss function (MSE) on test\n",
    "    temp_loss = tf.reduce_mean(tf.abs(np.transpose([y_vals_test]) - output_test))\n",
    "    test_loss.append(temp_loss)\n",
    "    \n",
    "    if (i+1) % 25 ==0:\n",
    "        print(f'Generation: {i+1}. Loss = {loss.numpy()}')"
   ]
  },
  {
   "cell_type": "code",
   "execution_count": 11,
   "metadata": {},
   "outputs": [
    {
     "data": {
      "image/png": "[encoded data removed]",
      "text/plain": [
       "<Figure size 432x288 with 1 Axes>"
      ]
     },
     "metadata": {
      "needs_background": "light"
     },
     "output_type": "display_data"
    }
   ],
   "source": [
    "plt.plot(loss_vec, 'k--', label='Train Loss')\n",
    "plt.plot(test_loss, 'r--', label='Test Loss')\n",
    "plt.title('Loss per Generation')\n",
    "plt.ylabel('Loss')\n",
    "plt.legend(loc='upper right')\n",
    "plt.show()"
   ]
  },
  {
   "cell_type": "code",
   "execution_count": 14,
   "metadata": {},
   "outputs": [
    {
     "name": "stdout",
     "output_type": "stream",
     "text": [
      "On predicting the category of low birthweight from regression output (<2500g):\n",
      "Test Accuracy: 0.7631578947368421\n",
      "Train Accuracy: 0.7880794701986755\n"
     ]
    }
   ],
   "source": [
    "# Model Accuracy\n",
    "actuals = np.array([x[0] for x in birth_data])\n",
    "test_actuals = actuals[test_indices]\n",
    "train_actuals = actuals[train_indices]\n",
    "test_preds = model(x_vals_test)\n",
    "train_preds = model(x_vals_train)\n",
    "test_preds = np.array([1.0 if x < 2500.0 else 0.0 for x in test_preds])\n",
    "train_preds = np.array([1.0 if x < 2500.0 else 0.0 for x in train_preds])\n",
    "\n",
    "# Print out accuracies\n",
    "test_acc = np.mean([x == y for x, y in zip(test_preds, test_actuals)])\n",
    "train_acc = np.mean([x == y for x, y in zip(train_preds, train_actuals)])\n",
    "print('On predicting the category of low birthweight from regression output (<2500g):')\n",
    "print(f'Test Accuracy: {test_acc}')\n",
    "print(f'Train Accuracy: {train_acc}')"
   ]
  }
 ],
 "metadata": {
  "kernelspec": {
   "display_name": "py365",
   "language": "python",
   "name": "py365"
  },
  "language_info": {
   "codemirror_mode": {
    "name": "ipython",
    "version": 3
   },
   "file_extension": ".py",
   "mimetype": "text/x-python",
   "name": "python",
   "nbconvert_exporter": "python",
   "pygments_lexer": "ipython3",
   "version": "3.6.5"
  }
 },
 "nbformat": 4,
 "nbformat_minor": 2
}
