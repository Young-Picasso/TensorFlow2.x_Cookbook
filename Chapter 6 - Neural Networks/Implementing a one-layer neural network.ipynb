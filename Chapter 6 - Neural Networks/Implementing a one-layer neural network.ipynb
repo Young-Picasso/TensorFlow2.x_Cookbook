{
 "cells": [
  {
   "cell_type": "markdown",
   "metadata": {},
   "source": [
    "## How to do it"
   ]
  },
  {
   "cell_type": "code",
   "execution_count": 26,
   "metadata": {},
   "outputs": [],
   "source": [
    "import matplotlib.pyplot as plt\n",
    "import numpy as np\n",
    "import tensorflow as tf\n",
    "from sklearn import datasets"
   ]
  },
  {
   "cell_type": "code",
   "execution_count": 27,
   "metadata": {},
   "outputs": [],
   "source": [
    "iris = datasets.load_iris()\n",
    "x_vals = np.array([x[0:3] for x in iris.data])\n",
    "y_vals = np.array([x[3] for x in iris.data])"
   ]
  },
  {
   "cell_type": "code",
   "execution_count": 28,
   "metadata": {},
   "outputs": [],
   "source": [
    "seed = 3\n",
    "tf.random.set_seed(seed)\n",
    "np.random.seed(seed)"
   ]
  },
  {
   "cell_type": "code",
   "execution_count": 29,
   "metadata": {},
   "outputs": [],
   "source": [
    "train_indices = np.random.choice(len(x_vals), round(len(x_vals)*0.8), replace=False)\n",
    "test_indices = np.array(list(set(range(len(x_vals))) - set(train_indices)))\n",
    "x_vals_train = x_vals[train_indices]\n",
    "x_vals_test = x_vals[test_indices]\n",
    "y_vals_train = y_vals[train_indices]\n",
    "y_vals_test = y_vals[test_indices]\n",
    "\n",
    "def normalize_cols(m):\n",
    "    col_max = m.max(axis=0)\n",
    "    col_min = m.min(axis=0)\n",
    "    return (m-col_min) / (col_max - col_min)\n",
    "\n",
    "x_vals_train = np.nan_to_num(normalize_cols(x_vals_train))\n",
    "x_vals_test = np.nan_to_num(normalize_cols(x_vals_test))\n",
    "batch_size = 50\n",
    "x_data = tf.keras.Input(dtype=tf.float32, shape=(3,))"
   ]
  },
  {
   "cell_type": "code",
   "execution_count": 30,
   "metadata": {},
   "outputs": [],
   "source": [
    "hidden_layer_nodes = 5\n",
    "a1 = tf.Variable(tf.random.normal(shape=[3, hidden_layer_nodes], seed=seed))\n",
    "b1 = tf.Variable(tf.random.normal(shape=[hidden_layer_nodes], seed=seed))\n",
    "a2 = tf.Variable(tf.random.normal(shape=[hidden_layer_nodes, 1], seed=seed))\n",
    "b2 = tf.Variable(tf.random.normal(shape=[1], seed=seed))"
   ]
  },
  {
   "cell_type": "code",
   "execution_count": 31,
   "metadata": {},
   "outputs": [
    {
     "name": "stdout",
     "output_type": "stream",
     "text": [
      "WARNING:tensorflow:\n",
      "The following Variables were used a Lambda layer's call (lambda_10), but\n",
      "are not present in its tracked objects:\n",
      "  <tf.Variable 'Variable:0' shape=(3, 5) dtype=float32>\n",
      "  <tf.Variable 'Variable:0' shape=(5,) dtype=float32>\n",
      "It is possible that this is intended behavior, but it is more likely\n",
      "an omission. This is a strong indication that this layer should be\n",
      "formulated as a subclassed Layer rather than a Lambda layer.\n",
      "WARNING:tensorflow:\n",
      "The following Variables were used a Lambda layer's call (lambda_11), but\n",
      "are not present in its tracked objects:\n",
      "  <tf.Variable 'Variable:0' shape=(5, 1) dtype=float32>\n",
      "  <tf.Variable 'Variable:0' shape=(1,) dtype=float32>\n",
      "It is possible that this is intended behavior, but it is more likely\n",
      "an omission. This is a strong indication that this layer should be\n",
      "formulated as a subclassed Layer rather than a Lambda layer.\n"
     ]
    }
   ],
   "source": [
    "hidden_output = tf.keras.layers.Lambda(lambda x: tf.nn.relu(tf.add(tf.matmul(x, a1), b1)))\n",
    "\n",
    "final_output = tf.keras.layers.Lambda(lambda x: tf.nn.relu(tf.add(tf.matmul(x, a2), b2)))\n",
    "\n",
    "hideen_layer = hidden_output(x_data)\n",
    "output = final_output(hideen_layer)\n",
    "\n",
    "model = tf.keras.Model(inputs=x_data, outputs = output, name='1layer_neural_network')"
   ]
  },
  {
   "cell_type": "code",
   "execution_count": 32,
   "metadata": {},
   "outputs": [],
   "source": [
    "optimizer = tf.keras.optimizers.SGD(0.005)"
   ]
  },
  {
   "cell_type": "code",
   "execution_count": 33,
   "metadata": {},
   "outputs": [
    {
     "name": "stdout",
     "output_type": "stream",
     "text": [
      "Generation: 50. Loss = 0.6273956298828125\n",
      "Generation: 100. Loss = 0.15347698330879211\n",
      "Generation: 150. Loss = 0.1543102264404297\n",
      "Generation: 200. Loss = 0.11715933680534363\n",
      "Generation: 250. Loss = 0.12236560881137848\n",
      "Generation: 300. Loss = 0.12134756147861481\n",
      "Generation: 350. Loss = 0.07258755713701248\n",
      "Generation: 400. Loss = 0.14590775966644287\n",
      "Generation: 450. Loss = 0.1407577395439148\n",
      "Generation: 500. Loss = 0.13127386569976807\n"
     ]
    }
   ],
   "source": [
    "# First we initialize the loss vectors for storage\n",
    "loss_vec = []\n",
    "test_loss = []\n",
    "for i in range(500):\n",
    "    rand_index = np.random.choice(len(x_vals_train), size=batch_size)\n",
    "    rand_x = x_vals_train[rand_index]\n",
    "    rand_y = np.transpose([y_vals_train[rand_index]])\n",
    "    \n",
    "    # Open a gradient tape\n",
    "    with tf.GradientTape(persistent=True) as tape:\n",
    "        \n",
    "        # Forward pass.\n",
    "        output = model(rand_x)\n",
    "        \n",
    "        # Apply loss function (MSE)\n",
    "        loss = tf.reduce_mean(tf.square(rand_y - output))\n",
    "        loss_vec.append(np.sqrt(loss))\n",
    "        \n",
    "    # Get gradients of loss with reference to the variables to adjust\n",
    "    gradients_a1 = tape.gradient(loss, a1)\n",
    "    gradients_b1 = tape.gradient(loss, b1)\n",
    "    gradients_a2 = tape.gradient(loss, a2)\n",
    "    gradients_b2 = tape.gradient(loss, b2)\n",
    "    \n",
    "    # Update the variables of the model\n",
    "    optimizer.apply_gradients(zip([gradients_a1, gradients_b1, gradients_a2, gradients_b2], [a1, b1, a2, b2]))\n",
    "    \n",
    "    # Forward pass\n",
    "    output_test = model(x_vals_test)\n",
    "    # Apply loss function (MSE) on test\n",
    "    loss_test = tf.reduce_mean(tf.square(np.transpose([y_vals_test]) - output_test))\n",
    "    test_loss.append(np.sqrt(loss_test))\n",
    "    \n",
    "    if (i+1)%50==0:\n",
    "        print(f'Generation: {i+1}. Loss = {np.mean(loss)}')"
   ]
  },
  {
   "cell_type": "code",
   "execution_count": 34,
   "metadata": {},
   "outputs": [
    {
     "data": {
      "image/png": "[encoded data removed]",
      "text/plain": [
       "<Figure size 432x288 with 1 Axes>"
      ]
     },
     "metadata": {
      "needs_background": "light"
     },
     "output_type": "display_data"
    }
   ],
   "source": [
    "plt.plot(loss_vec, 'k-', label='Train Loss')\n",
    "plt.plot(test_loss, 'r--', label='Test Loss')\n",
    "plt.title('Loss (MSE) per Generation')\n",
    "plt.xlabel('Generation')\n",
    "plt.ylabel('Loss')\n",
    "plt.legend(loc='upper right')\n",
    "plt.show()"
   ]
  }
 ],
 "metadata": {
  "kernelspec": {
   "display_name": "py365",
   "language": "python",
   "name": "py365"
  },
  "language_info": {
   "codemirror_mode": {
    "name": "ipython",
    "version": 3
   },
   "file_extension": ".py",
   "mimetype": "text/x-python",
   "name": "python",
   "nbconvert_exporter": "python",
   "pygments_lexer": "ipython3",
   "version": "3.6.5"
  }
 },
 "nbformat": 4,
 "nbformat_minor": 2
}
