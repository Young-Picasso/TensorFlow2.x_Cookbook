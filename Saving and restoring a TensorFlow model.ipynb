{
 "cells": [
  {
   "cell_type": "markdown",
   "metadata": {},
   "source": [
    "If we want to use our machine learning model in production or reuse our trained model for a transfer learning task, we have to store our model. In this section, we will outline some methods for storing and restoring the weights or the whole model."
   ]
  },
  {
   "cell_type": "markdown",
   "metadata": {},
   "source": [
    "## Getting ready..."
   ]
  },
  {
   "cell_type": "markdown",
   "metadata": {},
   "source": [
    "In this recipe, we want to summarize various ways to store a TensorFlow model. We will cover the best way to save and restore an entire model, only the weights, and model checkpoints."
   ]
  },
  {
   "cell_type": "markdown",
   "metadata": {},
   "source": [
    "## How to do it..."
   ]
  },
  {
   "cell_type": "markdown",
   "metadata": {},
   "source": [
    "1. Load our libraries"
   ]
  },
  {
   "cell_type": "code",
   "execution_count": 1,
   "metadata": {},
   "outputs": [],
   "source": [
    "import tensorflow as tf"
   ]
  },
  {
   "cell_type": "markdown",
   "metadata": {},
   "source": [
    "2. Build an MNIST model using the Keras Sequential API"
   ]
  },
  {
   "cell_type": "code",
   "execution_count": 3,
   "metadata": {},
   "outputs": [
    {
     "name": "stdout",
     "output_type": "stream",
     "text": [
      "Epoch 1/5\n",
      "1875/1875 [==============================] - 2s 895us/step - loss: 0.0148 - accuracy: 0.0986 - val_loss: 2990.2285 - val_accuracy: 0.0980\n",
      "Epoch 2/5\n",
      "1875/1875 [==============================] - 2s 831us/step - loss: 3.8037e-04 - accuracy: 0.0987 - val_loss: 3293.5259 - val_accuracy: 0.0980\n",
      "Epoch 3/5\n",
      "1875/1875 [==============================] - 2s 830us/step - loss: 2.1202e-04 - accuracy: 0.0987 - val_loss: 3473.6875 - val_accuracy: 0.0980\n",
      "Epoch 4/5\n",
      "1875/1875 [==============================] - 2s 822us/step - loss: 1.4631e-04 - accuracy: 0.0987 - val_loss: 3602.6611 - val_accuracy: 0.0980\n",
      "Epoch 5/5\n",
      "1875/1875 [==============================] - 2s 822us/step - loss: 1.1130e-04 - accuracy: 0.0987 - val_loss: 3703.5757 - val_accuracy: 0.0980\n"
     ]
    },
    {
     "data": {
      "text/plain": [
       "<keras.callbacks.History at 0x7f8bc83beeb8>"
      ]
     },
     "execution_count": 3,
     "metadata": {},
     "output_type": "execute_result"
    }
   ],
   "source": [
    "(x_train, y_train), (x_test, y_test) = tf.keras.datasets.mnist.load_data()\n",
    "\n",
    "# Normalize\n",
    "x_train = x_train / 255\n",
    "y_train = y_train / 255\n",
    "\n",
    "model = tf.keras.Sequential()\n",
    "model.add(tf.keras.layers.Flatten(name='FLATTEN'))\n",
    "model.add(tf.keras.layers.Dense(units=128, activation='relu', name='D1'))\n",
    "model.add(tf.keras.layers.Dense(units=64, activation='relu', name='D2'))\n",
    "model.add(tf.keras.layers.Dense(units=10, activation='softmax', name='OUTPUT'))\n",
    "\n",
    "model.compile(optimizer='sgd',\n",
    "              loss='sparse_categorical_crossentropy',\n",
    "              metrics=['accuracy'])\n",
    "\n",
    "model.fit(x=x_train,\n",
    "          y=y_train,\n",
    "          epochs=5,\n",
    "          validation_data=(x_test, y_test)\n",
    "         )"
   ]
  },
  {
   "cell_type": "markdown",
   "metadata": {},
   "source": [
    "3. We can now save our entire model on disk"
   ]
  },
  {
   "cell_type": "code",
   "execution_count": 4,
   "metadata": {},
   "outputs": [
    {
     "name": "stderr",
     "output_type": "stream",
     "text": [
      "WARNING:absl:Function `_wrapped_model` contains input name(s) FLATTEN_input with unsupported characters which will be renamed to flatten_input in the SavedModel.\n"
     ]
    },
    {
     "name": "stdout",
     "output_type": "stream",
     "text": [
      "INFO:tensorflow:Assets written to: SavedModel/assets\n"
     ]
    },
    {
     "name": "stderr",
     "output_type": "stream",
     "text": [
      "INFO:tensorflow:Assets written to: SavedModel/assets\n"
     ]
    }
   ],
   "source": [
    "model.save(\"SavedModel\")"
   ]
  },
  {
   "cell_type": "markdown",
   "metadata": {},
   "source": [
    "4. A directory named SavedModel is created on disk. It contains a TensorFlow program, the saved_model.pb file; the variables directory, which contains the exact value of all parameters; and the assets directory, which contains files used by the TensorFlow graph:"
   ]
  },
  {
   "cell_type": "code",
   "execution_count": 6,
   "metadata": {},
   "outputs": [
    {
     "name": "stdout",
     "output_type": "stream",
     "text": [
      "'Implementing Unit Tests.ipynb'\r\n",
      " \u001b[0m\u001b[01;34mlogs\u001b[0m/\r\n",
      "\"Managing Hyperparameter tuning with TensorBoard's HParams.ipynb\"\r\n",
      "'Parallelizing TensorFlow.ipynb'\r\n",
      " \u001b[01;34mSavedModel\u001b[0m/\r\n",
      "'Saving and restoring a TensorFlow model.ipynb'\r\n",
      "'Using multiple executors.ipynb'\r\n",
      "'Visualizing Graphs in TensorBoard.ipynb'\r\n"
     ]
    }
   ],
   "source": [
    "ls"
   ]
  },
  {
   "cell_type": "code",
   "execution_count": 7,
   "metadata": {},
   "outputs": [
    {
     "name": "stdout",
     "output_type": "stream",
     "text": [
      "/home/wil/tensorflow/Machine Learning Using TensorFlow Cookbook/Chapter 12 - Taking TensorFlow to Production/SavedModel\n"
     ]
    }
   ],
   "source": [
    "cd SavedModel"
   ]
  },
  {
   "cell_type": "code",
   "execution_count": 8,
   "metadata": {},
   "outputs": [
    {
     "name": "stdout",
     "output_type": "stream",
     "text": [
      "\u001b[0m\u001b[01;34massets\u001b[0m/  keras_metadata.pb  saved_model.pb  \u001b[01;34mvariables\u001b[0m/\r\n"
     ]
    }
   ],
   "source": [
    "ls"
   ]
  },
  {
   "cell_type": "markdown",
   "metadata": {},
   "source": [
    "5. We can now restore our saved model"
   ]
  },
  {
   "cell_type": "code",
   "execution_count": 9,
   "metadata": {},
   "outputs": [
    {
     "name": "stdout",
     "output_type": "stream",
     "text": [
      "/home/wil/tensorflow/Machine Learning Using TensorFlow Cookbook/Chapter 12 - Taking TensorFlow to Production\n"
     ]
    }
   ],
   "source": [
    "cd .."
   ]
  },
  {
   "cell_type": "code",
   "execution_count": 10,
   "metadata": {},
   "outputs": [],
   "source": [
    "model2 = tf.keras.models.load_model(\"SavedModel\")"
   ]
  },
  {
   "cell_type": "markdown",
   "metadata": {},
   "source": [
    "6. If we prefer, we can save the model in the H5 format. We can either pass a file name that ends in .h5 or add the save_format='h5' argument"
   ]
  },
  {
   "cell_type": "code",
   "execution_count": 11,
   "metadata": {},
   "outputs": [],
   "source": [
    "model.save(\"SavedModel.h5\")\n",
    "model.save(\"model_save\", save_format='h5')"
   ]
  },
  {
   "cell_type": "markdown",
   "metadata": {},
   "source": [
    "7. It is also possible to use the ModelCheckpoint callback in order to save an entire model or just the weights into a checkpoint structure at some intervals. This callback is added to the callback argument in the fit method. In the configuration below, the model weights will be stored at each epoch:"
   ]
  },
  {
   "cell_type": "code",
   "execution_count": 13,
   "metadata": {},
   "outputs": [
    {
     "name": "stdout",
     "output_type": "stream",
     "text": [
      "Epoch 1/5\n",
      "1875/1875 [==============================] - 2s 845us/step - loss: 7.4869e-05 - accuracy: 0.0987 - val_loss: 3856.7004 - val_accuracy: 0.0980\n",
      "Epoch 2/5\n",
      "1875/1875 [==============================] - 2s 843us/step - loss: 6.4220e-05 - accuracy: 0.0987 - val_loss: 3917.8972 - val_accuracy: 0.0980\n",
      "Epoch 3/5\n",
      "1875/1875 [==============================] - 2s 840us/step - loss: 5.6172e-05 - accuracy: 0.0987 - val_loss: 3972.0359 - val_accuracy: 0.0980\n",
      "Epoch 4/5\n",
      "1875/1875 [==============================] - 2s 838us/step - loss: 4.9880e-05 - accuracy: 0.0987 - val_loss: 4020.6265 - val_accuracy: 0.0980\n",
      "Epoch 5/5\n",
      "1875/1875 [==============================] - 2s 832us/step - loss: 4.4829e-05 - accuracy: 0.0987 - val_loss: 4064.6948 - val_accuracy: 0.0980\n"
     ]
    },
    {
     "data": {
      "text/plain": [
       "<keras.callbacks.History at 0x7f8f98dc2b00>"
      ]
     },
     "execution_count": 13,
     "metadata": {},
     "output_type": "execute_result"
    }
   ],
   "source": [
    "checkpoint_callback = tf.keras.callbacks.ModelCheckpoint(filepath='./checkpoint', save_weights_only=True, \n",
    "                                                         save_freq='epoch')\n",
    "\n",
    "model.fit(x=x_train,\n",
    "          y=y_train,\n",
    "          epochs=5,\n",
    "          validation_data=(x_test, y_test),\n",
    "          callbacks=[checkpoint_callback])"
   ]
  },
  {
   "cell_type": "markdown",
   "metadata": {},
   "source": [
    "8. Now we can load the entire model or just the weights later in order to continue the training. Here, we are reloading the weights:"
   ]
  },
  {
   "cell_type": "code",
   "execution_count": 14,
   "metadata": {},
   "outputs": [
    {
     "data": {
      "text/plain": [
       "<tensorflow.python.training.tracking.util.CheckpointLoadStatus at 0x7f8f99e4e0f0>"
      ]
     },
     "execution_count": 14,
     "metadata": {},
     "output_type": "execute_result"
    }
   ],
   "source": [
    "model.load_weights('./checkpoint')"
   ]
  },
  {
   "cell_type": "markdown",
   "metadata": {},
   "source": [
    "You're now capable of saving and restoring an entire model, just the weights, or the model checkpoints!"
   ]
  }
 ],
 "metadata": {
  "kernelspec": {
   "display_name": "py365",
   "language": "python",
   "name": "py365"
  },
  "language_info": {
   "codemirror_mode": {
    "name": "ipython",
    "version": 3
   },
   "file_extension": ".py",
   "mimetype": "text/x-python",
   "name": "python",
   "nbconvert_exporter": "python",
   "pygments_lexer": "ipython3",
   "version": "3.6.5"
  }
 },
 "nbformat": 4,
 "nbformat_minor": 2
}
