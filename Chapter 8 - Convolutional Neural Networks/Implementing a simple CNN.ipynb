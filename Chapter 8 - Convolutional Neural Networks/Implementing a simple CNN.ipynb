{
 "cells": [
  {
   "cell_type": "markdown",
   "metadata": {},
   "source": [
    "## How to do it..."
   ]
  },
  {
   "cell_type": "code",
   "execution_count": 2,
   "metadata": {},
   "outputs": [],
   "source": [
    "import matplotlib.pyplot as plt\n",
    "import numpy as np\n",
    "import tensorflow as tf"
   ]
  },
  {
   "cell_type": "code",
   "execution_count": 3,
   "metadata": {},
   "outputs": [],
   "source": [
    "(x_train, y_train), (x_test, y_test) = tf.keras.datasets.mnist.load_data()\n",
    "# Reshape\n",
    "x_train = x_train.reshape(-1, 28, 28, 1)\n",
    "x_test = x_test.reshape(-1, 28, 28, 1)\n",
    "# Padding the images by 2 pixels\n",
    "x_train = np.pad(x_train, ((0,0),(2,2),(2,2),(0,0)), 'constant')\n",
    "x_test = np.pad(x_test, ((0,0),(2,2),(2,2),(0,0)), 'constant')"
   ]
  },
  {
   "cell_type": "code",
   "execution_count": 4,
   "metadata": {},
   "outputs": [],
   "source": [
    "image_width = x_train[0].shape[0]\n",
    "image_height = x_train[0].shape[1]\n",
    "num_channels = 1 # grayscale = 1 channel\n",
    "\n",
    "seed = 98\n",
    "np.random.seed(seed)\n",
    "tf.random.set_seed(seed)"
   ]
  },
  {
   "cell_type": "code",
   "execution_count": 5,
   "metadata": {},
   "outputs": [],
   "source": [
    "batch_size = 100\n",
    "evaluation_size = 500\n",
    "epochs = 300\n",
    "eval_every = 5"
   ]
  },
  {
   "cell_type": "code",
   "execution_count": 6,
   "metadata": {},
   "outputs": [],
   "source": [
    "x_train = x_train / 255\n",
    "x_test = x_test / 255"
   ]
  },
  {
   "cell_type": "code",
   "execution_count": 8,
   "metadata": {},
   "outputs": [],
   "source": [
    "input_data = tf.keras.Input(dtype=tf.float32, shape=(image_width, image_height, num_channels), name=\"INPUT\")\n",
    "\n",
    "# First Conv-ReLU-MaxPool Layer\n",
    "conv1 = tf.keras.layers.Conv2D(filters=6,\n",
    "                               kernel_size=5,\n",
    "                               padding='VALID',\n",
    "                               activation='relu',\n",
    "                               name='C1')(input_data)\n",
    "\n",
    "max_pool1 = tf.keras.layers.MaxPool2D(pool_size=2,\n",
    "                                      strides=2,\n",
    "                                      padding='SAME',\n",
    "                                      name='S1')(conv1)\n",
    "\n",
    "# Seconds Conv-ReLU-MaxPool Layer\n",
    "conv2 = tf.keras.layers.Conv2D(filters=16, \n",
    "                              kernel_size=5, \n",
    "                              padding='VALID', \n",
    "                              strides=1, \n",
    "                              activation='relu',\n",
    "                              name='C3')(max_pool1)\n",
    "\n",
    "max_pool2 = tf.keras.layers.MaxPool2D(pool_size=2, \n",
    "                                      strides=2, \n",
    "                                      padding='SAME',\n",
    "                                      name='S4')(conv2)\n",
    "\n",
    "# Flatten Layer\n",
    "flatten = tf.keras.layers.Flatten(name='FLATTEN')(max_pool2)\n",
    "\n",
    "# First fully connected layer\n",
    "fully_connected1 = tf.keras.layers.Dense(units=120, \n",
    "                                        activation='relu',\n",
    "                                        name='F5')(flatten)\n",
    "\n",
    "# Second fully connected layer\n",
    "fully_connected2 = tf.keras.layers.Dense(units=84,\n",
    "                                         activation='relu',\n",
    "                                         name='F6')(fully_connected1)\n",
    "\n",
    "# Final fully connected layer\n",
    "final_model_output = tf.keras.layers.Dense(units=10, \n",
    "                                           activation='softmax',\n",
    "                                           name='OUTPUT')(fully_connected2)\n",
    "\n",
    "model = tf.keras.Model(inputs=input_data, outputs=final_model_output)"
   ]
  },
  {
   "cell_type": "code",
   "execution_count": 9,
   "metadata": {},
   "outputs": [],
   "source": [
    "model.compile(optimizer='adam', loss='sparse_categorical_crossentropy', metrics=['accuracy'])"
   ]
  },
  {
   "cell_type": "code",
   "execution_count": 10,
   "metadata": {},
   "outputs": [
    {
     "name": "stdout",
     "output_type": "stream",
     "text": [
      "Model: \"model\"\n",
      "_________________________________________________________________\n",
      "Layer (type)                 Output Shape              Param #   \n",
      "=================================================================\n",
      "INPUT (InputLayer)           [(None, 32, 32, 1)]       0         \n",
      "_________________________________________________________________\n",
      "C1 (Conv2D)                  (None, 28, 28, 6)         156       \n",
      "_________________________________________________________________\n",
      "S1 (MaxPooling2D)            (None, 14, 14, 6)         0         \n",
      "_________________________________________________________________\n",
      "C3 (Conv2D)                  (None, 10, 10, 16)        2416      \n",
      "_________________________________________________________________\n",
      "S4 (MaxPooling2D)            (None, 5, 5, 16)          0         \n",
      "_________________________________________________________________\n",
      "FLATTEN (Flatten)            (None, 400)               0         \n",
      "_________________________________________________________________\n",
      "F5 (Dense)                   (None, 120)               48120     \n",
      "_________________________________________________________________\n",
      "F6 (Dense)                   (None, 84)                10164     \n",
      "_________________________________________________________________\n",
      "OUTPUT (Dense)               (None, 10)                850       \n",
      "=================================================================\n",
      "Total params: 61,706\n",
      "Trainable params: 61,706\n",
      "Non-trainable params: 0\n",
      "_________________________________________________________________\n"
     ]
    }
   ],
   "source": [
    "model.summary()"
   ]
  },
  {
   "cell_type": "code",
   "execution_count": 16,
   "metadata": {},
   "outputs": [
    {
     "name": "stdout",
     "output_type": "stream",
     "text": [
      "16/16 [==============================] - 0s 981us/step - loss: 2.0948 - accuracy: 0.4780\n",
      "Epoch # 5. Train Loss: 2.14. Train Acc (Test Acc): 0.39 (0.48)\n",
      "16/16 [==============================] - 0s 1ms/step - loss: 1.8599 - accuracy: 0.7100\n",
      "Epoch # 10. Train Loss: 1.96. Train Acc (Test Acc): 0.65 (0.71)\n",
      "16/16 [==============================] - 0s 1ms/step - loss: 1.4873 - accuracy: 0.7680\n",
      "Epoch # 15. Train Loss: 1.59. Train Acc (Test Acc): 0.82 (0.77)\n",
      "16/16 [==============================] - 0s 957us/step - loss: 1.0868 - accuracy: 0.7660\n",
      "Epoch # 20. Train Loss: 1.24. Train Acc (Test Acc): 0.68 (0.77)\n",
      "16/16 [==============================] - 0s 946us/step - loss: 0.7358 - accuracy: 0.8280\n",
      "Epoch # 25. Train Loss: 0.88. Train Acc (Test Acc): 0.75 (0.83)\n",
      "16/16 [==============================] - 0s 931us/step - loss: 0.6759 - accuracy: 0.7840\n",
      "Epoch # 30. Train Loss: 0.57. Train Acc (Test Acc): 0.84 (0.78)\n",
      "16/16 [==============================] - 0s 985us/step - loss: 0.4980 - accuracy: 0.8320\n",
      "Epoch # 35. Train Loss: 0.56. Train Acc (Test Acc): 0.83 (0.83)\n",
      "16/16 [==============================] - 0s 952us/step - loss: 0.3938 - accuracy: 0.8800\n",
      "Epoch # 40. Train Loss: 0.4. Train Acc (Test Acc): 0.9 (0.88)\n",
      "16/16 [==============================] - 0s 992us/step - loss: 0.4034 - accuracy: 0.8640\n",
      "Epoch # 45. Train Loss: 0.32. Train Acc (Test Acc): 0.89 (0.86)\n",
      "16/16 [==============================] - 0s 913us/step - loss: 0.3637 - accuracy: 0.8720\n",
      "Epoch # 50. Train Loss: 0.33. Train Acc (Test Acc): 0.88 (0.87)\n",
      "16/16 [==============================] - 0s 940us/step - loss: 0.3364 - accuracy: 0.9060\n",
      "Epoch # 55. Train Loss: 0.4. Train Acc (Test Acc): 0.84 (0.91)\n",
      "16/16 [==============================] - 0s 950us/step - loss: 0.4054 - accuracy: 0.8980\n",
      "Epoch # 60. Train Loss: 0.5. Train Acc (Test Acc): 0.89 (0.9)\n",
      "16/16 [==============================] - 0s 968us/step - loss: 0.3584 - accuracy: 0.8920\n",
      "Epoch # 65. Train Loss: 0.43. Train Acc (Test Acc): 0.9 (0.89)\n",
      "16/16 [==============================] - 0s 964us/step - loss: 0.2588 - accuracy: 0.9240\n",
      "Epoch # 70. Train Loss: 0.42. Train Acc (Test Acc): 0.88 (0.92)\n",
      "16/16 [==============================] - 0s 957us/step - loss: 0.3084 - accuracy: 0.9160\n",
      "Epoch # 75. Train Loss: 0.29. Train Acc (Test Acc): 0.95 (0.92)\n",
      "16/16 [==============================] - 0s 970us/step - loss: 0.2677 - accuracy: 0.9260\n",
      "Epoch # 80. Train Loss: 0.38. Train Acc (Test Acc): 0.87 (0.93)\n",
      "16/16 [==============================] - 0s 911us/step - loss: 0.2239 - accuracy: 0.9480\n",
      "Epoch # 85. Train Loss: 0.22. Train Acc (Test Acc): 0.93 (0.95)\n",
      "16/16 [==============================] - 0s 925us/step - loss: 0.2626 - accuracy: 0.9300\n",
      "Epoch # 90. Train Loss: 0.14. Train Acc (Test Acc): 0.96 (0.93)\n",
      "16/16 [==============================] - 0s 948us/step - loss: 0.2644 - accuracy: 0.9200\n",
      "Epoch # 95. Train Loss: 0.18. Train Acc (Test Acc): 0.94 (0.92)\n",
      "16/16 [==============================] - 0s 919us/step - loss: 0.2304 - accuracy: 0.9300\n",
      "Epoch # 100. Train Loss: 0.26. Train Acc (Test Acc): 0.91 (0.93)\n",
      "16/16 [==============================] - 0s 1ms/step - loss: 0.2424 - accuracy: 0.9260\n",
      "Epoch # 105. Train Loss: 0.22. Train Acc (Test Acc): 0.92 (0.93)\n",
      "16/16 [==============================] - 0s 935us/step - loss: 0.2471 - accuracy: 0.9260\n",
      "Epoch # 110. Train Loss: 0.45. Train Acc (Test Acc): 0.9 (0.93)\n",
      "16/16 [==============================] - 0s 940us/step - loss: 0.2325 - accuracy: 0.9200\n",
      "Epoch # 115. Train Loss: 0.16. Train Acc (Test Acc): 0.95 (0.92)\n",
      "16/16 [==============================] - 0s 964us/step - loss: 0.1674 - accuracy: 0.9380\n",
      "Epoch # 120. Train Loss: 0.22. Train Acc (Test Acc): 0.93 (0.94)\n",
      "16/16 [==============================] - 0s 941us/step - loss: 0.2102 - accuracy: 0.9240\n",
      "Epoch # 125. Train Loss: 0.16. Train Acc (Test Acc): 0.96 (0.92)\n",
      "16/16 [==============================] - 0s 958us/step - loss: 0.2114 - accuracy: 0.9340\n",
      "Epoch # 130. Train Loss: 0.26. Train Acc (Test Acc): 0.95 (0.93)\n",
      "16/16 [==============================] - 0s 923us/step - loss: 0.1812 - accuracy: 0.9440\n",
      "Epoch # 135. Train Loss: 0.26. Train Acc (Test Acc): 0.9 (0.94)\n",
      "16/16 [==============================] - 0s 956us/step - loss: 0.2358 - accuracy: 0.9260\n",
      "Epoch # 140. Train Loss: 0.25. Train Acc (Test Acc): 0.91 (0.93)\n",
      "16/16 [==============================] - 0s 935us/step - loss: 0.2098 - accuracy: 0.9420\n",
      "Epoch # 145. Train Loss: 0.33. Train Acc (Test Acc): 0.89 (0.94)\n",
      "16/16 [==============================] - 0s 966us/step - loss: 0.1413 - accuracy: 0.9580\n",
      "Epoch # 150. Train Loss: 0.19. Train Acc (Test Acc): 0.95 (0.96)\n",
      "16/16 [==============================] - 0s 936us/step - loss: 0.1927 - accuracy: 0.9520\n",
      "Epoch # 155. Train Loss: 0.14. Train Acc (Test Acc): 0.96 (0.95)\n",
      "16/16 [==============================] - 0s 945us/step - loss: 0.1460 - accuracy: 0.9580\n",
      "Epoch # 160. Train Loss: 0.23. Train Acc (Test Acc): 0.92 (0.96)\n",
      "16/16 [==============================] - 0s 902us/step - loss: 0.1849 - accuracy: 0.9560\n",
      "Epoch # 165. Train Loss: 0.23. Train Acc (Test Acc): 0.93 (0.96)\n",
      "16/16 [==============================] - 0s 995us/step - loss: 0.1599 - accuracy: 0.9580\n",
      "Epoch # 170. Train Loss: 0.24. Train Acc (Test Acc): 0.95 (0.96)\n",
      "16/16 [==============================] - 0s 935us/step - loss: 0.1416 - accuracy: 0.9620\n",
      "Epoch # 175. Train Loss: 0.19. Train Acc (Test Acc): 0.93 (0.96)\n",
      "16/16 [==============================] - 0s 941us/step - loss: 0.1500 - accuracy: 0.9440\n",
      "Epoch # 180. Train Loss: 0.26. Train Acc (Test Acc): 0.91 (0.94)\n",
      "16/16 [==============================] - 0s 947us/step - loss: 0.1419 - accuracy: 0.9600\n",
      "Epoch # 185. Train Loss: 0.15. Train Acc (Test Acc): 0.95 (0.96)\n",
      "16/16 [==============================] - 0s 962us/step - loss: 0.1559 - accuracy: 0.9500\n",
      "Epoch # 190. Train Loss: 0.2. Train Acc (Test Acc): 0.95 (0.95)\n",
      "16/16 [==============================] - 0s 960us/step - loss: 0.2344 - accuracy: 0.9260\n",
      "Epoch # 195. Train Loss: 0.24. Train Acc (Test Acc): 0.94 (0.93)\n",
      "16/16 [==============================] - 0s 941us/step - loss: 0.1504 - accuracy: 0.9480\n",
      "Epoch # 200. Train Loss: 0.12. Train Acc (Test Acc): 0.97 (0.95)\n",
      "16/16 [==============================] - 0s 901us/step - loss: 0.1604 - accuracy: 0.9420\n",
      "Epoch # 205. Train Loss: 0.25. Train Acc (Test Acc): 0.93 (0.94)\n",
      "16/16 [==============================] - 0s 984us/step - loss: 0.1104 - accuracy: 0.9700\n",
      "Epoch # 210. Train Loss: 0.1. Train Acc (Test Acc): 0.96 (0.97)\n",
      "16/16 [==============================] - 0s 967us/step - loss: 0.1718 - accuracy: 0.9500\n",
      "Epoch # 215. Train Loss: 0.14. Train Acc (Test Acc): 0.95 (0.95)\n",
      "16/16 [==============================] - 0s 925us/step - loss: 0.1165 - accuracy: 0.9620\n",
      "Epoch # 220. Train Loss: 0.21. Train Acc (Test Acc): 0.92 (0.96)\n",
      "16/16 [==============================] - 0s 921us/step - loss: 0.1683 - accuracy: 0.9560\n",
      "Epoch # 225. Train Loss: 0.23. Train Acc (Test Acc): 0.93 (0.96)\n",
      "16/16 [==============================] - 0s 995us/step - loss: 0.1590 - accuracy: 0.9540\n",
      "Epoch # 230. Train Loss: 0.15. Train Acc (Test Acc): 0.97 (0.95)\n",
      "16/16 [==============================] - 0s 987us/step - loss: 0.1255 - accuracy: 0.9600\n",
      "Epoch # 235. Train Loss: 0.18. Train Acc (Test Acc): 0.95 (0.96)\n",
      "16/16 [==============================] - 0s 934us/step - loss: 0.1584 - accuracy: 0.9500\n",
      "Epoch # 240. Train Loss: 0.29. Train Acc (Test Acc): 0.92 (0.95)\n",
      "16/16 [==============================] - 0s 909us/step - loss: 0.1845 - accuracy: 0.9540\n",
      "Epoch # 245. Train Loss: 0.08. Train Acc (Test Acc): 0.99 (0.95)\n",
      "16/16 [==============================] - 0s 936us/step - loss: 0.1455 - accuracy: 0.9540\n",
      "Epoch # 250. Train Loss: 0.12. Train Acc (Test Acc): 0.96 (0.95)\n",
      "16/16 [==============================] - 0s 906us/step - loss: 0.1359 - accuracy: 0.9620\n",
      "Epoch # 255. Train Loss: 0.17. Train Acc (Test Acc): 0.93 (0.96)\n",
      "16/16 [==============================] - 0s 902us/step - loss: 0.1318 - accuracy: 0.9540\n",
      "Epoch # 260. Train Loss: 0.18. Train Acc (Test Acc): 0.94 (0.95)\n",
      "16/16 [==============================] - 0s 894us/step - loss: 0.1435 - accuracy: 0.9580\n",
      "Epoch # 265. Train Loss: 0.21. Train Acc (Test Acc): 0.94 (0.96)\n"
     ]
    },
    {
     "name": "stdout",
     "output_type": "stream",
     "text": [
      "16/16 [==============================] - 0s 945us/step - loss: 0.1482 - accuracy: 0.9640\n",
      "Epoch # 270. Train Loss: 0.11. Train Acc (Test Acc): 0.99 (0.96)\n",
      "16/16 [==============================] - 0s 916us/step - loss: 0.1353 - accuracy: 0.9560\n",
      "Epoch # 275. Train Loss: 0.13. Train Acc (Test Acc): 0.99 (0.96)\n",
      "16/16 [==============================] - 0s 953us/step - loss: 0.1616 - accuracy: 0.9640\n",
      "Epoch # 280. Train Loss: 0.14. Train Acc (Test Acc): 0.96 (0.96)\n",
      "16/16 [==============================] - 0s 958us/step - loss: 0.1090 - accuracy: 0.9660\n",
      "Epoch # 285. Train Loss: 0.13. Train Acc (Test Acc): 0.95 (0.97)\n",
      "16/16 [==============================] - 0s 952us/step - loss: 0.1353 - accuracy: 0.9660\n",
      "Epoch # 290. Train Loss: 0.18. Train Acc (Test Acc): 0.93 (0.97)\n",
      "16/16 [==============================] - 0s 951us/step - loss: 0.1288 - accuracy: 0.9680\n",
      "Epoch # 295. Train Loss: 0.07. Train Acc (Test Acc): 0.97 (0.97)\n",
      "16/16 [==============================] - 0s 938us/step - loss: 0.1334 - accuracy: 0.9640\n",
      "Epoch # 300. Train Loss: 0.16. Train Acc (Test Acc): 0.94 (0.96)\n"
     ]
    }
   ],
   "source": [
    "train_loss = []\n",
    "train_acc = []\n",
    "test_acc = []\n",
    "\n",
    "for i in range(epochs):\n",
    "    rand_index = np.random.choice(len(x_train), size=batch_size)\n",
    "    rand_x = x_train[rand_index]\n",
    "    rand_y = y_train[rand_index]\n",
    "    \n",
    "    history_train = model.train_on_batch(rand_x, rand_y)\n",
    "    \n",
    "    if (i + 1) % eval_every == 0:\n",
    "        eval_index = np.random.choice(len(x_test), size=evaluation_size)\n",
    "        eval_x = x_test[eval_index]\n",
    "        eval_y = y_test[eval_index]\n",
    "        \n",
    "        history_eval = model.evaluate(eval_x, eval_y)\n",
    "        \n",
    "        # Record and print results\n",
    "        train_loss.append(history_train[0])\n",
    "        train_acc.append(history_train[1])\n",
    "        test_acc.append(history_eval[1])\n",
    "        acc_and_loss = [(i+1), history_train[0], history_train[1], history_eval[1]]\n",
    "        acc_and_loss = [np.round(x, 2) for x in acc_and_loss]\n",
    "        print(f'Epoch # {acc_and_loss[0]}. Train Loss: {acc_and_loss[1]}. Train Acc (Test Acc): {acc_and_loss[2]} ({acc_and_loss[3]})')"
   ]
  },
  {
   "cell_type": "code",
   "execution_count": 17,
   "metadata": {},
   "outputs": [
    {
     "data": {
      "image/png": "[encoded data removed]",
      "text/plain": [
       "<Figure size 432x288 with 1 Axes>"
      ]
     },
     "metadata": {
      "needs_background": "light"
     },
     "output_type": "display_data"
    },
    {
     "data": {
      "image/png": "[encoded data removed]",
      "text/plain": [
       "<Figure size 432x288 with 1 Axes>"
      ]
     },
     "metadata": {
      "needs_background": "light"
     },
     "output_type": "display_data"
    }
   ],
   "source": [
    "# Matplotlib code to plot the loss and accuracy\n",
    "eval_indices = range(0, epochs, eval_every)\n",
    "# Plot loss over time\n",
    "plt.plot(eval_indices, train_loss, 'k-')\n",
    "plt.title('Loss per Epoch')\n",
    "plt.xlabel('Epoch')\n",
    "plt.ylabel('Loss')\n",
    "plt.show()\n",
    "\n",
    "# Plot train and test accuracy\n",
    "plt.plot(eval_indices, train_acc, 'k-', label='Train Set Accuracy')\n",
    "plt.plot(eval_indices, test_acc, 'r--', label='Test Set Accuracy')\n",
    "plt.title('Train and Test Accuracy')\n",
    "plt.xlabel('Epoch')\n",
    "plt.ylabel('Accuracy')\n",
    "plt.legend(loc='lower right')\n",
    "plt.show()"
   ]
  },
  {
   "cell_type": "code",
   "execution_count": 19,
   "metadata": {},
   "outputs": [
    {
     "data": {
      "image/png": "[encoded data removed]",
      "text/plain": [
       "<Figure size 432x288 with 6 Axes>"
      ]
     },
     "metadata": {
      "needs_background": "light"
     },
     "output_type": "display_data"
    }
   ],
   "source": [
    "# Plot some samples and their predictions\n",
    "actuals = y_test[30:36]\n",
    "preds = model.predict(x_test[30:36])\n",
    "predictions = np.argmax(preds, axis=1)\n",
    "images = np.squeeze(x_test[30:36])\n",
    "\n",
    "Nrows = 2\n",
    "Ncols = 3\n",
    "for i in range(6):\n",
    "    plt.subplot(Nrows, Ncols, i+1)\n",
    "    plt.imshow(np.reshape(images[i], [32, 32]), cmap='Greys_r')\n",
    "    plt.title('Actual: ' + str(actuals[i]) + ' Pred: ' + str(predictions[i]), fontsize=10)\n",
    "    frame = plt.gca()\n",
    "    frame.axes.get_xaxis().set_visible(False)\n",
    "    frame.axes.get_yaxis().set_visible(False)\n",
    "    \n",
    "plt.show()"
   ]
  }
 ],
 "metadata": {
  "kernelspec": {
   "display_name": "py365",
   "language": "python",
   "name": "py365"
  },
  "language_info": {
   "codemirror_mode": {
    "name": "ipython",
    "version": 3
   },
   "file_extension": ".py",
   "mimetype": "text/x-python",
   "name": "python",
   "nbconvert_exporter": "python",
   "pygments_lexer": "ipython3",
   "version": "3.6.5"
  }
 },
 "nbformat": 4,
 "nbformat_minor": 2
}
