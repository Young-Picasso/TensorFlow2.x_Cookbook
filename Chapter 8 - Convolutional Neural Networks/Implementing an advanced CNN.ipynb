{
 "cells": [
  {
   "cell_type": "markdown",
   "metadata": {},
   "source": [
    "## How to do it..."
   ]
  },
  {
   "cell_type": "code",
   "execution_count": 1,
   "metadata": {},
   "outputs": [],
   "source": [
    "import matplotlib.pyplot as plt\n",
    "import numpy as np\n",
    "import tensorflow as tf\n",
    "from tensorflow import keras"
   ]
  },
  {
   "cell_type": "code",
   "execution_count": 2,
   "metadata": {},
   "outputs": [],
   "source": [
    "# Set dataset and model parameters\n",
    "batch_size = 128\n",
    "buffer_size = 128\n",
    "epochs = 20\n",
    "\n",
    "# Set transformation parameters\n",
    "crop_height = 24\n",
    "crop_width = 24"
   ]
  },
  {
   "cell_type": "code",
   "execution_count": 3,
   "metadata": {},
   "outputs": [],
   "source": [
    "(x_train, y_train), (x_test, y_test) = tf.keras.datasets.cifar10.load_data()"
   ]
  },
  {
   "cell_type": "code",
   "execution_count": 5,
   "metadata": {},
   "outputs": [],
   "source": [
    "dataset_train = tf.data.Dataset.from_tensor_slices((x_train, y_train))\n",
    "dataset_test = tf.data.Dataset.from_tensor_slices((x_test, y_test))"
   ]
  },
  {
   "cell_type": "code",
   "execution_count": 21,
   "metadata": {},
   "outputs": [],
   "source": [
    "\n",
    "\n",
    "# Define CIFAR reader\n",
    "def read_cifar_files(image, label):\n",
    "\n",
    "    final_image = tf.image.resize_with_crop_or_pad(image, crop_width, crop_height)\n",
    "    final_image = image / 255\n",
    "\n",
    "    # Randomly flip the image horizontally, change the brightness and contrast\n",
    "    final_image = tf.image.random_flip_left_right(final_image)\n",
    "    final_image = tf.image.random_brightness(final_image,max_delta=0.1)\n",
    "    final_image = tf.image.random_contrast(final_image,lower=0.5, upper=0.8)\n",
    "\n",
    "    return final_image, label\n",
    "\n"
   ]
  },
  {
   "cell_type": "code",
   "execution_count": 22,
   "metadata": {},
   "outputs": [],
   "source": [
    "dataset_train_processed = dataset_train.shuffle(buffer_size).batch(batch_size).map(read_cifar_files)\n",
    "dataset_test_processed = dataset_test.batch(batch_size).map(read_cifar_files)"
   ]
  },
  {
   "cell_type": "code",
   "execution_count": 23,
   "metadata": {},
   "outputs": [],
   "source": [
    "model = keras.Sequential(\n",
    "    [# First Conv-ReLU-Conv-ReLU-MaxPool Layer\n",
    "     tf.keras.layers.Conv2D(input_shape=[32, 32, 3],\n",
    "                            filters=32,\n",
    "                            kernel_size=3,\n",
    "                            padding='SAME', \n",
    "                            activation='relu',\n",
    "                            kernel_initializer='he_uniform',\n",
    "                            name='C1'),\n",
    "     tf.keras.layers.Conv2D(filters=32,\n",
    "                            kernel_size=3,\n",
    "                            padding='SAME',\n",
    "                            activation='relu',\n",
    "                            kernel_initializer='he_uniform',\n",
    "                            name='C2'),\n",
    "     tf.keras.layers.MaxPool2D((2,2),\n",
    "                               name='P1'),\n",
    "     tf.keras.layers.Dropout(0.2),\n",
    "     # Second Conv-ReLU-Conv-ReLU-MaxPool Layer\n",
    "     tf.keras.layers.Conv2D(filters=64,\n",
    "                            kernel_size=3,\n",
    "                            padding='SAME',\n",
    "                            activation='relu',\n",
    "                            kernel_initializer='he_uniform',\n",
    "                            name='C3'),\n",
    "     tf.keras.layers.Conv2D(filters=64,\n",
    "                            kernel_size=3,\n",
    "                            padding='SAME',\n",
    "                            activation='relu',\n",
    "                            kernel_initializer = 'he_uniform',\n",
    "                            name='C4'),\n",
    "     tf.keras.layers.MaxPool2D((2,2),\n",
    "                               name='P2'),\n",
    "     tf.keras.layers.Dropout(0.2),\n",
    "     # Third Conv-ReLU-Conv-ReLU-MaxPool Layer\n",
    "     tf.keras.layers.Conv2D(filters=128,\n",
    "                            kernel_size=3,\n",
    "                            padding=\"SAME\",\n",
    "                            activation='relu',\n",
    "                            kernel_initializer='he_uniform',\n",
    "                            name='C5'),\n",
    "     tf.keras.layers.Conv2D(filters=128,\n",
    "                            kernel_size=3,\n",
    "                            padding='SAME',\n",
    "                            activation='relu',\n",
    "                            kernel_initializer='he_uniform',\n",
    "                            name='C6'),\n",
    "     tf.keras.layers.MaxPool2D((2,2),\n",
    "                               name='P3'),\n",
    "     tf.keras.layers.Dropout(0.2),\n",
    "     # Flatten layer\n",
    "     tf.keras.layers.Flatten(name='FLATTEN'),\n",
    "     # Fully connected Layer\n",
    "     tf.keras.layers.Dense(units=128,\n",
    "                           activation='relu',\n",
    "                           name='D1'),\n",
    "     tf.keras.layers.Dropout(0.2),\n",
    "     # Final Fully Connected Layer\n",
    "     tf.keras.layers.Dense(units=10,\n",
    "                           activation='softmax',\n",
    "                           name='OUTPUT')\n",
    "    ])"
   ]
  },
  {
   "cell_type": "code",
   "execution_count": 24,
   "metadata": {},
   "outputs": [
    {
     "name": "stdout",
     "output_type": "stream",
     "text": [
      "Model: \"sequential_3\"\n",
      "_________________________________________________________________\n",
      "Layer (type)                 Output Shape              Param #   \n",
      "=================================================================\n",
      "C1 (Conv2D)                  (None, 32, 32, 32)        896       \n",
      "_________________________________________________________________\n",
      "C2 (Conv2D)                  (None, 32, 32, 32)        9248      \n",
      "_________________________________________________________________\n",
      "P1 (MaxPooling2D)            (None, 16, 16, 32)        0         \n",
      "_________________________________________________________________\n",
      "dropout_14 (Dropout)         (None, 16, 16, 32)        0         \n",
      "_________________________________________________________________\n",
      "C3 (Conv2D)                  (None, 16, 16, 64)        18496     \n",
      "_________________________________________________________________\n",
      "C4 (Conv2D)                  (None, 16, 16, 64)        36928     \n",
      "_________________________________________________________________\n",
      "P2 (MaxPooling2D)            (None, 8, 8, 64)          0         \n",
      "_________________________________________________________________\n",
      "dropout_15 (Dropout)         (None, 8, 8, 64)          0         \n",
      "_________________________________________________________________\n",
      "C5 (Conv2D)                  (None, 8, 8, 128)         73856     \n",
      "_________________________________________________________________\n",
      "C6 (Conv2D)                  (None, 8, 8, 128)         147584    \n",
      "_________________________________________________________________\n",
      "P3 (MaxPooling2D)            (None, 4, 4, 128)         0         \n",
      "_________________________________________________________________\n",
      "dropout_16 (Dropout)         (None, 4, 4, 128)         0         \n",
      "_________________________________________________________________\n",
      "FLATTEN (Flatten)            (None, 2048)              0         \n",
      "_________________________________________________________________\n",
      "D1 (Dense)                   (None, 128)               262272    \n",
      "_________________________________________________________________\n",
      "dropout_17 (Dropout)         (None, 128)               0         \n",
      "_________________________________________________________________\n",
      "OUTPUT (Dense)               (None, 10)                1290      \n",
      "=================================================================\n",
      "Total params: 550,570\n",
      "Trainable params: 550,570\n",
      "Non-trainable params: 0\n",
      "_________________________________________________________________\n"
     ]
    }
   ],
   "source": [
    "model.compile(loss='sparse_categorical_crossentropy', metrics=['accuracy'])\n",
    "model.summary()"
   ]
  },
  {
   "cell_type": "code",
   "execution_count": 25,
   "metadata": {},
   "outputs": [
    {
     "name": "stdout",
     "output_type": "stream",
     "text": [
      "Epoch 1/20\n",
      "391/391 [==============================] - 7s 10ms/step - loss: 1.9922 - accuracy: 0.2822 - val_loss: 1.6891 - val_accuracy: 0.3964\n",
      "Epoch 2/20\n",
      "391/391 [==============================] - 4s 10ms/step - loss: 1.5169 - accuracy: 0.4571 - val_loss: 1.4600 - val_accuracy: 0.4993\n",
      "Epoch 3/20\n",
      "391/391 [==============================] - 4s 9ms/step - loss: 1.2831 - accuracy: 0.5489 - val_loss: 1.0940 - val_accuracy: 0.6158\n",
      "Epoch 4/20\n",
      "391/391 [==============================] - 4s 10ms/step - loss: 1.1096 - accuracy: 0.6113 - val_loss: 0.9156 - val_accuracy: 0.6778\n",
      "Epoch 5/20\n",
      "391/391 [==============================] - 4s 10ms/step - loss: 0.9860 - accuracy: 0.6552 - val_loss: 0.8442 - val_accuracy: 0.7060\n",
      "Epoch 6/20\n",
      "391/391 [==============================] - 4s 10ms/step - loss: 0.8988 - accuracy: 0.6877 - val_loss: 0.8345 - val_accuracy: 0.7114\n",
      "Epoch 7/20\n",
      "391/391 [==============================] - 4s 10ms/step - loss: 0.8290 - accuracy: 0.7120 - val_loss: 0.7720 - val_accuracy: 0.7354\n",
      "Epoch 8/20\n",
      "391/391 [==============================] - 4s 10ms/step - loss: 0.7780 - accuracy: 0.7317 - val_loss: 0.7201 - val_accuracy: 0.7550\n",
      "Epoch 9/20\n",
      "391/391 [==============================] - 4s 9ms/step - loss: 0.7392 - accuracy: 0.7416 - val_loss: 0.7237 - val_accuracy: 0.7546\n",
      "Epoch 10/20\n",
      "391/391 [==============================] - 4s 10ms/step - loss: 0.7082 - accuracy: 0.7549 - val_loss: 0.6788 - val_accuracy: 0.7704\n",
      "Epoch 11/20\n",
      "391/391 [==============================] - 4s 10ms/step - loss: 0.6811 - accuracy: 0.7652 - val_loss: 0.6484 - val_accuracy: 0.7810\n",
      "Epoch 12/20\n",
      "391/391 [==============================] - 4s 10ms/step - loss: 0.6627 - accuracy: 0.7736 - val_loss: 0.6870 - val_accuracy: 0.7719\n",
      "Epoch 13/20\n",
      "391/391 [==============================] - 4s 10ms/step - loss: 0.6454 - accuracy: 0.7804 - val_loss: 0.6553 - val_accuracy: 0.7859\n",
      "Epoch 14/20\n",
      "391/391 [==============================] - 4s 10ms/step - loss: 0.6329 - accuracy: 0.7829 - val_loss: 0.6794 - val_accuracy: 0.7843\n",
      "Epoch 15/20\n",
      "391/391 [==============================] - 4s 10ms/step - loss: 0.6292 - accuracy: 0.7864 - val_loss: 0.6589 - val_accuracy: 0.7886\n",
      "Epoch 16/20\n",
      "391/391 [==============================] - 4s 10ms/step - loss: 0.6179 - accuracy: 0.7907 - val_loss: 0.6338 - val_accuracy: 0.7870\n",
      "Epoch 17/20\n",
      "391/391 [==============================] - 4s 10ms/step - loss: 0.6108 - accuracy: 0.7935 - val_loss: 0.6382 - val_accuracy: 0.7989\n",
      "Epoch 18/20\n",
      "391/391 [==============================] - 4s 10ms/step - loss: 0.5961 - accuracy: 0.7986 - val_loss: 0.7119 - val_accuracy: 0.7754\n",
      "Epoch 19/20\n",
      "391/391 [==============================] - 4s 10ms/step - loss: 0.5913 - accuracy: 0.8016 - val_loss: 0.5953 - val_accuracy: 0.8062\n",
      "Epoch 20/20\n",
      "391/391 [==============================] - 4s 9ms/step - loss: 0.5865 - accuracy: 0.8032 - val_loss: 0.5997 - val_accuracy: 0.8057\n"
     ]
    }
   ],
   "source": [
    "history = model.fit(dataset_train_processed, validation_data=dataset_test_processed, epochs=epochs)"
   ]
  },
  {
   "cell_type": "code",
   "execution_count": 29,
   "metadata": {},
   "outputs": [],
   "source": [
    "# Print loss and accuracy\n",
    "# Matplotlib code to plot the loss and accuracy\n",
    "epochs_indices = range(0, 20, 1)"
   ]
  },
  {
   "cell_type": "code",
   "execution_count": 30,
   "metadata": {},
   "outputs": [
    {
     "data": {
      "image/png": "[encoded data removed]",
      "text/plain": [
       "<Figure size 432x288 with 1 Axes>"
      ]
     },
     "metadata": {
      "needs_background": "light"
     },
     "output_type": "display_data"
    },
    {
     "data": {
      "image/png": "[encoded data removed]",
      "text/plain": [
       "<Figure size 432x288 with 1 Axes>"
      ]
     },
     "metadata": {
      "needs_background": "light"
     },
     "output_type": "display_data"
    }
   ],
   "source": [
    "# Plot loss over time\n",
    "plt.plot(epochs_indices, history.history['loss'], 'k-')\n",
    "plt.title('Softmax Loss per Epoch')\n",
    "plt.xlabel('Epoch')\n",
    "plt.ylabel('Softmax Loss')\n",
    "plt.show()\n",
    "\n",
    "# Plot accuracy over time\n",
    "plt.plot(epochs_indices, history.history['val_accuracy'], 'k-')\n",
    "plt.title('Test Accuracy per Epoch')\n",
    "plt.xlabel('Epoch')\n",
    "plt.ylabel('Accuracy')\n",
    "plt.show()"
   ]
  }
 ],
 "metadata": {
  "kernelspec": {
   "display_name": "py365",
   "language": "python",
   "name": "py365"
  },
  "language_info": {
   "codemirror_mode": {
    "name": "ipython",
    "version": 3
   },
   "file_extension": ".py",
   "mimetype": "text/x-python",
   "name": "python",
   "nbconvert_exporter": "python",
   "pygments_lexer": "ipython3",
   "version": "3.6.5"
  }
 },
 "nbformat": 4,
 "nbformat_minor": 2
}
