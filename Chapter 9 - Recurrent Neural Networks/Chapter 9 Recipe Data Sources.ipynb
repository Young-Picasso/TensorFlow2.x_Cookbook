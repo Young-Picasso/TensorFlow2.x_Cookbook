{
 "cells": [
  {
   "cell_type": "markdown",
   "metadata": {},
   "source": [
    "Data sources for chapter 9:\n",
    "\n",
    "* stock price prediction https://www.kaggle.com/mczielinski/bitcoin-historical-data\n",
    "\n",
    "* sentiment classification: https://www.kaggle.com/anindya2906/glove6b, https://www.kaggle.com/kazanova/sentiment140\n",
    "\n",
    "* question answering: https://www.kaggle.com/c/tensorflow2-question-answering/data \t"
   ]
  }
 ],
 "metadata": {
  "kernelspec": {
   "display_name": "py365",
   "language": "python",
   "name": "py365"
  },
  "language_info": {
   "codemirror_mode": {
    "name": "ipython",
    "version": 3
   },
   "file_extension": ".py",
   "mimetype": "text/x-python",
   "name": "python",
   "nbconvert_exporter": "python",
   "pygments_lexer": "ipython3",
   "version": "3.6.5"
  }
 },
 "nbformat": 4,
 "nbformat_minor": 2
}
