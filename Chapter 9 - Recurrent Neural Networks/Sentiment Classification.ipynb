{
 "cells": [
  {
   "cell_type": "markdown",
   "metadata": {},
   "source": [
    "To start this recipe, one must should first preprocess the traing.1600000.processed.noemoticon.csv file from the Kaggle data source. Once this file is downloaded, navigate to the directory in terminal and enter the following command:\n",
    "\n",
    "    iconv -f LATIN1 -t UTF8 training.1600000.processed.noemoticon.csv -o training_cleaned.csv"
   ]
  },
  {
   "cell_type": "markdown",
   "metadata": {},
   "source": [
    "## How to do it..."
   ]
  },
  {
   "cell_type": "markdown",
   "metadata": {},
   "source": [
    "1. Import the required packages"
   ]
  },
  {
   "cell_type": "code",
   "execution_count": 1,
   "metadata": {},
   "outputs": [],
   "source": [
    "import json\n",
    "import tensorflow as tf\n",
    "import csv\n",
    "import random\n",
    "import numpy as np\n",
    "import pandas as pd\n",
    "import matplotlib.pyplot as plt\n",
    "\n",
    "from tensorflow.keras.preprocessing.text import Tokenizer\n",
    "from tensorflow.keras.preprocessing.sequence import pad_sequences\n",
    "from tensorflow.keras.utils import to_categorical\n",
    "from tensorflow.keras import regularizers"
   ]
  },
  {
   "cell_type": "markdown",
   "metadata": {},
   "source": [
    "2. Define model hyperparameters"
   ]
  },
  {
   "cell_type": "code",
   "execution_count": 2,
   "metadata": {},
   "outputs": [],
   "source": [
    "embedding_dim = 100\n",
    "max_length = 16\n",
    "trunc_type = 'post'\n",
    "padding_type = 'post'\n",
    "oov_tok = '<OOV>'\n",
    "training_size = 160000\n",
    "test_portion=0.1\n",
    "\n",
    "num_epochs = 50\n",
    "dropout_val = 0.2\n",
    "nof_units=64\n",
    "\n",
    "corpus = []"
   ]
  },
  {
   "cell_type": "markdown",
   "metadata": {},
   "source": [
    "3. Encapsulate model creation step into a function"
   ]
  },
  {
   "cell_type": "code",
   "execution_count": 3,
   "metadata": {},
   "outputs": [],
   "source": [
    "def create_model(dropout_val, nof_units):\n",
    "\n",
    "    \n",
    "    model = tf.keras.Sequential([\n",
    "    tf.keras.layers.Embedding(vocab_size+1, embedding_dim, input_length=max_length, weights=[embeddings_matrix], trainable=False),\n",
    "    tf.keras.layers.Dropout(dropout_val),\n",
    "    tf.keras.layers.Conv1D(64, 5, activation='relu'),\n",
    "    tf.keras.layers.MaxPooling1D(pool_size=4),\n",
    "    tf.keras.layers.LSTM(nof_units),\n",
    "    tf.keras.layers.Dense(1, activation='sigmoid')\n",
    "    ])\n",
    "    model.compile(loss='binary_crossentropy',optimizer='adam',metrics=['accuracy'])\n",
    "\n",
    "    return model"
   ]
  },
  {
   "cell_type": "markdown",
   "metadata": {},
   "source": [
    "4. Collect content of the corpus to train on"
   ]
  },
  {
   "cell_type": "code",
   "execution_count": 4,
   "metadata": {},
   "outputs": [],
   "source": [
    "num_sentences = 0\n",
    "\n",
    "with open(\"training_cleaned.csv\") as csvfile:\n",
    "    reader = csv.reader(csvfile, delimiter=',')\n",
    "    for row in reader:\n",
    "        list_item=[]\n",
    "        list_item.append(row[5])\n",
    "        this_label=row[0]\n",
    "        if this_label=='0':\n",
    "            list_item.append(0)\n",
    "        else:\n",
    "            list_item.append(1)\n",
    "        num_sentences = num_sentences + 1\n",
    "        corpus.append(list_item)"
   ]
  },
  {
   "cell_type": "markdown",
   "metadata": {},
   "source": [
    "5. Convert to sentence format:"
   ]
  },
  {
   "cell_type": "code",
   "execution_count": 5,
   "metadata": {},
   "outputs": [],
   "source": [
    "sentences=[]\n",
    "labels=[]\n",
    "random.shuffle(corpus)\n",
    "for x in range(training_size):\n",
    "    sentences.append(corpus[x][0])\n",
    "    labels.append(corpus[x][1])"
   ]
  },
  {
   "cell_type": "markdown",
   "metadata": {},
   "source": [
    "6. Tokenize the sentences"
   ]
  },
  {
   "cell_type": "code",
   "execution_count": 6,
   "metadata": {},
   "outputs": [],
   "source": [
    "tokenizer = Tokenizer()\n",
    "tokenizer.fit_on_texts(sentences)\n",
    "word_index = tokenizer.word_index\n",
    "vocab_size=len(word_index)\n",
    "sequences = tokenizer.texts_to_sequences(sentences)"
   ]
  },
  {
   "cell_type": "markdown",
   "metadata": {},
   "source": [
    "7. Normalize the sentence lengths with padding"
   ]
  },
  {
   "cell_type": "code",
   "execution_count": 7,
   "metadata": {},
   "outputs": [],
   "source": [
    "padded = pad_sequences(sequences, maxlen=max_length, padding=padding_type, truncating=trunc_type)"
   ]
  },
  {
   "cell_type": "markdown",
   "metadata": {},
   "source": [
    "8. Divide into training and holdout sets"
   ]
  },
  {
   "cell_type": "code",
   "execution_count": 8,
   "metadata": {},
   "outputs": [],
   "source": [
    "split = int(test_portion * training_size)\n",
    "test_sequences = padded[0:split]\n",
    "training_sequences = padded[split:training_size]\n",
    "test_labels = labels[0:split]\n",
    "training_labels = labels[split:training_size]"
   ]
  },
  {
   "cell_type": "markdown",
   "metadata": {},
   "source": [
    "9. A key element in RNN-based models for NLP applications is the embeddings matrix"
   ]
  },
  {
   "cell_type": "code",
   "execution_count": 9,
   "metadata": {},
   "outputs": [],
   "source": [
    "embeddings_index = {};\n",
    "with open('glove.6B.100d.txt') as f:\n",
    "    for line in f:\n",
    "        values = line.split();\n",
    "        word = values[0];\n",
    "        coefs = np.asarray(values[1:], dtype='float32');\n",
    "        embeddings_index[word] = coefs;\n",
    "        \n",
    "embeddings_matrix = np.zeros((vocab_size+1, embedding_dim));\n",
    "for word, i in word_index.items():\n",
    "    embedding_vector = embeddings_index.get(word);\n",
    "    if embedding_vector is not None:\n",
    "        embeddings_matrix[i] = embedding_vector;"
   ]
  },
  {
   "cell_type": "markdown",
   "metadata": {},
   "source": [
    "10. Setup model"
   ]
  },
  {
   "cell_type": "code",
   "execution_count": 10,
   "metadata": {},
   "outputs": [
    {
     "name": "stdout",
     "output_type": "stream",
     "text": [
      "Model: \"sequential\"\n",
      "_________________________________________________________________\n",
      "Layer (type)                 Output Shape              Param #   \n",
      "=================================================================\n",
      "embedding (Embedding)        (None, 16, 100)           13899200  \n",
      "_________________________________________________________________\n",
      "dropout (Dropout)            (None, 16, 100)           0         \n",
      "_________________________________________________________________\n",
      "conv1d (Conv1D)              (None, 12, 64)            32064     \n",
      "_________________________________________________________________\n",
      "max_pooling1d (MaxPooling1D) (None, 3, 64)             0         \n",
      "_________________________________________________________________\n",
      "lstm (LSTM)                  (None, 64)                33024     \n",
      "_________________________________________________________________\n",
      "dense (Dense)                (None, 1)                 65        \n",
      "=================================================================\n",
      "Total params: 13,964,353\n",
      "Trainable params: 65,153\n",
      "Non-trainable params: 13,899,200\n",
      "_________________________________________________________________\n"
     ]
    }
   ],
   "source": [
    "model = create_model(dropout_val, nof_units)\n",
    "model.summary()"
   ]
  },
  {
   "cell_type": "markdown",
   "metadata": {},
   "source": [
    "11. Train in the usual manner"
   ]
  },
  {
   "cell_type": "markdown",
   "metadata": {},
   "source": [
    "11. a) Convert data to np arrays (else error occurs)"
   ]
  },
  {
   "cell_type": "code",
   "execution_count": 11,
   "metadata": {},
   "outputs": [],
   "source": [
    "training_sequences = np.array(training_sequences)\n",
    "training_labels = np.array(training_labels)\n",
    "test_sequences = np.array(test_sequences)\n",
    "test_labels = np.array(test_labels)"
   ]
  },
  {
   "cell_type": "code",
   "execution_count": 12,
   "metadata": {},
   "outputs": [
    {
     "name": "stdout",
     "output_type": "stream",
     "text": [
      "Epoch 1/50\n",
      "4500/4500 - 9s - loss: 0.5683 - accuracy: 0.6976 - val_loss: 0.5285 - val_accuracy: 0.7323\n",
      "Epoch 2/50\n",
      "4500/4500 - 7s - loss: 0.5287 - accuracy: 0.7309 - val_loss: 0.5087 - val_accuracy: 0.7433\n",
      "Epoch 3/50\n",
      "4500/4500 - 7s - loss: 0.5118 - accuracy: 0.7429 - val_loss: 0.5062 - val_accuracy: 0.7479\n",
      "Epoch 4/50\n",
      "4500/4500 - 7s - loss: 0.5005 - accuracy: 0.7499 - val_loss: 0.5048 - val_accuracy: 0.7502\n",
      "Epoch 5/50\n",
      "4500/4500 - 7s - loss: 0.4921 - accuracy: 0.7569 - val_loss: 0.4969 - val_accuracy: 0.7508\n",
      "Epoch 6/50\n",
      "4500/4500 - 6s - loss: 0.4857 - accuracy: 0.7603 - val_loss: 0.4983 - val_accuracy: 0.7517\n",
      "Epoch 7/50\n",
      "4500/4500 - 7s - loss: 0.4808 - accuracy: 0.7626 - val_loss: 0.4966 - val_accuracy: 0.7529\n",
      "Epoch 8/50\n",
      "4500/4500 - 7s - loss: 0.4743 - accuracy: 0.7684 - val_loss: 0.4997 - val_accuracy: 0.7553\n",
      "Epoch 9/50\n",
      "4500/4500 - 7s - loss: 0.4700 - accuracy: 0.7703 - val_loss: 0.4978 - val_accuracy: 0.7532\n",
      "Epoch 10/50\n",
      "4500/4500 - 7s - loss: 0.4673 - accuracy: 0.7712 - val_loss: 0.4990 - val_accuracy: 0.7569\n",
      "Epoch 11/50\n",
      "4500/4500 - 7s - loss: 0.4631 - accuracy: 0.7752 - val_loss: 0.5022 - val_accuracy: 0.7526\n",
      "Epoch 12/50\n",
      "4500/4500 - 7s - loss: 0.4608 - accuracy: 0.7757 - val_loss: 0.4987 - val_accuracy: 0.7549\n",
      "Epoch 13/50\n",
      "4500/4500 - 7s - loss: 0.4578 - accuracy: 0.7778 - val_loss: 0.5002 - val_accuracy: 0.7533\n",
      "Epoch 14/50\n",
      "4500/4500 - 7s - loss: 0.4562 - accuracy: 0.7798 - val_loss: 0.4996 - val_accuracy: 0.7559\n",
      "Epoch 15/50\n",
      "4500/4500 - 7s - loss: 0.4537 - accuracy: 0.7813 - val_loss: 0.5009 - val_accuracy: 0.7549\n",
      "Epoch 16/50\n",
      "4500/4500 - 7s - loss: 0.4518 - accuracy: 0.7812 - val_loss: 0.5078 - val_accuracy: 0.7473\n",
      "Epoch 17/50\n",
      "4500/4500 - 7s - loss: 0.4497 - accuracy: 0.7828 - val_loss: 0.5072 - val_accuracy: 0.7536\n",
      "Epoch 18/50\n",
      "4500/4500 - 7s - loss: 0.4485 - accuracy: 0.7838 - val_loss: 0.5051 - val_accuracy: 0.7526\n",
      "Epoch 19/50\n",
      "4500/4500 - 7s - loss: 0.4470 - accuracy: 0.7843 - val_loss: 0.5074 - val_accuracy: 0.7563\n",
      "Epoch 20/50\n",
      "4500/4500 - 7s - loss: 0.4440 - accuracy: 0.7868 - val_loss: 0.5128 - val_accuracy: 0.7517\n",
      "Epoch 21/50\n",
      "4500/4500 - 7s - loss: 0.4427 - accuracy: 0.7863 - val_loss: 0.5125 - val_accuracy: 0.7501\n",
      "Epoch 22/50\n",
      "4500/4500 - 7s - loss: 0.4426 - accuracy: 0.7868 - val_loss: 0.5131 - val_accuracy: 0.7508\n",
      "Epoch 23/50\n",
      "4500/4500 - 7s - loss: 0.4415 - accuracy: 0.7874 - val_loss: 0.5138 - val_accuracy: 0.7516\n",
      "Epoch 24/50\n",
      "4500/4500 - 7s - loss: 0.4399 - accuracy: 0.7892 - val_loss: 0.5102 - val_accuracy: 0.7513\n",
      "Epoch 25/50\n",
      "4500/4500 - 7s - loss: 0.4413 - accuracy: 0.7883 - val_loss: 0.5138 - val_accuracy: 0.7480\n",
      "Epoch 26/50\n",
      "4500/4500 - 7s - loss: 0.4390 - accuracy: 0.7888 - val_loss: 0.5128 - val_accuracy: 0.7503\n",
      "Epoch 27/50\n",
      "4500/4500 - 7s - loss: 0.4390 - accuracy: 0.7900 - val_loss: 0.5095 - val_accuracy: 0.7545\n",
      "Epoch 28/50\n",
      "4500/4500 - 7s - loss: 0.4381 - accuracy: 0.7898 - val_loss: 0.5148 - val_accuracy: 0.7521\n",
      "Epoch 29/50\n",
      "4500/4500 - 7s - loss: 0.4382 - accuracy: 0.7886 - val_loss: 0.5140 - val_accuracy: 0.7538\n",
      "Epoch 30/50\n",
      "4500/4500 - 7s - loss: 0.4364 - accuracy: 0.7915 - val_loss: 0.5140 - val_accuracy: 0.7539\n",
      "Epoch 31/50\n",
      "4500/4500 - 7s - loss: 0.4359 - accuracy: 0.7909 - val_loss: 0.5130 - val_accuracy: 0.7541\n",
      "Epoch 32/50\n",
      "4500/4500 - 7s - loss: 0.4345 - accuracy: 0.7928 - val_loss: 0.5144 - val_accuracy: 0.7510\n",
      "Epoch 33/50\n",
      "4500/4500 - 7s - loss: 0.4360 - accuracy: 0.7912 - val_loss: 0.5256 - val_accuracy: 0.7467\n",
      "Epoch 34/50\n",
      "4500/4500 - 7s - loss: 0.4347 - accuracy: 0.7924 - val_loss: 0.5125 - val_accuracy: 0.7471\n",
      "Epoch 35/50\n",
      "4500/4500 - 7s - loss: 0.4351 - accuracy: 0.7922 - val_loss: 0.5191 - val_accuracy: 0.7509\n",
      "Epoch 36/50\n",
      "4500/4500 - 7s - loss: 0.4331 - accuracy: 0.7932 - val_loss: 0.5189 - val_accuracy: 0.7475\n",
      "Epoch 37/50\n",
      "4500/4500 - 7s - loss: 0.4338 - accuracy: 0.7924 - val_loss: 0.5126 - val_accuracy: 0.7502\n",
      "Epoch 38/50\n",
      "4500/4500 - 7s - loss: 0.4327 - accuracy: 0.7933 - val_loss: 0.5163 - val_accuracy: 0.7510\n",
      "Epoch 39/50\n",
      "4500/4500 - 7s - loss: 0.4311 - accuracy: 0.7944 - val_loss: 0.5174 - val_accuracy: 0.7493\n",
      "Epoch 40/50\n",
      "4500/4500 - 7s - loss: 0.4332 - accuracy: 0.7937 - val_loss: 0.5169 - val_accuracy: 0.7514\n",
      "Epoch 41/50\n",
      "4500/4500 - 7s - loss: 0.4312 - accuracy: 0.7945 - val_loss: 0.5206 - val_accuracy: 0.7474\n",
      "Epoch 42/50\n",
      "4500/4500 - 7s - loss: 0.4319 - accuracy: 0.7936 - val_loss: 0.5220 - val_accuracy: 0.7476\n",
      "Epoch 43/50\n",
      "4500/4500 - 7s - loss: 0.4311 - accuracy: 0.7948 - val_loss: 0.5227 - val_accuracy: 0.7466\n",
      "Epoch 44/50\n",
      "4500/4500 - 7s - loss: 0.4311 - accuracy: 0.7945 - val_loss: 0.5175 - val_accuracy: 0.7471\n",
      "Epoch 45/50\n",
      "4500/4500 - 7s - loss: 0.4299 - accuracy: 0.7961 - val_loss: 0.5176 - val_accuracy: 0.7479\n",
      "Epoch 46/50\n",
      "4500/4500 - 7s - loss: 0.4298 - accuracy: 0.7956 - val_loss: 0.5213 - val_accuracy: 0.7488\n",
      "Epoch 47/50\n",
      "4500/4500 - 7s - loss: 0.4304 - accuracy: 0.7952 - val_loss: 0.5198 - val_accuracy: 0.7465\n",
      "Epoch 48/50\n",
      "4500/4500 - 7s - loss: 0.4297 - accuracy: 0.7955 - val_loss: 0.5200 - val_accuracy: 0.7484\n",
      "Epoch 49/50\n",
      "4500/4500 - 7s - loss: 0.4291 - accuracy: 0.7965 - val_loss: 0.5210 - val_accuracy: 0.7517\n",
      "Epoch 50/50\n",
      "4500/4500 - 7s - loss: 0.4299 - accuracy: 0.7948 - val_loss: 0.5257 - val_accuracy: 0.7459\n"
     ]
    }
   ],
   "source": [
    "num_epochs = 50\n",
    "history = model.fit(training_sequences, training_labels, epochs=num_epochs, validation_data=(test_sequences, test_labels), verbose=2)"
   ]
  },
  {
   "cell_type": "markdown",
   "metadata": {},
   "source": [
    "12. Plot results"
   ]
  },
  {
   "cell_type": "code",
   "execution_count": 15,
   "metadata": {},
   "outputs": [
    {
     "data": {
      "image/png": "[encoded data removed]",
      "text/plain": [
       "<Figure size 432x288 with 1 Axes>"
      ]
     },
     "metadata": {
      "needs_background": "light"
     },
     "output_type": "display_data"
    },
    {
     "data": {
      "image/png": "[encoded data removed]",
      "text/plain": [
       "<Figure size 432x288 with 1 Axes>"
      ]
     },
     "metadata": {
      "needs_background": "light"
     },
     "output_type": "display_data"
    }
   ],
   "source": [
    "acc = history.history['accuracy']\n",
    "val_acc = history.history['val_accuracy']\n",
    "loss = history.history['loss']\n",
    "val_loss = history.history['val_loss']\n",
    "epochs = range(len(acc))\n",
    "\n",
    "plt.plot(epochs, acc, 'r', label='Training accuracy')\n",
    "plt.plot(epochs, val_acc, 'b', label='Validation accuracy')\n",
    "plt.title('Training and validation accuracy')\n",
    "plt.legend()\n",
    "plt.figure()\n",
    "\n",
    "plt.plot(epochs, loss, 'r', label='Training Loss')\n",
    "plt.plot(epochs, val_loss, 'b', label='Validation Loss')\n",
    "plt.title('Training and validation loss')\n",
    "plt.legend()\n",
    "\n",
    "plt.show()"
   ]
  }
 ],
 "metadata": {
  "kernelspec": {
   "display_name": "py365",
   "language": "python",
   "name": "py365"
  },
  "language_info": {
   "codemirror_mode": {
    "name": "ipython",
    "version": 3
   },
   "file_extension": ".py",
   "mimetype": "text/x-python",
   "name": "python",
   "nbconvert_exporter": "python",
   "pygments_lexer": "ipython3",
   "version": "3.6.5"
  }
 },
 "nbformat": 4,
 "nbformat_minor": 2
}
