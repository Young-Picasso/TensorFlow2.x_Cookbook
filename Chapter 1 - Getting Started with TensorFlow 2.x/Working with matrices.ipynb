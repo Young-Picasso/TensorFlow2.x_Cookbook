{
 "cells": [
  {
   "cell_type": "markdown",
   "id": "2fc5ec88",
   "metadata": {},
   "source": [
    "## 1. Creating matrices"
   ]
  },
  {
   "cell_type": "code",
   "execution_count": 5,
   "id": "d30495ed",
   "metadata": {},
   "outputs": [],
   "source": [
    "import tensorflow as tf\n",
    "import numpy as np"
   ]
  },
  {
   "cell_type": "code",
   "execution_count": 6,
   "id": "a2fe762d",
   "metadata": {},
   "outputs": [],
   "source": [
    "identity_matrix = tf.linalg.diag([1.0, 1.0, 1.0])\n",
    "A = tf.random.truncated_normal([2, 3])\n",
    "B = tf.fill([2, 3], 5.0)\n",
    "C = tf.random.uniform([3, 2])\n",
    "D = tf.convert_to_tensor(np.array([[1., 2., 3.], [-3., -7., -1.], [0., 5., -2.]]), dtype = tf.float32)"
   ]
  },
  {
   "cell_type": "code",
   "execution_count": 7,
   "id": "9ff895db",
   "metadata": {},
   "outputs": [
    {
     "name": "stdout",
     "output_type": "stream",
     "text": [
      "tf.Tensor(\n",
      "[[1. 0. 0.]\n",
      " [0. 1. 0.]\n",
      " [0. 0. 1.]], shape=(3, 3), dtype=float32)\n"
     ]
    }
   ],
   "source": [
    "print(identity_matrix)"
   ]
  },
  {
   "cell_type": "code",
   "execution_count": 8,
   "id": "fa369235",
   "metadata": {},
   "outputs": [
    {
     "name": "stdout",
     "output_type": "stream",
     "text": [
      "tf.Tensor(\n",
      "[[ 0.4589003   0.96595794 -1.1089929 ]\n",
      " [ 0.9904659   0.3910998  -1.185653  ]], shape=(2, 3), dtype=float32)\n"
     ]
    }
   ],
   "source": [
    "print(A)"
   ]
  },
  {
   "cell_type": "code",
   "execution_count": 9,
   "id": "4793efb1",
   "metadata": {},
   "outputs": [
    {
     "name": "stdout",
     "output_type": "stream",
     "text": [
      "tf.Tensor(\n",
      "[[5. 5. 5.]\n",
      " [5. 5. 5.]], shape=(2, 3), dtype=float32)\n"
     ]
    }
   ],
   "source": [
    "print(B)"
   ]
  },
  {
   "cell_type": "code",
   "execution_count": 10,
   "id": "549de7fe",
   "metadata": {},
   "outputs": [
    {
     "name": "stdout",
     "output_type": "stream",
     "text": [
      "tf.Tensor(\n",
      "[[0.26230574 0.34384537]\n",
      " [0.8383665  0.63503003]\n",
      " [0.5704981  0.54587984]], shape=(3, 2), dtype=float32)\n"
     ]
    }
   ],
   "source": [
    "print(C)"
   ]
  },
  {
   "cell_type": "code",
   "execution_count": 11,
   "id": "c6103b9a",
   "metadata": {},
   "outputs": [
    {
     "name": "stdout",
     "output_type": "stream",
     "text": [
      "tf.Tensor(\n",
      "[[ 1.  2.  3.]\n",
      " [-3. -7. -1.]\n",
      " [ 0.  5. -2.]], shape=(3, 3), dtype=float32)\n"
     ]
    }
   ],
   "source": [
    "print(D)"
   ]
  },
  {
   "cell_type": "markdown",
   "id": "fe410aff",
   "metadata": {},
   "source": [
    "## 2. Addition, subtraction, multiplication"
   ]
  },
  {
   "cell_type": "code",
   "execution_count": 12,
   "id": "20c5b096",
   "metadata": {},
   "outputs": [
    {
     "name": "stdout",
     "output_type": "stream",
     "text": [
      "tf.Tensor(\n",
      "[[5.4589005 5.965958  3.891007 ]\n",
      " [5.990466  5.3911    3.814347 ]], shape=(2, 3), dtype=float32)\n"
     ]
    }
   ],
   "source": [
    "print(A + B)"
   ]
  },
  {
   "cell_type": "code",
   "execution_count": 13,
   "id": "8d18c22a",
   "metadata": {},
   "outputs": [
    {
     "name": "stdout",
     "output_type": "stream",
     "text": [
      "tf.Tensor(\n",
      "[[0. 0. 0.]\n",
      " [0. 0. 0.]], shape=(2, 3), dtype=float32)\n"
     ]
    }
   ],
   "source": [
    "print(B - B)"
   ]
  },
  {
   "cell_type": "code",
   "execution_count": 14,
   "id": "3a71b152",
   "metadata": {},
   "outputs": [
    {
     "name": "stderr",
     "output_type": "stream",
     "text": [
      "2022-01-17 17:57:48.495632: I tensorflow/stream_executor/platform/default/dso_loader.cc:53] Successfully opened dynamic library libcublas.so.11\n"
     ]
    },
    {
     "name": "stdout",
     "output_type": "stream",
     "text": [
      "tf.Tensor(\n",
      "[[5. 5. 5.]\n",
      " [5. 5. 5.]], shape=(2, 3), dtype=float32)\n"
     ]
    },
    {
     "name": "stderr",
     "output_type": "stream",
     "text": [
      "2022-01-17 17:57:48.762215: I tensorflow/stream_executor/platform/default/dso_loader.cc:53] Successfully opened dynamic library libcublasLt.so.11\n"
     ]
    }
   ],
   "source": [
    "print(tf.matmul(B, identity_matrix))"
   ]
  },
  {
   "cell_type": "code",
   "execution_count": 15,
   "id": "3e9be89c",
   "metadata": {},
   "outputs": [
    {
     "name": "stdout",
     "output_type": "stream",
     "text": [
      "tf.Tensor(\n",
      "[[ 1.  0.  0.]\n",
      " [-0. -7. -0.]\n",
      " [ 0.  0. -2.]], shape=(3, 3), dtype=float32)\n"
     ]
    }
   ],
   "source": [
    "print(tf.multiply(D, identity_matrix))"
   ]
  },
  {
   "cell_type": "markdown",
   "id": "67149d17",
   "metadata": {},
   "source": [
    "## 3. The transpose"
   ]
  },
  {
   "cell_type": "code",
   "execution_count": 16,
   "id": "e465d12f",
   "metadata": {},
   "outputs": [
    {
     "name": "stdout",
     "output_type": "stream",
     "text": [
      "tf.Tensor(\n",
      "[[0.26230574 0.8383665  0.5704981 ]\n",
      " [0.34384537 0.63503003 0.54587984]], shape=(2, 3), dtype=float32)\n"
     ]
    }
   ],
   "source": [
    "print(tf.transpose(C))"
   ]
  },
  {
   "cell_type": "markdown",
   "id": "dfc5518b",
   "metadata": {},
   "source": [
    "## 4. Determinant"
   ]
  },
  {
   "cell_type": "code",
   "execution_count": 17,
   "id": "9ea39a7c",
   "metadata": {},
   "outputs": [
    {
     "name": "stderr",
     "output_type": "stream",
     "text": [
      "2022-01-17 17:59:40.738467: I tensorflow/core/util/cuda_solvers.cc:180] Creating CudaSolver handles for stream 0x50ad2b0\n",
      "2022-01-17 17:59:40.739047: I tensorflow/stream_executor/platform/default/dso_loader.cc:53] Successfully opened dynamic library libcusolver.so.11\n"
     ]
    },
    {
     "name": "stdout",
     "output_type": "stream",
     "text": [
      "tf.Tensor(-38.0, shape=(), dtype=float32)\n"
     ]
    },
    {
     "name": "stderr",
     "output_type": "stream",
     "text": [
      "2022-01-17 17:59:41.507027: I tensorflow/stream_executor/platform/default/dso_loader.cc:53] Successfully opened dynamic library libcublas.so.11\n"
     ]
    }
   ],
   "source": [
    "print(tf.linalg.det(D))"
   ]
  },
  {
   "cell_type": "markdown",
   "id": "694f5292",
   "metadata": {},
   "source": [
    "## 5. Inverse"
   ]
  },
  {
   "cell_type": "code",
   "execution_count": 22,
   "id": "7c2b4f5e",
   "metadata": {},
   "outputs": [
    {
     "name": "stdout",
     "output_type": "stream",
     "text": [
      "tf.Tensor(\n",
      "[[-0.5        -0.5        -0.5       ]\n",
      " [ 0.15789473  0.05263159  0.21052632]\n",
      " [ 0.3947369   0.13157895  0.02631579]], shape=(3, 3), dtype=float32)\n"
     ]
    }
   ],
   "source": [
    "print(tf.linalg.inv(D))"
   ]
  },
  {
   "cell_type": "markdown",
   "id": "974c7c52",
   "metadata": {},
   "source": [
    "## 6. Decompositions"
   ]
  },
  {
   "cell_type": "code",
   "execution_count": 23,
   "id": "7f1aa1fb",
   "metadata": {},
   "outputs": [
    {
     "name": "stdout",
     "output_type": "stream",
     "text": [
      "tf.Tensor(\n",
      "[[1. 0. 0.]\n",
      " [0. 1. 0.]\n",
      " [0. 0. 1.]], shape=(3, 3), dtype=float32)\n"
     ]
    }
   ],
   "source": [
    "print(tf.linalg.cholesky(identity_matrix))"
   ]
  },
  {
   "cell_type": "markdown",
   "id": "3757f1c2",
   "metadata": {},
   "source": [
    "## 7. Eigenvalues and eigenvectors"
   ]
  },
  {
   "cell_type": "code",
   "execution_count": 24,
   "id": "ce096095",
   "metadata": {},
   "outputs": [
    {
     "name": "stdout",
     "output_type": "stream",
     "text": [
      "(<tf.Tensor: shape=(3,), dtype=float32, numpy=array([-10.659075  ,  -0.22750685,   2.8865821 ], dtype=float32)>, <tf.Tensor: shape=(3, 3), dtype=float32, numpy=\n",
      "array([[ 0.21749547,  0.632501  ,  0.74339634],\n",
      "       [ 0.84526515,  0.25879973, -0.46749276],\n",
      "       [-0.4880805 ,  0.73004454, -0.4783432 ]], dtype=float32)>)\n"
     ]
    }
   ],
   "source": [
    "print(tf.linalg.eigh(D))"
   ]
  }
 ],
 "metadata": {
  "kernelspec": {
   "display_name": "Python 3 (ipykernel)",
   "language": "python",
   "name": "python3"
  },
  "language_info": {
   "codemirror_mode": {
    "name": "ipython",
    "version": 3
   },
   "file_extension": ".py",
   "mimetype": "text/x-python",
   "name": "python",
   "nbconvert_exporter": "python",
   "pygments_lexer": "ipython3",
   "version": "3.8.10"
  }
 },
 "nbformat": 4,
 "nbformat_minor": 5
}
