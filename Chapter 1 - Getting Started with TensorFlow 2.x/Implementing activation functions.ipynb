{
 "cells": [
  {
   "cell_type": "markdown",
   "id": "9d17d1ff",
   "metadata": {},
   "source": [
    "The activations live in the neural network (nn) library) in TensorFlow. Besides using built-in activation functions, we can also design our own using tensorFlow operations. We can import the predefined activation functions (from tensorflow import nn) or be explicit and write nn in our function calls. Here, we'll choose to be explicit with each function call. "
   ]
  },
  {
   "cell_type": "markdown",
   "id": "972ff4fe",
   "metadata": {},
   "source": [
    "## 1. ReLU"
   ]
  },
  {
   "cell_type": "code",
   "execution_count": 1,
   "id": "e6af1aa2",
   "metadata": {},
   "outputs": [
    {
     "name": "stderr",
     "output_type": "stream",
     "text": [
      "2022-01-18 08:16:27.179676: I tensorflow/stream_executor/platform/default/dso_loader.cc:53] Successfully opened dynamic library libcudart.so.11.0\n"
     ]
    }
   ],
   "source": [
    "import tensorflow as tf"
   ]
  },
  {
   "cell_type": "code",
   "execution_count": 2,
   "id": "3c22127a",
   "metadata": {},
   "outputs": [
    {
     "name": "stdout",
     "output_type": "stream",
     "text": [
      "tf.Tensor([ 0.  3. 10.], shape=(3,), dtype=float32)\n"
     ]
    },
    {
     "name": "stderr",
     "output_type": "stream",
     "text": [
      "2022-01-18 08:16:46.195659: I tensorflow/stream_executor/platform/default/dso_loader.cc:53] Successfully opened dynamic library libcuda.so.1\n",
      "2022-01-18 08:16:46.258788: I tensorflow/stream_executor/cuda/cuda_gpu_executor.cc:937] successful NUMA node read from SysFS had negative value (-1), but there must be at least one NUMA node, so returning NUMA node zero\n",
      "2022-01-18 08:16:46.259154: I tensorflow/core/common_runtime/gpu/gpu_device.cc:1733] Found device 0 with properties: \n",
      "pciBusID: 0000:2d:00.0 name: GeForce RTX 2070 SUPER computeCapability: 7.5\n",
      "coreClock: 1.785GHz coreCount: 40 deviceMemorySize: 7.79GiB deviceMemoryBandwidth: 417.29GiB/s\n",
      "2022-01-18 08:16:46.259168: I tensorflow/stream_executor/platform/default/dso_loader.cc:53] Successfully opened dynamic library libcudart.so.11.0\n",
      "2022-01-18 08:16:46.268212: I tensorflow/stream_executor/platform/default/dso_loader.cc:53] Successfully opened dynamic library libcublas.so.11\n",
      "2022-01-18 08:16:46.268237: I tensorflow/stream_executor/platform/default/dso_loader.cc:53] Successfully opened dynamic library libcublasLt.so.11\n",
      "2022-01-18 08:16:46.272597: I tensorflow/stream_executor/platform/default/dso_loader.cc:53] Successfully opened dynamic library libcufft.so.10\n",
      "2022-01-18 08:16:46.274819: I tensorflow/stream_executor/platform/default/dso_loader.cc:53] Successfully opened dynamic library libcurand.so.10\n",
      "2022-01-18 08:16:46.282685: I tensorflow/stream_executor/platform/default/dso_loader.cc:53] Successfully opened dynamic library libcusolver.so.11\n",
      "2022-01-18 08:16:46.284948: I tensorflow/stream_executor/platform/default/dso_loader.cc:53] Successfully opened dynamic library libcusparse.so.11\n",
      "2022-01-18 08:16:46.285782: I tensorflow/stream_executor/platform/default/dso_loader.cc:53] Successfully opened dynamic library libcudnn.so.8\n",
      "2022-01-18 08:16:46.285849: I tensorflow/stream_executor/cuda/cuda_gpu_executor.cc:937] successful NUMA node read from SysFS had negative value (-1), but there must be at least one NUMA node, so returning NUMA node zero\n",
      "2022-01-18 08:16:46.286233: I tensorflow/stream_executor/cuda/cuda_gpu_executor.cc:937] successful NUMA node read from SysFS had negative value (-1), but there must be at least one NUMA node, so returning NUMA node zero\n",
      "2022-01-18 08:16:46.286810: I tensorflow/core/common_runtime/gpu/gpu_device.cc:1871] Adding visible gpu devices: 0\n",
      "2022-01-18 08:16:46.287546: I tensorflow/core/platform/cpu_feature_guard.cc:142] This TensorFlow binary is optimized with oneAPI Deep Neural Network Library (oneDNN) to use the following CPU instructions in performance-critical operations:  AVX2 FMA\n",
      "To enable them in other operations, rebuild TensorFlow with the appropriate compiler flags.\n",
      "2022-01-18 08:16:46.288272: I tensorflow/stream_executor/cuda/cuda_gpu_executor.cc:937] successful NUMA node read from SysFS had negative value (-1), but there must be at least one NUMA node, so returning NUMA node zero\n",
      "2022-01-18 08:16:46.288609: I tensorflow/core/common_runtime/gpu/gpu_device.cc:1733] Found device 0 with properties: \n",
      "pciBusID: 0000:2d:00.0 name: GeForce RTX 2070 SUPER computeCapability: 7.5\n",
      "coreClock: 1.785GHz coreCount: 40 deviceMemorySize: 7.79GiB deviceMemoryBandwidth: 417.29GiB/s\n",
      "2022-01-18 08:16:46.288645: I tensorflow/stream_executor/cuda/cuda_gpu_executor.cc:937] successful NUMA node read from SysFS had negative value (-1), but there must be at least one NUMA node, so returning NUMA node zero\n",
      "2022-01-18 08:16:46.288987: I tensorflow/stream_executor/cuda/cuda_gpu_executor.cc:937] successful NUMA node read from SysFS had negative value (-1), but there must be at least one NUMA node, so returning NUMA node zero\n",
      "2022-01-18 08:16:46.289304: I tensorflow/core/common_runtime/gpu/gpu_device.cc:1871] Adding visible gpu devices: 0\n",
      "2022-01-18 08:16:46.289556: I tensorflow/stream_executor/platform/default/dso_loader.cc:53] Successfully opened dynamic library libcudart.so.11.0\n",
      "2022-01-18 08:16:46.861779: I tensorflow/core/common_runtime/gpu/gpu_device.cc:1258] Device interconnect StreamExecutor with strength 1 edge matrix:\n",
      "2022-01-18 08:16:46.861801: I tensorflow/core/common_runtime/gpu/gpu_device.cc:1264]      0 \n",
      "2022-01-18 08:16:46.861806: I tensorflow/core/common_runtime/gpu/gpu_device.cc:1277] 0:   N \n",
      "2022-01-18 08:16:46.861948: I tensorflow/stream_executor/cuda/cuda_gpu_executor.cc:937] successful NUMA node read from SysFS had negative value (-1), but there must be at least one NUMA node, so returning NUMA node zero\n",
      "2022-01-18 08:16:46.862298: I tensorflow/stream_executor/cuda/cuda_gpu_executor.cc:937] successful NUMA node read from SysFS had negative value (-1), but there must be at least one NUMA node, so returning NUMA node zero\n",
      "2022-01-18 08:16:46.862622: I tensorflow/stream_executor/cuda/cuda_gpu_executor.cc:937] successful NUMA node read from SysFS had negative value (-1), but there must be at least one NUMA node, so returning NUMA node zero\n",
      "2022-01-18 08:16:46.862941: I tensorflow/core/common_runtime/gpu/gpu_device.cc:1418] Created TensorFlow device (/job:localhost/replica:0/task:0/device:GPU:0 with 6280 MB memory) -> physical GPU (device: 0, name: GeForce RTX 2070 SUPER, pci bus id: 0000:2d:00.0, compute capability: 7.5)\n"
     ]
    }
   ],
   "source": [
    "print(tf.nn.relu([-3., 3., 10.]))"
   ]
  },
  {
   "cell_type": "markdown",
   "id": "d7d6f7f6",
   "metadata": {},
   "source": [
    "## 2. ReLU 6"
   ]
  },
  {
   "cell_type": "code",
   "execution_count": 3,
   "id": "cffc1aa1",
   "metadata": {},
   "outputs": [
    {
     "name": "stdout",
     "output_type": "stream",
     "text": [
      "tf.Tensor([0. 3. 6.], shape=(3,), dtype=float32)\n"
     ]
    }
   ],
   "source": [
    "print(tf.nn.relu6([-3., 3., 10.]))"
   ]
  },
  {
   "cell_type": "markdown",
   "id": "72e2a29f",
   "metadata": {},
   "source": [
    "## 3. Sigmoid"
   ]
  },
  {
   "cell_type": "code",
   "execution_count": 4,
   "id": "a422073a",
   "metadata": {},
   "outputs": [
    {
     "name": "stdout",
     "output_type": "stream",
     "text": [
      "tf.Tensor([0.26894143 0.5        0.73105854], shape=(3,), dtype=float32)\n"
     ]
    }
   ],
   "source": [
    "print(tf.nn.sigmoid([-1., 0., 1.]))"
   ]
  },
  {
   "cell_type": "markdown",
   "id": "918de285",
   "metadata": {},
   "source": [
    "## 4. Hyper tangent"
   ]
  },
  {
   "cell_type": "code",
   "execution_count": 5,
   "id": "1d1322ee",
   "metadata": {},
   "outputs": [
    {
     "name": "stdout",
     "output_type": "stream",
     "text": [
      "tf.Tensor([-0.7615942  0.         0.7615942], shape=(3,), dtype=float32)\n"
     ]
    }
   ],
   "source": [
    "print(tf.nn.tanh([-1., 0., 1.]))"
   ]
  },
  {
   "cell_type": "markdown",
   "id": "f72c3394",
   "metadata": {},
   "source": [
    "## 5. Softsign function"
   ]
  },
  {
   "cell_type": "code",
   "execution_count": 6,
   "id": "2b2dd96f",
   "metadata": {},
   "outputs": [
    {
     "name": "stdout",
     "output_type": "stream",
     "text": [
      "tf.Tensor([-0.5  0.   0.5], shape=(3,), dtype=float32)\n"
     ]
    }
   ],
   "source": [
    "print(tf.nn.softsign([-1., 0., 1.]))"
   ]
  },
  {
   "cell_type": "markdown",
   "id": "e71fcfe7",
   "metadata": {},
   "source": [
    "## 6. Softplus function"
   ]
  },
  {
   "cell_type": "code",
   "execution_count": 8,
   "id": "4323924f",
   "metadata": {},
   "outputs": [
    {
     "name": "stdout",
     "output_type": "stream",
     "text": [
      "tf.Tensor([0.31326172 0.6931472  1.3132616 ], shape=(3,), dtype=float32)\n"
     ]
    }
   ],
   "source": [
    "print(tf.nn.softplus([-1., 0., 1.]))"
   ]
  },
  {
   "cell_type": "markdown",
   "id": "4444566f",
   "metadata": {},
   "source": [
    "## 7. ELU"
   ]
  },
  {
   "cell_type": "code",
   "execution_count": 9,
   "id": "94f364cb",
   "metadata": {},
   "outputs": [
    {
     "name": "stdout",
     "output_type": "stream",
     "text": [
      "tf.Tensor([-0.6321205  0.         1.       ], shape=(3,), dtype=float32)\n"
     ]
    }
   ],
   "source": [
    "print(tf.nn.elu([-1., 0., 1]))"
   ]
  },
  {
   "cell_type": "markdown",
   "id": "275ec586",
   "metadata": {},
   "source": [
    "## 8. Further resources..."
   ]
  },
  {
   "cell_type": "markdown",
   "id": "6e6e710f",
   "metadata": {},
   "source": [
    "More activations can be found on the Keras activation page: https://www.tensorflow.org/api_docs/python/tf/keras/activations"
   ]
  },
  {
   "cell_type": "markdown",
   "id": "1d57d92d",
   "metadata": {},
   "source": [
    "## There's more..."
   ]
  },
  {
   "cell_type": "markdown",
   "id": "967f3f5b",
   "metadata": {},
   "source": [
    "We can easily create custom activations such as Swish, which is x\\*sigmoid(x), which can be used as a more performing replacement for ReLU activations in image and tabular data problems:"
   ]
  },
  {
   "cell_type": "code",
   "execution_count": 10,
   "id": "37004fa9",
   "metadata": {},
   "outputs": [
    {
     "name": "stdout",
     "output_type": "stream",
     "text": [
      "tf.Tensor([-0.26894143  0.          0.73105854], shape=(3,), dtype=float32)\n"
     ]
    }
   ],
   "source": [
    "def swish(x):\n",
    "    return x * tf.nn.sigmoid(x)\n",
    "\n",
    "print(swish([-1., 0., 1.]))"
   ]
  }
 ],
 "metadata": {
  "kernelspec": {
   "display_name": "Python 3 (ipykernel)",
   "language": "python",
   "name": "python3"
  },
  "language_info": {
   "codemirror_mode": {
    "name": "ipython",
    "version": 3
   },
   "file_extension": ".py",
   "mimetype": "text/x-python",
   "name": "python",
   "nbconvert_exporter": "python",
   "pygments_lexer": "ipython3",
   "version": "3.8.10"
  }
 },
 "nbformat": 4,
 "nbformat_minor": 5
}
