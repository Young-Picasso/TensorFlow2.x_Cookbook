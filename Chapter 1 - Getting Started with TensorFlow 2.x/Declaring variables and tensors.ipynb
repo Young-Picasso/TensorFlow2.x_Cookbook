{
 "cells": [
  {
   "cell_type": "markdown",
   "id": "308b9378",
   "metadata": {},
   "source": [
    "## 1. Fixed size tensors"
   ]
  },
  {
   "cell_type": "code",
   "execution_count": 2,
   "id": "7823abd3",
   "metadata": {},
   "outputs": [
    {
     "name": "stderr",
     "output_type": "stream",
     "text": [
      "2022-01-17 17:26:22.800064: I tensorflow/stream_executor/platform/default/dso_loader.cc:53] Successfully opened dynamic library libcudart.so.11.0\n"
     ]
    }
   ],
   "source": [
    "import tensorflow as tf"
   ]
  },
  {
   "cell_type": "code",
   "execution_count": 5,
   "id": "1e96e95d",
   "metadata": {},
   "outputs": [],
   "source": [
    "# Create a zero-filled tensor\n",
    "row_dim, col_dim = 3, 3\n",
    "zero_tsr = tf.zeros(shape=[row_dim, col_dim], dtype=tf.float32)"
   ]
  },
  {
   "cell_type": "code",
   "execution_count": 6,
   "id": "3d1feffc",
   "metadata": {},
   "outputs": [],
   "source": [
    "# Create a one-filled tensor\n",
    "ones_tsr = tf.ones([row_dim, col_dim])"
   ]
  },
  {
   "cell_type": "code",
   "execution_count": 7,
   "id": "f689126f",
   "metadata": {},
   "outputs": [],
   "source": [
    "# Create a constant-filled tensor\n",
    "filled_tsr = tf.fill([row_dim, col_dim], 42)"
   ]
  },
  {
   "cell_type": "code",
   "execution_count": 8,
   "id": "e3f79987",
   "metadata": {},
   "outputs": [],
   "source": [
    "# Create a tensor out of an existing constant\n",
    "constant_tsr = tf.constant([1, 2, 3])"
   ]
  },
  {
   "cell_type": "markdown",
   "id": "ed3a0052",
   "metadata": {},
   "source": [
    "## 2. Tensors of similar shape"
   ]
  },
  {
   "cell_type": "code",
   "execution_count": 9,
   "id": "ce7219ba",
   "metadata": {},
   "outputs": [],
   "source": [
    "zeros_similar = tf.zeros_like(constant_tsr)\n",
    "ones_similar = tf.ones_like(constant_tsr)"
   ]
  },
  {
   "cell_type": "markdown",
   "id": "537f4e69",
   "metadata": {},
   "source": [
    "## 3. Sequence tensors"
   ]
  },
  {
   "cell_type": "code",
   "execution_count": 10,
   "id": "745841ca",
   "metadata": {},
   "outputs": [],
   "source": [
    "linear_tsr = tf.linspace(start=0.0, stop=1.0, num=3)"
   ]
  },
  {
   "cell_type": "code",
   "execution_count": 11,
   "id": "0f256e3c",
   "metadata": {},
   "outputs": [
    {
     "name": "stdout",
     "output_type": "stream",
     "text": [
      "tf.Tensor([0.  0.5 1. ], shape=(3,), dtype=float32)\n"
     ]
    }
   ],
   "source": [
    "print(linear_tsr)"
   ]
  },
  {
   "cell_type": "code",
   "execution_count": 12,
   "id": "8a61b668",
   "metadata": {},
   "outputs": [],
   "source": [
    "integer_seq_tsr = tf.range(start=6, limit=15, delta=3)"
   ]
  },
  {
   "cell_type": "code",
   "execution_count": 13,
   "id": "ae5c1f12",
   "metadata": {},
   "outputs": [
    {
     "name": "stdout",
     "output_type": "stream",
     "text": [
      "tf.Tensor([ 6  9 12], shape=(3,), dtype=int32)\n"
     ]
    }
   ],
   "source": [
    "print(integer_seq_tsr)"
   ]
  },
  {
   "cell_type": "markdown",
   "id": "665209ff",
   "metadata": {},
   "source": [
    "## 4. Randoms tensors"
   ]
  },
  {
   "cell_type": "code",
   "execution_count": 14,
   "id": "2b784749",
   "metadata": {},
   "outputs": [],
   "source": [
    "randunif_tsr = tf.random.uniform([row_dim, col_dim], minval=0, maxval=1)"
   ]
  },
  {
   "cell_type": "code",
   "execution_count": 15,
   "id": "04d37a36",
   "metadata": {},
   "outputs": [
    {
     "name": "stdout",
     "output_type": "stream",
     "text": [
      "tf.Tensor(\n",
      "[[0.9193058  0.82627606 0.86051524]\n",
      " [0.39540625 0.9212284  0.15795386]\n",
      " [0.10390413 0.6723801  0.5303372 ]], shape=(3, 3), dtype=float32)\n"
     ]
    }
   ],
   "source": [
    "print(randunif_tsr)"
   ]
  },
  {
   "cell_type": "code",
   "execution_count": 16,
   "id": "7592a4b9",
   "metadata": {},
   "outputs": [],
   "source": [
    "randunif_tsr = tf.random.uniform([row_dim, col_dim], minval=0.9, maxval=1.1)"
   ]
  },
  {
   "cell_type": "code",
   "execution_count": 17,
   "id": "65d014cc",
   "metadata": {},
   "outputs": [
    {
     "name": "stdout",
     "output_type": "stream",
     "text": [
      "tf.Tensor(\n",
      "[[1.0922229  0.9048704  1.0926778 ]\n",
      " [1.0705576  1.0555116  0.9668028 ]\n",
      " [1.0290012  0.92316383 0.971211  ]], shape=(3, 3), dtype=float32)\n"
     ]
    }
   ],
   "source": [
    "print(randunif_tsr)"
   ]
  },
  {
   "cell_type": "code",
   "execution_count": 18,
   "id": "b3a606ca",
   "metadata": {},
   "outputs": [],
   "source": [
    "randnorm_tsr = tf.random.normal([row_dim, col_dim], mean=0.0, stddev=1.0)"
   ]
  },
  {
   "cell_type": "code",
   "execution_count": 19,
   "id": "d06ce93e",
   "metadata": {},
   "outputs": [],
   "source": [
    "runcnorm_tsr = tf.random.truncated_normal([row_dim, col_dim], mean=0.0, stddev=1.0)"
   ]
  },
  {
   "cell_type": "code",
   "execution_count": 20,
   "id": "0ecea1b3",
   "metadata": {},
   "outputs": [
    {
     "ename": "NameError",
     "evalue": "name 'input_tensor' is not defined",
     "output_type": "error",
     "traceback": [
      "\u001b[0;31m---------------------------------------------------------------------------\u001b[0m",
      "\u001b[0;31mNameError\u001b[0m                                 Traceback (most recent call last)",
      "\u001b[0;32m/tmp/ipykernel_7215/505744054.py\u001b[0m in \u001b[0;36m<module>\u001b[0;34m\u001b[0m\n\u001b[0;32m----> 1\u001b[0;31m \u001b[0mshuffled_output\u001b[0m \u001b[0;34m=\u001b[0m \u001b[0mtf\u001b[0m\u001b[0;34m.\u001b[0m\u001b[0mrandom\u001b[0m\u001b[0;34m.\u001b[0m\u001b[0mshuffle\u001b[0m\u001b[0;34m(\u001b[0m\u001b[0minput_tensor\u001b[0m\u001b[0;34m)\u001b[0m\u001b[0;34m\u001b[0m\u001b[0;34m\u001b[0m\u001b[0m\n\u001b[0m\u001b[1;32m      2\u001b[0m \u001b[0mcropped_output\u001b[0m \u001b[0;34m=\u001b[0m \u001b[0mtf\u001b[0m\u001b[0;34m.\u001b[0m\u001b[0mimage\u001b[0m\u001b[0;34m.\u001b[0m\u001b[0mrandom_crop\u001b[0m\u001b[0;34m(\u001b[0m\u001b[0minput_tensor\u001b[0m\u001b[0;34m,\u001b[0m \u001b[0mcrop_size\u001b[0m\u001b[0;34m)\u001b[0m\u001b[0;34m\u001b[0m\u001b[0;34m\u001b[0m\u001b[0m\n",
      "\u001b[0;31mNameError\u001b[0m: name 'input_tensor' is not defined"
     ]
    }
   ],
   "source": [
    "shuffled_output = tf.random.shuffle(input_tensor)\n",
    "cropped_output = tf.image.random_crop(input_tensor, crop_size)"
   ]
  },
  {
   "cell_type": "code",
   "execution_count": 22,
   "id": "3829040c",
   "metadata": {},
   "outputs": [],
   "source": [
    "height, width = (64, 64)\n",
    "my_image = tf.random.uniform([height, width, 3], minval=0, maxval=255, dtype=tf.int32)\n",
    "cropped_image = tf.image.random_crop(my_image, [height//2, width//2, 3])"
   ]
  },
  {
   "cell_type": "markdown",
   "id": "0dcf69da",
   "metadata": {},
   "source": [
    "## How it works..."
   ]
  },
  {
   "cell_type": "code",
   "execution_count": 24,
   "id": "60e928f3",
   "metadata": {},
   "outputs": [],
   "source": [
    "my_var = tf.Variable(tf.zeros([row_dim, col_dim]))"
   ]
  }
 ],
 "metadata": {
  "kernelspec": {
   "display_name": "Python 3 (ipykernel)",
   "language": "python",
   "name": "python3"
  },
  "language_info": {
   "codemirror_mode": {
    "name": "ipython",
    "version": 3
   },
   "file_extension": ".py",
   "mimetype": "text/x-python",
   "name": "python",
   "nbconvert_exporter": "python",
   "pygments_lexer": "ipython3",
   "version": "3.8.10"
  }
 },
 "nbformat": 4,
 "nbformat_minor": 5
}
