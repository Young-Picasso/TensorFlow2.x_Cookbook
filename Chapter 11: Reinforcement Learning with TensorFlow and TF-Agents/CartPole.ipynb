{
 "cells": [
  {
   "cell_type": "markdown",
   "metadata": {},
   "source": [
    "### How to do it"
   ]
  },
  {
   "cell_type": "markdown",
   "metadata": {},
   "source": [
    "1. Install prerequisites and import required libraries"
   ]
  },
  {
   "cell_type": "code",
   "execution_count": 1,
   "metadata": {},
   "outputs": [
    {
     "name": "stdout",
     "output_type": "stream",
     "text": [
      "Requirement already satisfied: gym in /home/wil/anaconda3/lib/python3.7/site-packages (0.22.0)\n",
      "Requirement already satisfied: gym-notices>=0.0.4 in /home/wil/anaconda3/lib/python3.7/site-packages (from gym) (0.0.4)\n",
      "Requirement already satisfied: importlib-metadata>=4.10.0 in /home/wil/anaconda3/lib/python3.7/site-packages (from gym) (4.11.2)\n",
      "Requirement already satisfied: cloudpickle>=1.2.0 in /home/wil/anaconda3/lib/python3.7/site-packages (from gym) (2.0.0)\n",
      "Requirement already satisfied: numpy>=1.18.0 in /home/wil/anaconda3/lib/python3.7/site-packages (from gym) (1.21.5)\n",
      "Requirement already satisfied: typing-extensions>=3.6.4 in /home/wil/anaconda3/lib/python3.7/site-packages (from importlib-metadata>=4.10.0->gym) (4.1.1)\n",
      "Requirement already satisfied: zipp>=0.5 in /home/wil/anaconda3/lib/python3.7/site-packages (from importlib-metadata>=4.10.0->gym) (3.7.0)\n",
      "Collecting imageio==2.4.0\n",
      "  Using cached imageio-2.4.0-py3-none-any.whl\n",
      "Requirement already satisfied: pillow in /home/wil/anaconda3/lib/python3.7/site-packages (from imageio==2.4.0) (9.0.1)\n",
      "Requirement already satisfied: numpy in /home/wil/anaconda3/lib/python3.7/site-packages (from imageio==2.4.0) (1.21.5)\n",
      "Installing collected packages: imageio\n",
      "  Attempting uninstall: imageio\n",
      "    Found existing installation: imageio 2.5.0\n",
      "\u001b[31mERROR: Cannot uninstall 'imageio'. It is a distutils installed project and thus we cannot accurately determine which files belong to it which would lead to only a partial uninstall.\u001b[0m\u001b[31m\n",
      "\u001b[0mRequirement already satisfied: PILLOW in /home/wil/anaconda3/lib/python3.7/site-packages (9.0.1)\n",
      "Requirement already satisfied: pyglet in /home/wil/anaconda3/lib/python3.7/site-packages (1.5.21)\n",
      "Requirement already satisfied: PyVirtualDisplay in /home/wil/anaconda3/lib/python3.7/site-packages (3.0)\n",
      "Requirement already satisfied: tf-agents in /home/wil/anaconda3/lib/python3.7/site-packages (0.12.0)\n",
      "Requirement already satisfied: gin-config>=0.4.0 in /home/wil/anaconda3/lib/python3.7/site-packages (from tf-agents) (0.5.0)\n",
      "Requirement already satisfied: gym>=0.17.0 in /home/wil/anaconda3/lib/python3.7/site-packages (from tf-agents) (0.22.0)\n",
      "Requirement already satisfied: protobuf>=3.11.3 in /home/wil/anaconda3/lib/python3.7/site-packages (from tf-agents) (3.19.4)\n",
      "Requirement already satisfied: cloudpickle>=1.3 in /home/wil/anaconda3/lib/python3.7/site-packages (from tf-agents) (2.0.0)\n",
      "Requirement already satisfied: pillow in /home/wil/anaconda3/lib/python3.7/site-packages (from tf-agents) (9.0.1)\n",
      "Requirement already satisfied: typing-extensions>=3.7.4.3 in /home/wil/anaconda3/lib/python3.7/site-packages (from tf-agents) (4.1.1)\n",
      "Requirement already satisfied: absl-py>=0.6.1 in /home/wil/anaconda3/lib/python3.7/site-packages (from tf-agents) (1.0.0)\n",
      "Requirement already satisfied: tensorflow-probability>=0.16.0 in /home/wil/anaconda3/lib/python3.7/site-packages (from tf-agents) (0.16.0)\n",
      "Requirement already satisfied: wrapt>=1.11.1 in /home/wil/anaconda3/lib/python3.7/site-packages (from tf-agents) (1.13.3)\n",
      "Requirement already satisfied: numpy>=1.13.3 in /home/wil/anaconda3/lib/python3.7/site-packages (from tf-agents) (1.21.5)\n",
      "Requirement already satisfied: six>=1.10.0 in /home/wil/anaconda3/lib/python3.7/site-packages (from tf-agents) (1.16.0)\n",
      "Requirement already satisfied: gym-notices>=0.0.4 in /home/wil/anaconda3/lib/python3.7/site-packages (from gym>=0.17.0->tf-agents) (0.0.4)\n",
      "Requirement already satisfied: importlib-metadata>=4.10.0 in /home/wil/anaconda3/lib/python3.7/site-packages (from gym>=0.17.0->tf-agents) (4.11.2)\n",
      "Requirement already satisfied: decorator in /home/wil/anaconda3/lib/python3.7/site-packages (from tensorflow-probability>=0.16.0->tf-agents) (5.1.1)\n",
      "Requirement already satisfied: gast>=0.3.2 in /home/wil/anaconda3/lib/python3.7/site-packages (from tensorflow-probability>=0.16.0->tf-agents) (0.5.3)\n",
      "Requirement already satisfied: dm-tree in /home/wil/anaconda3/lib/python3.7/site-packages (from tensorflow-probability>=0.16.0->tf-agents) (0.1.6)\n",
      "Requirement already satisfied: zipp>=0.5 in /home/wil/anaconda3/lib/python3.7/site-packages (from importlib-metadata>=4.10.0->gym>=0.17.0->tf-agents) (3.7.0)\n"
     ]
    }
   ],
   "source": [
    "#!sudo apt-get install -y xvfb ffmpeg\n",
    "!pip install gym\n",
    "!pip install 'imageio==2.4.0'\n",
    "!pip install PILLOW\n",
    "!pip install pyglet\n",
    "!pip install pyvirtualdisplay\n",
    "!pip install tf-agents"
   ]
  },
  {
   "cell_type": "code",
   "execution_count": 4,
   "metadata": {},
   "outputs": [],
   "source": [
    "from __future__ import absolute_import, division, print_function\n",
    "\n",
    "import base64\n",
    "import imageio\n",
    "import IPython\n",
    "import matplotlib\n",
    "import matplotlib.pyplot as plt\n",
    "import numpy as np\n",
    "import PIL.Image\n",
    "import pyvirtualdisplay\n",
    "\n",
    "import tensorflow as tf\n",
    "from tf_agents.agents.dqn import dqn_agent\n",
    "from tf_agents.drivers import dynamic_step_driver\n",
    "from tf_agents.environments import suite_gym\n",
    "from tf_agents.environments import tf_py_environment\n",
    "from tf_agents.eval import metric_utils\n",
    "from tf_agents.metrics import tf_metrics\n",
    "from tf_agents.networks import q_network\n",
    "from tf_agents.policies import random_tf_policy\n",
    "from tf_agents.replay_buffers import tf_uniform_replay_buffer\n",
    "from tf_agents.trajectories import trajectory\n",
    "from tf_agents.utils import common\n",
    "tf.compat.v1.enable_v2_behavior()\n",
    "\n",
    "# Set up a virtual display for rendering OpenAI gym environments\n",
    "display = pyvirtualdisplay.Display(visible=0, size=(1400, 900)).start()"
   ]
  },
  {
   "cell_type": "markdown",
   "metadata": {},
   "source": [
    "We set some hyperparameters for our problem"
   ]
  },
  {
   "cell_type": "code",
   "execution_count": 5,
   "metadata": {},
   "outputs": [],
   "source": [
    "num_iterations = 20_000\n",
    "\n",
    "initial_collect_steps = 100\n",
    "collect_steps_per_iteration = 1\n",
    "replay_buffer_max_length = 100_000\n",
    "\n",
    "# parameters of the nerual network underlying at the core of an agent\n",
    "batch_size = 64\n",
    "learning_rate = 1e-3\n",
    "log_interval = 200\n",
    "\n",
    "num_eval_episodes = 10\n",
    "eval_interval = 1000"
   ]
  },
  {
   "cell_type": "markdown",
   "metadata": {},
   "source": [
    "Define functions for our problem"
   ]
  },
  {
   "cell_type": "code",
   "execution_count": 6,
   "metadata": {},
   "outputs": [],
   "source": [
    "def compute_avg_return(environment, policy, num_episodes=10):\n",
    "    \n",
    "    total_return = 0.0\n",
    "    for _ in range(num_episodes):\n",
    "        \n",
    "        time_step = environment.reset()\n",
    "        episode_return = 0.0\n",
    "        \n",
    "        while not time_step.is_last():\n",
    "            action_step = policy.action(time_step)\n",
    "            time_step = environment.step(action_step.action)\n",
    "            episode_return += time_step.reward\n",
    "        total_return += episode_return\n",
    "        \n",
    "    avg_return = total_return / num_episodes\n",
    "    return avg_return.numpy()[0]"
   ]
  },
  {
   "cell_type": "markdown",
   "metadata": {},
   "source": [
    "The following code collects fora single step and performs data aggregation"
   ]
  },
  {
   "cell_type": "code",
   "execution_count": 7,
   "metadata": {},
   "outputs": [],
   "source": [
    "def collect_step(environment, policy, buffer):\n",
    "    time_step = environment.current_time_step()\n",
    "    action_step = policy.action(time_step)\n",
    "    next_time_step = environment.step(action_step.action)\n",
    "    traj = trajectory.from_transition(time_step, action_step, next_time_step)\n",
    "    \n",
    "    # Add trajectory to replay buffer\n",
    "    buffer.add_batch(traj)\n",
    "    \n",
    "def collect_data(env, policy, buffer, steps):\n",
    "    for _ in range(steps):\n",
    "        collect_step(env, policy, buffer)"
   ]
  },
  {
   "cell_type": "markdown",
   "metadata": {},
   "source": [
    "We use this function to produce a video that enables us to visualize what our agent is actually doing"
   ]
  },
  {
   "cell_type": "code",
   "execution_count": 29,
   "metadata": {},
   "outputs": [],
   "source": [
    "def embed_mp4(filename):\n",
    "    \"\"\" Embeds an mp4 file in the notebook.\"\"\"\n",
    "    video = open(filename, 'rb').read()\n",
    "    b64 = base64.b64encode(video)\n",
    "    tag='''\n",
    "    <video width=\"640\" height=\"480\" controls>\n",
    "      <source src=\"data:video/mp4;base64,{0}\" type=\"video/mp4\">\n",
    "    Your browser does not support the video tag.\n",
    "    </video>'''.format(b64.decode())\n",
    "    \n",
    "    return IPython.display.HTML(tag)\n",
    "\n",
    "def create_policy_eval_video(policy, filename, num_episodes=5, fps=30):\n",
    "    filename = filename + \".mp4\"\n",
    "    with imageio.get_writer(filename, fps=fps) as video:\n",
    "        for _ in range(num_episodes):\n",
    "            time_step = eval_env.reset()\n",
    "            video.append_data(eval_py_env.render())\n",
    "            while not time_step.is_last():\n",
    "                action_step = policy.action(time_step)\n",
    "                time_step = eval_env.step(action_step.action)\n",
    "                video.append_data(eval_py_env.render())\n",
    "    return embed_mp4(filename)"
   ]
  },
  {
   "cell_type": "markdown",
   "metadata": {},
   "source": [
    "We now set up our environment"
   ]
  },
  {
   "cell_type": "code",
   "execution_count": 9,
   "metadata": {},
   "outputs": [
    {
     "data": {
      "text/plain": [
       "TimeStep(\n",
       "{'discount': array(1., dtype=float32),\n",
       " 'observation': array([-0.00604147, -0.01121802,  0.01685468,  0.04287687], dtype=float32),\n",
       " 'reward': array(0., dtype=float32),\n",
       " 'step_type': array(0, dtype=int32)})"
      ]
     },
     "execution_count": 9,
     "metadata": {},
     "output_type": "execute_result"
    }
   ],
   "source": [
    "env_name = 'CartPole-v0'\n",
    "env = suite_gym.load(env_name)\n",
    "env.reset()"
   ]
  },
  {
   "cell_type": "markdown",
   "metadata": {},
   "source": [
    "We also split the training and evaluation environments and apply wrappers to them"
   ]
  },
  {
   "cell_type": "code",
   "execution_count": 10,
   "metadata": {},
   "outputs": [],
   "source": [
    "train_py_env = suite_gym.load(env_name)\n",
    "eval_py_env = suite_gym.load(env_name)\n",
    "\n",
    "train_env = tf_py_environment.TFPyEnvironment(train_py_env)\n",
    "eval_env = tf_py_environment.TFPyEnvironment(eval_py_env)"
   ]
  },
  {
   "cell_type": "markdown",
   "metadata": {},
   "source": [
    "We will now define the network which acts as the backbone of the learning algorithm for our agent:"
   ]
  },
  {
   "cell_type": "code",
   "execution_count": 11,
   "metadata": {},
   "outputs": [],
   "source": [
    "fc_layer_params = (100,)\n",
    "\n",
    "q_net = q_network.QNetwork(\n",
    "    train_env.observation_spec(),\n",
    "    train_env.action_spec(),\n",
    "    fc_layer_params=fc_layer_params)\n",
    "\n",
    "optimizer = tf.compat.v1.train.AdamOptimizer(learning_rate=learning_rate)\n",
    "\n",
    "train_step_counter = tf.Variable(0)"
   ]
  },
  {
   "cell_type": "markdown",
   "metadata": {},
   "source": [
    "Now we instantiate a DQN agent"
   ]
  },
  {
   "cell_type": "code",
   "execution_count": 12,
   "metadata": {},
   "outputs": [],
   "source": [
    "agent = dqn_agent.DqnAgent(\n",
    "    train_env.time_step_spec(),\n",
    "    train_env.action_spec(),\n",
    "    q_network=q_net,\n",
    "    optimizer=optimizer,\n",
    "    td_errors_loss_fn=common.element_wise_squared_loss,\n",
    "    train_step_counter=train_step_counter)\n",
    "\n",
    "agent.initialize()"
   ]
  },
  {
   "cell_type": "markdown",
   "metadata": {},
   "source": [
    "Set up the policies"
   ]
  },
  {
   "cell_type": "code",
   "execution_count": 13,
   "metadata": {},
   "outputs": [],
   "source": [
    "eval_policy = agent.policy\n",
    "collect_policy = agent.collect_policy"
   ]
  },
  {
   "cell_type": "markdown",
   "metadata": {},
   "source": [
    "We also use a random policy as a benchmark"
   ]
  },
  {
   "cell_type": "code",
   "execution_count": 14,
   "metadata": {},
   "outputs": [],
   "source": [
    "random_policy = random_tf_policy.RandomTFPolicy(train_env.time_step_spec(), train_env.action_spec())"
   ]
  },
  {
   "cell_type": "markdown",
   "metadata": {},
   "source": [
    "Create an example environment"
   ]
  },
  {
   "cell_type": "code",
   "execution_count": 16,
   "metadata": {},
   "outputs": [],
   "source": [
    "example_environment = tf_py_environment.TFPyEnvironment(suite_gym.load('CartPole-v0'))\n",
    "\n",
    "time_step = example_environment.reset()"
   ]
  },
  {
   "cell_type": "markdown",
   "metadata": {},
   "source": [
    "The replay buffer tracks data collected from the environment, and is used for training"
   ]
  },
  {
   "cell_type": "code",
   "execution_count": 17,
   "metadata": {},
   "outputs": [],
   "source": [
    "replay_buffer = tf_uniform_replay_buffer.TFUniformReplayBuffer(\n",
    "    data_spec=agent.collect_data_spec,\n",
    "    batch_size=train_env.batch_size,\n",
    "    max_length=replay_buffer_max_length)"
   ]
  },
  {
   "cell_type": "markdown",
   "metadata": {},
   "source": [
    "We use our random policy here"
   ]
  },
  {
   "cell_type": "code",
   "execution_count": 18,
   "metadata": {},
   "outputs": [],
   "source": [
    "collect_data(train_env, random_policy, replay_buffer, initial_collect_steps)"
   ]
  },
  {
   "cell_type": "markdown",
   "metadata": {},
   "source": [
    "Using a pipeline, we can access our replay buffer"
   ]
  },
  {
   "cell_type": "code",
   "execution_count": 19,
   "metadata": {},
   "outputs": [
    {
     "name": "stdout",
     "output_type": "stream",
     "text": [
      "WARNING:tensorflow:From /home/wil/anaconda3/lib/python3.7/site-packages/tensorflow/python/autograph/impl/api.py:377: ReplayBuffer.get_next (from tf_agents.replay_buffers.replay_buffer) is deprecated and will be removed in a future version.\n",
      "Instructions for updating:\n",
      "Use `as_dataset(..., single_deterministic_pass=False) instead.\n"
     ]
    }
   ],
   "source": [
    "dataset = replay_buffer.as_dataset(\n",
    "    num_parallel_calls=3,\n",
    "    sample_batch_size=batch_size,\n",
    "    num_steps=2).prefetch(3)\n",
    "\n",
    "iterator = iter(dataset)"
   ]
  },
  {
   "cell_type": "markdown",
   "metadata": {},
   "source": [
    "During training, we alternate between collecting data from the environment and using that data to train our agent"
   ]
  },
  {
   "cell_type": "code",
   "execution_count": 23,
   "metadata": {},
   "outputs": [
    {
     "name": "stdout",
     "output_type": "stream",
     "text": [
      "WARNING:tensorflow:From /home/wil/anaconda3/lib/python3.7/site-packages/tensorflow/python/util/dispatch.py:1082: calling foldr_v2 (from tensorflow.python.ops.functional_ops) with back_prop=False is deprecated and will be removed in a future version.\n",
      "Instructions for updating:\n",
      "back_prop=False is deprecated. Consider using tf.stop_gradient instead.\n",
      "Instead of:\n",
      "results = tf.foldr(fn, elems, back_prop=False)\n",
      "Use:\n",
      "results = tf.nest.map_structure(tf.stop_gradient, tf.foldr(fn, elems))\n",
      "step = 200: loss=6.787779808044434\n",
      "step = 400: loss=18.682899475097656\n",
      "step = 600: loss=61.56465148925781\n",
      "step = 800: loss=145.1483154296875\n",
      "step = 1000: loss=11.662643432617188\n",
      "step = 1000: Average Return = 52.599998474121094\n",
      "step = 1200: loss=16.647485733032227\n",
      "step = 1400: loss=301.2387390136719\n",
      "step = 1600: loss=122.9173355102539\n",
      "step = 1800: loss=384.86639404296875\n",
      "step = 2000: loss=149.59683227539062\n",
      "step = 2000: Average Return = 20.600000381469727\n",
      "step = 2200: loss=290.2342529296875\n",
      "step = 2400: loss=121.64823150634766\n",
      "step = 2600: loss=158.031982421875\n",
      "step = 2800: loss=213.07003784179688\n",
      "step = 3000: loss=155.46835327148438\n",
      "step = 3000: Average Return = 27.100000381469727\n",
      "step = 3200: loss=43.943504333496094\n",
      "step = 3400: loss=37.83335876464844\n",
      "step = 3600: loss=18.09763526916504\n",
      "step = 3800: loss=68.68134307861328\n",
      "step = 4000: loss=5.710095405578613\n",
      "step = 4000: Average Return = 27.399999618530273\n",
      "step = 4200: loss=7.980027675628662\n",
      "step = 4400: loss=56.081336975097656\n",
      "step = 4600: loss=51.93290710449219\n",
      "step = 4800: loss=51.4825325012207\n",
      "step = 5000: loss=96.05612182617188\n",
      "step = 5000: Average Return = 38.20000076293945\n",
      "step = 5200: loss=25.040828704833984\n",
      "step = 5400: loss=105.89757537841797\n",
      "step = 5600: loss=64.64096069335938\n",
      "step = 5800: loss=138.282470703125\n",
      "step = 6000: loss=65.4610366821289\n",
      "step = 6000: Average Return = 50.70000076293945\n",
      "step = 6200: loss=69.72045135498047\n",
      "step = 6400: loss=41.5118408203125\n",
      "step = 6600: loss=26.013200759887695\n",
      "step = 6800: loss=65.33074951171875\n",
      "step = 7000: loss=6.703621864318848\n",
      "step = 7000: Average Return = 99.80000305175781\n",
      "step = 7200: loss=73.48289489746094\n",
      "step = 7400: loss=212.01089477539062\n",
      "step = 7600: loss=5.991384506225586\n",
      "step = 7800: loss=36.29674530029297\n",
      "step = 8000: loss=167.43829345703125\n",
      "step = 8000: Average Return = 80.80000305175781\n",
      "step = 8200: loss=59.18255615234375\n",
      "step = 8400: loss=8.293617248535156\n",
      "step = 8600: loss=81.01325225830078\n",
      "step = 8800: loss=67.4193115234375\n",
      "step = 9000: loss=205.16177368164062\n",
      "step = 9000: Average Return = 180.3000030517578\n",
      "step = 9200: loss=135.17837524414062\n",
      "step = 9400: loss=219.03964233398438\n",
      "step = 9600: loss=8.466838836669922\n",
      "step = 9800: loss=95.69439697265625\n",
      "step = 10000: loss=170.84283447265625\n",
      "step = 10000: Average Return = 200.0\n",
      "step = 10200: loss=8.884727478027344\n",
      "step = 10400: loss=104.69090270996094\n",
      "step = 10600: loss=241.2797088623047\n",
      "step = 10800: loss=115.20746612548828\n",
      "step = 11000: loss=258.3310241699219\n",
      "step = 11000: Average Return = 168.6999969482422\n",
      "step = 11200: loss=211.81607055664062\n",
      "step = 11400: loss=148.02096557617188\n",
      "step = 11600: loss=9.264714241027832\n",
      "step = 11800: loss=14.25434398651123\n",
      "step = 12000: loss=18.58584213256836\n",
      "step = 12000: Average Return = 192.89999389648438\n",
      "step = 12200: loss=148.3976593017578\n",
      "step = 12400: loss=855.8485717773438\n",
      "step = 12600: loss=128.02024841308594\n",
      "step = 12800: loss=382.2640686035156\n",
      "step = 13000: loss=13.403661727905273\n",
      "step = 13000: Average Return = 163.5\n",
      "step = 13200: loss=267.2263488769531\n",
      "step = 13400: loss=179.26112365722656\n",
      "step = 13600: loss=132.41859436035156\n",
      "step = 13800: loss=205.33676147460938\n",
      "step = 14000: loss=785.031982421875\n",
      "step = 14000: Average Return = 152.1999969482422\n",
      "step = 14200: loss=17.000991821289062\n",
      "step = 14400: loss=248.93798828125\n",
      "step = 14600: loss=494.26104736328125\n",
      "step = 14800: loss=479.9420166015625\n",
      "step = 15000: loss=293.74066162109375\n",
      "step = 15000: Average Return = 198.8000030517578\n",
      "step = 15200: loss=271.1170959472656\n",
      "step = 15400: loss=24.11477279663086\n",
      "step = 15600: loss=538.4560546875\n",
      "step = 15800: loss=17.668800354003906\n",
      "step = 16000: loss=24.065711975097656\n",
      "step = 16000: Average Return = 187.39999389648438\n",
      "step = 16200: loss=17.431827545166016\n",
      "step = 16400: loss=430.1723937988281\n",
      "step = 16600: loss=638.2114868164062\n",
      "step = 16800: loss=37.42499923706055\n",
      "step = 17000: loss=945.0076904296875\n",
      "step = 17000: Average Return = 199.89999389648438\n",
      "step = 17200: loss=337.44915771484375\n",
      "step = 17400: loss=50.01690673828125\n",
      "step = 17600: loss=297.45928955078125\n",
      "step = 17800: loss=27.163070678710938\n",
      "step = 18000: loss=39.154640197753906\n",
      "step = 18000: Average Return = 200.0\n",
      "step = 18200: loss=1412.7166748046875\n",
      "step = 18400: loss=437.21807861328125\n",
      "step = 18600: loss=39.41734313964844\n",
      "step = 18800: loss=22.70177459716797\n",
      "step = 19000: loss=60.3050422668457\n",
      "step = 19000: Average Return = 200.0\n",
      "step = 19200: loss=1814.140869140625\n",
      "step = 19400: loss=16.28668212890625\n",
      "step = 19600: loss=44.175662994384766\n",
      "step = 19800: loss=486.63916015625\n",
      "step = 20000: loss=240.00047302246094\n",
      "step = 20000: Average Return = 200.0\n"
     ]
    }
   ],
   "source": [
    "agent.train = common.function(agent.train)\n",
    "\n",
    "# Reset the train step\n",
    "agent.train_step_counter.assign(0)\n",
    "\n",
    "# Evaluate the agent's policy once before training\n",
    "avg_return = compute_avg_return(eval_env, agent.policy, num_eval_episodes)\n",
    "returns = [avg_return]\n",
    "\n",
    "for _ in range(num_iterations):\n",
    "    \n",
    "    # Collect a few steps using collect_policy and save to the replay buffer\n",
    "    collect_data(train_env, agent.collect_policy, replay_buffer, collect_steps_per_iteration)\n",
    "    \n",
    "    # Sample a batch of data from the buffer and update the agents network\n",
    "    experience, unused_info = next(iterator)\n",
    "    train_loss = agent.train(experience).loss\n",
    "    \n",
    "    step = agent.train_step_counter.numpy()\n",
    "    \n",
    "    if step % log_interval == 0:\n",
    "        print('step = {0}: loss={1}'.format(step, train_loss))\n",
    "        \n",
    "    if step % eval_interval == 0:\n",
    "        avg_return = compute_avg_return(eval_env, agent.policy, num_eval_episodes)\n",
    "        print('step = {0}: Average Return = {1}'.format(step, avg_return))\n",
    "        returns.append(avg_return)"
   ]
  },
  {
   "cell_type": "markdown",
   "metadata": {},
   "source": [
    "We can now observe both the random policy agent and our trained agent!"
   ]
  },
  {
   "cell_type": "code",
   "execution_count": 30,
   "metadata": {},
   "outputs": [
    {
     "name": "stderr",
     "output_type": "stream",
     "text": [
      "IMAGEIO FFMPEG_WRITER WARNING: input image is not divisible by macro_block_size=16, resizing from (600, 400) to (608, 400) to ensure video compatibility with most codecs and players. To prevent resizing, make your input image divisible by the macro_block_size or set the macro_block_size to 1 (risking incompatibility).\n"
     ]
    },
    {
     "data": {
      "text/html": [
       "\n",
       "    <video width=\"640\" height=\"480\" controls>\n",
       "      <source src=\"data:video/mp4;base64,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\" type=\"video/mp4\">\n",
       "    Your browser does not support the video tag.\n",
       "    </video>"
      ],
      "text/plain": [
       "<IPython.core.display.HTML object>"
      ]
     },
     "execution_count": 30,
     "metadata": {},
     "output_type": "execute_result"
    }
   ],
   "source": [
    "create_policy_eval_video(random_policy, \"random_agent\")"
   ]
  },
  {
   "cell_type": "code",
   "execution_count": 31,
   "metadata": {},
   "outputs": [
    {
     "name": "stderr",
     "output_type": "stream",
     "text": [
      "IMAGEIO FFMPEG_WRITER WARNING: input image is not divisible by macro_block_size=16, resizing from (600, 400) to (608, 400) to ensure video compatibility with most codecs and players. To prevent resizing, make your input image divisible by the macro_block_size or set the macro_block_size to 1 (risking incompatibility).\n"
     ]
    },
    {
     "data": {
      "text/html": [
       "\n",
       "    <video width=\"640\" height=\"480\" controls>\n",
       "      <source src=\"data:video/mp4;base64,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\" type=\"video/mp4\">\n",
       "    Your browser does not support the video tag.\n",
       "    </video>"
      ],
      "text/plain": [
       "<IPython.core.display.HTML object>"
      ]
     },
     "execution_count": 31,
     "metadata": {},
     "output_type": "execute_result"
    }
   ],
   "source": [
    "create_policy_eval_video(agent.policy, \"trained_agent\")"
   ]
  }
 ],
 "metadata": {
  "kernelspec": {
   "display_name": "MachineLearningUsingTensorFlowCookbook",
   "language": "python",
   "name": "machinelearningusingtensorflowcookbook"
  },
  "language_info": {
   "codemirror_mode": {
    "name": "ipython",
    "version": 3
   },
   "file_extension": ".py",
   "mimetype": "text/x-python",
   "name": "python",
   "nbconvert_exporter": "python",
   "pygments_lexer": "ipython3",
   "version": "3.7.3"
  }
 },
 "nbformat": 4,
 "nbformat_minor": 2
}
