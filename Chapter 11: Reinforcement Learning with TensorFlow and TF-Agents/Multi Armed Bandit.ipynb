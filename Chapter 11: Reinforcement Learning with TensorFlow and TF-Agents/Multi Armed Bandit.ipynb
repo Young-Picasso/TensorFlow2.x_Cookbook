{
 "cells": [
  {
   "cell_type": "markdown",
   "metadata": {},
   "source": [
    "## How to do it..."
   ]
  },
  {
   "cell_type": "markdown",
   "metadata": {},
   "source": [
    "Load in the required packages"
   ]
  },
  {
   "cell_type": "code",
   "execution_count": 1,
   "metadata": {},
   "outputs": [
    {
     "name": "stdout",
     "output_type": "stream",
     "text": [
      "Requirement already satisfied: tf-agents in /home/wil/anaconda3/lib/python3.7/site-packages (0.12.0)\n",
      "Requirement already satisfied: protobuf>=3.11.3 in /home/wil/anaconda3/lib/python3.7/site-packages (from tf-agents) (3.19.4)\n",
      "Requirement already satisfied: pillow in /home/wil/anaconda3/lib/python3.7/site-packages (from tf-agents) (9.0.1)\n",
      "Requirement already satisfied: tensorflow-probability>=0.16.0 in /home/wil/anaconda3/lib/python3.7/site-packages (from tf-agents) (0.16.0)\n",
      "Requirement already satisfied: gym>=0.17.0 in /home/wil/anaconda3/lib/python3.7/site-packages (from tf-agents) (0.22.0)\n",
      "Requirement already satisfied: cloudpickle>=1.3 in /home/wil/anaconda3/lib/python3.7/site-packages (from tf-agents) (2.0.0)\n",
      "Requirement already satisfied: typing-extensions>=3.7.4.3 in /home/wil/anaconda3/lib/python3.7/site-packages (from tf-agents) (4.1.1)\n",
      "Requirement already satisfied: gin-config>=0.4.0 in /home/wil/anaconda3/lib/python3.7/site-packages (from tf-agents) (0.5.0)\n",
      "Requirement already satisfied: numpy>=1.13.3 in /home/wil/anaconda3/lib/python3.7/site-packages (from tf-agents) (1.21.5)\n",
      "Requirement already satisfied: absl-py>=0.6.1 in /home/wil/anaconda3/lib/python3.7/site-packages (from tf-agents) (1.0.0)\n",
      "Requirement already satisfied: wrapt>=1.11.1 in /home/wil/anaconda3/lib/python3.7/site-packages (from tf-agents) (1.13.3)\n",
      "Requirement already satisfied: six>=1.10.0 in /home/wil/anaconda3/lib/python3.7/site-packages (from tf-agents) (1.16.0)\n",
      "Requirement already satisfied: gym-notices>=0.0.4 in /home/wil/anaconda3/lib/python3.7/site-packages (from gym>=0.17.0->tf-agents) (0.0.4)\n",
      "Requirement already satisfied: importlib-metadata>=4.10.0 in /home/wil/anaconda3/lib/python3.7/site-packages (from gym>=0.17.0->tf-agents) (4.11.2)\n",
      "Requirement already satisfied: gast>=0.3.2 in /home/wil/anaconda3/lib/python3.7/site-packages (from tensorflow-probability>=0.16.0->tf-agents) (0.5.3)\n",
      "Requirement already satisfied: decorator in /home/wil/anaconda3/lib/python3.7/site-packages (from tensorflow-probability>=0.16.0->tf-agents) (5.1.1)\n",
      "Requirement already satisfied: dm-tree in /home/wil/anaconda3/lib/python3.7/site-packages (from tensorflow-probability>=0.16.0->tf-agents) (0.1.6)\n",
      "Requirement already satisfied: zipp>=0.5 in /home/wil/anaconda3/lib/python3.7/site-packages (from importlib-metadata>=4.10.0->gym>=0.17.0->tf-agents) (3.7.0)\n"
     ]
    },
    {
     "name": "stderr",
     "output_type": "stream",
     "text": [
      "\n"
     ]
    }
   ],
   "source": [
    "!pip install tf-agents\n",
    "\n",
    "import abc\n",
    "import numpy as np\n",
    "import tensorflow as tf\n",
    "\n",
    "from tf_agents.agents import tf_agent\n",
    "from tf_agents.drivers import driver\n",
    "from tf_agents.environments import py_environment\n",
    "from tf_agents.environments import tf_py_environment\n",
    "from tf_agents.policies import tf_policy\n",
    "from tf_agents.specs import array_spec\n",
    "from tf_agents.specs import tensor_spec\n",
    "from tf_agents.trajectories import time_step as ts\n",
    "from tf_agents.trajectories import trajectory\n",
    "from tf_agents.trajectories import policy_step\n",
    "tf.compat.v1.reset_default_graph()\n",
    "tf.compat.v1.enable_resource_variables()\n",
    "tf.compat.v1.enable_v2_behavior()\n",
    "nest = tf.compat.v2.nest\n",
    "\n",
    "from tf_agents.bandits.agents import lin_ucb_agent\n",
    "from tf_agents.bandits.environments import stationary_stochastic_py_environment as sspe\n",
    "from tf_agents.bandits.metrics import tf_metrics\n",
    "from tf_agents.drivers import dynamic_step_driver\n",
    "from tf_agents.replay_buffers import tf_uniform_replay_buffer\n",
    "\n",
    "import matplotlib.pyplot as plt"
   ]
  },
  {
   "cell_type": "markdown",
   "metadata": {},
   "source": [
    "Define hyperparameters"
   ]
  },
  {
   "cell_type": "code",
   "execution_count": 2,
   "metadata": {},
   "outputs": [],
   "source": [
    "batch_size = 2\n",
    "\n",
    "num_iterations = 100\n",
    "steps_per_loop = 1"
   ]
  },
  {
   "cell_type": "markdown",
   "metadata": {},
   "source": [
    "Our first function is a context sampler used to generate observations coming from the environment."
   ]
  },
  {
   "cell_type": "code",
   "execution_count": 3,
   "metadata": {},
   "outputs": [],
   "source": [
    "def context_sampling_fn(batch_size):\n",
    "    \n",
    "    def _context_sampling_fn():\n",
    "        return np.random.randint(0, 2, [batch_size, 2]).astype(np.float32)\n",
    "    return _context_sampling_fn"
   ]
  },
  {
   "cell_type": "markdown",
   "metadata": {},
   "source": [
    "We define a class for calculating the rewards."
   ]
  },
  {
   "cell_type": "code",
   "execution_count": 4,
   "metadata": {},
   "outputs": [],
   "source": [
    "class CalculateReward(object):\n",
    "    \n",
    "    \"\"\"A class that acts as linear reward function when called.\"\"\"\n",
    "    \n",
    "    def __init__(self, theta, sigma):\n",
    "        self.theta = theta\n",
    "        self.sigma = sigma\n",
    "        \n",
    "    def __call__(self, x):\n",
    "        mu = np.dot(x, self.theta)\n",
    "        # return np.random.normal(mu, self.sigma)\n",
    "        return (mu > 0 ) + 0"
   ]
  },
  {
   "cell_type": "markdown",
   "metadata": {},
   "source": [
    "We use this class to define the rewards per arm."
   ]
  },
  {
   "cell_type": "code",
   "execution_count": 5,
   "metadata": {},
   "outputs": [],
   "source": [
    "arm0_param = [2, -1]\n",
    "arm1_param = [1, -1]\n",
    "arm2_param = [-1, 1]\n",
    "arm3_param = [0, 0]\n",
    "\n",
    "arm0_reward_fn = CalculateReward(arm0_param, 1)\n",
    "arm1_reward_fn = CalculateReward(arm1_param, 1)\n",
    "arm2_reward_fn = CalculateReward(arm2_param, 1)\n",
    "arm3_reward_fn = CalculateReward(arm3_param, 1)"
   ]
  },
  {
   "cell_type": "markdown",
   "metadata": {},
   "source": [
    "And the final part of the function setup is to calculate the optimal rewards for a given context"
   ]
  },
  {
   "cell_type": "code",
   "execution_count": 6,
   "metadata": {},
   "outputs": [],
   "source": [
    "def compute_optimal_reward(observation):\n",
    "    expected_reward_for_arms = [\n",
    "        tf.linalg.matvec(observation, tf.cast(arm0_param, dtype=tf.float32)),\n",
    "        tf.linalg.matvec(observation, tf.cast(arm1_param, dtype=tf.float32)),\n",
    "        tf.linalg.matvec(observation, tf.cast(arm2_param, dtype=tf.float32)),\n",
    "        tf.linalg.matvec(observation, tf.cast(arm3_param, dtype=tf.float32)),\n",
    "    ]\n",
    "    optimal_action_reward = tf.reduce_max(expected_reward_for_arms, axis=0)\n",
    "    \n",
    "    return optimal_action_reward"
   ]
  },
  {
   "cell_type": "markdown",
   "metadata": {},
   "source": [
    "We assume a stationary environment for this example"
   ]
  },
  {
   "cell_type": "code",
   "execution_count": 7,
   "metadata": {},
   "outputs": [],
   "source": [
    "environment = tf_py_environment.TFPyEnvironment(\n",
    "    sspe.StationaryStochasticPyEnvironment(\n",
    "        context_sampling_fn(batch_size),\n",
    "        [arm0_reward_fn, arm1_reward_fn, arm2_reward_fn, arm3_reward_fn],\n",
    "        batch_size=batch_size))"
   ]
  },
  {
   "cell_type": "markdown",
   "metadata": {},
   "source": [
    "And finally we can instantiate an agent that implements a bandit algorithm."
   ]
  },
  {
   "cell_type": "code",
   "execution_count": 8,
   "metadata": {},
   "outputs": [],
   "source": [
    "observation_spec = tensor_spec.TensorSpec([2], tf.float32)\n",
    "time_step_spec = ts.time_step_spec(observation_spec)\n",
    "action_spec = tensor_spec.BoundedTensorSpec(\n",
    "    dtype=tf.int32, shape=(), minimum=0, maximum=2)\n",
    "\n",
    "agent = lin_ucb_agent.LinearUCBAgent(time_step_spec=time_step_spec, action_spec=action_spec)"
   ]
  },
  {
   "cell_type": "markdown",
   "metadata": {},
   "source": [
    "We calculate the regret which is the delta between the actual reward and expected reward"
   ]
  },
  {
   "cell_type": "code",
   "execution_count": 9,
   "metadata": {},
   "outputs": [],
   "source": [
    "regret_metric = tf_metrics.RegretMetric(compute_optimal_reward)"
   ]
  },
  {
   "cell_type": "markdown",
   "metadata": {},
   "source": [
    "And finally we can train our agent"
   ]
  },
  {
   "cell_type": "code",
   "execution_count": 10,
   "metadata": {},
   "outputs": [
    {
     "name": "stdout",
     "output_type": "stream",
     "text": [
      "WARNING:tensorflow:From <ipython-input-10-f905f7342006>:18: ReplayBuffer.gather_all (from tf_agents.replay_buffers.replay_buffer) is deprecated and will be removed in a future version.\n",
      "Instructions for updating:\n",
      "Use `as_dataset(..., single_deterministic_pass=True)` instead.\n"
     ]
    }
   ],
   "source": [
    "replay_buffer = tf_uniform_replay_buffer.TFUniformReplayBuffer(\n",
    "    data_spec=agent.policy.trajectory_spec,\n",
    "    batch_size=batch_size,\n",
    "    max_length=steps_per_loop)\n",
    "\n",
    "observers = [replay_buffer.add_batch, regret_metric]\n",
    "\n",
    "driver = dynamic_step_driver.DynamicStepDriver(\n",
    "    env=environment,\n",
    "    policy=agent.collect_policy,\n",
    "    num_steps=steps_per_loop * batch_size,\n",
    "    observers=observers)\n",
    "\n",
    "regret_values = []\n",
    "\n",
    "for _ in range(num_iterations):\n",
    "    driver.run()\n",
    "    loss_info = agent.train(replay_buffer.gather_all())\n",
    "    replay_buffer.clear()\n",
    "    regret_values.append(regret_metric.result())"
   ]
  },
  {
   "cell_type": "markdown",
   "metadata": {},
   "source": [
    "It is possible to visualize our results as seen below..."
   ]
  },
  {
   "cell_type": "code",
   "execution_count": 12,
   "metadata": {},
   "outputs": [
    {
     "data": {
      "text/plain": [
       "Text(0.5, 0, 'Number of Iterations')"
      ]
     },
     "execution_count": 12,
     "metadata": {},
     "output_type": "execute_result"
    },
    {
     "data": {
      "image/png": "[encoded data removed]",
      "text/plain": [
       "<Figure size 432x288 with 1 Axes>"
      ]
     },
     "metadata": {
      "needs_background": "light"
     },
     "output_type": "display_data"
    }
   ],
   "source": [
    "plt.plot(regret_values)\n",
    "plt.ylabel('Average Regret')\n",
    "plt.xlabel('Number of Iterations')"
   ]
  },
  {
   "cell_type": "markdown",
   "metadata": {},
   "source": [
    "And we can observe that the agent tends to improve by reducing average regret over the number of iterations."
   ]
  }
 ],
 "metadata": {
  "kernelspec": {
   "display_name": "MachineLearningUsingTensorFlowCookbook",
   "language": "python",
   "name": "machinelearningusingtensorflowcookbook"
  },
  "language_info": {
   "codemirror_mode": {
    "name": "ipython",
    "version": 3
   },
   "file_extension": ".py",
   "mimetype": "text/x-python",
   "name": "python",
   "nbconvert_exporter": "python",
   "pygments_lexer": "ipython3",
   "version": "3.7.3"
  }
 },
 "nbformat": 4,
 "nbformat_minor": 2
}
