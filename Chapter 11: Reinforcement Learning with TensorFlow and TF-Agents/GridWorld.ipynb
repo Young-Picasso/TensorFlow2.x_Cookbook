{
 "cells": [
  {
   "cell_type": "markdown",
   "metadata": {},
   "source": [
    "## How to do it..."
   ]
  },
  {
   "cell_type": "markdown",
   "metadata": {},
   "source": [
    "1. Import required libraries"
   ]
  },
  {
   "cell_type": "code",
   "execution_count": 2,
   "metadata": {},
   "outputs": [],
   "source": [
    "import tensorflow as tf\n",
    "import numpy as np\n",
    "from tf_agents.environments import py_environment, tf_environment, tf_py_environment, utils, wrappers, suite_gym\n",
    "from tf_agents.specs import array_spec\n",
    "from tf_agents.trajectories import trajectory, time_step as ts\n",
    "\n",
    "from tf_agents.agents.dqn import dqn_agent\n",
    "from tf_agents.networks import q_network\n",
    "from tf_agents.drivers import dynamic_step_driver\n",
    "from tf_agents.metrics import tf_metrics, py_metrics\n",
    "from tf_agents.policies import random_tf_policy\n",
    "from tf_agents.replay_buffers import tf_uniform_replay_buffer\n",
    "from tf_agents.utils import common\n",
    "from tf_agents.drivers import py_driver, dynamic_episode_driver\n",
    "from tf_agents.utils import common\n",
    "\n",
    "import matplotlib.pyplot as plt"
   ]
  },
  {
   "cell_type": "markdown",
   "metadata": {},
   "source": [
    "2. Setup the environment for the agent to act within, and define helper functions"
   ]
  },
  {
   "cell_type": "code",
   "execution_count": 20,
   "metadata": {},
   "outputs": [],
   "source": [
    "class GridWorldEnv(py_environment.PyEnvironment):\n",
    "    \n",
    "    def __init__(self):\n",
    "        self._action_spec = array_spec.BoundedArraySpec(\n",
    "            shape=(), dtype=np.int32, minimum=0, maximum=3, name='action')\n",
    "        self._observation_spec = array_spec.BoundedArraySpec(\n",
    "            shape=(4,), dtype=np.int32, minimum=[0,0,0,0], maximum=[5,5,5,5], name='observation')\n",
    "        self._state=[0,0,5,5] # Represents the (row, col, frow, fcol) of the player and finish\n",
    "        self._episode_ended = False\n",
    "    \n",
    "    def action_spec(self):\n",
    "        return self._action_spec\n",
    "    \n",
    "    def observation_spec(self):\n",
    "        return self._observation_spec\n",
    "    \n",
    "    # Reset the state once finished\n",
    "    def _reset(self):\n",
    "        self._state=[0,0,5,5]\n",
    "        self._episode_ended = False\n",
    "        return ts.restart(np.array(self._state, dtype=np.int32))\n",
    "    \n",
    "    # Step function handles the state transition by applying an action to the current state to obtain a new one\n",
    "    def _step(self, action):\n",
    "        \n",
    "        if self._episode_ended:\n",
    "            return self.reset()\n",
    "        \n",
    "        self.move(action)\n",
    "        \n",
    "        if self.game_over():\n",
    "            self._episode_ended = True\n",
    "            \n",
    "        if self._episode_ended:\n",
    "            if self.game_over():\n",
    "                reward = 100\n",
    "            else:\n",
    "                reward = 0\n",
    "            return ts.termination(np.array(self._state, dtype=np.int32), reward)\n",
    "        else:\n",
    "            return ts.transition(\n",
    "                np.array(self._state, dtype=np.int32), reward=0, discount=0.9)\n",
    "        \n",
    "    def move(self, action):\n",
    "        row, col, frow, fcol = self._state[0], self._state[1], self._state[2], self._state[3]\n",
    "        if action == 0: # down\n",
    "            if row - 1 > 0:\n",
    "                self._state[0] -= 1\n",
    "        if action == 1: # up\n",
    "            if row + 1 < 6:\n",
    "                self._state[0] += 1\n",
    "        if action == 2: # left\n",
    "            if col - 1 > 0:\n",
    "                self._state[1] -= 1\n",
    "        if action == 3: # right\n",
    "            if col + 1 < 6:\n",
    "                self._state[1] += 1\n",
    "                \n",
    "    def game_over(self):\n",
    "        row, col, frow, fcol = self._state[0], self._state[1], self._state[2], self._state[3]\n",
    "        return row==frow and col==fcol\n",
    "    \n",
    "def compute_avg_return(environment, policy, num_episodes=10):\n",
    "    \n",
    "    total_return = 0.0\n",
    "    for _ in range(num_episodes):\n",
    "        \n",
    "        time_step = environment.reset()\n",
    "        episode_return = 0.0\n",
    "        \n",
    "        while not time_step.is_last():\n",
    "            action_step = policy.action(time_step)\n",
    "            time_step = environment.step(action_step.action)\n",
    "            episode_return += time_step.reward\n",
    "            total_return += episode_return\n",
    "            \n",
    "    avg_return = total_return / num_episodes\n",
    "    return avg_return.numpy()[0]\n",
    "\n",
    "def collect_step(environment, policy):\n",
    "    time_step = environment.current_time_step()\n",
    "    action_step = policy.action(time_step)\n",
    "    next_time_step = environment.step(action_step.action)\n",
    "    traj = trajectory.from_transition(time_step, action_Step, next_time_step)\n",
    "    \n",
    "    # Add trajectory to the replay buffer\n",
    "    replay_buffer.add_batch(traj)"
   ]
  },
  {
   "cell_type": "markdown",
   "metadata": {},
   "source": [
    "3. Setup preliminary conditions"
   ]
  },
  {
   "cell_type": "code",
   "execution_count": 21,
   "metadata": {},
   "outputs": [],
   "source": [
    "# parameter settings\n",
    "\n",
    "num_iterations = 10_000\n",
    "initial_collection_steps = 1_000\n",
    "collect_steps_per_iteration = 1\n",
    "replay_buffer_capacity = 100_000\n",
    "fc_layer_params = (100,)\n",
    "batch_size = 128\n",
    "learning_rate = 1e-5\n",
    "log_interval = 200\n",
    "num_eval_episodes = 2\n",
    "eval_interval = 1_000"
   ]
  },
  {
   "cell_type": "markdown",
   "metadata": {},
   "source": [
    "4. Start by creating the enviroments and wrapping them to ensure termination after 100 steps:"
   ]
  },
  {
   "cell_type": "code",
   "execution_count": 22,
   "metadata": {},
   "outputs": [],
   "source": [
    "train_py_env = wrappers.TimeLimit(GridWorldEnv(), duration=100)\n",
    "eval_py_env = wrappers.TimeLimit(GridWorldEnv(), duration=100)\n",
    "\n",
    "train_env = tf_py_environment.TFPyEnvironment(train_py_env)\n",
    "eval_env = tf_py_environment.TFPyEnvironment(eval_py_env)"
   ]
  },
  {
   "cell_type": "markdown",
   "metadata": {},
   "source": [
    "5. We use a Deep Q-Network (DQN) agent for this recipe. As such, we will have to define the network and associated optimizer first:"
   ]
  },
  {
   "cell_type": "code",
   "execution_count": 23,
   "metadata": {},
   "outputs": [],
   "source": [
    "q_net = q_network.QNetwork(train_env.observation_spec(),\n",
    "                           train_env.action_spec(),\n",
    "                           fc_layer_params=fc_layer_params)\n",
    "\n",
    "optimizer = tf.compat.v1.train.AdamOptimizer(learning_rate=learning_rate)"
   ]
  },
  {
   "cell_type": "markdown",
   "metadata": {},
   "source": [
    "6. Backward compatibility is required here"
   ]
  },
  {
   "cell_type": "code",
   "execution_count": 24,
   "metadata": {},
   "outputs": [],
   "source": [
    "train_step_counter = tf.compat.v2.Variable(0)"
   ]
  },
  {
   "cell_type": "markdown",
   "metadata": {},
   "source": [
    "7. Define the agent"
   ]
  },
  {
   "cell_type": "code",
   "execution_count": 25,
   "metadata": {},
   "outputs": [],
   "source": [
    "tf_agent = dqn_agent.DqnAgent(\n",
    "        train_env.time_step_spec(),\n",
    "        train_env.action_spec(),\n",
    "        q_network=q_net,\n",
    "        optimizer=optimizer,\n",
    "        td_errors_loss_fn = common.element_wise_squared_loss,\n",
    "        train_step_counter=train_step_counter)\n",
    "\n",
    "tf_agent.initialize()\n",
    "\n",
    "eval_policy = tf_agent.policy\n",
    "collect_policy = tf_agent.collect_policy"
   ]
  },
  {
   "cell_type": "markdown",
   "metadata": {},
   "source": [
    "8. Create replay buffer and replay observer"
   ]
  },
  {
   "cell_type": "code",
   "execution_count": 26,
   "metadata": {},
   "outputs": [
    {
     "name": "stdout",
     "output_type": "stream",
     "text": [
      "Batch Size: 1\n"
     ]
    }
   ],
   "source": [
    "replay_buffer = tf_uniform_replay_buffer.TFUniformReplayBuffer(data_spec=tf_agent.collect_data_spec,\n",
    "                                                               batch_size = train_env.batch_size,\n",
    "                                                               max_length = replay_buffer_capacity)\n",
    "\n",
    "print(f'Batch Size: {train_env.batch_size}')\n",
    "\n",
    "replay_observer = [replay_buffer.add_batch]\n",
    "\n",
    "train_metrics = [\n",
    "    tf_metrics.NumberOfEpisodes(),\n",
    "    tf_metrics.EnvironmentSteps(),\n",
    "    tf_metrics.AverageReturnMetric(),\n",
    "    tf_metrics.AverageEpisodeLengthMetric()\n",
    "]"
   ]
  },
  {
   "cell_type": "markdown",
   "metadata": {},
   "source": [
    "9. Create a dataset from buffer so that it can be iterated over"
   ]
  },
  {
   "cell_type": "code",
   "execution_count": 27,
   "metadata": {},
   "outputs": [],
   "source": [
    "dataset = replay_buffer.as_dataset(num_parallel_calls=3,\n",
    "                                   sample_batch_size=batch_size,\n",
    "                                   num_steps=2).prefetch(3)"
   ]
  },
  {
   "cell_type": "markdown",
   "metadata": {},
   "source": [
    "10. Create a driver that will simulate the agent in the game and store the (state, action, reward) tuples in the replay buffer"
   ]
  },
  {
   "cell_type": "code",
   "execution_count": 28,
   "metadata": {},
   "outputs": [
    {
     "name": "stdout",
     "output_type": "stream",
     "text": [
      "0.0\n"
     ]
    }
   ],
   "source": [
    "driver = dynamic_step_driver.DynamicStepDriver(train_env,\n",
    "                                               collect_policy,\n",
    "                                               observers=replay_observer + train_metrics,\n",
    "                                               num_steps=1)\n",
    "\n",
    "iterator = iter(dataset)\n",
    "\n",
    "print(compute_avg_return(eval_env, tf_agent.policy, num_eval_episodes))\n",
    "\n",
    "tf_agent.train = common.function(tf_agent.train)\n",
    "tf_agent.train_step_counter.assign(0)\n",
    "\n",
    "final_time_step, policy_state = driver.run()"
   ]
  },
  {
   "cell_type": "markdown",
   "metadata": {},
   "source": [
    "11. Run the driver"
   ]
  },
  {
   "cell_type": "code",
   "execution_count": 29,
   "metadata": {},
   "outputs": [
    {
     "name": "stdout",
     "output_type": "stream",
     "text": [
      "WARNING:tensorflow:From /home/wil/anaconda3/lib/python3.7/site-packages/tensorflow/python/util/dispatch.py:1082: calling foldr_v2 (from tensorflow.python.ops.functional_ops) with back_prop=False is deprecated and will be removed in a future version.\n",
      "Instructions for updating:\n",
      "back_prop=False is deprecated. Consider using tf.stop_gradient instead.\n",
      "Instead of:\n",
      "results = tf.foldr(fn, elems, back_prop=False)\n",
      "Use:\n",
      "results = tf.nest.map_structure(tf.stop_gradient, tf.foldr(fn, elems))\n",
      "step = 200: loss = 0.027144549414515495\n",
      "Average episode length: 100.0\n",
      "step = 400: loss = 0.019206177443265915\n",
      "Average episode length: 100.0\n",
      "step = 600: loss = 0.029454940930008888\n",
      "Average episode length: 74.0\n",
      "step = 800: loss = 75.94647979736328\n",
      "Average episode length: 22.5\n",
      "step = 1000: loss = 152.3343048095703\n",
      "Average episode length: 36.099998474121094\n",
      "step = 1000: Average return = 0.0\n",
      "step = 1200: loss = 224.23692321777344\n",
      "Average episode length: 50.70000076293945\n",
      "step = 1400: loss = 149.57388305664062\n",
      "Average episode length: 60.099998474121094\n",
      "step = 1600: loss = 74.2284927368164\n",
      "Average episode length: 53.20000076293945\n",
      "step = 1800: loss = 292.94647216796875\n",
      "Average episode length: 42.599998474121094\n",
      "step = 2000: loss = 0.07912465929985046\n",
      "Average episode length: 36.099998474121094\n",
      "step = 2000: Average return = 0.0\n",
      "step = 2200: loss = 71.7882308959961\n",
      "Average episode length: 39.400001525878906\n",
      "step = 2400: loss = 214.630859375\n",
      "Average episode length: 34.20000076293945\n",
      "step = 2600: loss = 70.60731506347656\n",
      "Average episode length: 14.100000381469727\n",
      "step = 2800: loss = 278.88299560546875\n",
      "Average episode length: 23.399999618530273\n",
      "step = 3000: loss = 414.7958068847656\n",
      "Average episode length: 10.600000381469727\n",
      "step = 3000: Average return = 0.0\n",
      "step = 3200: loss = 203.71815490722656\n",
      "Average episode length: 29.200000762939453\n",
      "step = 3400: loss = 269.45281982421875\n",
      "Average episode length: 19.899999618530273\n",
      "step = 3600: loss = 398.39691162109375\n",
      "Average episode length: 11.199999809265137\n",
      "step = 3800: loss = 131.59762573242188\n",
      "Average episode length: 11.199999809265137\n",
      "step = 4000: loss = 324.1118469238281\n",
      "Average episode length: 10.600000381469727\n",
      "step = 4000: Average return = 100.0\n",
      "step = 4200: loss = 127.37224578857422\n",
      "Average episode length: 10.800000190734863\n",
      "step = 4400: loss = 314.78778076171875\n",
      "Average episode length: 11.0\n",
      "step = 4600: loss = 435.3880920410156\n",
      "Average episode length: 10.600000381469727\n",
      "step = 4800: loss = 246.60745239257812\n",
      "Average episode length: 12.0\n",
      "step = 5000: loss = 423.83660888671875\n",
      "Average episode length: 11.399999618530273\n",
      "step = 5000: Average return = 100.0\n",
      "step = 5200: loss = 415.4015808105469\n",
      "Average episode length: 11.100000381469727\n",
      "step = 5400: loss = 290.4952087402344\n",
      "Average episode length: 10.800000190734863\n",
      "step = 5600: loss = 173.12025451660156\n",
      "Average episode length: 10.899999618530273\n",
      "step = 5800: loss = 282.25921630859375\n",
      "Average episode length: 10.699999809265137\n",
      "step = 6000: loss = 555.9784545898438\n",
      "Average episode length: 10.699999809265137\n",
      "step = 6000: Average return = 100.0\n",
      "step = 6200: loss = 163.84661865234375\n",
      "Average episode length: 10.399999618530273\n",
      "step = 6400: loss = 644.4423828125\n",
      "Average episode length: 11.399999618530273\n",
      "step = 6600: loss = 422.45599365234375\n",
      "Average episode length: 10.899999618530273\n",
      "step = 6800: loss = 310.56634521484375\n",
      "Average episode length: 11.5\n",
      "step = 7000: loss = 356.98095703125\n",
      "Average episode length: 10.800000190734863\n",
      "step = 7000: Average return = 100.0\n",
      "step = 7200: loss = 451.3409423828125\n",
      "Average episode length: 10.600000381469727\n",
      "step = 7400: loss = 248.41064453125\n",
      "Average episode length: 10.600000381469727\n",
      "step = 7600: loss = 192.65267944335938\n",
      "Average episode length: 10.5\n",
      "step = 7800: loss = 284.0771179199219\n",
      "Average episode length: 11.699999809265137\n",
      "step = 8000: loss = 278.9256591796875\n",
      "Average episode length: 10.699999809265137\n",
      "step = 8000: Average return = 100.0\n",
      "step = 8200: loss = 549.7863159179688\n",
      "Average episode length: 10.800000190734863\n",
      "step = 8400: loss = 448.44921875\n",
      "Average episode length: 10.800000190734863\n",
      "step = 8600: loss = 352.16357421875\n",
      "Average episode length: 11.199999809265137\n",
      "step = 8800: loss = 554.01513671875\n",
      "Average episode length: 10.600000381469727\n",
      "step = 9000: loss = 548.7440795898438\n",
      "Average episode length: 11.399999618530273\n",
      "step = 9000: Average return = 100.0\n",
      "step = 9200: loss = 292.2604064941406\n",
      "Average episode length: 11.100000381469727\n",
      "step = 9400: loss = 202.85205078125\n",
      "Average episode length: 11.5\n",
      "step = 9600: loss = 354.64398193359375\n",
      "Average episode length: 10.899999618530273\n",
      "step = 9800: loss = 310.5300598144531\n",
      "Average episode length: 11.300000190734863\n",
      "step = 10000: loss = 266.473876953125\n",
      "Average episode length: 10.899999618530273\n",
      "step = 10000: Average return = 100.0\n"
     ]
    }
   ],
   "source": [
    "episode_len = []\n",
    "step_len = []\n",
    "for i in range(num_iterations):\n",
    "    final_time_step, _ = driver.run(final_time_step, policy_state)\n",
    "    \n",
    "    experience, _ = next(iterator)\n",
    "    train_loss = tf_agent.train(experience=experience)\n",
    "    step = tf_agent.train_step_counter.numpy()\n",
    "    \n",
    "    if step % log_interval == 0:\n",
    "        print(f'step = {step}: loss = {train_loss.loss}')\n",
    "        episode_len.append(train_metrics[3].result().numpy())\n",
    "        step_len.append(step)\n",
    "        print(f'Average episode length: {train_metrics[3].result().numpy()}')\n",
    "        \n",
    "    if step % eval_interval == 0:\n",
    "        avg_return = compute_avg_return(eval_env, tf_agent.policy, num_eval_episodes)\n",
    "        print(f'step = {step}: Average return = {avg_return}')"
   ]
  },
  {
   "cell_type": "markdown",
   "metadata": {},
   "source": [
    "12. Visualize the training"
   ]
  },
  {
   "cell_type": "code",
   "execution_count": 30,
   "metadata": {},
   "outputs": [
    {
     "data": {
      "image/png": "[encoded data removed]",
      "text/plain": [
       "<Figure size 432x288 with 1 Axes>"
      ]
     },
     "metadata": {
      "needs_background": "light"
     },
     "output_type": "display_data"
    }
   ],
   "source": [
    "plt.plot(step_len, episode_len)\n",
    "plt.xlabel('Episodes')\n",
    "plt.ylabel('Average Episode Length (Steps)')\n",
    "plt.show()"
   ]
  },
  {
   "cell_type": "markdown",
   "metadata": {},
   "source": [
    "We can clearly see how the agent learns an ideal policy to be able to navigate to the desired state in the least number of episodes."
   ]
  }
 ],
 "metadata": {
  "kernelspec": {
   "display_name": "Python 3 (ipykernel)",
   "language": "python",
   "name": "python3"
  },
  "language_info": {
   "codemirror_mode": {
    "name": "ipython",
    "version": 3
   },
   "file_extension": ".py",
   "mimetype": "text/x-python",
   "name": "python",
   "nbconvert_exporter": "python",
   "pygments_lexer": "ipython3",
   "version": "3.7.3"
  }
 },
 "nbformat": 4,
 "nbformat_minor": 2
}
