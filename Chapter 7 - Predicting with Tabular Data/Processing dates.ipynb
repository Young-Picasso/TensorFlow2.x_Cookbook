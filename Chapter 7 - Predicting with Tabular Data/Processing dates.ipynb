{
 "cells": [
  {
   "cell_type": "markdown",
   "metadata": {},
   "source": [
    "## Getting ready"
   ]
  },
  {
   "cell_type": "code",
   "execution_count": 10,
   "metadata": {},
   "outputs": [],
   "source": [
    "from sklearn.base import BaseEstimator, TransformerMixin\n",
    "import pandas as pd\n",
    "import numpy as np"
   ]
  },
  {
   "cell_type": "code",
   "execution_count": 7,
   "metadata": {},
   "outputs": [],
   "source": [
    "example = pd.DataFrame({'date_1': ['04/12/2018', '05/12/2019', '07/12/2020'],\n",
    "                        'date_2': ['12/5/2018', '15/5/2015', '18/5/2016'],\n",
    "                        'date_3': ['25/8/2019', '28/8/2018', '29/8/2017']})"
   ]
  },
  {
   "cell_type": "markdown",
   "metadata": {},
   "source": [
    "## How to do it"
   ]
  },
  {
   "cell_type": "code",
   "execution_count": 8,
   "metadata": {},
   "outputs": [],
   "source": [
    "class DateProcessor(BaseEstimator, TransformerMixin):\n",
    "    def __init__(self, date_format='%d/%m/%Y', hours_secs=False):\n",
    "        self.format = date_format\n",
    "        self.columns = None\n",
    "        # see https://docs.python.org/3/library/datetime.html#strftime-and-strptime-behavior\n",
    "        self.time_transformations = [\n",
    "            ('day_sin', lambda x: np.sin(2*np.pi*x.dt.day/31)),\n",
    "            ('day_cos', lambda x: np.cos(2*np.pi*x.dt.day/31)),\n",
    "            ('dayofweek_sin', lambda x: np.sin(2*np.pi*x.dt.dayofweek/6)),\n",
    "            ('dayofweek_cos', lambda x: np.cos(2*np.pi*x.dt.dayofweek/6)),\n",
    "            ('month_sin', lambda x: np.sin(2*np.pi*x.dt.month/12)),\n",
    "            ('month_cos', lambda x: np.cos(2*np.pi*x.dt.month/12)),\n",
    "            ('year', lambda x: (x.dt.year - x.dt.year.min()) / (x.dt.year.max() - x.dt.year.min()))\n",
    "        ]\n",
    "        if hours_secs:\n",
    "            self.time_transformations = [\n",
    "                ('hour_sin', lambda x: np.sin(2*np.pi*x.dt.hour/23)),\n",
    "                ('hour_cos', lambda x: np.cos(2*np.pi*x.dt.hour/23)),\n",
    "                ('minute_sin', lambda x: np.sin(2*np.pi*x.dt.minute/59)),\n",
    "                ('minute_cos', lambda x: np.cos(2*np.pi*x.dt.minute/59))\n",
    "            ] + self.time_transformations\n",
    "    \n",
    "    def fit(self, X, y=None, **fit_params):\n",
    "        self.columns = self.transform(X.iloc[0:1,:]).columns\n",
    "        return self\n",
    "    \n",
    "    def transform(self, X, y=None, **fit_params):\n",
    "        transformed = list()\n",
    "        for col in X.columns:\n",
    "            time_column = pd.to_datetime(X[col], format=self.format)\n",
    "            for label, func in self.time_transformations:\n",
    "                transformed.append(func(time_column))\n",
    "                transformed[-1].name = transformed[-1].name + '_' + label\n",
    "        transformed = pd.concat(transformed, axis=1)\n",
    "        return transformed\n",
    "            \n",
    "    def fit_transform(self, X, y=None, **fit_params):\n",
    "        self.fit(X, y, **fit_params)\n",
    "        return self.transform(X) "
   ]
  },
  {
   "cell_type": "markdown",
   "metadata": {},
   "source": [
    "## How it works"
   ]
  },
  {
   "cell_type": "code",
   "execution_count": 11,
   "metadata": {},
   "outputs": [
    {
     "data": {
      "text/html": [
       "<div>\n",
       "<style scoped>\n",
       "    .dataframe tbody tr th:only-of-type {\n",
       "        vertical-align: middle;\n",
       "    }\n",
       "\n",
       "    .dataframe tbody tr th {\n",
       "        vertical-align: top;\n",
       "    }\n",
       "\n",
       "    .dataframe thead th {\n",
       "        text-align: right;\n",
       "    }\n",
       "</style>\n",
       "<table border=\"1\" class=\"dataframe\">\n",
       "  <thead>\n",
       "    <tr style=\"text-align: right;\">\n",
       "      <th></th>\n",
       "      <th>date_1_day_sin</th>\n",
       "      <th>date_1_day_cos</th>\n",
       "      <th>date_1_dayofweek_sin</th>\n",
       "      <th>date_1_dayofweek_cos</th>\n",
       "      <th>date_1_month_sin</th>\n",
       "      <th>date_1_month_cos</th>\n",
       "      <th>date_1_year</th>\n",
       "      <th>date_2_day_sin</th>\n",
       "      <th>date_2_day_cos</th>\n",
       "      <th>date_2_dayofweek_sin</th>\n",
       "      <th>...</th>\n",
       "      <th>date_2_month_sin</th>\n",
       "      <th>date_2_month_cos</th>\n",
       "      <th>date_2_year</th>\n",
       "      <th>date_3_day_sin</th>\n",
       "      <th>date_3_day_cos</th>\n",
       "      <th>date_3_dayofweek_sin</th>\n",
       "      <th>date_3_dayofweek_cos</th>\n",
       "      <th>date_3_month_sin</th>\n",
       "      <th>date_3_month_cos</th>\n",
       "      <th>date_3_year</th>\n",
       "    </tr>\n",
       "  </thead>\n",
       "  <tbody>\n",
       "    <tr>\n",
       "      <th>0</th>\n",
       "      <td>0.724793</td>\n",
       "      <td>0.688967</td>\n",
       "      <td>8.660254e-01</td>\n",
       "      <td>0.5</td>\n",
       "      <td>-2.449294e-16</td>\n",
       "      <td>1.0</td>\n",
       "      <td>0.0</td>\n",
       "      <td>0.651372</td>\n",
       "      <td>-0.758758</td>\n",
       "      <td>-0.866025</td>\n",
       "      <td>...</td>\n",
       "      <td>0.5</td>\n",
       "      <td>-0.866025</td>\n",
       "      <td>1.000000</td>\n",
       "      <td>-0.937752</td>\n",
       "      <td>0.347305</td>\n",
       "      <td>-2.449294e-16</td>\n",
       "      <td>1.0</td>\n",
       "      <td>-0.866025</td>\n",
       "      <td>-0.5</td>\n",
       "      <td>1.0</td>\n",
       "    </tr>\n",
       "    <tr>\n",
       "      <th>1</th>\n",
       "      <td>0.848644</td>\n",
       "      <td>0.528964</td>\n",
       "      <td>1.224647e-16</td>\n",
       "      <td>-1.0</td>\n",
       "      <td>-2.449294e-16</td>\n",
       "      <td>1.0</td>\n",
       "      <td>0.5</td>\n",
       "      <td>0.101168</td>\n",
       "      <td>-0.994869</td>\n",
       "      <td>-0.866025</td>\n",
       "      <td>...</td>\n",
       "      <td>0.5</td>\n",
       "      <td>-0.866025</td>\n",
       "      <td>0.000000</td>\n",
       "      <td>-0.571268</td>\n",
       "      <td>0.820763</td>\n",
       "      <td>8.660254e-01</td>\n",
       "      <td>0.5</td>\n",
       "      <td>-0.866025</td>\n",
       "      <td>-0.5</td>\n",
       "      <td>0.5</td>\n",
       "    </tr>\n",
       "    <tr>\n",
       "      <th>2</th>\n",
       "      <td>0.988468</td>\n",
       "      <td>0.151428</td>\n",
       "      <td>0.000000e+00</td>\n",
       "      <td>1.0</td>\n",
       "      <td>-2.449294e-16</td>\n",
       "      <td>1.0</td>\n",
       "      <td>1.0</td>\n",
       "      <td>-0.485302</td>\n",
       "      <td>-0.874347</td>\n",
       "      <td>0.866025</td>\n",
       "      <td>...</td>\n",
       "      <td>0.5</td>\n",
       "      <td>-0.866025</td>\n",
       "      <td>0.333333</td>\n",
       "      <td>-0.394356</td>\n",
       "      <td>0.918958</td>\n",
       "      <td>8.660254e-01</td>\n",
       "      <td>0.5</td>\n",
       "      <td>-0.866025</td>\n",
       "      <td>-0.5</td>\n",
       "      <td>0.0</td>\n",
       "    </tr>\n",
       "  </tbody>\n",
       "</table>\n",
       "<p>3 rows × 21 columns</p>\n",
       "</div>"
      ],
      "text/plain": [
       "   date_1_day_sin  date_1_day_cos  date_1_dayofweek_sin  date_1_dayofweek_cos  \\\n",
       "0        0.724793        0.688967          8.660254e-01                   0.5   \n",
       "1        0.848644        0.528964          1.224647e-16                  -1.0   \n",
       "2        0.988468        0.151428          0.000000e+00                   1.0   \n",
       "\n",
       "   date_1_month_sin  date_1_month_cos  date_1_year  date_2_day_sin  \\\n",
       "0     -2.449294e-16               1.0          0.0        0.651372   \n",
       "1     -2.449294e-16               1.0          0.5        0.101168   \n",
       "2     -2.449294e-16               1.0          1.0       -0.485302   \n",
       "\n",
       "   date_2_day_cos  date_2_dayofweek_sin  ...  date_2_month_sin  \\\n",
       "0       -0.758758             -0.866025  ...               0.5   \n",
       "1       -0.994869             -0.866025  ...               0.5   \n",
       "2       -0.874347              0.866025  ...               0.5   \n",
       "\n",
       "   date_2_month_cos  date_2_year  date_3_day_sin  date_3_day_cos  \\\n",
       "0         -0.866025     1.000000       -0.937752        0.347305   \n",
       "1         -0.866025     0.000000       -0.571268        0.820763   \n",
       "2         -0.866025     0.333333       -0.394356        0.918958   \n",
       "\n",
       "   date_3_dayofweek_sin  date_3_dayofweek_cos  date_3_month_sin  \\\n",
       "0         -2.449294e-16                   1.0         -0.866025   \n",
       "1          8.660254e-01                   0.5         -0.866025   \n",
       "2          8.660254e-01                   0.5         -0.866025   \n",
       "\n",
       "   date_3_month_cos  date_3_year  \n",
       "0              -0.5          1.0  \n",
       "1              -0.5          0.5  \n",
       "2              -0.5          0.0  \n",
       "\n",
       "[3 rows x 21 columns]"
      ]
     },
     "execution_count": 11,
     "metadata": {},
     "output_type": "execute_result"
    }
   ],
   "source": [
    "DateProcessor().fit_transform(example)"
   ]
  },
  {
   "cell_type": "markdown",
   "metadata": {},
   "source": [
    "## There's more..."
   ]
  },
  {
   "cell_type": "code",
   "execution_count": 13,
   "metadata": {},
   "outputs": [
    {
     "data": {
      "image/png": "[encoded data removed]",
      "text/plain": [
       "<Figure size 432x288 with 1 Axes>"
      ]
     },
     "metadata": {
      "needs_background": "light"
     },
     "output_type": "display_data"
    }
   ],
   "source": [
    "import matplotlib.pyplot as plt\n",
    "\n",
    "sin_time = np.array([[t, np.sin(2*np.pi*t/23)] for t in range(0, 24)])\n",
    "cos_time = np.array([[t, np.cos(2*np.pi*t/23)] for t in range(0, 24)])\n",
    "\n",
    "plt.plot(sin_time[:,0], sin_time[:,1], label='sin hour')\n",
    "plt.plot(cos_time[:,0], cos_time[:,1], label='cos hour')\n",
    "plt.axhline(y=0.0, linestyle='--', color='lightgray')\n",
    "plt.legend()\n",
    "plt.show()"
   ]
  },
  {
   "cell_type": "code",
   "execution_count": 15,
   "metadata": {},
   "outputs": [
    {
     "data": {
      "image/png": "[encoded data removed]",
      "text/plain": [
       "<Figure size 432x288 with 1 Axes>"
      ]
     },
     "metadata": {
      "needs_background": "light"
     },
     "output_type": "display_data"
    }
   ],
   "source": [
    "ax = plt.subplot()\n",
    "ax.set_aspect('equal')\n",
    "ax.set_xlabel('sin hour')\n",
    "ax.set_ylabel('cos hour')\n",
    "plt.scatter(sin_time[:,1], cos_time[:,1])\n",
    "plt.show()"
   ]
  }
 ],
 "metadata": {
  "kernelspec": {
   "display_name": "py365",
   "language": "python",
   "name": "py365"
  },
  "language_info": {
   "codemirror_mode": {
    "name": "ipython",
    "version": 3
   },
   "file_extension": ".py",
   "mimetype": "text/x-python",
   "name": "python",
   "nbconvert_exporter": "python",
   "pygments_lexer": "ipython3",
   "version": "3.6.5"
  }
 },
 "nbformat": 4,
 "nbformat_minor": 2
}
