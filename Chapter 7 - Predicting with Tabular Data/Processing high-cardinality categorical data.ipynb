{
 "cells": [
  {
   "cell_type": "markdown",
   "metadata": {},
   "source": [
    "## Getting ready"
   ]
  },
  {
   "cell_type": "code",
   "execution_count": 11,
   "metadata": {},
   "outputs": [],
   "source": [
    "from sklearn.preprocessing import LabelEncoder\n",
    "import pandas as pd\n",
    "from sklearn.base import BaseEstimator, TransformerMixin\n",
    "import numpy as np"
   ]
  },
  {
   "cell_type": "code",
   "execution_count": 12,
   "metadata": {},
   "outputs": [],
   "source": [
    "import string\n",
    "import random\n",
    "\n",
    "def random_id(length=8):\n",
    "    voc = string.ascii_lowercase + string.digits\n",
    "    return ''.join(random.choice(voc) for i in range(length))\n",
    "\n",
    "example = pd.DataFrame({'high_cat_1': [random_id(length=2) for i in range(500)],\n",
    "                        'high_cat_2': [random_id(length=3) for i in range(500)],\n",
    "                        'high_cat_3': [random_id(length=4) for i in range(500)]})"
   ]
  },
  {
   "cell_type": "code",
   "execution_count": 13,
   "metadata": {},
   "outputs": [
    {
     "data": {
      "text/html": [
       "<div>\n",
       "<style scoped>\n",
       "    .dataframe tbody tr th:only-of-type {\n",
       "        vertical-align: middle;\n",
       "    }\n",
       "\n",
       "    .dataframe tbody tr th {\n",
       "        vertical-align: top;\n",
       "    }\n",
       "\n",
       "    .dataframe thead th {\n",
       "        text-align: right;\n",
       "    }\n",
       "</style>\n",
       "<table border=\"1\" class=\"dataframe\">\n",
       "  <thead>\n",
       "    <tr style=\"text-align: right;\">\n",
       "      <th></th>\n",
       "      <th>high_cat_1</th>\n",
       "      <th>high_cat_2</th>\n",
       "      <th>high_cat_3</th>\n",
       "    </tr>\n",
       "  </thead>\n",
       "  <tbody>\n",
       "    <tr>\n",
       "      <th>0</th>\n",
       "      <td>ax</td>\n",
       "      <td>4n9</td>\n",
       "      <td>dwsu</td>\n",
       "    </tr>\n",
       "    <tr>\n",
       "      <th>1</th>\n",
       "      <td>kh</td>\n",
       "      <td>cez</td>\n",
       "      <td>3jbp</td>\n",
       "    </tr>\n",
       "    <tr>\n",
       "      <th>2</th>\n",
       "      <td>5g</td>\n",
       "      <td>z4v</td>\n",
       "      <td>jao8</td>\n",
       "    </tr>\n",
       "    <tr>\n",
       "      <th>3</th>\n",
       "      <td>xa</td>\n",
       "      <td>jkl</td>\n",
       "      <td>70zv</td>\n",
       "    </tr>\n",
       "    <tr>\n",
       "      <th>4</th>\n",
       "      <td>55</td>\n",
       "      <td>ko7</td>\n",
       "      <td>3zkr</td>\n",
       "    </tr>\n",
       "    <tr>\n",
       "      <th>...</th>\n",
       "      <td>...</td>\n",
       "      <td>...</td>\n",
       "      <td>...</td>\n",
       "    </tr>\n",
       "    <tr>\n",
       "      <th>495</th>\n",
       "      <td>ae</td>\n",
       "      <td>42l</td>\n",
       "      <td>96ol</td>\n",
       "    </tr>\n",
       "    <tr>\n",
       "      <th>496</th>\n",
       "      <td>7v</td>\n",
       "      <td>2g9</td>\n",
       "      <td>3vtn</td>\n",
       "    </tr>\n",
       "    <tr>\n",
       "      <th>497</th>\n",
       "      <td>zm</td>\n",
       "      <td>yyd</td>\n",
       "      <td>5ndi</td>\n",
       "    </tr>\n",
       "    <tr>\n",
       "      <th>498</th>\n",
       "      <td>cl</td>\n",
       "      <td>7pd</td>\n",
       "      <td>hok2</td>\n",
       "    </tr>\n",
       "    <tr>\n",
       "      <th>499</th>\n",
       "      <td>fm</td>\n",
       "      <td>4xa</td>\n",
       "      <td>82pq</td>\n",
       "    </tr>\n",
       "  </tbody>\n",
       "</table>\n",
       "<p>500 rows × 3 columns</p>\n",
       "</div>"
      ],
      "text/plain": [
       "    high_cat_1 high_cat_2 high_cat_3\n",
       "0           ax        4n9       dwsu\n",
       "1           kh        cez       3jbp\n",
       "2           5g        z4v       jao8\n",
       "3           xa        jkl       70zv\n",
       "4           55        ko7       3zkr\n",
       "..         ...        ...        ...\n",
       "495         ae        42l       96ol\n",
       "496         7v        2g9       3vtn\n",
       "497         zm        yyd       5ndi\n",
       "498         cl        7pd       hok2\n",
       "499         fm        4xa       82pq\n",
       "\n",
       "[500 rows x 3 columns]"
      ]
     },
     "execution_count": 13,
     "metadata": {},
     "output_type": "execute_result"
    }
   ],
   "source": [
    "example"
   ]
  },
  {
   "cell_type": "markdown",
   "metadata": {},
   "source": [
    "## How to do it"
   ]
  },
  {
   "cell_type": "code",
   "execution_count": 14,
   "metadata": {},
   "outputs": [],
   "source": [
    "class LEncoder(BaseEstimator, TransformerMixin):\n",
    "    \n",
    "    def __init__(self):\n",
    "        self.encoders = dict()\n",
    "        self.dictionary_size = list()\n",
    "        self.unk = -1\n",
    "    \n",
    "    def fit(self, X, y=None, **fit_params):\n",
    "        for col in range(X.shape[1]):\n",
    "            le = LabelEncoder()\n",
    "            le.fit(X.iloc[:, col].fillna('_nan'))\n",
    "            le_dict = dict(zip(le.classes_, le.transform(le.classes_)))\n",
    "            \n",
    "            if '_nan' not in le_dict:\n",
    "                max_value = max(le_dict.values())\n",
    "                le_dict['_nan'] = max_value\n",
    "            \n",
    "            max_value = max(le_dict.values())\n",
    "            le_dict['_unk'] = max_value\n",
    "            \n",
    "            self.unk = max_value\n",
    "            self.dictionary_size.append(len(le_dict))\n",
    "            col_name = X.columns[col]\n",
    "            self.encoders[col_name] = le_dict\n",
    "            \n",
    "        return self\n",
    "    \n",
    "    def transform(self, X, y=None, **fit_params):\n",
    "        output = list()\n",
    "        for col in range(X.shape[1]):\n",
    "            col_name = X.columns[col]\n",
    "            le_dict = self.encoders[col_name]\n",
    "            emb = X.iloc[:, col].fillna('_nan').apply(lambda x: le_dict.get(x, le_dict['_unk'])).values\n",
    "            output.append(pd.Series(emb, name=col_name).astype(np.int32))\n",
    "        return output\n",
    "\n",
    "    def fit_transform(self, X, y=None, **fit_params):\n",
    "        self.fit(X, y, **fit_params)\n",
    "        return self.transform(X)"
   ]
  },
  {
   "cell_type": "markdown",
   "metadata": {},
   "source": [
    "## How it works"
   ]
  },
  {
   "cell_type": "code",
   "execution_count": 15,
   "metadata": {},
   "outputs": [
    {
     "data": {
      "text/plain": [
       "[0      111\n",
       " 1      228\n",
       " 2       58\n",
       " 3      377\n",
       " 4       50\n",
       "       ... \n",
       " 495    106\n",
       " 496     74\n",
       " 497    403\n",
       " 498    134\n",
       " 499    167\n",
       " Name: high_cat_1, Length: 500, dtype: int32,\n",
       " 0       73\n",
       " 1      160\n",
       " 2      476\n",
       " 3      273\n",
       " 4      285\n",
       "       ... \n",
       " 495     68\n",
       " 496     33\n",
       " 497    472\n",
       " 498    103\n",
       " 499     77\n",
       " Name: high_cat_2, Length: 500, dtype: int32,\n",
       " 0      212\n",
       " 1       42\n",
       " 2      284\n",
       " 3      102\n",
       " 4       50\n",
       "       ... \n",
       " 495    141\n",
       " 496     49\n",
       " 497     79\n",
       " 498    272\n",
       " 499    120\n",
       " Name: high_cat_3, Length: 500, dtype: int32]"
      ]
     },
     "execution_count": 15,
     "metadata": {},
     "output_type": "execute_result"
    }
   ],
   "source": [
    "le = LEncoder()\n",
    "le.fit_transform(example)"
   ]
  },
  {
   "cell_type": "markdown",
   "metadata": {},
   "source": [
    "## There's more..."
   ]
  },
  {
   "cell_type": "code",
   "execution_count": 16,
   "metadata": {},
   "outputs": [
    {
     "data": {
      "text/plain": [
       "[409, 493, 502]"
      ]
     },
     "execution_count": 16,
     "metadata": {},
     "output_type": "execute_result"
    }
   ],
   "source": [
    "le.dictionary_size"
   ]
  }
 ],
 "metadata": {
  "kernelspec": {
   "display_name": "py365",
   "language": "python",
   "name": "py365"
  },
  "language_info": {
   "codemirror_mode": {
    "name": "ipython",
    "version": 3
   },
   "file_extension": ".py",
   "mimetype": "text/x-python",
   "name": "python",
   "nbconvert_exporter": "python",
   "pygments_lexer": "ipython3",
   "version": "3.6.5"
  }
 },
 "nbformat": 4,
 "nbformat_minor": 2
}
