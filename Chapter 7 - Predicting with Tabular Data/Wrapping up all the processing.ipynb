{
 "cells": [
  {
   "cell_type": "markdown",
   "metadata": {},
   "source": [
    "## Getting ready"
   ]
  },
  {
   "cell_type": "code",
   "execution_count": 99,
   "metadata": {},
   "outputs": [],
   "source": [
    "from sklearn.pipeline import FeatureUnion\n",
    "from sklearn.base import BaseEstimator, TransformerMixin\n",
    "import pandas as pd\n",
    "import numpy as np\n",
    "from sklearn.feature_selection import VarianceThreshold\n",
    "from sklearn.impute import SimpleImputer\n",
    "from sklearn.preprocessing import StandardScaler, QuantileTransformer\n",
    "from sklearn.pipeline import Pipeline\n",
    "from sklearn.preprocessing import OrdinalEncoder\n",
    "from sklearn.preprocessing import OneHotEncoder\n",
    "from sklearn.preprocessing import LabelEncoder\n",
    "import tensorflow as tf"
   ]
  },
  {
   "cell_type": "code",
   "execution_count": 74,
   "metadata": {},
   "outputs": [],
   "source": [
    "import string\n",
    "import random\n",
    "\n",
    "def random_id(length=8):\n",
    "    voc = string.ascii_lowercase + string.digits\n",
    "    return ''.join(random.choice(voc) for i in range(length))"
   ]
  },
  {
   "cell_type": "code",
   "execution_count": 75,
   "metadata": {},
   "outputs": [],
   "source": [
    "class TabularTransformer(BaseEstimator, TransformerMixin):\n",
    "    \n",
    "    def instantiate(self, param):\n",
    "        if isinstance(param, str):\n",
    "            return [param]\n",
    "        elif isinstance(param, list):\n",
    "            return param\n",
    "        else:\n",
    "            return None\n",
    "    \n",
    "    def __init__(self, numeric=None, dates=None, ordinal=None, cat=None, highcat=None,\n",
    "                 variance_threshold=0.0, missing_imputer='mean', use_multivariate_imputer=False,\n",
    "                 add_missing_indicator=True, quantile_transformer='normal', scaler=True,\n",
    "                 ordinal_categories='auto', date_format='%d/%m/%Y', hours_secs=False):\n",
    "        \n",
    "        self.numeric = self.instantiate(numeric)\n",
    "        self.dates = self.instantiate(dates)\n",
    "        self.ordinal = self.instantiate(ordinal)\n",
    "        self.cat  = self.instantiate(cat)\n",
    "        self.highcat = self.instantiate(highcat)\n",
    "        self.columns = None\n",
    "        self.vocabulary = None\n",
    "        \n",
    "        self.numeric_process = assemble_numeric_pipeline(variance_threshold=variance_threshold, \n",
    "                                                         imputer=missing_imputer, \n",
    "                                                         multivariate_imputer=use_multivariate_imputer, \n",
    "                                                         add_indicator=add_missing_indicator,\n",
    "                                                         quantile_transformer=quantile_transformer,\n",
    "                                                         scaler=scaler)\n",
    "        self.dates_process = DateProcessor(date_format=date_format, hours_secs=hours_secs)\n",
    "        self.ordinal_process = FeatureUnion([('ordinal', OrdinalEncoder(categories=ordinal_categories)),\n",
    "                                             ('categorial', Pipeline(steps=[('string_converter', ToString()),\n",
    "                                                  ('imputer', SimpleImputer(strategy='constant', fill_value='missing')),\n",
    "                                                  ('onehot', OneHotEncoder(handle_unknown='ignore'))]))])\n",
    "        self.cat_process = Pipeline(steps=[('string_converter', ToString()),\n",
    "                                           ('imputer', SimpleImputer(strategy='constant', fill_value='missing')),\n",
    "                                           ('onehot', OneHotEncoder(handle_unknown='ignore'))])\n",
    "        self.highcat_process = LEncoder()\n",
    "        \n",
    "    def fit(self, X, y=None, **fit_params):\n",
    "        self.columns = list()\n",
    "        if self.numeric:\n",
    "            self.numeric_process.fit(X[self.numeric])\n",
    "            self.columns += derive_numeric_columns(X[self.numeric], \n",
    "                                                   self.numeric_process).to_list()\n",
    "        if self.dates:\n",
    "            self.dates_process.fit(X[self.dates])\n",
    "            self.columns += self.dates_process.columns.to_list()\n",
    "        if self.ordinal:\n",
    "            self.ordinal_process.fit(X[self.ordinal])\n",
    "            self.columns += self.ordinal + derive_ohe_columns(X[self.ordinal], \n",
    "                                                             self.ordinal_process.transformer_list[1][1])\n",
    "        if self.cat:\n",
    "            self.cat_process.fit(X[self.cat])\n",
    "            self.columns += derive_ohe_columns(X[self.cat], \n",
    "                                               self.cat_process)\n",
    "        if self.highcat:\n",
    "            self.highcat_process.fit(X[self.highcat])\n",
    "            self.vocabulary = dict(zip(self.highcat, self.highcat_process.dictionary_size))\n",
    "            self.columns = [self.columns, self.highcat]\n",
    "        return self\n",
    "    \n",
    "    def transform(self, X, y=None, **fit_params):\n",
    "        flat_matrix = list()\n",
    "        if self.numeric:\n",
    "            flat_matrix.append(self.numeric_process.transform(X[self.numeric])\n",
    "                               .astype(np.float32))\n",
    "        if self.dates:\n",
    "            flat_matrix.append(self.dates_process.transform(X[self.dates])\n",
    "                               .values\n",
    "                               .astype(np.float32))\n",
    "        if self.ordinal:\n",
    "            flat_matrix.append(self.ordinal_process.transform(X[self.ordinal])\n",
    "                               .todense()\n",
    "                               .astype(np.float32))\n",
    "        if self.cat:\n",
    "            flat_matrix.append(self.cat_process.transform(X[self.cat])\n",
    "                               .todense()\n",
    "                               .astype(np.float32))\n",
    "        if self.highcat:\n",
    "            cat_vectors = self.highcat_process.transform(X[self.highcat])\n",
    "            if len(flat_matrix) > 0:\n",
    "                return [np.hstack(flat_matrix)] + cat_vectors\n",
    "            else:\n",
    "                return cat_vectors\n",
    "        else:\n",
    "            return np.hstack(flat_matrix)\n",
    "\n",
    "    def fit_transform(self, X, y=None, **fit_params):\n",
    "        self.fit(X, y, **fit_params)\n",
    "        return self.transform(X)"
   ]
  },
  {
   "cell_type": "code",
   "execution_count": 76,
   "metadata": {},
   "outputs": [],
   "source": [
    "class DateProcessor(BaseEstimator, TransformerMixin):\n",
    "    def __init__(self, date_format='%d/%m/%Y', hours_secs=False):\n",
    "        self.format = date_format\n",
    "        self.columns = None\n",
    "        # see https://docs.python.org/3/library/datetime.html#strftime-and-strptime-behavior\n",
    "        self.time_transformations = [\n",
    "            ('day_sin', lambda x: np.sin(2*np.pi*x.dt.day/31)),\n",
    "            ('day_cos', lambda x: np.cos(2*np.pi*x.dt.day/31)),\n",
    "            ('dayofweek_sin', lambda x: np.sin(2*np.pi*x.dt.dayofweek/6)),\n",
    "            ('dayofweek_cos', lambda x: np.cos(2*np.pi*x.dt.dayofweek/6)),\n",
    "            ('month_sin', lambda x: np.sin(2*np.pi*x.dt.month/12)),\n",
    "            ('month_cos', lambda x: np.cos(2*np.pi*x.dt.month/12)),\n",
    "            ('year', lambda x: (x.dt.year - x.dt.year.min()) / (x.dt.year.max() - x.dt.year.min()))\n",
    "        ]\n",
    "        if hours_secs:\n",
    "            self.time_transformations = [\n",
    "                ('hour_sin', lambda x: np.sin(2*np.pi*x.dt.hour/23)),\n",
    "                ('hour_cos', lambda x: np.cos(2*np.pi*x.dt.hour/23)),\n",
    "                ('minute_sin', lambda x: np.sin(2*np.pi*x.dt.minute/59)),\n",
    "                ('minute_cos', lambda x: np.cos(2*np.pi*x.dt.minute/59))\n",
    "            ] + self.time_transformations\n",
    "    \n",
    "    def fit(self, X, y=None, **fit_params):\n",
    "        self.columns = self.transform(X.iloc[0:1,:]).columns\n",
    "        return self\n",
    "    \n",
    "    def transform(self, X, y=None, **fit_params):\n",
    "        transformed = list()\n",
    "        for col in X.columns:\n",
    "            time_column = pd.to_datetime(X[col], format=self.format)\n",
    "            for label, func in self.time_transformations:\n",
    "                transformed.append(func(time_column))\n",
    "                transformed[-1].name = transformed[-1].name + '_' + label\n",
    "        transformed = pd.concat(transformed, axis=1)\n",
    "        return transformed\n",
    "            \n",
    "    def fit_transform(self, X, y=None, **fit_params):\n",
    "        self.fit(X, y, **fit_params)\n",
    "        return self.transform(X) "
   ]
  },
  {
   "cell_type": "code",
   "execution_count": 77,
   "metadata": {},
   "outputs": [],
   "source": [
    "class ToString(BaseEstimator, TransformerMixin):\n",
    "    def fit(self, X, y=None, **fit_params):\n",
    "        return self\n",
    "    def transform(self, X, y=None, **fit_params):\n",
    "        return X.astype(str)\n",
    "    def fit_transform(self, X, y=None, **fit_params):\n",
    "        self.fit(X, y, **fit_params)\n",
    "        return self.transform(X)"
   ]
  },
  {
   "cell_type": "code",
   "execution_count": 78,
   "metadata": {},
   "outputs": [],
   "source": [
    "class LEncoder(BaseEstimator, TransformerMixin):\n",
    "    \n",
    "    def __init__(self):\n",
    "        self.encoders = dict()\n",
    "        self.dictionary_size = list()\n",
    "        self.unk = -1\n",
    "    \n",
    "    def fit(self, X, y=None, **fit_params):\n",
    "        for col in range(X.shape[1]):\n",
    "            le = LabelEncoder()\n",
    "            le.fit(X.iloc[:, col].fillna('_nan'))\n",
    "            le_dict = dict(zip(le.classes_, le.transform(le.classes_)))\n",
    "            \n",
    "            if '_nan' not in le_dict:\n",
    "                max_value = max(le_dict.values())\n",
    "                le_dict['_nan'] = max_value\n",
    "            \n",
    "            max_value = max(le_dict.values())\n",
    "            le_dict['_unk'] = max_value\n",
    "            \n",
    "            self.unk = max_value\n",
    "            self.dictionary_size.append(len(le_dict))\n",
    "            col_name = X.columns[col]\n",
    "            self.encoders[col_name] = le_dict\n",
    "            \n",
    "        return self\n",
    "    \n",
    "    def transform(self, X, y=None, **fit_params):\n",
    "        output = list()\n",
    "        for col in range(X.shape[1]):\n",
    "            col_name = X.columns[col]\n",
    "            le_dict = self.encoders[col_name]\n",
    "            emb = X.iloc[:, col].fillna('_nan').apply(lambda x: le_dict.get(x, le_dict['_unk'])).values\n",
    "            output.append(pd.Series(emb, name=col_name).astype(np.int32))\n",
    "        return output\n",
    "\n",
    "    def fit_transform(self, X, y=None, **fit_params):\n",
    "        self.fit(X, y, **fit_params)\n",
    "        return self.transform(X)"
   ]
  },
  {
   "cell_type": "code",
   "execution_count": 79,
   "metadata": {},
   "outputs": [],
   "source": [
    "def assemble_numeric_pipeline(variance_threshold=0.0,\n",
    "                              imputer='mean',\n",
    "                              multivariate_imputer=False,\n",
    "                              add_indicator=True,\n",
    "                              quantile_transformer='normal',\n",
    "                              scaler=True):\n",
    "    numeric_pipeline = []\n",
    "    if variance_threshold is not None:\n",
    "        if isinstance(variance_threshold, float):\n",
    "            numeric_pipeline.append(('var_filter', VarianceThreshold(threshold=variance_threshold)))\n",
    "        else:\n",
    "            numeric_pipeline.append(('var_filter', VarianceThreshold()))\n",
    "        \n",
    "        \n",
    "    if imputer is not None:\n",
    "        if multivariate_imputer is True:\n",
    "            numeric_pipeline.append(('imputer', IterativeImputer(estimator=ExtraTreeRegressor(n_estimators=100,\n",
    "                                                                                             n_jobs=-2),\n",
    "                                                                initial_strategy=imputer,\n",
    "                                                                add_indicator=add_indicator)))\n",
    "        else:\n",
    "            numeric_pipeline.append(('imputer', SimpleImputer(strategy=imputer,\n",
    "                                                             add_indicator=add_indicator)))\n",
    "            \n",
    "    if quantile_transformer is not None:\n",
    "        numeric_pipeline.append(('transformer', QuantileTransformer(n_quantiles=100,\n",
    "                                                                    output_distribution=quantile_transformer,\n",
    "                                                                    random_state=42)))\n",
    "        \n",
    "    if scaler is not None:\n",
    "        numeric_pipeline.append(('scaler', StandardScaler()))\n",
    "        \n",
    "    return Pipeline(steps=numeric_pipeline)"
   ]
  },
  {
   "cell_type": "code",
   "execution_count": 83,
   "metadata": {},
   "outputs": [],
   "source": [
    "def derive_numeric_columns(df, pipeline):\n",
    "    columns = df.columns\n",
    "    if 'var_filter' in pipeline.named_steps:\n",
    "        threshold = pipeline.named_steps.var_filter.threshold\n",
    "        columns = columns[pipeline.named_steps.var_filter.variances_>threshold]\n",
    "    if 'imputer' in pipeline.named_steps:\n",
    "        missing_cols = pipeline.named_steps.imputer.indicator_.features_\n",
    "        if len(missing_cols) > 0:\n",
    "            columns = columns.append(columns[missing_cols] + '_missing')\n",
    "    return columns"
   ]
  },
  {
   "cell_type": "code",
   "execution_count": 87,
   "metadata": {},
   "outputs": [],
   "source": [
    "def derive_ohe_columns(df, pipeline):\n",
    "    return [str(col) + '_' + str(lvl) for col, lvls in zip(df.columns, pipeline.named_steps.onehot.categories_) for lvl in lvls]"
   ]
  },
  {
   "cell_type": "code",
   "execution_count": 88,
   "metadata": {},
   "outputs": [],
   "source": [
    "example = pd.concat([pd.DataFrame([[1, 2, 3, np.nan], [1, 3, np.nan, 4], [1, 2, 2, 2]], columns = ['a', 'b', 'c', 'd']),\n",
    "                     pd.DataFrame({'date_1': ['04/12/2018', '05/12/2019', '07/12/2020'],\n",
    "                                    'date_2': ['12/5/2018', '15/5/2015', '18/5/2016'],\n",
    "                                    'date_3': ['25/8/2019', '28/8/2018', '29/8/2017']}),\n",
    "                     pd.DataFrame([['first', 'very much'], ['second', 'very little'], ['third', 'average']],\n",
    "                                   columns = ['rank', 'importance']),\n",
    "                     pd.DataFrame([['car', 1234], ['house', 6543], ['tree', 3456]], columns=['object', 'code']),\n",
    "                     pd.DataFrame({'high_cat_1': [random_id(length=2) for i in range(3)], \n",
    "                                    'high_cat_2': [random_id(length=3) for i in range(3)], \n",
    "                                    'high_cat_3': [random_id(length=4) for i in range(3)]})\n",
    "                    ], axis=1)\n",
    "\n",
    "numeric_vars = ['a', 'b', 'c', 'd']\n",
    "date_vars = ['date_1', 'date_2', 'date_3']\n",
    "ordinal_vars = ['rank', 'importance']\n",
    "cat_vars = ['object', 'code']\n",
    "highcat_vars = ['high_cat_1', 'high_cat_2', 'high_cat_3']"
   ]
  },
  {
   "cell_type": "code",
   "execution_count": 89,
   "metadata": {},
   "outputs": [],
   "source": [
    "tt = TabularTransformer(numeric=numeric_vars, dates=date_vars, ordinal=ordinal_vars, cat=cat_vars, highcat=highcat_vars)"
   ]
  },
  {
   "cell_type": "code",
   "execution_count": 90,
   "metadata": {},
   "outputs": [
    {
     "name": "stderr",
     "output_type": "stream",
     "text": [
      "/home/wil/anaconda3/envs/py365/lib/python3.6/site-packages/sklearn/preprocessing/_data.py:2615: UserWarning: n_quantiles (100) is greater than the total number of samples (3). n_quantiles is set to n_samples.\n",
      "  % (self.n_quantiles, n_samples))\n"
     ]
    }
   ],
   "source": [
    "input_list = tt.fit_transform(example)"
   ]
  },
  {
   "cell_type": "code",
   "execution_count": 91,
   "metadata": {},
   "outputs": [
    {
     "name": "stdout",
     "output_type": "stream",
     "text": [
      "[((3, 40), dtype('float32')), ((3,), dtype('int32')), ((3,), dtype('int32')), ((3,), dtype('int32'))]\n"
     ]
    }
   ],
   "source": [
    "print([(item.shape, item.dtype) for item in input_list])"
   ]
  },
  {
   "cell_type": "code",
   "execution_count": 92,
   "metadata": {},
   "outputs": [
    {
     "data": {
      "text/plain": [
       "[['b',\n",
       "  'c',\n",
       "  'd',\n",
       "  'c_missing',\n",
       "  'd_missing',\n",
       "  'date_1_day_sin',\n",
       "  'date_1_day_cos',\n",
       "  'date_1_dayofweek_sin',\n",
       "  'date_1_dayofweek_cos',\n",
       "  'date_1_month_sin',\n",
       "  'date_1_month_cos',\n",
       "  'date_1_year',\n",
       "  'date_2_day_sin',\n",
       "  'date_2_day_cos',\n",
       "  'date_2_dayofweek_sin',\n",
       "  'date_2_dayofweek_cos',\n",
       "  'date_2_month_sin',\n",
       "  'date_2_month_cos',\n",
       "  'date_2_year',\n",
       "  'date_3_day_sin',\n",
       "  'date_3_day_cos',\n",
       "  'date_3_dayofweek_sin',\n",
       "  'date_3_dayofweek_cos',\n",
       "  'date_3_month_sin',\n",
       "  'date_3_month_cos',\n",
       "  'date_3_year',\n",
       "  'rank',\n",
       "  'importance',\n",
       "  'rank_first',\n",
       "  'rank_second',\n",
       "  'rank_third',\n",
       "  'importance_average',\n",
       "  'importance_very little',\n",
       "  'importance_very much',\n",
       "  'object_car',\n",
       "  'object_house',\n",
       "  'object_tree',\n",
       "  'code_1234',\n",
       "  'code_3456',\n",
       "  'code_6543'],\n",
       " ['high_cat_1', 'high_cat_2', 'high_cat_3']]"
      ]
     },
     "execution_count": 92,
     "metadata": {},
     "output_type": "execute_result"
    }
   ],
   "source": [
    "tt.columns"
   ]
  },
  {
   "cell_type": "code",
   "execution_count": 93,
   "metadata": {},
   "outputs": [
    {
     "data": {
      "text/plain": [
       "{'high_cat_1': 5, 'high_cat_2': 5, 'high_cat_3': 5}"
      ]
     },
     "execution_count": 93,
     "metadata": {},
     "output_type": "execute_result"
    }
   ],
   "source": [
    "tt.vocabulary"
   ]
  },
  {
   "cell_type": "markdown",
   "metadata": {},
   "source": [
    "# Setting up a data generator"
   ]
  },
  {
   "cell_type": "markdown",
   "metadata": {},
   "source": [
    "## Getting ready"
   ]
  },
  {
   "cell_type": "code",
   "execution_count": 94,
   "metadata": {},
   "outputs": [],
   "source": [
    "from tensorflow.keras.utils import Sequence"
   ]
  },
  {
   "cell_type": "markdown",
   "metadata": {},
   "source": [
    "## How to do it"
   ]
  },
  {
   "cell_type": "code",
   "execution_count": 95,
   "metadata": {},
   "outputs": [],
   "source": [
    "class DataGenerator(Sequence):\n",
    "    \"\"\"\n",
    "    Generates data for Keras\n",
    "    \"\"\"\n",
    "    def __init__(self, X, y,\n",
    "                 tabular_transformer=None,\n",
    "                 batch_size=32, \n",
    "                 shuffle=False,\n",
    "                 dict_output=False\n",
    "                 ):\n",
    "        \n",
    "        'Initialization'\n",
    "        self.X = X\n",
    "        self.y = y\n",
    "        self.tbt = tabular_transformer\n",
    "        self.tabular_transformer = tabular_transformer\n",
    "        self.batch_size = batch_size\n",
    "        self.shuffle = shuffle\n",
    "        self.dict_output = dict_output\n",
    "        self.indexes = self._build_index()\n",
    "        self.on_epoch_end()\n",
    "        self.item = 0\n",
    "    \n",
    "    def _build_index(self):\n",
    "        \"\"\"\n",
    "        Builds an index from data\n",
    "        \"\"\"\n",
    "        return np.arange(len(self.y))\n",
    "    \n",
    "    def on_epoch_end(self):\n",
    "        \"\"\"\n",
    "        At the end of every epoch, shuffle if required\n",
    "        \"\"\"\n",
    "        if self.shuffle:\n",
    "            np.random.shuffle(self.indexes)\n",
    "            \n",
    "    def __len__(self):\n",
    "        \"\"\"\n",
    "        Returns the number of batches per epoch\n",
    "        \"\"\"\n",
    "        return int(len(self.indexes) / self.batch_size) + 1\n",
    "    \n",
    "    \n",
    "    def __iter__(self):\n",
    "        \"\"\"\n",
    "        returns an iterable\n",
    "        \"\"\"\n",
    "        for i in range(self.__len__()):\n",
    "            self.item = i\n",
    "            yield self.__getitem__(index=i)\n",
    "            \n",
    "        self.item = 0\n",
    "        \n",
    "    def __next__(self):\n",
    "        return self.__getitem__(index=self.item)\n",
    "    \n",
    "    def __call__(self):\n",
    "        return self.__iter__()\n",
    "            \n",
    "    def __data_generation(self, selection):\n",
    "        if self.tbt is not None:\n",
    "            if self.dict_output:\n",
    "                dct = {'input_'+str(j) : arr for j, arr in enumerate(self.tbt.transform(self.X.iloc[selection, :]))}\n",
    "                return dct, self.y[selection]\n",
    "            else:\n",
    "                return self.tbt.transform(self.X.iloc[selection, :]), self.y[selection]\n",
    "        else:\n",
    "            return self.X.iloc[selection, :], self.y[selection]\n",
    "        \n",
    "    def __getitem__(self, index):\n",
    "        indexes = self.indexes[index*self.batch_size:(index+1)*self.batch_size]\n",
    "        samples, labels = self.__data_generation(indexes)\n",
    "        return samples, labels, [None]"
   ]
  },
  {
   "cell_type": "markdown",
   "metadata": {},
   "source": [
    "# Creating custom activations for tabular data"
   ]
  },
  {
   "cell_type": "markdown",
   "metadata": {},
   "source": [
    "## Getting ready"
   ]
  },
  {
   "cell_type": "code",
   "execution_count": 96,
   "metadata": {},
   "outputs": [],
   "source": [
    "from tensorflow import keras\n",
    "import numpy as np\n",
    "import matplotlib.pyplot as plt"
   ]
  },
  {
   "cell_type": "code",
   "execution_count": 101,
   "metadata": {},
   "outputs": [],
   "source": [
    "def gelu(x):\n",
    "    return 0.5 * x * (1 + tf.tanh(tf.sqrt(2 / np.pi) * (x + 0.044715 * tf.pow(x, 3))))\n",
    "\n",
    "keras.utils.get_custom_objects().update({'gelu': keras.layers.Activation(gelu)})\n",
    "\n",
    "def mish(inputs):\n",
    "    return inputs * tf.math.tanh(tf.math.softplus(inputs))\n",
    "\n",
    "keras.utils.get_custom_objects().update({'mish': keras.layers.Activation(mish)})"
   ]
  },
  {
   "cell_type": "markdown",
   "metadata": {},
   "source": [
    "## How it works..."
   ]
  },
  {
   "cell_type": "code",
   "execution_count": 103,
   "metadata": {},
   "outputs": [
    {
     "data": {
      "image/png": "[encoded data removed]",
      "text/plain": [
       "<Figure size 432x288 with 1 Axes>"
      ]
     },
     "metadata": {
      "needs_background": "light"
     },
     "output_type": "display_data"
    }
   ],
   "source": [
    "gelu_vals = list()\n",
    "mish_vals = list()\n",
    "abscissa = np.arange(-4, 1, 0.1)\n",
    "for val in abscissa:\n",
    "    gelu_vals.append(gelu(tf.cast(val, tf.float32)).numpy())\n",
    "    mish_vals.append(mish(tf.cast(val, tf.float32)).numpy())\n",
    "    \n",
    "plt.plot(abscissa, gelu_vals, label='gelu')\n",
    "plt.plot(abscissa, mish_vals, label='mish')\n",
    "plt.axvline(x=0.0, linestyle='--', color='darkgray')\n",
    "plt.axhline(y=0.0, linestyle='--', color='darkgray')\n",
    "plt.legend()\n",
    "plt.show()"
   ]
  },
  {
   "cell_type": "markdown",
   "metadata": {},
   "source": [
    "# Running a test on a difficult problem"
   ]
  },
  {
   "cell_type": "markdown",
   "metadata": {},
   "source": [
    "## Getting ready"
   ]
  },
  {
   "cell_type": "code",
   "execution_count": 104,
   "metadata": {},
   "outputs": [],
   "source": [
    "import tensorflow as tf\n",
    "import tensorflow.keras as keras"
   ]
  },
  {
   "cell_type": "code",
   "execution_count": 105,
   "metadata": {},
   "outputs": [],
   "source": [
    "tf.compat.v1.disable_eager_execution()"
   ]
  },
  {
   "cell_type": "code",
   "execution_count": 111,
   "metadata": {},
   "outputs": [],
   "source": [
    "from catboost.datasets import amazon\n",
    "\n",
    "X, Xt = amazon()\n",
    "y = X[\"ACTION\"].apply(lambda x: 1 if x == 1 else 0).values\n",
    "X.drop([\"ACTION\"], axis=1, inplace=True)"
   ]
  },
  {
   "cell_type": "code",
   "execution_count": 113,
   "metadata": {},
   "outputs": [
    {
     "data": {
      "text/html": [
       "<div>\n",
       "<style scoped>\n",
       "    .dataframe tbody tr th:only-of-type {\n",
       "        vertical-align: middle;\n",
       "    }\n",
       "\n",
       "    .dataframe tbody tr th {\n",
       "        vertical-align: top;\n",
       "    }\n",
       "\n",
       "    .dataframe thead th {\n",
       "        text-align: right;\n",
       "    }\n",
       "</style>\n",
       "<table border=\"1\" class=\"dataframe\">\n",
       "  <thead>\n",
       "    <tr style=\"text-align: right;\">\n",
       "      <th></th>\n",
       "      <th>RESOURCE</th>\n",
       "      <th>MGR_ID</th>\n",
       "      <th>ROLE_ROLLUP_1</th>\n",
       "      <th>ROLE_ROLLUP_2</th>\n",
       "      <th>ROLE_DEPTNAME</th>\n",
       "      <th>ROLE_TITLE</th>\n",
       "      <th>ROLE_FAMILY_DESC</th>\n",
       "      <th>ROLE_FAMILY</th>\n",
       "      <th>ROLE_CODE</th>\n",
       "    </tr>\n",
       "  </thead>\n",
       "  <tbody>\n",
       "    <tr>\n",
       "      <th>0</th>\n",
       "      <td>39353</td>\n",
       "      <td>85475</td>\n",
       "      <td>117961</td>\n",
       "      <td>118300</td>\n",
       "      <td>123472</td>\n",
       "      <td>117905</td>\n",
       "      <td>117906</td>\n",
       "      <td>290919</td>\n",
       "      <td>117908</td>\n",
       "    </tr>\n",
       "    <tr>\n",
       "      <th>1</th>\n",
       "      <td>17183</td>\n",
       "      <td>1540</td>\n",
       "      <td>117961</td>\n",
       "      <td>118343</td>\n",
       "      <td>123125</td>\n",
       "      <td>118536</td>\n",
       "      <td>118536</td>\n",
       "      <td>308574</td>\n",
       "      <td>118539</td>\n",
       "    </tr>\n",
       "    <tr>\n",
       "      <th>2</th>\n",
       "      <td>36724</td>\n",
       "      <td>14457</td>\n",
       "      <td>118219</td>\n",
       "      <td>118220</td>\n",
       "      <td>117884</td>\n",
       "      <td>117879</td>\n",
       "      <td>267952</td>\n",
       "      <td>19721</td>\n",
       "      <td>117880</td>\n",
       "    </tr>\n",
       "    <tr>\n",
       "      <th>3</th>\n",
       "      <td>36135</td>\n",
       "      <td>5396</td>\n",
       "      <td>117961</td>\n",
       "      <td>118343</td>\n",
       "      <td>119993</td>\n",
       "      <td>118321</td>\n",
       "      <td>240983</td>\n",
       "      <td>290919</td>\n",
       "      <td>118322</td>\n",
       "    </tr>\n",
       "    <tr>\n",
       "      <th>4</th>\n",
       "      <td>42680</td>\n",
       "      <td>5905</td>\n",
       "      <td>117929</td>\n",
       "      <td>117930</td>\n",
       "      <td>119569</td>\n",
       "      <td>119323</td>\n",
       "      <td>123932</td>\n",
       "      <td>19793</td>\n",
       "      <td>119325</td>\n",
       "    </tr>\n",
       "  </tbody>\n",
       "</table>\n",
       "</div>"
      ],
      "text/plain": [
       "   RESOURCE  MGR_ID  ROLE_ROLLUP_1  ROLE_ROLLUP_2  ROLE_DEPTNAME  ROLE_TITLE  \\\n",
       "0     39353   85475         117961         118300         123472      117905   \n",
       "1     17183    1540         117961         118343         123125      118536   \n",
       "2     36724   14457         118219         118220         117884      117879   \n",
       "3     36135    5396         117961         118343         119993      118321   \n",
       "4     42680    5905         117929         117930         119569      119323   \n",
       "\n",
       "   ROLE_FAMILY_DESC  ROLE_FAMILY  ROLE_CODE  \n",
       "0            117906       290919     117908  \n",
       "1            118536       308574     118539  \n",
       "2            267952        19721     117880  \n",
       "3            240983       290919     118322  \n",
       "4            123932        19793     119325  "
      ]
     },
     "execution_count": 113,
     "metadata": {},
     "output_type": "execute_result"
    }
   ],
   "source": [
    "X.head()"
   ]
  },
  {
   "cell_type": "code",
   "execution_count": 114,
   "metadata": {},
   "outputs": [
    {
     "data": {
      "text/html": [
       "<div>\n",
       "<style scoped>\n",
       "    .dataframe tbody tr th:only-of-type {\n",
       "        vertical-align: middle;\n",
       "    }\n",
       "\n",
       "    .dataframe tbody tr th {\n",
       "        vertical-align: top;\n",
       "    }\n",
       "\n",
       "    .dataframe thead th {\n",
       "        text-align: right;\n",
       "    }\n",
       "</style>\n",
       "<table border=\"1\" class=\"dataframe\">\n",
       "  <thead>\n",
       "    <tr style=\"text-align: right;\">\n",
       "      <th></th>\n",
       "      <th>id</th>\n",
       "      <th>RESOURCE</th>\n",
       "      <th>MGR_ID</th>\n",
       "      <th>ROLE_ROLLUP_1</th>\n",
       "      <th>ROLE_ROLLUP_2</th>\n",
       "      <th>ROLE_DEPTNAME</th>\n",
       "      <th>ROLE_TITLE</th>\n",
       "      <th>ROLE_FAMILY_DESC</th>\n",
       "      <th>ROLE_FAMILY</th>\n",
       "      <th>ROLE_CODE</th>\n",
       "    </tr>\n",
       "  </thead>\n",
       "  <tbody>\n",
       "    <tr>\n",
       "      <th>0</th>\n",
       "      <td>1</td>\n",
       "      <td>78766</td>\n",
       "      <td>72734</td>\n",
       "      <td>118079</td>\n",
       "      <td>118080</td>\n",
       "      <td>117878</td>\n",
       "      <td>117879</td>\n",
       "      <td>118177</td>\n",
       "      <td>19721</td>\n",
       "      <td>117880</td>\n",
       "    </tr>\n",
       "    <tr>\n",
       "      <th>1</th>\n",
       "      <td>2</td>\n",
       "      <td>40644</td>\n",
       "      <td>4378</td>\n",
       "      <td>117961</td>\n",
       "      <td>118327</td>\n",
       "      <td>118507</td>\n",
       "      <td>118863</td>\n",
       "      <td>122008</td>\n",
       "      <td>118398</td>\n",
       "      <td>118865</td>\n",
       "    </tr>\n",
       "    <tr>\n",
       "      <th>2</th>\n",
       "      <td>3</td>\n",
       "      <td>75443</td>\n",
       "      <td>2395</td>\n",
       "      <td>117961</td>\n",
       "      <td>118300</td>\n",
       "      <td>119488</td>\n",
       "      <td>118172</td>\n",
       "      <td>301534</td>\n",
       "      <td>249618</td>\n",
       "      <td>118175</td>\n",
       "    </tr>\n",
       "    <tr>\n",
       "      <th>3</th>\n",
       "      <td>4</td>\n",
       "      <td>43219</td>\n",
       "      <td>19986</td>\n",
       "      <td>117961</td>\n",
       "      <td>118225</td>\n",
       "      <td>118403</td>\n",
       "      <td>120773</td>\n",
       "      <td>136187</td>\n",
       "      <td>118960</td>\n",
       "      <td>120774</td>\n",
       "    </tr>\n",
       "    <tr>\n",
       "      <th>4</th>\n",
       "      <td>5</td>\n",
       "      <td>42093</td>\n",
       "      <td>50015</td>\n",
       "      <td>117961</td>\n",
       "      <td>118343</td>\n",
       "      <td>119598</td>\n",
       "      <td>118422</td>\n",
       "      <td>300136</td>\n",
       "      <td>118424</td>\n",
       "      <td>118425</td>\n",
       "    </tr>\n",
       "  </tbody>\n",
       "</table>\n",
       "</div>"
      ],
      "text/plain": [
       "   id  RESOURCE  MGR_ID  ROLE_ROLLUP_1  ROLE_ROLLUP_2  ROLE_DEPTNAME  \\\n",
       "0   1     78766   72734         118079         118080         117878   \n",
       "1   2     40644    4378         117961         118327         118507   \n",
       "2   3     75443    2395         117961         118300         119488   \n",
       "3   4     43219   19986         117961         118225         118403   \n",
       "4   5     42093   50015         117961         118343         119598   \n",
       "\n",
       "   ROLE_TITLE  ROLE_FAMILY_DESC  ROLE_FAMILY  ROLE_CODE  \n",
       "0      117879            118177        19721     117880  \n",
       "1      118863            122008       118398     118865  \n",
       "2      118172            301534       249618     118175  \n",
       "3      120773            136187       118960     120774  \n",
       "4      118422            300136       118424     118425  "
      ]
     },
     "execution_count": 114,
     "metadata": {},
     "output_type": "execute_result"
    }
   ],
   "source": [
    "Xt.head()"
   ]
  },
  {
   "cell_type": "code",
   "execution_count": 116,
   "metadata": {},
   "outputs": [
    {
     "data": {
      "text/plain": [
       "array([1, 1, 1, ..., 1, 1, 1])"
      ]
     },
     "execution_count": 116,
     "metadata": {},
     "output_type": "execute_result"
    }
   ],
   "source": [
    "y"
   ]
  },
  {
   "cell_type": "markdown",
   "metadata": {},
   "source": [
    "## How to do it..."
   ]
  },
  {
   "cell_type": "code",
   "execution_count": 123,
   "metadata": {},
   "outputs": [],
   "source": [
    "def dnn(categorical_variables, categorical_counts, feature_selection_dropout=0.2, categorical_dropout=0.1,\n",
    "        first_dense=256, second_dense=256, dense_dropout=0.2, activation_type=gelu):\n",
    "    \n",
    "    categorical_inputs = []\n",
    "    categorical_embeddings = []\n",
    "    \n",
    "    for category in categorical_variables:\n",
    "        categorical_inputs.append(keras.layers.Input(shape=[1], name=category))\n",
    "        category_counts = categorical_counts[category]\n",
    "        categorical_embeddings.append(keras.layers.Embedding(category_counts+1, int(np.log1p(category_counts)+1),\n",
    "                                                             name = category + \"_embed\")(categorical_inputs[-1]))\n",
    "        \n",
    "    def flatten_dropout(x, categorical_dropout):\n",
    "        return keras.layers.Flatten()(keras.layers.SpatialDropout1D(categorical_dropout)(x))\n",
    "    \n",
    "    categorical_logits = [flatten_dropout(cat_emb, categorical_dropout) for cat_emb in categorical_embeddings]\n",
    "    categorical_concat = keras.layers.Concatenate(name='categorical_concat')(categorical_logits)\n",
    "    \n",
    "    x = keras.layers.Dense(first_dense, activation=activation_type)(categorical_concat)\n",
    "    x = keras.layers.Dropout(dense_dropout)(x)\n",
    "    x = keras.layers.Dense(second_dense, activation=activation_type)(x)\n",
    "    x = keras.layers.Dropout(dense_dropout)(x)\n",
    "    output = keras.layers.Dense(1, activation='sigmoid')(x)\n",
    "    model = keras.Model(categorical_inputs, output)\n",
    "    \n",
    "    return model"
   ]
  },
  {
   "cell_type": "code",
   "execution_count": 126,
   "metadata": {},
   "outputs": [],
   "source": [
    "from sklearn.metrics import average_precision_score, roc_auc_score\n",
    "\n",
    "def mAP(y_true, y_pred):\n",
    "    return tf.py_function(average_precision_score, (y_true, y_pred), tf.double)\n",
    "\n",
    "def auc(y_true, y_pred):\n",
    "    try:\n",
    "        return tf.py_function(roc_auc_score, (y_true, y_pred), tf.double)\n",
    "    \n",
    "    except:\n",
    "        return 0.5\n",
    "    \n",
    "def compile_model(model, loss, metrics, optimizer):\n",
    "    model.compile(loss=loss, metrics=metrics, optimizer=optimizer)\n",
    "    return model\n",
    "\n",
    "def plot_keras_history(history, measures):\n",
    "    \"\"\"\n",
    "    history: Keras training history\n",
    "    measures = list of names of measures\n",
    "    \"\"\"\n",
    "    rows = len(measures) // 2 + len(measures) % 2\n",
    "    fig, panels = plt.subplots(rows, 2, figsize=(15, 5))\n",
    "    plt.subplots_adjust(top=0.99, bottom=0.01, hspace=0.4, wspace=0.2)\n",
    "    \n",
    "    try:\n",
    "        panels = [item for sublist in panels for item in sublist]\n",
    "    except:\n",
    "        pass\n",
    "    for k, measure in enumerate(measures):\n",
    "        panel = panels[k]\n",
    "        panel.set_title(measure + ' history')\n",
    "        panel.plot(history.epoch, history.history[measure], label='Train ' + measure)\n",
    "        panel.plot(history.epoch, history.history['val_' + measure], label=\"Validation \" + measure)\n",
    "        panel.set(xlabel='epochs', ylabel=measure)\n",
    "        panel.legend()\n",
    "        \n",
    "    plt.show(fig)"
   ]
  },
  {
   "cell_type": "code",
   "execution_count": 127,
   "metadata": {},
   "outputs": [
    {
     "name": "stdout",
     "output_type": "stream",
     "text": [
      "Epoch 1/30\n"
     ]
    },
    {
     "name": "stderr",
     "output_type": "stream",
     "text": [
      "/home/wil/anaconda3/envs/py365/lib/python3.6/site-packages/keras/engine/training.py:2470: UserWarning: `Model.state_updates` will be removed in a future version. This property should not be used in TensorFlow 2.0, as `updates` are applied automatically.\n",
      "  warnings.warn('`Model.state_updates` will be removed in a future version. '\n"
     ]
    },
    {
     "name": "stdout",
     "output_type": "stream",
     "text": [
      "43/43 - 2s - loss: 0.6810 - auc: 0.5330 - mAP: 0.9479 - val_loss: 0.6686 - val_auc: 0.5358 - val_mAP: 0.9499\n",
      "Epoch 2/30\n",
      "43/43 - 1s - loss: 0.6537 - auc: 0.5452 - mAP: 0.9509 - val_loss: 0.6348 - val_auc: 0.5525 - val_mAP: 0.9526\n",
      "Epoch 3/30\n",
      "43/43 - 1s - loss: 0.6107 - auc: 0.5688 - mAP: 0.9522 - val_loss: 0.5805 - val_auc: 0.5665 - val_mAP: 0.9552\n",
      "Epoch 4/30\n",
      "43/43 - 1s - loss: 0.5434 - auc: 0.5960 - mAP: 0.9567 - val_loss: 0.4999 - val_auc: 0.5797 - val_mAP: 0.9573\n",
      "Epoch 5/30\n",
      "43/43 - 1s - loss: 0.4532 - auc: 0.6048 - mAP: 0.9584 - val_loss: 0.4030 - val_auc: 0.5963 - val_mAP: 0.9596\n",
      "Epoch 6/30\n",
      "43/43 - 1s - loss: 0.3565 - auc: 0.6441 - mAP: 0.9638 - val_loss: 0.3150 - val_auc: 0.6147 - val_mAP: 0.9622\n",
      "Epoch 7/30\n",
      "43/43 - 1s - loss: 0.2824 - auc: 0.6578 - mAP: 0.9649 - val_loss: 0.2573 - val_auc: 0.6370 - val_mAP: 0.9652\n",
      "Epoch 8/30\n",
      "43/43 - 1s - loss: 0.2378 - auc: 0.6963 - mAP: 0.9703 - val_loss: 0.2277 - val_auc: 0.6616 - val_mAP: 0.9682\n",
      "Epoch 9/30\n",
      "43/43 - 1s - loss: 0.2152 - auc: 0.7267 - mAP: 0.9740 - val_loss: 0.2143 - val_auc: 0.6868 - val_mAP: 0.9712\n",
      "Epoch 10/30\n",
      "43/43 - 1s - loss: 0.2037 - auc: 0.7602 - mAP: 0.9778 - val_loss: 0.2076 - val_auc: 0.7113 - val_mAP: 0.9738\n",
      "Epoch 11/30\n",
      "43/43 - 1s - loss: 0.1964 - auc: 0.7939 - mAP: 0.9813 - val_loss: 0.2035 - val_auc: 0.7355 - val_mAP: 0.9763\n",
      "Epoch 12/30\n",
      "43/43 - 1s - loss: 0.1912 - auc: 0.8212 - mAP: 0.9843 - val_loss: 0.2004 - val_auc: 0.7551 - val_mAP: 0.9782\n",
      "Epoch 13/30\n",
      "43/43 - 1s - loss: 0.1861 - auc: 0.8436 - mAP: 0.9863 - val_loss: 0.1976 - val_auc: 0.7718 - val_mAP: 0.9797\n",
      "Epoch 14/30\n",
      "43/43 - 1s - loss: 0.1811 - auc: 0.8644 - mAP: 0.9885 - val_loss: 0.1948 - val_auc: 0.7846 - val_mAP: 0.9809\n",
      "Epoch 15/30\n",
      "43/43 - 1s - loss: 0.1755 - auc: 0.8863 - mAP: 0.9906 - val_loss: 0.1921 - val_auc: 0.7951 - val_mAP: 0.9818\n",
      "Epoch 16/30\n",
      "43/43 - 1s - loss: 0.1707 - auc: 0.8990 - mAP: 0.9915 - val_loss: 0.1894 - val_auc: 0.8038 - val_mAP: 0.9825\n",
      "Epoch 17/30\n",
      "43/43 - 1s - loss: 0.1648 - auc: 0.9137 - mAP: 0.9931 - val_loss: 0.1867 - val_auc: 0.8102 - val_mAP: 0.9831\n",
      "Epoch 18/30\n",
      "43/43 - 1s - loss: 0.1595 - auc: 0.9238 - mAP: 0.9939 - val_loss: 0.1841 - val_auc: 0.8156 - val_mAP: 0.9835\n",
      "Epoch 19/30\n",
      "43/43 - 1s - loss: 0.1532 - auc: 0.9334 - mAP: 0.9948 - val_loss: 0.1817 - val_auc: 0.8195 - val_mAP: 0.9839\n",
      "Epoch 20/30\n",
      "43/43 - 1s - loss: 0.1473 - auc: 0.9399 - mAP: 0.9953 - val_loss: 0.1793 - val_auc: 0.8228 - val_mAP: 0.9841\n",
      "Epoch 21/30\n",
      "43/43 - 1s - loss: 0.1416 - auc: 0.9444 - mAP: 0.9957 - val_loss: 0.1771 - val_auc: 0.8257 - val_mAP: 0.9843\n",
      "Epoch 22/30\n",
      "43/43 - 1s - loss: 0.1354 - auc: 0.9515 - mAP: 0.9965 - val_loss: 0.1750 - val_auc: 0.8278 - val_mAP: 0.9845\n",
      "Epoch 23/30\n",
      "43/43 - 1s - loss: 0.1297 - auc: 0.9565 - mAP: 0.9968 - val_loss: 0.1734 - val_auc: 0.8295 - val_mAP: 0.9846\n",
      "Epoch 24/30\n",
      "43/43 - 1s - loss: 0.1240 - auc: 0.9595 - mAP: 0.9970 - val_loss: 0.1720 - val_auc: 0.8310 - val_mAP: 0.9848\n",
      "Epoch 25/30\n",
      "43/43 - 1s - loss: 0.1180 - auc: 0.9644 - mAP: 0.9975 - val_loss: 0.1708 - val_auc: 0.8325 - val_mAP: 0.9849\n",
      "Epoch 26/30\n",
      "43/43 - 1s - loss: 0.1129 - auc: 0.9642 - mAP: 0.9974 - val_loss: 0.1700 - val_auc: 0.8336 - val_mAP: 0.9850\n",
      "Epoch 27/30\n",
      "43/43 - 1s - loss: 0.1075 - auc: 0.9683 - mAP: 0.9978 - val_loss: 0.1697 - val_auc: 0.8345 - val_mAP: 0.9851\n",
      "Epoch 28/30\n",
      "43/43 - 1s - loss: 0.1026 - auc: 0.9709 - mAP: 0.9980 - val_loss: 0.1697 - val_auc: 0.8357 - val_mAP: 0.9852\n",
      "Epoch 29/30\n",
      "43/43 - 1s - loss: 0.0982 - auc: 0.9730 - mAP: 0.9981 - val_loss: 0.1700 - val_auc: 0.8365 - val_mAP: 0.9852\n",
      "Epoch 30/30\n",
      "43/43 - 1s - loss: 0.0936 - auc: 0.9756 - mAP: 0.9984 - val_loss: 0.1707 - val_auc: 0.8370 - val_mAP: 0.9853\n",
      "\n",
      "FOLD 0\n"
     ]
    },
    {
     "data": {
      "image/png": "[encoded data removed]",
      "text/plain": [
       "<Figure size 1080x360 with 2 Axes>"
      ]
     },
     "metadata": {
      "needs_background": "light"
     },
     "output_type": "display_data"
    },
    {
     "name": "stderr",
     "output_type": "stream",
     "text": [
      "/home/wil/anaconda3/envs/py365/lib/python3.6/site-packages/keras/engine/training.py:2470: UserWarning: `Model.state_updates` will be removed in a future version. This property should not be used in TensorFlow 2.0, as `updates` are applied automatically.\n",
      "  warnings.warn('`Model.state_updates` will be removed in a future version. '\n"
     ]
    },
    {
     "name": "stdout",
     "output_type": "stream",
     "text": [
      "Epoch 1/30\n"
     ]
    },
    {
     "name": "stderr",
     "output_type": "stream",
     "text": [
      "/home/wil/anaconda3/envs/py365/lib/python3.6/site-packages/keras/engine/training.py:2470: UserWarning: `Model.state_updates` will be removed in a future version. This property should not be used in TensorFlow 2.0, as `updates` are applied automatically.\n",
      "  warnings.warn('`Model.state_updates` will be removed in a future version. '\n"
     ]
    },
    {
     "name": "stdout",
     "output_type": "stream",
     "text": [
      "43/43 - 3s - loss: 0.6800 - auc: 0.5092 - mAP: 0.9453 - val_loss: 0.6656 - val_auc: 0.5278 - val_mAP: 0.9478\n",
      "Epoch 2/30\n",
      "43/43 - 1s - loss: 0.6461 - auc: 0.5322 - mAP: 0.9473 - val_loss: 0.6249 - val_auc: 0.5396 - val_mAP: 0.9493\n",
      "Epoch 3/30\n",
      "43/43 - 1s - loss: 0.5938 - auc: 0.5571 - mAP: 0.9512 - val_loss: 0.5603 - val_auc: 0.5542 - val_mAP: 0.9514\n",
      "Epoch 4/30\n",
      "43/43 - 1s - loss: 0.5150 - auc: 0.5810 - mAP: 0.9548 - val_loss: 0.4704 - val_auc: 0.5715 - val_mAP: 0.9541\n",
      "Epoch 5/30\n",
      "43/43 - 1s - loss: 0.4186 - auc: 0.6047 - mAP: 0.9587 - val_loss: 0.3719 - val_auc: 0.5913 - val_mAP: 0.9572\n",
      "Epoch 6/30\n",
      "43/43 - 1s - loss: 0.3274 - auc: 0.6424 - mAP: 0.9632 - val_loss: 0.2931 - val_auc: 0.6120 - val_mAP: 0.9602\n",
      "Epoch 7/30\n",
      "43/43 - 1s - loss: 0.2638 - auc: 0.6707 - mAP: 0.9673 - val_loss: 0.2461 - val_auc: 0.6371 - val_mAP: 0.9636\n",
      "Epoch 8/30\n",
      "43/43 - 1s - loss: 0.2283 - auc: 0.7129 - mAP: 0.9723 - val_loss: 0.2228 - val_auc: 0.6631 - val_mAP: 0.9670\n",
      "Epoch 9/30\n",
      "43/43 - 1s - loss: 0.2112 - auc: 0.7405 - mAP: 0.9745 - val_loss: 0.2116 - val_auc: 0.6903 - val_mAP: 0.9703\n",
      "Epoch 10/30\n",
      "43/43 - 1s - loss: 0.2005 - auc: 0.7799 - mAP: 0.9804 - val_loss: 0.2055 - val_auc: 0.7171 - val_mAP: 0.9734\n",
      "Epoch 11/30\n",
      "43/43 - 1s - loss: 0.1943 - auc: 0.8076 - mAP: 0.9826 - val_loss: 0.2014 - val_auc: 0.7405 - val_mAP: 0.9759\n",
      "Epoch 12/30\n",
      "43/43 - 1s - loss: 0.1888 - auc: 0.8355 - mAP: 0.9856 - val_loss: 0.1981 - val_auc: 0.7596 - val_mAP: 0.9777\n",
      "Epoch 13/30\n",
      "43/43 - 1s - loss: 0.1831 - auc: 0.8640 - mAP: 0.9885 - val_loss: 0.1950 - val_auc: 0.7758 - val_mAP: 0.9793\n",
      "Epoch 14/30\n",
      "43/43 - 1s - loss: 0.1784 - auc: 0.8792 - mAP: 0.9896 - val_loss: 0.1919 - val_auc: 0.7889 - val_mAP: 0.9806\n",
      "Epoch 15/30\n",
      "43/43 - 1s - loss: 0.1728 - auc: 0.8969 - mAP: 0.9915 - val_loss: 0.1889 - val_auc: 0.7996 - val_mAP: 0.9815\n",
      "Epoch 16/30\n",
      "43/43 - 1s - loss: 0.1667 - auc: 0.9126 - mAP: 0.9931 - val_loss: 0.1859 - val_auc: 0.8071 - val_mAP: 0.9822\n",
      "Epoch 17/30\n",
      "43/43 - 1s - loss: 0.1606 - auc: 0.9251 - mAP: 0.9942 - val_loss: 0.1830 - val_auc: 0.8139 - val_mAP: 0.9827\n",
      "Epoch 18/30\n",
      "43/43 - 1s - loss: 0.1548 - auc: 0.9316 - mAP: 0.9948 - val_loss: 0.1800 - val_auc: 0.8192 - val_mAP: 0.9833\n",
      "Epoch 19/30\n",
      "43/43 - 1s - loss: 0.1484 - auc: 0.9401 - mAP: 0.9954 - val_loss: 0.1773 - val_auc: 0.8239 - val_mAP: 0.9836\n",
      "Epoch 20/30\n",
      "43/43 - 1s - loss: 0.1418 - auc: 0.9460 - mAP: 0.9960 - val_loss: 0.1747 - val_auc: 0.8264 - val_mAP: 0.9838\n",
      "Epoch 21/30\n",
      "43/43 - 1s - loss: 0.1359 - auc: 0.9519 - mAP: 0.9965 - val_loss: 0.1724 - val_auc: 0.8286 - val_mAP: 0.9840\n",
      "Epoch 22/30\n",
      "43/43 - 1s - loss: 0.1293 - auc: 0.9552 - mAP: 0.9968 - val_loss: 0.1703 - val_auc: 0.8306 - val_mAP: 0.9842\n",
      "Epoch 23/30\n",
      "43/43 - 1s - loss: 0.1234 - auc: 0.9606 - mAP: 0.9971 - val_loss: 0.1686 - val_auc: 0.8321 - val_mAP: 0.9843\n",
      "Epoch 24/30\n",
      "43/43 - 1s - loss: 0.1171 - auc: 0.9646 - mAP: 0.9976 - val_loss: 0.1674 - val_auc: 0.8328 - val_mAP: 0.9844\n",
      "Epoch 25/30\n",
      "43/43 - 1s - loss: 0.1112 - auc: 0.9678 - mAP: 0.9978 - val_loss: 0.1665 - val_auc: 0.8334 - val_mAP: 0.9845\n",
      "Epoch 26/30\n",
      "43/43 - 1s - loss: 0.1066 - auc: 0.9695 - mAP: 0.9979 - val_loss: 0.1661 - val_auc: 0.8343 - val_mAP: 0.9845\n",
      "Epoch 27/30\n",
      "43/43 - 1s - loss: 0.1004 - auc: 0.9737 - mAP: 0.9982 - val_loss: 0.1661 - val_auc: 0.8344 - val_mAP: 0.9846\n",
      "Epoch 28/30\n",
      "43/43 - 1s - loss: 0.0960 - auc: 0.9758 - mAP: 0.9983 - val_loss: 0.1666 - val_auc: 0.8339 - val_mAP: 0.9846\n",
      "Epoch 29/30\n",
      "43/43 - 1s - loss: 0.0915 - auc: 0.9778 - mAP: 0.9985 - val_loss: 0.1674 - val_auc: 0.8338 - val_mAP: 0.9846\n",
      "Epoch 30/30\n",
      "43/43 - 1s - loss: 0.0870 - auc: 0.9795 - mAP: 0.9986 - val_loss: 0.1685 - val_auc: 0.8337 - val_mAP: 0.9845\n",
      "\n",
      "FOLD 1\n"
     ]
    },
    {
     "data": {
      "image/png": "[encoded data removed]",
      "text/plain": [
       "<Figure size 1080x360 with 2 Axes>"
      ]
     },
     "metadata": {
      "needs_background": "light"
     },
     "output_type": "display_data"
    },
    {
     "name": "stderr",
     "output_type": "stream",
     "text": [
      "/home/wil/anaconda3/envs/py365/lib/python3.6/site-packages/keras/engine/training.py:2470: UserWarning: `Model.state_updates` will be removed in a future version. This property should not be used in TensorFlow 2.0, as `updates` are applied automatically.\n",
      "  warnings.warn('`Model.state_updates` will be removed in a future version. '\n"
     ]
    },
    {
     "name": "stdout",
     "output_type": "stream",
     "text": [
      "Epoch 1/30\n"
     ]
    },
    {
     "name": "stderr",
     "output_type": "stream",
     "text": [
      "/home/wil/anaconda3/envs/py365/lib/python3.6/site-packages/keras/engine/training.py:2470: UserWarning: `Model.state_updates` will be removed in a future version. This property should not be used in TensorFlow 2.0, as `updates` are applied automatically.\n",
      "  warnings.warn('`Model.state_updates` will be removed in a future version. '\n"
     ]
    },
    {
     "name": "stdout",
     "output_type": "stream",
     "text": [
      "43/43 - 3s - loss: 0.6828 - auc: 0.5062 - mAP: 0.9423 - val_loss: 0.6692 - val_auc: 0.5397 - val_mAP: 0.9474\n",
      "Epoch 2/30\n",
      "43/43 - 1s - loss: 0.6531 - auc: 0.5347 - mAP: 0.9498 - val_loss: 0.6334 - val_auc: 0.5536 - val_mAP: 0.9521\n",
      "Epoch 3/30\n",
      "43/43 - 1s - loss: 0.6073 - auc: 0.5625 - mAP: 0.9540 - val_loss: 0.5755 - val_auc: 0.5679 - val_mAP: 0.9550\n",
      "Epoch 4/30\n",
      "43/43 - 1s - loss: 0.5357 - auc: 0.5820 - mAP: 0.9581 - val_loss: 0.4896 - val_auc: 0.5854 - val_mAP: 0.9577\n",
      "Epoch 5/30\n",
      "43/43 - 1s - loss: 0.4390 - auc: 0.6219 - mAP: 0.9615 - val_loss: 0.3866 - val_auc: 0.6069 - val_mAP: 0.9605\n",
      "Epoch 6/30\n",
      "43/43 - 1s - loss: 0.3387 - auc: 0.6555 - mAP: 0.9657 - val_loss: 0.2965 - val_auc: 0.6296 - val_mAP: 0.9632\n",
      "Epoch 7/30\n",
      "43/43 - 1s - loss: 0.2652 - auc: 0.6805 - mAP: 0.9693 - val_loss: 0.2434 - val_auc: 0.6563 - val_mAP: 0.9662\n",
      "Epoch 8/30\n",
      "43/43 - 1s - loss: 0.2250 - auc: 0.7222 - mAP: 0.9737 - val_loss: 0.2194 - val_auc: 0.6845 - val_mAP: 0.9692\n",
      "Epoch 9/30\n",
      "43/43 - 1s - loss: 0.2064 - auc: 0.7589 - mAP: 0.9776 - val_loss: 0.2083 - val_auc: 0.7135 - val_mAP: 0.9725\n",
      "Epoch 10/30\n",
      "43/43 - 1s - loss: 0.1968 - auc: 0.7912 - mAP: 0.9813 - val_loss: 0.2045 - val_auc: 0.7367 - val_mAP: 0.9745\n",
      "Epoch 11/30\n",
      "43/43 - 1s - loss: 0.1901 - auc: 0.8264 - mAP: 0.9845 - val_loss: 0.2010 - val_auc: 0.7599 - val_mAP: 0.9767\n",
      "Epoch 12/30\n",
      "43/43 - 1s - loss: 0.1847 - auc: 0.8471 - mAP: 0.9864 - val_loss: 0.1978 - val_auc: 0.7785 - val_mAP: 0.9784\n",
      "Epoch 13/30\n",
      "43/43 - 1s - loss: 0.1783 - auc: 0.8733 - mAP: 0.9891 - val_loss: 0.1949 - val_auc: 0.7922 - val_mAP: 0.9796\n",
      "Epoch 14/30\n",
      "43/43 - 1s - loss: 0.1729 - auc: 0.8901 - mAP: 0.9909 - val_loss: 0.1921 - val_auc: 0.8035 - val_mAP: 0.9805\n",
      "Epoch 15/30\n",
      "43/43 - 1s - loss: 0.1678 - auc: 0.8997 - mAP: 0.9915 - val_loss: 0.1894 - val_auc: 0.8125 - val_mAP: 0.9813\n",
      "Epoch 16/30\n",
      "43/43 - 1s - loss: 0.1616 - auc: 0.9140 - mAP: 0.9930 - val_loss: 0.1868 - val_auc: 0.8186 - val_mAP: 0.9818\n",
      "Epoch 17/30\n",
      "43/43 - 1s - loss: 0.1557 - auc: 0.9276 - mAP: 0.9942 - val_loss: 0.1845 - val_auc: 0.8235 - val_mAP: 0.9821\n",
      "Epoch 18/30\n",
      "43/43 - 1s - loss: 0.1498 - auc: 0.9322 - mAP: 0.9947 - val_loss: 0.1821 - val_auc: 0.8280 - val_mAP: 0.9825\n",
      "Epoch 19/30\n",
      "43/43 - 1s - loss: 0.1437 - auc: 0.9436 - mAP: 0.9956 - val_loss: 0.1801 - val_auc: 0.8308 - val_mAP: 0.9827\n",
      "Epoch 20/30\n",
      "43/43 - 1s - loss: 0.1374 - auc: 0.9500 - mAP: 0.9963 - val_loss: 0.1782 - val_auc: 0.8331 - val_mAP: 0.9830\n",
      "Epoch 21/30\n",
      "43/43 - 1s - loss: 0.1322 - auc: 0.9523 - mAP: 0.9964 - val_loss: 0.1767 - val_auc: 0.8355 - val_mAP: 0.9832\n",
      "Epoch 22/30\n",
      "43/43 - 1s - loss: 0.1264 - auc: 0.9573 - mAP: 0.9968 - val_loss: 0.1757 - val_auc: 0.8368 - val_mAP: 0.9834\n",
      "Epoch 23/30\n",
      "43/43 - 1s - loss: 0.1207 - auc: 0.9606 - mAP: 0.9973 - val_loss: 0.1748 - val_auc: 0.8380 - val_mAP: 0.9836\n",
      "Epoch 24/30\n",
      "43/43 - 1s - loss: 0.1152 - auc: 0.9645 - mAP: 0.9975 - val_loss: 0.1742 - val_auc: 0.8389 - val_mAP: 0.9837\n",
      "Epoch 25/30\n",
      "43/43 - 1s - loss: 0.1104 - auc: 0.9672 - mAP: 0.9977 - val_loss: 0.1739 - val_auc: 0.8395 - val_mAP: 0.9838\n",
      "Epoch 26/30\n",
      "43/43 - 1s - loss: 0.1053 - auc: 0.9711 - mAP: 0.9980 - val_loss: 0.1740 - val_auc: 0.8402 - val_mAP: 0.9839\n",
      "Epoch 27/30\n",
      "43/43 - 1s - loss: 0.1009 - auc: 0.9732 - mAP: 0.9982 - val_loss: 0.1747 - val_auc: 0.8404 - val_mAP: 0.9840\n",
      "Epoch 28/30\n",
      "43/43 - 1s - loss: 0.0961 - auc: 0.9758 - mAP: 0.9983 - val_loss: 0.1754 - val_auc: 0.8408 - val_mAP: 0.9840\n",
      "Epoch 29/30\n",
      "43/43 - 1s - loss: 0.0921 - auc: 0.9773 - mAP: 0.9985 - val_loss: 0.1766 - val_auc: 0.8408 - val_mAP: 0.9840\n",
      "Epoch 30/30\n",
      "43/43 - 1s - loss: 0.0881 - auc: 0.9787 - mAP: 0.9986 - val_loss: 0.1780 - val_auc: 0.8407 - val_mAP: 0.9840\n",
      "\n",
      "FOLD 2\n"
     ]
    },
    {
     "data": {
      "image/png": "[encoded data removed]",
      "text/plain": [
       "<Figure size 1080x360 with 2 Axes>"
      ]
     },
     "metadata": {
      "needs_background": "light"
     },
     "output_type": "display_data"
    },
    {
     "name": "stderr",
     "output_type": "stream",
     "text": [
      "/home/wil/anaconda3/envs/py365/lib/python3.6/site-packages/keras/engine/training.py:2470: UserWarning: `Model.state_updates` will be removed in a future version. This property should not be used in TensorFlow 2.0, as `updates` are applied automatically.\n",
      "  warnings.warn('`Model.state_updates` will be removed in a future version. '\n"
     ]
    },
    {
     "name": "stdout",
     "output_type": "stream",
     "text": [
      "mean cv roc auc 0.840\n",
      "mean cv average precision 0.985\n"
     ]
    }
   ],
   "source": [
    "from sklearn.model_selection import StratifiedKFold\n",
    "\n",
    "SEED = 0\n",
    "FOLDS = 3\n",
    "BATCH_SIZE = 512\n",
    "\n",
    "skf = StratifiedKFold(n_splits=FOLDS, \n",
    "                      shuffle=True, \n",
    "                      random_state=SEED)\n",
    "\n",
    "roc_auc = list()\n",
    "average_precision = list()\n",
    "categorical_variables = X.columns.to_list()\n",
    "\n",
    "for fold, (train_idx, test_idx) in enumerate(skf.split(X, y)):\n",
    "    \n",
    "    tt = TabularTransformer(highcat = categorical_variables)\n",
    "\n",
    "    tt.fit(X.iloc[train_idx])   \n",
    "    categorical_levels = tt.vocabulary\n",
    "    \n",
    "    model = dnn(categorical_variables,\n",
    "                categorical_levels, \n",
    "                feature_selection_dropout=0.1,\n",
    "                categorical_dropout=0.1,\n",
    "                first_dense=64,\n",
    "                second_dense=64,\n",
    "                dense_dropout=0.1,\n",
    "                activation_type=mish)\n",
    "    \n",
    "    model = compile_model(model, \n",
    "                          keras.losses.binary_crossentropy, \n",
    "                          [auc, mAP], \n",
    "                          tf.keras.optimizers.Adam(learning_rate=0.0001))\n",
    "    \n",
    "    train_batch = DataGenerator(X.iloc[train_idx], \n",
    "                                y[train_idx],\n",
    "                                tabular_transformer=tt,\n",
    "                                batch_size=BATCH_SIZE,\n",
    "                                shuffle=True)\n",
    "    \n",
    "    val_X, val_y = tt.transform(X.iloc[test_idx]), y[test_idx]\n",
    "    \n",
    "    history = model.fit(train_batch,\n",
    "                        validation_data=(val_X, val_y),\n",
    "                        epochs=30,\n",
    "                        class_weight=[1.0, (np.sum(y==0) / np.sum(y==1))],\n",
    "                        verbose=2)\n",
    "    \n",
    "    print(\"\\nFOLD %i\" % fold)\n",
    "    plot_keras_history(history, measures=['auc', 'loss'])\n",
    "    \n",
    "    preds = model.predict(val_X, verbose=0, batch_size=1024).flatten()\n",
    "\n",
    "    roc_auc.append(roc_auc_score(y_true=val_y, y_score=preds))\n",
    "    average_precision.append(average_precision_score(y_true=val_y, y_score=preds))\n",
    "    \n",
    "print(f\"mean cv roc auc {np.mean(roc_auc):0.3f}\")\n",
    "print(f\"mean cv average precision {np.mean(average_precision):0.3f}\")"
   ]
  }
 ],
 "metadata": {
  "kernelspec": {
   "display_name": "py365",
   "language": "python",
   "name": "py365"
  },
  "language_info": {
   "codemirror_mode": {
    "name": "ipython",
    "version": 3
   },
   "file_extension": ".py",
   "mimetype": "text/x-python",
   "name": "python",
   "nbconvert_exporter": "python",
   "pygments_lexer": "ipython3",
   "version": "3.6.5"
  }
 },
 "nbformat": 4,
 "nbformat_minor": 2
}
