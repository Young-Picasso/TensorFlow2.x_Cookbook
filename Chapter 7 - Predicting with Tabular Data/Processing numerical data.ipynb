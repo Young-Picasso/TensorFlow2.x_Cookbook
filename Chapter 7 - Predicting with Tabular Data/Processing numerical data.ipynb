{
 "cells": [
  {
   "cell_type": "markdown",
   "metadata": {},
   "source": [
    "## Getting ready"
   ]
  },
  {
   "cell_type": "code",
   "execution_count": 2,
   "metadata": {},
   "outputs": [],
   "source": [
    "import numpy as np\n",
    "import pandas as pd\n",
    "\n",
    "try:\n",
    "    from sklearn.impute import IterativeImputer\n",
    "except:\n",
    "    from sklearn.experimental import enable_iterative_imputer\n",
    "    from sklearn.impute import IterativeImputer\n",
    "    \n",
    "from sklearn.ensemble import ExtraTreesRegressor\n",
    "from sklearn.impute import SimpleImputer\n",
    "\n",
    "from sklearn.preprocessing import StandardScaler, QuantileTransformer\n",
    "from sklearn.feature_selection import VarianceThreshold\n",
    "\n",
    "from sklearn.pipeline import Pipeline"
   ]
  },
  {
   "cell_type": "code",
   "execution_count": 14,
   "metadata": {},
   "outputs": [],
   "source": [
    "example = pd.DataFrame([[1, 2, 3, np.nan], [1, 3, np.nan, 4], [1, 2, 2, 2]], columns = ['a', 'b', 'c', 'd'])"
   ]
  },
  {
   "cell_type": "code",
   "execution_count": 15,
   "metadata": {},
   "outputs": [
    {
     "data": {
      "text/html": [
       "<div>\n",
       "<style scoped>\n",
       "    .dataframe tbody tr th:only-of-type {\n",
       "        vertical-align: middle;\n",
       "    }\n",
       "\n",
       "    .dataframe tbody tr th {\n",
       "        vertical-align: top;\n",
       "    }\n",
       "\n",
       "    .dataframe thead th {\n",
       "        text-align: right;\n",
       "    }\n",
       "</style>\n",
       "<table border=\"1\" class=\"dataframe\">\n",
       "  <thead>\n",
       "    <tr style=\"text-align: right;\">\n",
       "      <th></th>\n",
       "      <th>a</th>\n",
       "      <th>b</th>\n",
       "      <th>c</th>\n",
       "      <th>d</th>\n",
       "    </tr>\n",
       "  </thead>\n",
       "  <tbody>\n",
       "    <tr>\n",
       "      <th>0</th>\n",
       "      <td>1</td>\n",
       "      <td>2</td>\n",
       "      <td>3.0</td>\n",
       "      <td>NaN</td>\n",
       "    </tr>\n",
       "    <tr>\n",
       "      <th>1</th>\n",
       "      <td>1</td>\n",
       "      <td>3</td>\n",
       "      <td>NaN</td>\n",
       "      <td>4.0</td>\n",
       "    </tr>\n",
       "    <tr>\n",
       "      <th>2</th>\n",
       "      <td>1</td>\n",
       "      <td>2</td>\n",
       "      <td>2.0</td>\n",
       "      <td>2.0</td>\n",
       "    </tr>\n",
       "  </tbody>\n",
       "</table>\n",
       "</div>"
      ],
      "text/plain": [
       "   a  b    c    d\n",
       "0  1  2  3.0  NaN\n",
       "1  1  3  NaN  4.0\n",
       "2  1  2  2.0  2.0"
      ]
     },
     "execution_count": 15,
     "metadata": {},
     "output_type": "execute_result"
    }
   ],
   "source": [
    "example"
   ]
  },
  {
   "cell_type": "markdown",
   "metadata": {},
   "source": [
    "## How to do it"
   ]
  },
  {
   "cell_type": "code",
   "execution_count": 16,
   "metadata": {},
   "outputs": [],
   "source": [
    "def assemble_numeric_pipeline(variance_threshold=0.0,\n",
    "                              imputer='mean',\n",
    "                              multivariate_imputer=False,\n",
    "                              add_indicator=True,\n",
    "                              quantile_transformer='normal',\n",
    "                              scaler=True):\n",
    "    numeric_pipeline = []\n",
    "    if variance_threshold is not None:\n",
    "        if isinstance(variance_threshold, float):\n",
    "            numeric_pipeline.append(('var_filter', VarianceThreshold(threshold=variance_threshold)))\n",
    "        else:\n",
    "            numeric_pipeline.append(('var_filter', VarianceThreshold()))\n",
    "        \n",
    "        \n",
    "    if imputer is not None:\n",
    "        if multivariate_imputer is True:\n",
    "            numeric_pipeline.append(('imputer', IterativeImputer(estimator=ExtraTreeRegressor(n_estimators=100,\n",
    "                                                                                             n_jobs=-2),\n",
    "                                                                initial_strategy=imputer,\n",
    "                                                                add_indicator=add_indicator)))\n",
    "        else:\n",
    "            numeric_pipeline.append(('imputer', SimpleImputer(strategy=imputer,\n",
    "                                                             add_indicator=add_indicator)))\n",
    "            \n",
    "    if quantile_transformer is not None:\n",
    "        numeric_pipeline.append(('transformer', QuantileTransformer(n_quantiles=100,\n",
    "                                                                    output_distribution=quantile_transformer,\n",
    "                                                                    random_state=42)))\n",
    "        \n",
    "    if scaler is not None:\n",
    "        numeric_pipeline.append(('scaler', StandardScaler()))\n",
    "        \n",
    "    return Pipeline(steps=numeric_pipeline)"
   ]
  },
  {
   "cell_type": "code",
   "execution_count": 17,
   "metadata": {},
   "outputs": [],
   "source": [
    "numeric_pipeline = assemble_numeric_pipeline(variance_threshold=0.0,\n",
    "                                             imputer='mean',\n",
    "                                             multivariate_imputer=False,\n",
    "                                             add_indicator=True,\n",
    "                                             quantile_transformer='normal',\n",
    "                                             scaler=True)"
   ]
  },
  {
   "cell_type": "code",
   "execution_count": 18,
   "metadata": {},
   "outputs": [
    {
     "name": "stderr",
     "output_type": "stream",
     "text": [
      "/home/wil/anaconda3/envs/py365/lib/python3.6/site-packages/sklearn/preprocessing/_data.py:2615: UserWarning: n_quantiles (100) is greater than the total number of samples (3). n_quantiles is set to n_samples.\n",
      "  % (self.n_quantiles, n_samples))\n"
     ]
    },
    {
     "data": {
      "text/plain": [
       "array([[-0.707,  1.225, -0.   , -0.707,  1.414],\n",
       "       [ 1.414, -0.   ,  1.225,  1.414, -0.707],\n",
       "       [-0.707, -1.225, -1.225, -0.707, -0.707]])"
      ]
     },
     "execution_count": 18,
     "metadata": {},
     "output_type": "execute_result"
    }
   ],
   "source": [
    "numeric_pipeline.fit(example)\n",
    "np.round(numeric_pipeline.transform(example), 3)"
   ]
  },
  {
   "cell_type": "markdown",
   "metadata": {},
   "source": [
    "## Theres more..."
   ]
  },
  {
   "cell_type": "code",
   "execution_count": 19,
   "metadata": {},
   "outputs": [],
   "source": [
    "def derive_numeric_columns(df, pipeline):\n",
    "    columns = df.columns\n",
    "    if 'var_filter' in pipeline.named_steps:\n",
    "        threshold = pipeline.named_steps.var_filter.threshold\n",
    "        columns = columns[pipeline.named_steps.var_filter.variances_>threshold]\n",
    "    if 'imputer' in pipeline.named_steps:\n",
    "        missing_cols = pipeline.named_steps.imputer.indicator_.features_\n",
    "        if len(missing_cols) > 0:\n",
    "            columns = columns.append(columns[missing_cols] + '_missing')\n",
    "    return columns"
   ]
  },
  {
   "cell_type": "code",
   "execution_count": 20,
   "metadata": {},
   "outputs": [
    {
     "data": {
      "text/plain": [
       "Index(['b', 'c', 'd', 'c_missing', 'd_missing'], dtype='object')"
      ]
     },
     "execution_count": 20,
     "metadata": {},
     "output_type": "execute_result"
    }
   ],
   "source": [
    "derive_numeric_columns(example, numeric_pipeline)"
   ]
  }
 ],
 "metadata": {
  "kernelspec": {
   "display_name": "py365",
   "language": "python",
   "name": "py365"
  },
  "language_info": {
   "codemirror_mode": {
    "name": "ipython",
    "version": 3
   },
   "file_extension": ".py",
   "mimetype": "text/x-python",
   "name": "python",
   "nbconvert_exporter": "python",
   "pygments_lexer": "ipython3",
   "version": "3.6.5"
  }
 },
 "nbformat": 4,
 "nbformat_minor": 2
}
