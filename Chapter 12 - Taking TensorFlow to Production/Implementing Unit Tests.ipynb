{
 "cells": [
  {
   "cell_type": "markdown",
   "metadata": {},
   "source": [
    "Any programmer worth their salt can implement unit tests. Being able to do this for TensorFlow models is no different."
   ]
  },
  {
   "cell_type": "markdown",
   "metadata": {},
   "source": [
    "## Getting ready..."
   ]
  },
  {
   "cell_type": "markdown",
   "metadata": {},
   "source": [
    "In Python the main test framework is unittest, but TensorFlow provides its own test framework. In this recipe, we create a custom layer class. We then implement a unit test, illustrating how this is done with TensorFlow. To run the unit tests, this code needs to be saved as a script and then can be run from terminal."
   ]
  },
  {
   "cell_type": "markdown",
   "metadata": {},
   "source": [
    "## How to do it..."
   ]
  },
  {
   "cell_type": "markdown",
   "metadata": {},
   "source": [
    "1. Load libraries"
   ]
  },
  {
   "cell_type": "code",
   "execution_count": null,
   "metadata": {},
   "outputs": [],
   "source": [
    "import tensorflow as tf\n",
    "import numpy as np"
   ]
  },
  {
   "cell_type": "markdown",
   "metadata": {},
   "source": [
    "2. Declare custom gate that applies the function f(x) = a1 * x + b1:"
   ]
  },
  {
   "cell_type": "code",
   "execution_count": null,
   "metadata": {},
   "outputs": [],
   "source": [
    "class MyCustomeGate(tf.keras.layers.Layer):\n",
    "    \n",
    "    def __init__(self, units, a1, b1):\n",
    "        super(MyCustomGate, self).__init__()\n",
    "        self.units = units\n",
    "        self.a1 = a1\n",
    "        self.b1 = b1\n",
    "        \n",
    "    # Compute f(x) = a1 * x + b1\n",
    "    def call(self, inputs):\n",
    "        return inputs * self.a1 + self.b1"
   ]
  },
  {
   "cell_type": "markdown",
   "metadata": {},
   "source": [
    "3. We now create our unit test class that inherits from the tf.test.TestClass class. The setup method is a hook method that is called before every test method. The assertAllEqual method checks that the expected and the computed outputs have teh same values:"
   ]
  },
  {
   "cell_type": "code",
   "execution_count": null,
   "metadata": {},
   "outputs": [],
   "source": [
    "class MyCustomGateTest(tf.test.TestCase):\n",
    "    \n",
    "    def setUp(self):\n",
    "        super(MyCustomGateTest, self).setUp()\n",
    "        # Configure the layer with 1 unit, a1 = 2 and b1 = 1\n",
    "        self.my_custom_gate = MyCustomGate(1, 2, 1)\n",
    "        \n",
    "    def testMyCustomGateOutput(self):\n",
    "        input_x = np.array([[1,0,0,1],\n",
    "                            [1,0,0,1]])\n",
    "        output = self.my_custom_gate(input_x)\n",
    "        expected_output = np.array([[3,1,1,3], [3,1,1,3]])\n",
    "        \n",
    "        self.assertAllEqual(output, expected_output)"
   ]
  },
  {
   "cell_type": "markdown",
   "metadata": {},
   "source": [
    "## Script"
   ]
  },
  {
   "cell_type": "markdown",
   "metadata": {},
   "source": [
    "As highlighted above, we combine this code into a script and add the tf.test.main() function call. Then the script can be called from a terminal. This script is shown below:"
   ]
  },
  {
   "cell_type": "code",
   "execution_count": null,
   "metadata": {},
   "outputs": [],
   "source": [
    "import tensorflow as tf\n",
    "import numpy as np\n",
    "\n",
    "class MyCustomeGate(tf.keras.layers.Layer):\n",
    "    \n",
    "    def __init__(self, units, a1, b1):\n",
    "        super(MyCustomGate, self).__init__()\n",
    "        self.units = units\n",
    "        self.a1 = a1\n",
    "        self.b1 = b1\n",
    "        \n",
    "    # Compute f(x) = a1 * x + b1\n",
    "    def call(self, inputs):\n",
    "        return inputs * self.a1 + self.b1\n",
    "    \n",
    "class MyCustomGateTest(tf.test.TestCase):\n",
    "    \n",
    "    def setUp(self):\n",
    "        super(MyCustomGateTest, self).setUp()\n",
    "        # Configure the layer with 1 unit, a1 = 2 and b1 = 1\n",
    "        self.my_custom_gate = MyCustomGate(1, 2, 1)\n",
    "        \n",
    "    def testMyCustomGateOutput(self):\n",
    "        input_x = np.array([[1,0,0,1],\n",
    "                            [1,0,0,1]])\n",
    "        output = self.my_custom_gate(input_x)\n",
    "        expected_output = np.array([[3,1,1,3], [3,1,1,3]])\n",
    "        \n",
    "        self.assertAllEqual(output, expected_output)\n",
    "        \n",
    "tf.test.main()"
   ]
  },
  {
   "cell_type": "markdown",
   "metadata": {},
   "source": [
    "Calling this script from terminal will run the unit tests."
   ]
  }
 ],
 "metadata": {
  "kernelspec": {
   "display_name": "py365",
   "language": "python",
   "name": "py365"
  },
  "language_info": {
   "codemirror_mode": {
    "name": "ipython",
    "version": 3
   },
   "file_extension": ".py",
   "mimetype": "text/x-python",
   "name": "python",
   "nbconvert_exporter": "python",
   "pygments_lexer": "ipython3",
   "version": "3.6.5"
  }
 },
 "nbformat": 4,
 "nbformat_minor": 2
}
