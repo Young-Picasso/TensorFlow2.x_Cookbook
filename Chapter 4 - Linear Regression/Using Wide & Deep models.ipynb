{
 "cells": [
  {
   "cell_type": "markdown",
   "id": "41861cdc",
   "metadata": {},
   "source": [
    "## Getting ready"
   ]
  },
  {
   "cell_type": "code",
   "execution_count": 34,
   "id": "a8beb648",
   "metadata": {},
   "outputs": [],
   "source": [
    "import tensorflow as tf\n",
    "import tensorflow.keras as keras\n",
    "import pandas as pd\n",
    "import numpy as np"
   ]
  },
  {
   "cell_type": "code",
   "execution_count": 8,
   "id": "54ffeb29",
   "metadata": {},
   "outputs": [],
   "source": [
    "census_dir = 'https://archive.ics.uci.edu/ml/machine-learning-databases/adult/'\n",
    "train_path = tf.keras.utils.get_file('adult.data', census_dir + 'adult.data')\n",
    "test_path = tf.keras.utils.get_file('adult.test', census_dir + 'adult.test')"
   ]
  },
  {
   "cell_type": "code",
   "execution_count": 9,
   "id": "bea11416",
   "metadata": {},
   "outputs": [],
   "source": [
    "columns = ['age', 'workclass', 'fnlwgt', 'education', 'education_num', 'marital_status', 'occupation',\n",
    "          'relationship', 'race', 'gender', 'capital_gain', 'capital_loss', 'hours_per_week', 'native_country',\n",
    "          'income_bracket']\n",
    "\n",
    "train_data = pd.read_csv(train_path, header=None, names=columns)\n",
    "test_data = pd.read_csv(test_path, header=None, names=columns, skiprows=1)"
   ]
  },
  {
   "cell_type": "markdown",
   "id": "34725451",
   "metadata": {},
   "source": [
    "## How to do it"
   ]
  },
  {
   "cell_type": "code",
   "execution_count": 11,
   "id": "4248b63d",
   "metadata": {},
   "outputs": [],
   "source": [
    "predictors = ['age', 'workclass', 'education', 'education_num', 'marital_status', 'occupation', 'relationship',\n",
    "             'gender']\n",
    "\n",
    "y_train = (train_data.income_bracket==' >50K').astype(int)\n",
    "y_test = (test_data.income_bracket==' >50K').astype(int)\n",
    "\n",
    "train_data = train_data[predictors]\n",
    "test_data = test_data[predictors]"
   ]
  },
  {
   "cell_type": "code",
   "execution_count": 14,
   "id": "14d9611e",
   "metadata": {},
   "outputs": [],
   "source": [
    "train_data[['age', 'education_num']] = train_data[['age', 'education_num']].fillna(train_data[['age', 'education_num']]).mean()\n",
    "test_data[['age', 'education_num']] = test_data[['age', 'education_num']].fillna(test_data[['age', 'education_num']]).mean()"
   ]
  },
  {
   "cell_type": "code",
   "execution_count": 15,
   "id": "947e0de0",
   "metadata": {},
   "outputs": [],
   "source": [
    "def define_feature_columns(data_df, numeric_cols, categorical_cols, categorical_embeds, dimension=30):\n",
    "    numeric_columns = []\n",
    "    categorical_columns = []\n",
    "    embeddings = []\n",
    "    \n",
    "    for feature_name in numeric_cols:\n",
    "        numeric_columns.append(tf.feature_column.numeric_column(feature_name, dtype=tf.float32))\n",
    "        \n",
    "    for feature_name in categorical_cols:\n",
    "        vocabulary = data_df[feature_name].unique()\n",
    "        categorical_columns.append(tf.feature_column.categorical_column_with_vocabulary_list(feature_name, vocabulary))\n",
    "        \n",
    "    for feature_name in categorical_embeds:\n",
    "        vocabulary = data_df[feature_name].unique()\n",
    "        to_categorical = tf.feature_column.categorical_column_with_vocabulary_list(feature_name, vocabulary)\n",
    "        embeddings.append(tf.feature_column.embedding_column(to_categorical, dimension=dimension))\n",
    "        \n",
    "    return numeric_columns, categorical_columns, embeddings"
   ]
  },
  {
   "cell_type": "code",
   "execution_count": 19,
   "id": "4d7471d9",
   "metadata": {},
   "outputs": [],
   "source": [
    "def create_interactions(interactions_list, buckets=10):\n",
    "    feature_columns = []\n",
    "    \n",
    "    for (a, b) in interactions_list:\n",
    "        crossed_feature = tf.feature_column.crossed_column([a, b], hash_bucket_size=buckets)\n",
    "        crossed_feature_one_hot = tf.feature_column.indicator_column(crossed_feature)\n",
    "        feature_columns.append(crossed_feature_one_hot)\n",
    "        \n",
    "    return feature_columns"
   ]
  },
  {
   "cell_type": "code",
   "execution_count": 20,
   "id": "df09b374",
   "metadata": {},
   "outputs": [],
   "source": [
    "numeric_columns, categorical_columns, embeddings = define_feature_columns(train_data, \n",
    "                                                                          numeric_cols=['age', 'education_num'],\n",
    "                                                                          categorical_cols=['gender'],\n",
    "                                                                          categorical_embeds=['workclass', 'education',\n",
    "                                                                                            'marital_status', 'occupation',\n",
    "                                                                                            'relationship'],\n",
    "                                                                          dimension=32\n",
    "                                                                         )\n",
    "interactions = create_interactions([['education', 'occupation']], buckets=10)"
   ]
  },
  {
   "cell_type": "code",
   "execution_count": 29,
   "id": "04d1b090",
   "metadata": {},
   "outputs": [
    {
     "name": "stdout",
     "output_type": "stream",
     "text": [
      "INFO:tensorflow:Using default config.\n",
      "WARNING:tensorflow:Using temporary folder as model directory: /tmp/tmpxnk3fqlo\n",
      "INFO:tensorflow:Using config: {'_model_dir': '/tmp/tmpxnk3fqlo', '_tf_random_seed': None, '_save_summary_steps': 100, '_save_checkpoints_steps': None, '_save_checkpoints_secs': 600, '_session_config': allow_soft_placement: true\n",
      "graph_options {\n",
      "  rewrite_options {\n",
      "    meta_optimizer_iterations: ONE\n",
      "  }\n",
      "}\n",
      ", '_keep_checkpoint_max': 5, '_keep_checkpoint_every_n_hours': 10000, '_log_step_count_steps': 100, '_train_distribute': None, '_device_fn': None, '_protocol': None, '_eval_distribute': None, '_experimental_distribute': None, '_experimental_max_worker_delay_secs': None, '_session_creation_timeout_secs': 7200, '_checkpoint_save_graph_def': True, '_service': None, '_cluster_spec': ClusterSpec({}), '_task_type': 'worker', '_task_id': 0, '_global_id_in_cluster': 0, '_master': '', '_evaluation_master': '', '_is_chief': True, '_num_ps_replicas': 0, '_num_worker_replicas': 1}\n"
     ]
    }
   ],
   "source": [
    "estimator = tf.estimator.DNNLinearCombinedClassifier(\n",
    "# wide settings\n",
    "linear_feature_columns=numeric_columns+categorical_columns+interactions,\n",
    "linear_optimizer=keras.optimizers.Ftrl(learning_rate=0.0002),\n",
    "# deep settings\n",
    "dnn_feature_columns=embeddings,\n",
    "dnn_hidden_units=[1024, 256, 128, 64],\n",
    "dnn_optimizer=keras.optimizers.Adam(learning_rate=0.0001))"
   ]
  },
  {
   "cell_type": "code",
   "execution_count": 30,
   "id": "774545bf",
   "metadata": {},
   "outputs": [],
   "source": [
    "def make_input_fn(data_df, label_df, num_epochs=10, shuffle=True, batch_size=256):\n",
    "    \n",
    "    def input_function():\n",
    "        ds = tf.data.Dataset.from_tensor_slices((dict(data_df), label_df))\n",
    "        if shuffle:\n",
    "            ds = ds.shuffle(1000)\n",
    "        ds = ds.batch(batch_size).repeat(num_epochs)\n",
    "        return ds\n",
    "    return input_function"
   ]
  },
  {
   "cell_type": "code",
   "execution_count": 32,
   "id": "fbda9e2f",
   "metadata": {},
   "outputs": [
    {
     "name": "stdout",
     "output_type": "stream",
     "text": [
      "WARNING:tensorflow:From /home/wil/tensorflow/venv/lib/python3.8/site-packages/tensorflow/python/training/training_util.py:235: Variable.initialized_value (from tensorflow.python.ops.variables) is deprecated and will be removed in a future version.\n",
      "Instructions for updating:\n",
      "Use Variable.read_value. Variables in 2.X are initialized automatically both in eager and graph (inside tf.defun) contexts.\n",
      "INFO:tensorflow:Calling model_fn.\n"
     ]
    },
    {
     "name": "stderr",
     "output_type": "stream",
     "text": [
      "2022-01-24 17:44:47.537824: I tensorflow/stream_executor/platform/default/dso_loader.cc:53] Successfully opened dynamic library libcuda.so.1\n",
      "2022-01-24 17:44:47.593714: I tensorflow/stream_executor/cuda/cuda_gpu_executor.cc:937] successful NUMA node read from SysFS had negative value (-1), but there must be at least one NUMA node, so returning NUMA node zero\n",
      "2022-01-24 17:44:47.594434: I tensorflow/core/common_runtime/gpu/gpu_device.cc:1733] Found device 0 with properties: \n",
      "pciBusID: 0000:2d:00.0 name: GeForce RTX 2070 SUPER computeCapability: 7.5\n",
      "coreClock: 1.785GHz coreCount: 40 deviceMemorySize: 7.79GiB deviceMemoryBandwidth: 417.29GiB/s\n",
      "2022-01-24 17:44:47.594449: I tensorflow/stream_executor/platform/default/dso_loader.cc:53] Successfully opened dynamic library libcudart.so.11.0\n",
      "2022-01-24 17:44:47.596013: I tensorflow/stream_executor/platform/default/dso_loader.cc:53] Successfully opened dynamic library libcublas.so.11\n",
      "2022-01-24 17:44:47.596038: I tensorflow/stream_executor/platform/default/dso_loader.cc:53] Successfully opened dynamic library libcublasLt.so.11\n",
      "2022-01-24 17:44:47.596603: I tensorflow/stream_executor/platform/default/dso_loader.cc:53] Successfully opened dynamic library libcufft.so.10\n",
      "2022-01-24 17:44:47.596726: I tensorflow/stream_executor/platform/default/dso_loader.cc:53] Successfully opened dynamic library libcurand.so.10\n",
      "2022-01-24 17:44:47.598350: I tensorflow/stream_executor/platform/default/dso_loader.cc:53] Successfully opened dynamic library libcusolver.so.11\n",
      "2022-01-24 17:44:47.598734: I tensorflow/stream_executor/platform/default/dso_loader.cc:53] Successfully opened dynamic library libcusparse.so.11\n",
      "2022-01-24 17:44:47.598804: I tensorflow/stream_executor/platform/default/dso_loader.cc:53] Successfully opened dynamic library libcudnn.so.8\n",
      "2022-01-24 17:44:47.598885: I tensorflow/stream_executor/cuda/cuda_gpu_executor.cc:937] successful NUMA node read from SysFS had negative value (-1), but there must be at least one NUMA node, so returning NUMA node zero\n",
      "2022-01-24 17:44:47.599276: I tensorflow/stream_executor/cuda/cuda_gpu_executor.cc:937] successful NUMA node read from SysFS had negative value (-1), but there must be at least one NUMA node, so returning NUMA node zero\n",
      "2022-01-24 17:44:47.599602: I tensorflow/core/common_runtime/gpu/gpu_device.cc:1871] Adding visible gpu devices: 0\n",
      "/home/wil/tensorflow/venv/lib/python3.8/site-packages/tensorflow/python/keras/engine/base_layer_v1.py:1700: UserWarning: `layer.add_variable` is deprecated and will be removed in a future version. Please use `layer.add_weight` method instead.\n",
      "  warnings.warn('`layer.add_variable` is deprecated and '\n"
     ]
    },
    {
     "name": "stdout",
     "output_type": "stream",
     "text": [
      "WARNING:tensorflow:From /home/wil/tensorflow/venv/lib/python3.8/site-packages/tensorflow/python/keras/optimizer_v2/ftrl.py:148: calling Constant.__init__ (from tensorflow.python.ops.init_ops) with dtype is deprecated and will be removed in a future version.\n",
      "Instructions for updating:\n",
      "Call initializer instance with the dtype argument instead of passing it to the constructor\n",
      "INFO:tensorflow:Done calling model_fn.\n",
      "INFO:tensorflow:Create CheckpointSaverHook.\n",
      "INFO:tensorflow:Graph was finalized.\n"
     ]
    },
    {
     "name": "stderr",
     "output_type": "stream",
     "text": [
      "2022-01-24 17:44:48.882814: I tensorflow/core/platform/cpu_feature_guard.cc:142] This TensorFlow binary is optimized with oneAPI Deep Neural Network Library (oneDNN) to use the following CPU instructions in performance-critical operations:  AVX2 FMA\n",
      "To enable them in other operations, rebuild TensorFlow with the appropriate compiler flags.\n",
      "2022-01-24 17:44:48.883389: I tensorflow/stream_executor/cuda/cuda_gpu_executor.cc:937] successful NUMA node read from SysFS had negative value (-1), but there must be at least one NUMA node, so returning NUMA node zero\n",
      "2022-01-24 17:44:48.883780: I tensorflow/core/common_runtime/gpu/gpu_device.cc:1733] Found device 0 with properties: \n",
      "pciBusID: 0000:2d:00.0 name: GeForce RTX 2070 SUPER computeCapability: 7.5\n",
      "coreClock: 1.785GHz coreCount: 40 deviceMemorySize: 7.79GiB deviceMemoryBandwidth: 417.29GiB/s\n",
      "2022-01-24 17:44:48.883835: I tensorflow/stream_executor/cuda/cuda_gpu_executor.cc:937] successful NUMA node read from SysFS had negative value (-1), but there must be at least one NUMA node, so returning NUMA node zero\n",
      "2022-01-24 17:44:48.884207: I tensorflow/stream_executor/cuda/cuda_gpu_executor.cc:937] successful NUMA node read from SysFS had negative value (-1), but there must be at least one NUMA node, so returning NUMA node zero\n",
      "2022-01-24 17:44:48.884538: I tensorflow/core/common_runtime/gpu/gpu_device.cc:1871] Adding visible gpu devices: 0\n",
      "2022-01-24 17:44:48.884572: I tensorflow/stream_executor/platform/default/dso_loader.cc:53] Successfully opened dynamic library libcudart.so.11.0\n",
      "2022-01-24 17:44:49.218124: I tensorflow/core/common_runtime/gpu/gpu_device.cc:1258] Device interconnect StreamExecutor with strength 1 edge matrix:\n",
      "2022-01-24 17:44:49.218152: I tensorflow/core/common_runtime/gpu/gpu_device.cc:1264]      0 \n",
      "2022-01-24 17:44:49.218159: I tensorflow/core/common_runtime/gpu/gpu_device.cc:1277] 0:   N \n",
      "2022-01-24 17:44:49.218336: I tensorflow/stream_executor/cuda/cuda_gpu_executor.cc:937] successful NUMA node read from SysFS had negative value (-1), but there must be at least one NUMA node, so returning NUMA node zero\n",
      "2022-01-24 17:44:49.218716: I tensorflow/stream_executor/cuda/cuda_gpu_executor.cc:937] successful NUMA node read from SysFS had negative value (-1), but there must be at least one NUMA node, so returning NUMA node zero\n",
      "2022-01-24 17:44:49.219059: I tensorflow/stream_executor/cuda/cuda_gpu_executor.cc:937] successful NUMA node read from SysFS had negative value (-1), but there must be at least one NUMA node, so returning NUMA node zero\n",
      "2022-01-24 17:44:49.219387: I tensorflow/core/common_runtime/gpu/gpu_device.cc:1418] Created TensorFlow device (/job:localhost/replica:0/task:0/device:GPU:0 with 6205 MB memory) -> physical GPU (device: 0, name: GeForce RTX 2070 SUPER, pci bus id: 0000:2d:00.0, compute capability: 7.5)\n",
      "2022-01-24 17:44:49.313625: I tensorflow/core/platform/profile_utils/cpu_utils.cc:114] CPU Frequency: 4199595000 Hz\n"
     ]
    },
    {
     "name": "stdout",
     "output_type": "stream",
     "text": [
      "INFO:tensorflow:Running local_init_op.\n",
      "INFO:tensorflow:Done running local_init_op.\n",
      "INFO:tensorflow:Calling checkpoint listeners before saving checkpoint 0...\n",
      "INFO:tensorflow:Saving checkpoints for 0 into /tmp/tmpxnk3fqlo/model.ckpt.\n",
      "INFO:tensorflow:Calling checkpoint listeners after saving checkpoint 0...\n"
     ]
    },
    {
     "name": "stderr",
     "output_type": "stream",
     "text": [
      "2022-01-24 17:44:51.863945: I tensorflow/stream_executor/platform/default/dso_loader.cc:53] Successfully opened dynamic library libcublas.so.11\n"
     ]
    },
    {
     "name": "stdout",
     "output_type": "stream",
     "text": [
      "INFO:tensorflow:loss = 0.7061246, step = 0\n"
     ]
    },
    {
     "name": "stderr",
     "output_type": "stream",
     "text": [
      "2022-01-24 17:44:52.136953: I tensorflow/stream_executor/platform/default/dso_loader.cc:53] Successfully opened dynamic library libcublasLt.so.11\n"
     ]
    },
    {
     "name": "stdout",
     "output_type": "stream",
     "text": [
      "INFO:tensorflow:global_step/sec: 135.501\n",
      "INFO:tensorflow:loss = 0.34892508, step = 100 (0.738 sec)\n",
      "INFO:tensorflow:global_step/sec: 183.084\n",
      "INFO:tensorflow:loss = 0.4303697, step = 200 (0.546 sec)\n",
      "INFO:tensorflow:global_step/sec: 180.552\n",
      "INFO:tensorflow:loss = 0.35352567, step = 300 (0.554 sec)\n",
      "INFO:tensorflow:global_step/sec: 180.272\n",
      "INFO:tensorflow:loss = 0.37762165, step = 400 (0.555 sec)\n",
      "INFO:tensorflow:global_step/sec: 182.87\n",
      "INFO:tensorflow:loss = 0.34192562, step = 500 (0.547 sec)\n",
      "INFO:tensorflow:global_step/sec: 180.8\n",
      "INFO:tensorflow:loss = 0.34803823, step = 600 (0.553 sec)\n",
      "INFO:tensorflow:global_step/sec: 181.885\n",
      "INFO:tensorflow:loss = 0.36325437, step = 700 (0.550 sec)\n",
      "INFO:tensorflow:global_step/sec: 174.791\n",
      "INFO:tensorflow:loss = 0.36329564, step = 800 (0.572 sec)\n",
      "INFO:tensorflow:global_step/sec: 178.806\n",
      "INFO:tensorflow:loss = 0.37925425, step = 900 (0.559 sec)\n",
      "INFO:tensorflow:global_step/sec: 176.736\n",
      "INFO:tensorflow:loss = 0.36890337, step = 1000 (0.566 sec)\n",
      "INFO:tensorflow:global_step/sec: 182.656\n",
      "INFO:tensorflow:loss = 0.33937314, step = 1100 (0.548 sec)\n",
      "INFO:tensorflow:global_step/sec: 183.787\n",
      "INFO:tensorflow:loss = 0.3747409, step = 1200 (0.544 sec)\n",
      "INFO:tensorflow:global_step/sec: 183.831\n",
      "INFO:tensorflow:loss = 0.33682376, step = 1300 (0.544 sec)\n",
      "INFO:tensorflow:global_step/sec: 182.683\n",
      "INFO:tensorflow:loss = 0.40558183, step = 1400 (0.547 sec)\n",
      "INFO:tensorflow:Calling checkpoint listeners before saving checkpoint 1500...\n",
      "INFO:tensorflow:Saving checkpoints for 1500 into /tmp/tmpxnk3fqlo/model.ckpt.\n",
      "INFO:tensorflow:Calling checkpoint listeners after saving checkpoint 1500...\n",
      "INFO:tensorflow:Loss for final step: 0.32825032.\n",
      "INFO:tensorflow:Calling model_fn.\n",
      "INFO:tensorflow:Done calling model_fn.\n",
      "INFO:tensorflow:Starting evaluation at 2022-01-24T17:45:01\n",
      "INFO:tensorflow:Graph was finalized.\n",
      "INFO:tensorflow:Restoring parameters from /tmp/tmpxnk3fqlo/model.ckpt-1500\n",
      "INFO:tensorflow:Running local_init_op.\n",
      "INFO:tensorflow:Done running local_init_op.\n"
     ]
    },
    {
     "name": "stderr",
     "output_type": "stream",
     "text": [
      "2022-01-24 17:45:01.542755: I tensorflow/stream_executor/cuda/cuda_gpu_executor.cc:937] successful NUMA node read from SysFS had negative value (-1), but there must be at least one NUMA node, so returning NUMA node zero\n",
      "2022-01-24 17:45:01.543001: I tensorflow/core/common_runtime/gpu/gpu_device.cc:1733] Found device 0 with properties: \n",
      "pciBusID: 0000:2d:00.0 name: GeForce RTX 2070 SUPER computeCapability: 7.5\n",
      "coreClock: 1.785GHz coreCount: 40 deviceMemorySize: 7.79GiB deviceMemoryBandwidth: 417.29GiB/s\n",
      "2022-01-24 17:45:01.543047: I tensorflow/stream_executor/cuda/cuda_gpu_executor.cc:937] successful NUMA node read from SysFS had negative value (-1), but there must be at least one NUMA node, so returning NUMA node zero\n",
      "2022-01-24 17:45:01.543250: I tensorflow/stream_executor/cuda/cuda_gpu_executor.cc:937] successful NUMA node read from SysFS had negative value (-1), but there must be at least one NUMA node, so returning NUMA node zero\n",
      "2022-01-24 17:45:01.543424: I tensorflow/core/common_runtime/gpu/gpu_device.cc:1871] Adding visible gpu devices: 0\n",
      "2022-01-24 17:45:01.543445: I tensorflow/core/common_runtime/gpu/gpu_device.cc:1258] Device interconnect StreamExecutor with strength 1 edge matrix:\n",
      "2022-01-24 17:45:01.543449: I tensorflow/core/common_runtime/gpu/gpu_device.cc:1264]      0 \n",
      "2022-01-24 17:45:01.543452: I tensorflow/core/common_runtime/gpu/gpu_device.cc:1277] 0:   N \n",
      "2022-01-24 17:45:01.543509: I tensorflow/stream_executor/cuda/cuda_gpu_executor.cc:937] successful NUMA node read from SysFS had negative value (-1), but there must be at least one NUMA node, so returning NUMA node zero\n",
      "2022-01-24 17:45:01.543715: I tensorflow/stream_executor/cuda/cuda_gpu_executor.cc:937] successful NUMA node read from SysFS had negative value (-1), but there must be at least one NUMA node, so returning NUMA node zero\n",
      "2022-01-24 17:45:01.543895: I tensorflow/core/common_runtime/gpu/gpu_device.cc:1418] Created TensorFlow device (/job:localhost/replica:0/task:0/device:GPU:0 with 6205 MB memory) -> physical GPU (device: 0, name: GeForce RTX 2070 SUPER, pci bus id: 0000:2d:00.0, compute capability: 7.5)\n"
     ]
    },
    {
     "name": "stdout",
     "output_type": "stream",
     "text": [
      "INFO:tensorflow:Inference Time : 0.87013s\n",
      "INFO:tensorflow:Finished evaluation at 2022-01-24-17:45:02\n",
      "INFO:tensorflow:Saving dict for global step 1500: accuracy = 0.80726, accuracy_baseline = 1.0, auc = 0.0, auc_precision_recall = 0.0, average_loss = 0.37457475, global_step = 1500, label/mean = 0.0, loss = 0.37501976, precision = 0.0, prediction/mean = 0.23987472, recall = 0.0\n",
      "INFO:tensorflow:Saving 'checkpoint_path' summary for global step 1500: /tmp/tmpxnk3fqlo/model.ckpt-1500\n",
      "{'accuracy': 0.80726, 'accuracy_baseline': 1.0, 'auc': 0.0, 'auc_precision_recall': 0.0, 'average_loss': 0.37457475, 'label/mean': 0.0, 'loss': 0.37501976, 'precision': 0.0, 'prediction/mean': 0.23987472, 'recall': 0.0, 'global_step': 1500}\n"
     ]
    }
   ],
   "source": [
    "train_input_fn = make_input_fn(train_data, y_train, num_epochs=100, batch_size=256)\n",
    "test_input_fn = make_input_fn(test_data, y_test, num_epochs=1, shuffle=False)\n",
    "estimator.train(input_fn=train_input_fn, steps=1500)\n",
    "results = estimator.evaluate(input_fn=test_input_fn)\n",
    "print(results)"
   ]
  },
  {
   "cell_type": "code",
   "execution_count": 36,
   "id": "65ae2a92",
   "metadata": {},
   "outputs": [
    {
     "name": "stdout",
     "output_type": "stream",
     "text": [
      "INFO:tensorflow:Calling model_fn.\n",
      "INFO:tensorflow:Done calling model_fn.\n",
      "INFO:tensorflow:Graph was finalized.\n",
      "INFO:tensorflow:Restoring parameters from /tmp/tmpxnk3fqlo/model.ckpt-1500\n",
      "INFO:tensorflow:Running local_init_op.\n",
      "INFO:tensorflow:Done running local_init_op.\n"
     ]
    },
    {
     "name": "stderr",
     "output_type": "stream",
     "text": [
      "2022-01-24 17:47:59.201848: I tensorflow/stream_executor/cuda/cuda_gpu_executor.cc:937] successful NUMA node read from SysFS had negative value (-1), but there must be at least one NUMA node, so returning NUMA node zero\n",
      "2022-01-24 17:47:59.202080: I tensorflow/core/common_runtime/gpu/gpu_device.cc:1733] Found device 0 with properties: \n",
      "pciBusID: 0000:2d:00.0 name: GeForce RTX 2070 SUPER computeCapability: 7.5\n",
      "coreClock: 1.785GHz coreCount: 40 deviceMemorySize: 7.79GiB deviceMemoryBandwidth: 417.29GiB/s\n",
      "2022-01-24 17:47:59.202127: I tensorflow/stream_executor/cuda/cuda_gpu_executor.cc:937] successful NUMA node read from SysFS had negative value (-1), but there must be at least one NUMA node, so returning NUMA node zero\n",
      "2022-01-24 17:47:59.202331: I tensorflow/stream_executor/cuda/cuda_gpu_executor.cc:937] successful NUMA node read from SysFS had negative value (-1), but there must be at least one NUMA node, so returning NUMA node zero\n",
      "2022-01-24 17:47:59.202506: I tensorflow/core/common_runtime/gpu/gpu_device.cc:1871] Adding visible gpu devices: 0\n",
      "2022-01-24 17:47:59.202530: I tensorflow/core/common_runtime/gpu/gpu_device.cc:1258] Device interconnect StreamExecutor with strength 1 edge matrix:\n",
      "2022-01-24 17:47:59.202533: I tensorflow/core/common_runtime/gpu/gpu_device.cc:1264]      0 \n",
      "2022-01-24 17:47:59.202536: I tensorflow/core/common_runtime/gpu/gpu_device.cc:1277] 0:   N \n",
      "2022-01-24 17:47:59.202595: I tensorflow/stream_executor/cuda/cuda_gpu_executor.cc:937] successful NUMA node read from SysFS had negative value (-1), but there must be at least one NUMA node, so returning NUMA node zero\n",
      "2022-01-24 17:47:59.202803: I tensorflow/stream_executor/cuda/cuda_gpu_executor.cc:937] successful NUMA node read from SysFS had negative value (-1), but there must be at least one NUMA node, so returning NUMA node zero\n",
      "2022-01-24 17:47:59.202984: I tensorflow/core/common_runtime/gpu/gpu_device.cc:1418] Created TensorFlow device (/job:localhost/replica:0/task:0/device:GPU:0 with 6205 MB memory) -> physical GPU (device: 0, name: GeForce RTX 2070 SUPER, pci bus id: 0000:2d:00.0, compute capability: 7.5)\n"
     ]
    },
    {
     "name": "stdout",
     "output_type": "stream",
     "text": [
      "[[0.99828005 0.00171994]\n",
      " [0.86335665 0.1366433 ]\n",
      " [0.3650979  0.63490206]\n",
      " ...\n",
      " [0.24605854 0.7539415 ]\n",
      " [0.91424894 0.0857511 ]\n",
      " [0.19365892 0.80634105]]\n"
     ]
    }
   ],
   "source": [
    "def predict_proba(predictor):\n",
    "    preds = list()\n",
    "    for pred in predictor:\n",
    "        preds.append(pred['probabilities'])\n",
    "    return np.array(preds)\n",
    "\n",
    "predictions = predict_proba(estimator.predict(input_fn=test_input_fn))\n",
    "print(predictions)"
   ]
  }
 ],
 "metadata": {
  "kernelspec": {
   "display_name": "Python 3 (ipykernel)",
   "language": "python",
   "name": "python3"
  },
  "language_info": {
   "codemirror_mode": {
    "name": "ipython",
    "version": 3
   },
   "file_extension": ".py",
   "mimetype": "text/x-python",
   "name": "python",
   "nbconvert_exporter": "python",
   "pygments_lexer": "ipython3",
   "version": "3.8.10"
  }
 },
 "nbformat": 4,
 "nbformat_minor": 5
}
