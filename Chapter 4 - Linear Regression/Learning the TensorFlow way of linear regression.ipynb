{
 "cells": [
  {
   "cell_type": "markdown",
   "id": "b4b651b8",
   "metadata": {},
   "source": [
    "## How to do it..."
   ]
  },
  {
   "cell_type": "code",
   "execution_count": 1,
   "id": "c2df705e",
   "metadata": {},
   "outputs": [
    {
     "name": "stderr",
     "output_type": "stream",
     "text": [
      "2022-01-21 08:49:29.676537: I tensorflow/stream_executor/platform/default/dso_loader.cc:53] Successfully opened dynamic library libcudart.so.11.0\n"
     ]
    }
   ],
   "source": [
    "import tensorflow as tf\n",
    "import numpy as np\n",
    "import pandas as pd\n",
    "import tensorflow_datasets as tfds\n",
    "tfds.disable_progress_bar()\n",
    "\n",
    "housing_url = 'http://archive.ics.uci.edu/ml/machine-learning-databases/housing/housing.data'\n",
    "path = tf.keras.utils.get_file(housing_url.split('/')[-1], housing_url)\n",
    "\n",
    "columns = ['CRIM', 'ZN', 'INDUS', 'CHAS', 'NOX', 'RM', 'AGE', 'DIS', 'RAD', 'TAX', 'PTRATIO', 'B', 'LSTAT', 'MEDV']\n",
    "data = pd.read_table(path, delim_whitespace=True, header=None, names=columns)\n",
    "\n",
    "np.random.seed(1)\n",
    "train = data.sample(frac=0.8).copy()\n",
    "y_train = train['MEDV']\n",
    "train.drop('MEDV', axis=1, inplace=True)\n",
    "\n",
    "test = data.loc[~data.index.isin(train.index)].copy()\n",
    "y_test = test['MEDV']\n",
    "test.drop('MEDV', axis=1, inplace=True)"
   ]
  },
  {
   "cell_type": "code",
   "execution_count": 7,
   "id": "c36a6bed",
   "metadata": {},
   "outputs": [],
   "source": [
    "learning_rate = 0.05\n",
    "def make_input_fn(data_df, label_df, num_epochs=10, shuffle=True, batch_size=256):\n",
    "    \n",
    "    def input_function():\n",
    "        ds = tf.data.Dataset.from_tensor_slices((dict(data_df), label_df))\n",
    "        if shuffle:\n",
    "            ds = ds.shuffle(1000)\n",
    "        ds = ds.batch(batch_size).repeat(num_epochs)\n",
    "        return ds\n",
    "    \n",
    "    return input_function\n",
    "\n",
    "def define_feature_columns(data_df, categorical_cols, numeric_cols):\n",
    "    feature_columns = []\n",
    "    \n",
    "    for feature_name in numeric_cols:\n",
    "        feature_columns.append(tf.feature_column.numeric_column(feature_name, dtype=tf.float32))\n",
    "        \n",
    "    for feature_name in categorical_cols:\n",
    "        vocabulary = data_df[feature_name].unique()\n",
    "        feature_columns.append(tf.feature_column.categorical_column_with_vocabulary_list(feature_name, vocabulary))\n",
    "        \n",
    "    return feature_columns\n",
    "\n",
    "categorical_cols = ['CHAS', 'RAD']\n",
    "numeric_cols = ['CRIM', 'ZN', 'INDUS', 'NOX', 'RM', 'AGE', 'DIS', 'TAX', 'PTRATIO', 'B', 'LSTAT']\n",
    "feature_columns = define_feature_columns(data, categorical_cols, numeric_cols)\n",
    "\n",
    "train_input_fn = make_input_fn(train, y_train, num_epochs=1400)\n",
    "test_input_fn = make_input_fn(test, y_test, num_epochs=1, shuffle=False)"
   ]
  },
  {
   "cell_type": "code",
   "execution_count": 8,
   "id": "fa55b1cd",
   "metadata": {},
   "outputs": [
    {
     "name": "stdout",
     "output_type": "stream",
     "text": [
      "INFO:tensorflow:Using default config.\n",
      "WARNING:tensorflow:Using temporary folder as model directory: /tmp/tmpkzyev3nr\n",
      "INFO:tensorflow:Using config: {'_model_dir': '/tmp/tmpkzyev3nr', '_tf_random_seed': None, '_save_summary_steps': 100, '_save_checkpoints_steps': None, '_save_checkpoints_secs': 600, '_session_config': allow_soft_placement: true\n",
      "graph_options {\n",
      "  rewrite_options {\n",
      "    meta_optimizer_iterations: ONE\n",
      "  }\n",
      "}\n",
      ", '_keep_checkpoint_max': 5, '_keep_checkpoint_every_n_hours': 10000, '_log_step_count_steps': 100, '_train_distribute': None, '_device_fn': None, '_protocol': None, '_eval_distribute': None, '_experimental_distribute': None, '_experimental_max_worker_delay_secs': None, '_session_creation_timeout_secs': 7200, '_checkpoint_save_graph_def': True, '_service': None, '_cluster_spec': ClusterSpec({}), '_task_type': 'worker', '_task_id': 0, '_global_id_in_cluster': 0, '_master': '', '_evaluation_master': '', '_is_chief': True, '_num_ps_replicas': 0, '_num_worker_replicas': 1}\n"
     ]
    }
   ],
   "source": [
    "linear_est = tf.estimator.LinearRegressor(feature_columns=feature_columns)"
   ]
  },
  {
   "cell_type": "code",
   "execution_count": 9,
   "id": "2f886fcf",
   "metadata": {},
   "outputs": [
    {
     "name": "stdout",
     "output_type": "stream",
     "text": [
      "INFO:tensorflow:Calling model_fn.\n"
     ]
    },
    {
     "name": "stderr",
     "output_type": "stream",
     "text": [
      "/home/wil/tensorflow/venv/lib/python3.8/site-packages/tensorflow/python/keras/engine/base_layer_v1.py:1700: UserWarning: `layer.add_variable` is deprecated and will be removed in a future version. Please use `layer.add_weight` method instead.\n",
      "  warnings.warn('`layer.add_variable` is deprecated and '\n"
     ]
    },
    {
     "name": "stdout",
     "output_type": "stream",
     "text": [
      "WARNING:tensorflow:From /home/wil/tensorflow/venv/lib/python3.8/site-packages/tensorflow/python/keras/optimizer_v2/ftrl.py:148: calling Constant.__init__ (from tensorflow.python.ops.init_ops) with dtype is deprecated and will be removed in a future version.\n",
      "Instructions for updating:\n",
      "Call initializer instance with the dtype argument instead of passing it to the constructor\n",
      "INFO:tensorflow:Done calling model_fn.\n",
      "INFO:tensorflow:Create CheckpointSaverHook.\n",
      "INFO:tensorflow:Graph was finalized.\n"
     ]
    },
    {
     "name": "stderr",
     "output_type": "stream",
     "text": [
      "2022-01-21 09:01:03.477876: I tensorflow/core/platform/cpu_feature_guard.cc:142] This TensorFlow binary is optimized with oneAPI Deep Neural Network Library (oneDNN) to use the following CPU instructions in performance-critical operations:  AVX2 FMA\n",
      "To enable them in other operations, rebuild TensorFlow with the appropriate compiler flags.\n",
      "2022-01-21 09:01:03.478395: I tensorflow/stream_executor/cuda/cuda_gpu_executor.cc:937] successful NUMA node read from SysFS had negative value (-1), but there must be at least one NUMA node, so returning NUMA node zero\n",
      "2022-01-21 09:01:03.478764: I tensorflow/core/common_runtime/gpu/gpu_device.cc:1733] Found device 0 with properties: \n",
      "pciBusID: 0000:2d:00.0 name: GeForce RTX 2070 SUPER computeCapability: 7.5\n",
      "coreClock: 1.785GHz coreCount: 40 deviceMemorySize: 7.79GiB deviceMemoryBandwidth: 417.29GiB/s\n",
      "2022-01-21 09:01:03.478809: I tensorflow/stream_executor/cuda/cuda_gpu_executor.cc:937] successful NUMA node read from SysFS had negative value (-1), but there must be at least one NUMA node, so returning NUMA node zero\n",
      "2022-01-21 09:01:03.479174: I tensorflow/stream_executor/cuda/cuda_gpu_executor.cc:937] successful NUMA node read from SysFS had negative value (-1), but there must be at least one NUMA node, so returning NUMA node zero\n",
      "2022-01-21 09:01:03.479497: I tensorflow/core/common_runtime/gpu/gpu_device.cc:1871] Adding visible gpu devices: 0\n",
      "2022-01-21 09:01:03.479767: I tensorflow/stream_executor/platform/default/dso_loader.cc:53] Successfully opened dynamic library libcudart.so.11.0\n"
     ]
    },
    {
     "name": "stdout",
     "output_type": "stream",
     "text": [
      "INFO:tensorflow:Running local_init_op.\n",
      "INFO:tensorflow:Done running local_init_op.\n"
     ]
    },
    {
     "name": "stderr",
     "output_type": "stream",
     "text": [
      "2022-01-21 09:01:04.055777: I tensorflow/core/common_runtime/gpu/gpu_device.cc:1258] Device interconnect StreamExecutor with strength 1 edge matrix:\n",
      "2022-01-21 09:01:04.055806: I tensorflow/core/common_runtime/gpu/gpu_device.cc:1264]      0 \n",
      "2022-01-21 09:01:04.055811: I tensorflow/core/common_runtime/gpu/gpu_device.cc:1277] 0:   N \n",
      "2022-01-21 09:01:04.055977: I tensorflow/stream_executor/cuda/cuda_gpu_executor.cc:937] successful NUMA node read from SysFS had negative value (-1), but there must be at least one NUMA node, so returning NUMA node zero\n",
      "2022-01-21 09:01:04.056335: I tensorflow/stream_executor/cuda/cuda_gpu_executor.cc:937] successful NUMA node read from SysFS had negative value (-1), but there must be at least one NUMA node, so returning NUMA node zero\n",
      "2022-01-21 09:01:04.056667: I tensorflow/stream_executor/cuda/cuda_gpu_executor.cc:937] successful NUMA node read from SysFS had negative value (-1), but there must be at least one NUMA node, so returning NUMA node zero\n",
      "2022-01-21 09:01:04.057047: I tensorflow/core/common_runtime/gpu/gpu_device.cc:1418] Created TensorFlow device (/job:localhost/replica:0/task:0/device:GPU:0 with 6268 MB memory) -> physical GPU (device: 0, name: GeForce RTX 2070 SUPER, pci bus id: 0000:2d:00.0, compute capability: 7.5)\n",
      "2022-01-21 09:01:04.110912: I tensorflow/core/platform/profile_utils/cpu_utils.cc:114] CPU Frequency: 4199730000 Hz\n"
     ]
    },
    {
     "name": "stdout",
     "output_type": "stream",
     "text": [
      "INFO:tensorflow:Calling checkpoint listeners before saving checkpoint 0...\n",
      "INFO:tensorflow:Saving checkpoints for 0 into /tmp/tmpkzyev3nr/model.ckpt.\n",
      "INFO:tensorflow:Calling checkpoint listeners after saving checkpoint 0...\n"
     ]
    },
    {
     "name": "stderr",
     "output_type": "stream",
     "text": [
      "2022-01-21 09:01:04.791820: I tensorflow/stream_executor/platform/default/dso_loader.cc:53] Successfully opened dynamic library libcublas.so.11\n"
     ]
    },
    {
     "name": "stdout",
     "output_type": "stream",
     "text": [
      "INFO:tensorflow:loss = 612.27734, step = 0\n"
     ]
    },
    {
     "name": "stderr",
     "output_type": "stream",
     "text": [
      "2022-01-21 09:01:05.289082: I tensorflow/stream_executor/platform/default/dso_loader.cc:53] Successfully opened dynamic library libcublasLt.so.11\n"
     ]
    },
    {
     "name": "stdout",
     "output_type": "stream",
     "text": [
      "INFO:tensorflow:global_step/sec: 275.018\n",
      "INFO:tensorflow:loss = 57.77643, step = 100 (0.364 sec)\n",
      "INFO:tensorflow:global_step/sec: 355.421\n",
      "INFO:tensorflow:loss = 43.788067, step = 200 (0.281 sec)\n",
      "INFO:tensorflow:global_step/sec: 352.424\n",
      "INFO:tensorflow:loss = 46.79715, step = 300 (0.284 sec)\n",
      "INFO:tensorflow:global_step/sec: 361.076\n",
      "INFO:tensorflow:loss = 50.137627, step = 400 (0.277 sec)\n",
      "INFO:tensorflow:global_step/sec: 361.315\n",
      "INFO:tensorflow:loss = 33.98306, step = 500 (0.277 sec)\n",
      "INFO:tensorflow:global_step/sec: 359.839\n",
      "INFO:tensorflow:loss = 40.513027, step = 600 (0.278 sec)\n",
      "INFO:tensorflow:global_step/sec: 362.275\n",
      "INFO:tensorflow:loss = 41.30123, step = 700 (0.276 sec)\n",
      "INFO:tensorflow:global_step/sec: 354.927\n",
      "INFO:tensorflow:loss = 40.473793, step = 800 (0.282 sec)\n",
      "INFO:tensorflow:global_step/sec: 361.245\n",
      "INFO:tensorflow:loss = 40.663395, step = 900 (0.277 sec)\n",
      "INFO:tensorflow:global_step/sec: 362.783\n",
      "INFO:tensorflow:loss = 34.62506, step = 1000 (0.276 sec)\n",
      "INFO:tensorflow:global_step/sec: 363.083\n",
      "INFO:tensorflow:loss = 39.27532, step = 1100 (0.275 sec)\n",
      "INFO:tensorflow:global_step/sec: 360.868\n",
      "INFO:tensorflow:loss = 38.74266, step = 1200 (0.277 sec)\n",
      "INFO:tensorflow:global_step/sec: 359.363\n",
      "INFO:tensorflow:loss = 34.914154, step = 1300 (0.278 sec)\n",
      "INFO:tensorflow:global_step/sec: 359.615\n",
      "INFO:tensorflow:loss = 35.22795, step = 1400 (0.278 sec)\n",
      "INFO:tensorflow:global_step/sec: 359.962\n",
      "INFO:tensorflow:loss = 32.771996, step = 1500 (0.279 sec)\n",
      "INFO:tensorflow:global_step/sec: 358.266\n",
      "INFO:tensorflow:loss = 29.974422, step = 1600 (0.278 sec)\n",
      "INFO:tensorflow:global_step/sec: 361.052\n",
      "INFO:tensorflow:loss = 27.557835, step = 1700 (0.277 sec)\n",
      "INFO:tensorflow:global_step/sec: 361.423\n",
      "INFO:tensorflow:loss = 34.914417, step = 1800 (0.277 sec)\n",
      "INFO:tensorflow:global_step/sec: 358.182\n",
      "INFO:tensorflow:loss = 32.99483, step = 1900 (0.279 sec)\n",
      "INFO:tensorflow:global_step/sec: 361.191\n",
      "INFO:tensorflow:loss = 34.86497, step = 2000 (0.277 sec)\n",
      "INFO:tensorflow:global_step/sec: 358.697\n",
      "INFO:tensorflow:loss = 30.889061, step = 2100 (0.279 sec)\n",
      "INFO:tensorflow:global_step/sec: 362.069\n",
      "INFO:tensorflow:loss = 33.57109, step = 2200 (0.276 sec)\n",
      "INFO:tensorflow:global_step/sec: 358.615\n",
      "INFO:tensorflow:loss = 34.97256, step = 2300 (0.279 sec)\n",
      "INFO:tensorflow:global_step/sec: 360.282\n",
      "INFO:tensorflow:loss = 35.127922, step = 2400 (0.278 sec)\n",
      "INFO:tensorflow:global_step/sec: 361.57\n",
      "INFO:tensorflow:loss = 29.413298, step = 2500 (0.277 sec)\n",
      "INFO:tensorflow:global_step/sec: 364.181\n",
      "INFO:tensorflow:loss = 31.330645, step = 2600 (0.275 sec)\n",
      "INFO:tensorflow:global_step/sec: 363.089\n",
      "INFO:tensorflow:loss = 34.49809, step = 2700 (0.275 sec)\n",
      "INFO:tensorflow:Calling checkpoint listeners before saving checkpoint 2800...\n",
      "INFO:tensorflow:Saving checkpoints for 2800 into /tmp/tmpkzyev3nr/model.ckpt.\n",
      "INFO:tensorflow:Calling checkpoint listeners after saving checkpoint 2800...\n",
      "INFO:tensorflow:Loss for final step: 29.939905.\n",
      "INFO:tensorflow:Calling model_fn.\n",
      "INFO:tensorflow:Done calling model_fn.\n",
      "INFO:tensorflow:Starting evaluation at 2022-01-21T09:01:13\n",
      "INFO:tensorflow:Graph was finalized.\n",
      "INFO:tensorflow:Restoring parameters from /tmp/tmpkzyev3nr/model.ckpt-2800\n",
      "INFO:tensorflow:Running local_init_op.\n",
      "INFO:tensorflow:Done running local_init_op.\n",
      "INFO:tensorflow:Inference Time : 0.27290s\n",
      "INFO:tensorflow:Finished evaluation at 2022-01-21-09:01:13\n",
      "INFO:tensorflow:Saving dict for global step 2800: average_loss = 32.782837, global_step = 2800, label/mean = 22.048513, loss = 32.782837, prediction/mean = 21.307537\n"
     ]
    },
    {
     "name": "stderr",
     "output_type": "stream",
     "text": [
      "2022-01-21 09:01:13.639438: I tensorflow/stream_executor/cuda/cuda_gpu_executor.cc:937] successful NUMA node read from SysFS had negative value (-1), but there must be at least one NUMA node, so returning NUMA node zero\n",
      "2022-01-21 09:01:13.639670: I tensorflow/core/common_runtime/gpu/gpu_device.cc:1733] Found device 0 with properties: \n",
      "pciBusID: 0000:2d:00.0 name: GeForce RTX 2070 SUPER computeCapability: 7.5\n",
      "coreClock: 1.785GHz coreCount: 40 deviceMemorySize: 7.79GiB deviceMemoryBandwidth: 417.29GiB/s\n",
      "2022-01-21 09:01:13.639717: I tensorflow/stream_executor/cuda/cuda_gpu_executor.cc:937] successful NUMA node read from SysFS had negative value (-1), but there must be at least one NUMA node, so returning NUMA node zero\n",
      "2022-01-21 09:01:13.639921: I tensorflow/stream_executor/cuda/cuda_gpu_executor.cc:937] successful NUMA node read from SysFS had negative value (-1), but there must be at least one NUMA node, so returning NUMA node zero\n",
      "2022-01-21 09:01:13.640096: I tensorflow/core/common_runtime/gpu/gpu_device.cc:1871] Adding visible gpu devices: 0\n",
      "2022-01-21 09:01:13.640119: I tensorflow/core/common_runtime/gpu/gpu_device.cc:1258] Device interconnect StreamExecutor with strength 1 edge matrix:\n",
      "2022-01-21 09:01:13.640125: I tensorflow/core/common_runtime/gpu/gpu_device.cc:1264]      0 \n",
      "2022-01-21 09:01:13.640129: I tensorflow/core/common_runtime/gpu/gpu_device.cc:1277] 0:   N \n",
      "2022-01-21 09:01:13.640199: I tensorflow/stream_executor/cuda/cuda_gpu_executor.cc:937] successful NUMA node read from SysFS had negative value (-1), but there must be at least one NUMA node, so returning NUMA node zero\n",
      "2022-01-21 09:01:13.640419: I tensorflow/stream_executor/cuda/cuda_gpu_executor.cc:937] successful NUMA node read from SysFS had negative value (-1), but there must be at least one NUMA node, so returning NUMA node zero\n",
      "2022-01-21 09:01:13.640609: I tensorflow/core/common_runtime/gpu/gpu_device.cc:1418] Created TensorFlow device (/job:localhost/replica:0/task:0/device:GPU:0 with 6268 MB memory) -> physical GPU (device: 0, name: GeForce RTX 2070 SUPER, pci bus id: 0000:2d:00.0, compute capability: 7.5)\n"
     ]
    },
    {
     "name": "stdout",
     "output_type": "stream",
     "text": [
      "INFO:tensorflow:Saving 'checkpoint_path' summary for global step 2800: /tmp/tmpkzyev3nr/model.ckpt-2800\n",
      "{'average_loss': 32.782837, 'label/mean': 22.048513, 'loss': 32.782837, 'prediction/mean': 21.307537, 'global_step': 2800}\n"
     ]
    }
   ],
   "source": [
    "linear_est.train(train_input_fn)\n",
    "result = linear_est.evaluate(test_input_fn)\n",
    "\n",
    "print(result)"
   ]
  },
  {
   "cell_type": "code",
   "execution_count": 10,
   "id": "392a4e61",
   "metadata": {},
   "outputs": [
    {
     "name": "stdout",
     "output_type": "stream",
     "text": [
      "INFO:tensorflow:Using default config.\n",
      "WARNING:tensorflow:Using temporary folder as model directory: /tmp/tmphgdr5us2\n",
      "INFO:tensorflow:Using config: {'_model_dir': '/tmp/tmphgdr5us2', '_tf_random_seed': None, '_save_summary_steps': 100, '_save_checkpoints_steps': None, '_save_checkpoints_secs': 600, '_session_config': allow_soft_placement: true\n",
      "graph_options {\n",
      "  rewrite_options {\n",
      "    meta_optimizer_iterations: ONE\n",
      "  }\n",
      "}\n",
      ", '_keep_checkpoint_max': 5, '_keep_checkpoint_every_n_hours': 10000, '_log_step_count_steps': 100, '_train_distribute': None, '_device_fn': None, '_protocol': None, '_eval_distribute': None, '_experimental_distribute': None, '_experimental_max_worker_delay_secs': None, '_session_creation_timeout_secs': 7200, '_checkpoint_save_graph_def': True, '_service': None, '_cluster_spec': ClusterSpec({}), '_task_type': 'worker', '_task_id': 0, '_global_id_in_cluster': 0, '_master': '', '_evaluation_master': '', '_is_chief': True, '_num_ps_replicas': 0, '_num_worker_replicas': 1}\n",
      "INFO:tensorflow:Calling model_fn.\n",
      "INFO:tensorflow:Done calling model_fn.\n",
      "INFO:tensorflow:Create CheckpointSaverHook.\n",
      "INFO:tensorflow:Graph was finalized.\n",
      "INFO:tensorflow:Running local_init_op.\n",
      "INFO:tensorflow:Done running local_init_op.\n"
     ]
    },
    {
     "name": "stderr",
     "output_type": "stream",
     "text": [
      "2022-01-21 09:06:26.573683: I tensorflow/stream_executor/cuda/cuda_gpu_executor.cc:937] successful NUMA node read from SysFS had negative value (-1), but there must be at least one NUMA node, so returning NUMA node zero\n",
      "2022-01-21 09:06:26.573932: I tensorflow/core/common_runtime/gpu/gpu_device.cc:1733] Found device 0 with properties: \n",
      "pciBusID: 0000:2d:00.0 name: GeForce RTX 2070 SUPER computeCapability: 7.5\n",
      "coreClock: 1.785GHz coreCount: 40 deviceMemorySize: 7.79GiB deviceMemoryBandwidth: 417.29GiB/s\n",
      "2022-01-21 09:06:26.573976: I tensorflow/stream_executor/cuda/cuda_gpu_executor.cc:937] successful NUMA node read from SysFS had negative value (-1), but there must be at least one NUMA node, so returning NUMA node zero\n",
      "2022-01-21 09:06:26.574202: I tensorflow/stream_executor/cuda/cuda_gpu_executor.cc:937] successful NUMA node read from SysFS had negative value (-1), but there must be at least one NUMA node, so returning NUMA node zero\n",
      "2022-01-21 09:06:26.574408: I tensorflow/core/common_runtime/gpu/gpu_device.cc:1871] Adding visible gpu devices: 0\n",
      "2022-01-21 09:06:26.574431: I tensorflow/core/common_runtime/gpu/gpu_device.cc:1258] Device interconnect StreamExecutor with strength 1 edge matrix:\n",
      "2022-01-21 09:06:26.574435: I tensorflow/core/common_runtime/gpu/gpu_device.cc:1264]      0 \n",
      "2022-01-21 09:06:26.574438: I tensorflow/core/common_runtime/gpu/gpu_device.cc:1277] 0:   N \n",
      "2022-01-21 09:06:26.574499: I tensorflow/stream_executor/cuda/cuda_gpu_executor.cc:937] successful NUMA node read from SysFS had negative value (-1), but there must be at least one NUMA node, so returning NUMA node zero\n",
      "2022-01-21 09:06:26.574736: I tensorflow/stream_executor/cuda/cuda_gpu_executor.cc:937] successful NUMA node read from SysFS had negative value (-1), but there must be at least one NUMA node, so returning NUMA node zero\n",
      "2022-01-21 09:06:26.574963: I tensorflow/core/common_runtime/gpu/gpu_device.cc:1418] Created TensorFlow device (/job:localhost/replica:0/task:0/device:GPU:0 with 6268 MB memory) -> physical GPU (device: 0, name: GeForce RTX 2070 SUPER, pci bus id: 0000:2d:00.0, compute capability: 7.5)\n"
     ]
    },
    {
     "name": "stdout",
     "output_type": "stream",
     "text": [
      "INFO:tensorflow:Calling checkpoint listeners before saving checkpoint 0...\n",
      "INFO:tensorflow:Saving checkpoints for 0 into /tmp/tmphgdr5us2/model.ckpt.\n",
      "INFO:tensorflow:Calling checkpoint listeners after saving checkpoint 0...\n",
      "INFO:tensorflow:loss = 630.23883, step = 0\n",
      "INFO:tensorflow:global_step/sec: 233.531\n",
      "INFO:tensorflow:loss = 69.27646, step = 100 (0.429 sec)\n",
      "INFO:tensorflow:global_step/sec: 304.013\n",
      "INFO:tensorflow:loss = 51.57306, step = 200 (0.329 sec)\n",
      "INFO:tensorflow:global_step/sec: 298.699\n",
      "INFO:tensorflow:loss = 47.784103, step = 300 (0.335 sec)\n",
      "INFO:tensorflow:global_step/sec: 299.853\n",
      "INFO:tensorflow:loss = 46.912075, step = 400 (0.334 sec)\n",
      "INFO:tensorflow:global_step/sec: 302.546\n",
      "INFO:tensorflow:loss = 40.785793, step = 500 (0.330 sec)\n",
      "INFO:tensorflow:global_step/sec: 299.408\n",
      "INFO:tensorflow:loss = 38.48613, step = 600 (0.334 sec)\n",
      "INFO:tensorflow:global_step/sec: 297.563\n",
      "INFO:tensorflow:loss = 39.708355, step = 700 (0.336 sec)\n",
      "INFO:tensorflow:global_step/sec: 296.948\n",
      "INFO:tensorflow:loss = 40.363586, step = 800 (0.337 sec)\n",
      "INFO:tensorflow:global_step/sec: 303.975\n",
      "INFO:tensorflow:loss = 40.404606, step = 900 (0.329 sec)\n",
      "INFO:tensorflow:global_step/sec: 302.062\n",
      "INFO:tensorflow:loss = 37.45214, step = 1000 (0.331 sec)\n",
      "INFO:tensorflow:global_step/sec: 290.832\n",
      "INFO:tensorflow:loss = 36.25162, step = 1100 (0.344 sec)\n",
      "INFO:tensorflow:global_step/sec: 303.21\n",
      "INFO:tensorflow:loss = 35.556328, step = 1200 (0.330 sec)\n",
      "INFO:tensorflow:global_step/sec: 305.947\n",
      "INFO:tensorflow:loss = 31.49063, step = 1300 (0.327 sec)\n",
      "INFO:tensorflow:global_step/sec: 296.427\n",
      "INFO:tensorflow:loss = 36.970665, step = 1400 (0.338 sec)\n",
      "INFO:tensorflow:global_step/sec: 301.961\n",
      "INFO:tensorflow:loss = 34.406384, step = 1500 (0.331 sec)\n",
      "INFO:tensorflow:global_step/sec: 302.429\n",
      "INFO:tensorflow:loss = 26.672318, step = 1600 (0.331 sec)\n",
      "INFO:tensorflow:global_step/sec: 295.034\n",
      "INFO:tensorflow:loss = 30.251541, step = 1700 (0.339 sec)\n",
      "INFO:tensorflow:global_step/sec: 301.848\n",
      "INFO:tensorflow:loss = 31.258307, step = 1800 (0.331 sec)\n",
      "INFO:tensorflow:global_step/sec: 302.98\n",
      "INFO:tensorflow:loss = 34.161964, step = 1900 (0.330 sec)\n",
      "INFO:tensorflow:global_step/sec: 301.81\n",
      "INFO:tensorflow:loss = 35.094822, step = 2000 (0.331 sec)\n",
      "INFO:tensorflow:global_step/sec: 304.469\n",
      "INFO:tensorflow:loss = 28.893517, step = 2100 (0.328 sec)\n",
      "INFO:tensorflow:global_step/sec: 303.05\n",
      "INFO:tensorflow:loss = 25.104403, step = 2200 (0.330 sec)\n",
      "INFO:tensorflow:global_step/sec: 307.162\n",
      "INFO:tensorflow:loss = 30.18522, step = 2300 (0.326 sec)\n",
      "INFO:tensorflow:global_step/sec: 305.315\n",
      "INFO:tensorflow:loss = 31.26693, step = 2400 (0.328 sec)\n",
      "INFO:tensorflow:global_step/sec: 304.793\n",
      "INFO:tensorflow:loss = 24.341953, step = 2500 (0.328 sec)\n",
      "INFO:tensorflow:global_step/sec: 305.957\n",
      "INFO:tensorflow:loss = 32.063286, step = 2600 (0.327 sec)\n",
      "INFO:tensorflow:global_step/sec: 302.67\n",
      "INFO:tensorflow:loss = 30.584063, step = 2700 (0.330 sec)\n",
      "INFO:tensorflow:Calling checkpoint listeners before saving checkpoint 2800...\n",
      "INFO:tensorflow:Saving checkpoints for 2800 into /tmp/tmphgdr5us2/model.ckpt.\n",
      "INFO:tensorflow:Calling checkpoint listeners after saving checkpoint 2800...\n",
      "INFO:tensorflow:Loss for final step: 31.04656.\n",
      "INFO:tensorflow:Calling model_fn.\n",
      "INFO:tensorflow:Done calling model_fn.\n",
      "INFO:tensorflow:Starting evaluation at 2022-01-21T09:06:37\n",
      "INFO:tensorflow:Graph was finalized.\n",
      "INFO:tensorflow:Restoring parameters from /tmp/tmphgdr5us2/model.ckpt-2800\n",
      "INFO:tensorflow:Running local_init_op.\n",
      "INFO:tensorflow:Done running local_init_op.\n",
      "INFO:tensorflow:Inference Time : 0.21418s\n",
      "INFO:tensorflow:Finished evaluation at 2022-01-21-09:06:37\n",
      "INFO:tensorflow:Saving dict for global step 2800: average_loss = 31.328875, global_step = 2800, label/mean = 22.048513, loss = 31.328875, prediction/mean = 21.338617\n"
     ]
    },
    {
     "name": "stderr",
     "output_type": "stream",
     "text": [
      "2022-01-21 09:06:37.103873: I tensorflow/stream_executor/cuda/cuda_gpu_executor.cc:937] successful NUMA node read from SysFS had negative value (-1), but there must be at least one NUMA node, so returning NUMA node zero\n",
      "2022-01-21 09:06:37.104106: I tensorflow/core/common_runtime/gpu/gpu_device.cc:1733] Found device 0 with properties: \n",
      "pciBusID: 0000:2d:00.0 name: GeForce RTX 2070 SUPER computeCapability: 7.5\n",
      "coreClock: 1.785GHz coreCount: 40 deviceMemorySize: 7.79GiB deviceMemoryBandwidth: 417.29GiB/s\n",
      "2022-01-21 09:06:37.104156: I tensorflow/stream_executor/cuda/cuda_gpu_executor.cc:937] successful NUMA node read from SysFS had negative value (-1), but there must be at least one NUMA node, so returning NUMA node zero\n",
      "2022-01-21 09:06:37.104519: I tensorflow/stream_executor/cuda/cuda_gpu_executor.cc:937] successful NUMA node read from SysFS had negative value (-1), but there must be at least one NUMA node, so returning NUMA node zero\n",
      "2022-01-21 09:06:37.104702: I tensorflow/core/common_runtime/gpu/gpu_device.cc:1871] Adding visible gpu devices: 0\n",
      "2022-01-21 09:06:37.104725: I tensorflow/core/common_runtime/gpu/gpu_device.cc:1258] Device interconnect StreamExecutor with strength 1 edge matrix:\n",
      "2022-01-21 09:06:37.104729: I tensorflow/core/common_runtime/gpu/gpu_device.cc:1264]      0 \n",
      "2022-01-21 09:06:37.104732: I tensorflow/core/common_runtime/gpu/gpu_device.cc:1277] 0:   N \n",
      "2022-01-21 09:06:37.104791: I tensorflow/stream_executor/cuda/cuda_gpu_executor.cc:937] successful NUMA node read from SysFS had negative value (-1), but there must be at least one NUMA node, so returning NUMA node zero\n",
      "2022-01-21 09:06:37.104998: I tensorflow/stream_executor/cuda/cuda_gpu_executor.cc:937] successful NUMA node read from SysFS had negative value (-1), but there must be at least one NUMA node, so returning NUMA node zero\n",
      "2022-01-21 09:06:37.105181: I tensorflow/core/common_runtime/gpu/gpu_device.cc:1418] Created TensorFlow device (/job:localhost/replica:0/task:0/device:GPU:0 with 6268 MB memory) -> physical GPU (device: 0, name: GeForce RTX 2070 SUPER, pci bus id: 0000:2d:00.0, compute capability: 7.5)\n"
     ]
    },
    {
     "name": "stdout",
     "output_type": "stream",
     "text": [
      "INFO:tensorflow:Saving 'checkpoint_path' summary for global step 2800: /tmp/tmphgdr5us2/model.ckpt-2800\n",
      "{'average_loss': 31.328875, 'label/mean': 22.048513, 'loss': 31.328875, 'prediction/mean': 21.338617, 'global_step': 2800}\n"
     ]
    }
   ],
   "source": [
    "def create_interactions(interactions_list, buckets=5):\n",
    "    interactions = list()\n",
    "    for (a, b) in interactions_list:\n",
    "        interactions.append(tf.feature_column.crossed_column([a, b], hash_bucket_size=buckets))\n",
    "    return interactions\n",
    "\n",
    "derived_feature_columns = create_interactions([['RM', 'LSTAT']])\n",
    "linear_est = tf.estimator.LinearRegressor(feature_columns=feature_columns+derived_feature_columns)\n",
    "linear_est.train(train_input_fn)\n",
    "result = linear_est.evaluate(test_input_fn)\n",
    "\n",
    "print(result)"
   ]
  },
  {
   "cell_type": "code",
   "execution_count": 12,
   "id": "f885c3c6",
   "metadata": {},
   "outputs": [
    {
     "name": "stdout",
     "output_type": "stream",
     "text": [
      "INFO:tensorflow:Calling model_fn.\n",
      "INFO:tensorflow:Done calling model_fn.\n",
      "INFO:tensorflow:Graph was finalized.\n",
      "INFO:tensorflow:Restoring parameters from /tmp/tmphgdr5us2/model.ckpt-2800\n",
      "INFO:tensorflow:Running local_init_op.\n",
      "INFO:tensorflow:Done running local_init_op.\n",
      "[[24.65097  ]\n",
      " [30.475254 ]\n",
      " [19.849728 ]\n",
      " [21.614136 ]\n",
      " [17.876171 ]\n",
      " [16.826645 ]\n",
      " [18.219368 ]\n",
      " [12.463432 ]\n",
      " [23.554424 ]\n",
      " [25.291218 ]\n",
      " [20.821156 ]\n",
      " [17.08128  ]\n",
      " [28.582363 ]\n",
      " [16.866581 ]\n",
      " [19.730692 ]\n",
      " [21.017778 ]\n",
      " [24.091114 ]\n",
      " [22.82893  ]\n",
      " [24.578596 ]\n",
      " [22.67957  ]\n",
      " [26.487698 ]\n",
      " [25.193134 ]\n",
      " [22.903671 ]\n",
      " [19.270441 ]\n",
      " [20.979124 ]\n",
      " [11.677001 ]\n",
      " [17.457994 ]\n",
      " [21.350342 ]\n",
      " [20.247923 ]\n",
      " [ 5.791603 ]\n",
      " [13.066736 ]\n",
      " [10.124878 ]\n",
      " [19.751698 ]\n",
      " [19.134785 ]\n",
      " [15.171392 ]\n",
      " [33.53774  ]\n",
      " [27.49646  ]\n",
      " [28.843071 ]\n",
      " [33.98083  ]\n",
      " [33.80422  ]\n",
      " [34.73173  ]\n",
      " [15.667826 ]\n",
      " [20.151356 ]\n",
      " [23.915293 ]\n",
      " [36.318638 ]\n",
      " [26.219662 ]\n",
      " [32.44004  ]\n",
      " [24.488693 ]\n",
      " [20.141724 ]\n",
      " [22.567919 ]\n",
      " [27.22725  ]\n",
      " [24.619722 ]\n",
      " [23.829882 ]\n",
      " [30.134884 ]\n",
      " [23.572456 ]\n",
      " [23.614471 ]\n",
      " [33.077034 ]\n",
      " [27.653965 ]\n",
      " [32.728382 ]\n",
      " [27.676102 ]\n",
      " [35.864773 ]\n",
      " [25.477663 ]\n",
      " [15.640013 ]\n",
      " [26.428528 ]\n",
      " [24.62007  ]\n",
      " [15.468058 ]\n",
      " [18.177197 ]\n",
      " [18.822279 ]\n",
      " [23.260601 ]\n",
      " [24.326122 ]\n",
      " [27.359667 ]\n",
      " [22.763952 ]\n",
      " [22.957321 ]\n",
      " [26.353107 ]\n",
      " [12.969433 ]\n",
      " [24.505562 ]\n",
      " [19.147995 ]\n",
      " [ 4.5415316]\n",
      " [ 6.4768267]\n",
      " [20.57035  ]\n",
      " [18.530865 ]\n",
      " [20.810947 ]\n",
      " [20.283102 ]\n",
      " [20.425343 ]\n",
      " [ 7.6904306]\n",
      " [17.569077 ]\n",
      " [11.532448 ]\n",
      " [12.4545   ]\n",
      " [ 8.315927 ]\n",
      " [14.341186 ]\n",
      " [19.917671 ]\n",
      " [18.016453 ]\n",
      " [20.75559  ]\n",
      " [17.686977 ]\n",
      " [16.132286 ]\n",
      " [19.386385 ]\n",
      " [22.01094  ]\n",
      " [13.016502 ]\n",
      " [21.463722 ]\n",
      " [13.529385 ]\n",
      " [19.452492 ]]\n"
     ]
    },
    {
     "name": "stderr",
     "output_type": "stream",
     "text": [
      "2022-01-21 09:07:43.433798: I tensorflow/stream_executor/cuda/cuda_gpu_executor.cc:937] successful NUMA node read from SysFS had negative value (-1), but there must be at least one NUMA node, so returning NUMA node zero\n",
      "2022-01-21 09:07:43.434048: I tensorflow/core/common_runtime/gpu/gpu_device.cc:1733] Found device 0 with properties: \n",
      "pciBusID: 0000:2d:00.0 name: GeForce RTX 2070 SUPER computeCapability: 7.5\n",
      "coreClock: 1.785GHz coreCount: 40 deviceMemorySize: 7.79GiB deviceMemoryBandwidth: 417.29GiB/s\n",
      "2022-01-21 09:07:43.434095: I tensorflow/stream_executor/cuda/cuda_gpu_executor.cc:937] successful NUMA node read from SysFS had negative value (-1), but there must be at least one NUMA node, so returning NUMA node zero\n",
      "2022-01-21 09:07:43.434321: I tensorflow/stream_executor/cuda/cuda_gpu_executor.cc:937] successful NUMA node read from SysFS had negative value (-1), but there must be at least one NUMA node, so returning NUMA node zero\n",
      "2022-01-21 09:07:43.434518: I tensorflow/core/common_runtime/gpu/gpu_device.cc:1871] Adding visible gpu devices: 0\n",
      "2022-01-21 09:07:43.434540: I tensorflow/core/common_runtime/gpu/gpu_device.cc:1258] Device interconnect StreamExecutor with strength 1 edge matrix:\n",
      "2022-01-21 09:07:43.434543: I tensorflow/core/common_runtime/gpu/gpu_device.cc:1264]      0 \n",
      "2022-01-21 09:07:43.434546: I tensorflow/core/common_runtime/gpu/gpu_device.cc:1277] 0:   N \n",
      "2022-01-21 09:07:43.434605: I tensorflow/stream_executor/cuda/cuda_gpu_executor.cc:937] successful NUMA node read from SysFS had negative value (-1), but there must be at least one NUMA node, so returning NUMA node zero\n",
      "2022-01-21 09:07:43.434835: I tensorflow/stream_executor/cuda/cuda_gpu_executor.cc:937] successful NUMA node read from SysFS had negative value (-1), but there must be at least one NUMA node, so returning NUMA node zero\n",
      "2022-01-21 09:07:43.435043: I tensorflow/core/common_runtime/gpu/gpu_device.cc:1418] Created TensorFlow device (/job:localhost/replica:0/task:0/device:GPU:0 with 6268 MB memory) -> physical GPU (device: 0, name: GeForce RTX 2070 SUPER, pci bus id: 0000:2d:00.0, compute capability: 7.5)\n"
     ]
    }
   ],
   "source": [
    "def dicts_to_preds(pred_dicts):\n",
    "    return np.array([pred['predictions'] for pred in pred_dicts])\n",
    "\n",
    "preds = dicts_to_preds(linear_est.predict(test_input_fn))\n",
    "print(preds)"
   ]
  }
 ],
 "metadata": {
  "kernelspec": {
   "display_name": "Python 3 (ipykernel)",
   "language": "python",
   "name": "python3"
  },
  "language_info": {
   "codemirror_mode": {
    "name": "ipython",
    "version": 3
   },
   "file_extension": ".py",
   "mimetype": "text/x-python",
   "name": "python",
   "nbconvert_exporter": "python",
   "pygments_lexer": "ipython3",
   "version": "3.8.10"
  }
 },
 "nbformat": 4,
 "nbformat_minor": 5
}
