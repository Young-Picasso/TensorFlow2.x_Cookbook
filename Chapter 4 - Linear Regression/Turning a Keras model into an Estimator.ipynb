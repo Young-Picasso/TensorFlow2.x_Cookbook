{
 "cells": [
  {
   "cell_type": "markdown",
   "id": "d26dfd78",
   "metadata": {},
   "source": [
    "## Getting ready..."
   ]
  },
  {
   "cell_type": "code",
   "execution_count": 1,
   "id": "6e5723ef",
   "metadata": {},
   "outputs": [
    {
     "name": "stderr",
     "output_type": "stream",
     "text": [
      "2022-01-22 13:46:44.758661: I tensorflow/stream_executor/platform/default/dso_loader.cc:53] Successfully opened dynamic library libcudart.so.11.0\n"
     ]
    }
   ],
   "source": [
    "import tensorflow as tf\n",
    "import numpy as np\n",
    "import pandas as pd\n",
    "import tensorflow_datasets as tfds\n",
    "tfds.disable_progress_bar()"
   ]
  },
  {
   "cell_type": "code",
   "execution_count": 3,
   "id": "e9d93f28",
   "metadata": {},
   "outputs": [],
   "source": [
    "import tensorflow.keras as Keras"
   ]
  },
  {
   "cell_type": "markdown",
   "id": "caeae506",
   "metadata": {},
   "source": [
    "## How to do it"
   ]
  },
  {
   "cell_type": "code",
   "execution_count": 6,
   "id": "54d637a2",
   "metadata": {},
   "outputs": [],
   "source": [
    "def define_feature_columns_layer(data_df, categorical_cols, numeic_cols):\n",
    "    feature_columns = []\n",
    "    feature_layer_inputs = {}\n",
    "    \n",
    "    for feature_name in numeric_cols:\n",
    "        feature_columns.append(tf.feature_column.numeric_column(feature_name, dtype=tf.float32))\n",
    "        feature_layer_inputs[feature_name] = tf.keras.Input(shape=(1,), name=feature_name)\n",
    "        \n",
    "    for feature_name in categorical_cols:\n",
    "        vocabulary = data_df[feature_name].unique()\n",
    "        cat = tf.feature_column.categorical_column_with_vocabulary_list(feature_name, vocabulary)\n",
    "        cat_one_hot = tf.feature_column.indicator_column(cat)\n",
    "        feature_columns.append(cat_one_hot)\n",
    "        feature_layer_inputs[feature_name] = tf.keras.Input(shape=(1,), name=feature_name, dtype=tf.int32)\n",
    "        \n",
    "    return feature_columns, feature_layer_inputs"
   ]
  },
  {
   "cell_type": "code",
   "execution_count": 7,
   "id": "e5130dd5",
   "metadata": {},
   "outputs": [],
   "source": [
    "def create_interactions(interactions_list, buckets=5):\n",
    "    feature_columns = []\n",
    "    \n",
    "    for (a, b) in interactions_list:\n",
    "        crossed_feature = tf.feature_column.crossed_column([a, b], hash_bucket_size=buckets)\n",
    "        crossed_feature_one_hot = tf.feature_column.indicator_column(crossed_feature)\n",
    "        feature_columns.append(crossed_feature_one_hot)\n",
    "        \n",
    "    return feature_columns"
   ]
  },
  {
   "cell_type": "code",
   "execution_count": 21,
   "id": "5182d39f",
   "metadata": {},
   "outputs": [],
   "source": [
    "def create_linreg(feature_columns, feature_layer_inputs, optimizer):\n",
    "    \n",
    "    feature_layer = Keras.layers.DenseFeatures(feature_columns)\n",
    "    feature_layer_outputs = feature_layer(feature_layer_inputs)\n",
    "    norm = Keras.layers.BatchNormalization()(feature_layer_outputs)\n",
    "    outputs = Keras.layers.Dense(1, kernel_initializer='normal', activation='linear')(norm)\n",
    "    \n",
    "    model = Keras.Model(inputs=[v for v in feature_layer_inputs.values()], outputs=outputs)\n",
    "    model.compile(optimizer=optimizer, loss='mean_squared_error')\n",
    "    return model"
   ]
  },
  {
   "cell_type": "code",
   "execution_count": 23,
   "id": "9ea0ff83",
   "metadata": {},
   "outputs": [],
   "source": [
    "housing_url = 'http://archive.ics.uci.edu/ml/machine-learning-databases/housing/housing.data'\n",
    "path = tf.keras.utils.get_file(housing_url.split('/')[-1], housing_url)\n",
    "\n",
    "data = pd.read_table(path, delim_whitespace=True, header=None, names=columns)"
   ]
  },
  {
   "cell_type": "code",
   "execution_count": 24,
   "id": "562146f4",
   "metadata": {},
   "outputs": [],
   "source": [
    "categorical_cols = ['CHAS', 'RAD']\n",
    "numeric_cols = ['CRIM', 'ZN', 'INDUS', 'NOX', 'RM', 'AGE', 'DIS', 'TAX', 'PTRATIO', 'B', 'LSTAT']\n",
    "feature_columns, feature_layer_inputs = define_feature_columns_layer(data, categorical_cols, numeric_cols)\n",
    "interaction_columns = create_interactions([['RM', 'LSTAT']])\n",
    "\n",
    "feature_columns += interaction_columns\n",
    "\n",
    "optimizer = Keras.optimizers.Ftrl(learning_rate=0.02)\n",
    "model = create_linreg(feature_columns, feature_layer_inputs, optimizer)"
   ]
  },
  {
   "cell_type": "code",
   "execution_count": 25,
   "id": "31adc17e",
   "metadata": {},
   "outputs": [
    {
     "name": "stdout",
     "output_type": "stream",
     "text": [
      "INFO:tensorflow:Using default config.\n",
      "INFO:tensorflow:Using the Keras model provided.\n",
      "WARNING:tensorflow:From /home/wil/tensorflow/venv/lib/python3.8/site-packages/tensorflow/python/keras/layers/normalization.py:534: _colocate_with (from tensorflow.python.framework.ops) is deprecated and will be removed in a future version.\n",
      "Instructions for updating:\n",
      "Colocations handled automatically by placer.\n",
      "WARNING:tensorflow:From /home/wil/tensorflow/venv/lib/python3.8/site-packages/tensorflow/python/keras/optimizer_v2/ftrl.py:148: calling Constant.__init__ (from tensorflow.python.ops.init_ops) with dtype is deprecated and will be removed in a future version.\n",
      "Instructions for updating:\n",
      "Call initializer instance with the dtype argument instead of passing it to the constructor\n"
     ]
    },
    {
     "name": "stderr",
     "output_type": "stream",
     "text": [
      "/home/wil/tensorflow/venv/lib/python3.8/site-packages/tensorflow/python/keras/backend.py:435: UserWarning: `tf.keras.backend.set_learning_phase` is deprecated and will be removed after 2020-10-11. To update it, simply pass a True/False value to the `training` argument of the `__call__` method of your layer or model.\n",
      "  warnings.warn('`tf.keras.backend.set_learning_phase` is deprecated and '\n",
      "2022-01-22 14:10:01.492469: I tensorflow/stream_executor/cuda/cuda_gpu_executor.cc:937] successful NUMA node read from SysFS had negative value (-1), but there must be at least one NUMA node, so returning NUMA node zero\n",
      "2022-01-22 14:10:01.492705: I tensorflow/core/common_runtime/gpu/gpu_device.cc:1733] Found device 0 with properties: \n",
      "pciBusID: 0000:2d:00.0 name: GeForce RTX 2070 SUPER computeCapability: 7.5\n",
      "coreClock: 1.785GHz coreCount: 40 deviceMemorySize: 7.79GiB deviceMemoryBandwidth: 417.29GiB/s\n",
      "2022-01-22 14:10:01.492751: I tensorflow/stream_executor/cuda/cuda_gpu_executor.cc:937] successful NUMA node read from SysFS had negative value (-1), but there must be at least one NUMA node, so returning NUMA node zero\n",
      "2022-01-22 14:10:01.492959: I tensorflow/stream_executor/cuda/cuda_gpu_executor.cc:937] successful NUMA node read from SysFS had negative value (-1), but there must be at least one NUMA node, so returning NUMA node zero\n",
      "2022-01-22 14:10:01.493136: I tensorflow/core/common_runtime/gpu/gpu_device.cc:1871] Adding visible gpu devices: 0\n",
      "2022-01-22 14:10:01.493155: I tensorflow/core/common_runtime/gpu/gpu_device.cc:1258] Device interconnect StreamExecutor with strength 1 edge matrix:\n",
      "2022-01-22 14:10:01.493159: I tensorflow/core/common_runtime/gpu/gpu_device.cc:1264]      0 \n",
      "2022-01-22 14:10:01.493162: I tensorflow/core/common_runtime/gpu/gpu_device.cc:1277] 0:   N \n",
      "2022-01-22 14:10:01.493219: I tensorflow/stream_executor/cuda/cuda_gpu_executor.cc:937] successful NUMA node read from SysFS had negative value (-1), but there must be at least one NUMA node, so returning NUMA node zero\n",
      "2022-01-22 14:10:01.493425: I tensorflow/stream_executor/cuda/cuda_gpu_executor.cc:937] successful NUMA node read from SysFS had negative value (-1), but there must be at least one NUMA node, so returning NUMA node zero\n",
      "2022-01-22 14:10:01.493608: I tensorflow/core/common_runtime/gpu/gpu_device.cc:1418] Created TensorFlow device (/job:localhost/replica:0/task:0/device:GPU:0 with 6216 MB memory) -> physical GPU (device: 0, name: GeForce RTX 2070 SUPER, pci bus id: 0000:2d:00.0, compute capability: 7.5)\n",
      "2022-01-22 14:10:01.526514: I tensorflow/core/platform/profile_utils/cpu_utils.cc:114] CPU Frequency: 4199700000 Hz\n"
     ]
    },
    {
     "name": "stdout",
     "output_type": "stream",
     "text": [
      "INFO:tensorflow:Using config: {'_model_dir': '/tmp/tmpfm8nazjz', '_tf_random_seed': None, '_save_summary_steps': 100, '_save_checkpoints_steps': None, '_save_checkpoints_secs': 600, '_session_config': allow_soft_placement: true\n",
      "graph_options {\n",
      "  rewrite_options {\n",
      "    meta_optimizer_iterations: ONE\n",
      "  }\n",
      "}\n",
      ", '_keep_checkpoint_max': 5, '_keep_checkpoint_every_n_hours': 10000, '_log_step_count_steps': 100, '_train_distribute': None, '_device_fn': None, '_protocol': None, '_eval_distribute': None, '_experimental_distribute': None, '_experimental_max_worker_delay_secs': None, '_session_creation_timeout_secs': 7200, '_checkpoint_save_graph_def': True, '_service': None, '_cluster_spec': ClusterSpec({}), '_task_type': 'worker', '_task_id': 0, '_global_id_in_cluster': 0, '_master': '', '_evaluation_master': '', '_is_chief': True, '_num_ps_replicas': 0, '_num_worker_replicas': 1}\n"
     ]
    }
   ],
   "source": [
    "import tempfile\n",
    "\n",
    "def canned_keras(model):\n",
    "    model_dir = tempfile.mkdtemp()\n",
    "    keras_estimator = tf.keras.estimator.model_to_estimator(keras_model=model, model_dir=model_dir)\n",
    "    return keras_estimator\n",
    "estimator = canned_keras(model)"
   ]
  },
  {
   "cell_type": "code",
   "execution_count": 26,
   "id": "23f08220",
   "metadata": {},
   "outputs": [],
   "source": [
    "np.random.seed(1)\n",
    "train = data.sample(frac=0.8).copy()\n",
    "y_train = train['MEDV']\n",
    "train.drop('MEDV', axis=1, inplace=True)\n",
    "\n",
    "test = data.loc[~data.index.isin(train.index)].copy()\n",
    "y_test = test['MEDV']\n",
    "test.drop('MEDV', axis=1, inplace=True)"
   ]
  },
  {
   "cell_type": "code",
   "execution_count": 27,
   "id": "4a2b7ecc",
   "metadata": {},
   "outputs": [],
   "source": [
    "def make_input_fn(data_df, label_df, num_epochs=10, shuffle=True, batch_size=256):\n",
    "    \n",
    "    def input_function():\n",
    "        ds = tf.data.Dataset.from_tensor_slices((dict(data_df), label_df))\n",
    "        if shuffle:\n",
    "            ds = ds.shuffle(1000)\n",
    "        ds = ds.batch(batch_size).repeat(num_epochs)\n",
    "        return ds\n",
    "    \n",
    "    return input_function"
   ]
  },
  {
   "cell_type": "code",
   "execution_count": 28,
   "id": "d6849fbf",
   "metadata": {},
   "outputs": [
    {
     "name": "stdout",
     "output_type": "stream",
     "text": [
      "WARNING:tensorflow:From /home/wil/tensorflow/venv/lib/python3.8/site-packages/tensorflow/python/training/training_util.py:235: Variable.initialized_value (from tensorflow.python.ops.variables) is deprecated and will be removed in a future version.\n",
      "Instructions for updating:\n",
      "Use Variable.read_value. Variables in 2.X are initialized automatically both in eager and graph (inside tf.defun) contexts.\n",
      "INFO:tensorflow:Calling model_fn.\n",
      "INFO:tensorflow:Done calling model_fn.\n",
      "INFO:tensorflow:Warm-starting with WarmStartSettings: WarmStartSettings(ckpt_to_initialize_from='/tmp/tmpfm8nazjz/keras/keras_model.ckpt', vars_to_warm_start='.*', var_name_to_vocab_info={}, var_name_to_prev_var_name={})\n",
      "INFO:tensorflow:Warm-starting from: /tmp/tmpfm8nazjz/keras/keras_model.ckpt\n",
      "INFO:tensorflow:Warm-starting variables only in TRAINABLE_VARIABLES.\n",
      "INFO:tensorflow:Warm-started 4 variables.\n",
      "INFO:tensorflow:Create CheckpointSaverHook.\n",
      "INFO:tensorflow:Graph was finalized.\n",
      "INFO:tensorflow:Running local_init_op.\n",
      "INFO:tensorflow:Done running local_init_op.\n"
     ]
    },
    {
     "name": "stderr",
     "output_type": "stream",
     "text": [
      "2022-01-22 14:12:04.992147: I tensorflow/stream_executor/cuda/cuda_gpu_executor.cc:937] successful NUMA node read from SysFS had negative value (-1), but there must be at least one NUMA node, so returning NUMA node zero\n",
      "2022-01-22 14:12:04.992398: I tensorflow/core/common_runtime/gpu/gpu_device.cc:1733] Found device 0 with properties: \n",
      "pciBusID: 0000:2d:00.0 name: GeForce RTX 2070 SUPER computeCapability: 7.5\n",
      "coreClock: 1.785GHz coreCount: 40 deviceMemorySize: 7.79GiB deviceMemoryBandwidth: 417.29GiB/s\n",
      "2022-01-22 14:12:04.992444: I tensorflow/stream_executor/cuda/cuda_gpu_executor.cc:937] successful NUMA node read from SysFS had negative value (-1), but there must be at least one NUMA node, so returning NUMA node zero\n",
      "2022-01-22 14:12:04.992672: I tensorflow/stream_executor/cuda/cuda_gpu_executor.cc:937] successful NUMA node read from SysFS had negative value (-1), but there must be at least one NUMA node, so returning NUMA node zero\n",
      "2022-01-22 14:12:04.992871: I tensorflow/core/common_runtime/gpu/gpu_device.cc:1871] Adding visible gpu devices: 0\n",
      "2022-01-22 14:12:04.992890: I tensorflow/core/common_runtime/gpu/gpu_device.cc:1258] Device interconnect StreamExecutor with strength 1 edge matrix:\n",
      "2022-01-22 14:12:04.992895: I tensorflow/core/common_runtime/gpu/gpu_device.cc:1264]      0 \n",
      "2022-01-22 14:12:04.992898: I tensorflow/core/common_runtime/gpu/gpu_device.cc:1277] 0:   N \n",
      "2022-01-22 14:12:04.992957: I tensorflow/stream_executor/cuda/cuda_gpu_executor.cc:937] successful NUMA node read from SysFS had negative value (-1), but there must be at least one NUMA node, so returning NUMA node zero\n",
      "2022-01-22 14:12:04.993187: I tensorflow/stream_executor/cuda/cuda_gpu_executor.cc:937] successful NUMA node read from SysFS had negative value (-1), but there must be at least one NUMA node, so returning NUMA node zero\n",
      "2022-01-22 14:12:04.993399: I tensorflow/core/common_runtime/gpu/gpu_device.cc:1418] Created TensorFlow device (/job:localhost/replica:0/task:0/device:GPU:0 with 6216 MB memory) -> physical GPU (device: 0, name: GeForce RTX 2070 SUPER, pci bus id: 0000:2d:00.0, compute capability: 7.5)\n"
     ]
    },
    {
     "name": "stdout",
     "output_type": "stream",
     "text": [
      "INFO:tensorflow:Calling checkpoint listeners before saving checkpoint 0...\n",
      "INFO:tensorflow:Saving checkpoints for 0 into /tmp/tmpfm8nazjz/model.ckpt.\n",
      "INFO:tensorflow:Calling checkpoint listeners after saving checkpoint 0...\n"
     ]
    },
    {
     "name": "stderr",
     "output_type": "stream",
     "text": [
      "2022-01-22 14:12:05.310810: I tensorflow/stream_executor/platform/default/dso_loader.cc:53] Successfully opened dynamic library libcublas.so.11\n"
     ]
    },
    {
     "name": "stdout",
     "output_type": "stream",
     "text": [
      "INFO:tensorflow:loss = 587.195, step = 0\n"
     ]
    },
    {
     "name": "stderr",
     "output_type": "stream",
     "text": [
      "2022-01-22 14:12:05.807000: I tensorflow/stream_executor/platform/default/dso_loader.cc:53] Successfully opened dynamic library libcublasLt.so.11\n"
     ]
    },
    {
     "name": "stdout",
     "output_type": "stream",
     "text": [
      "INFO:tensorflow:global_step/sec: 437.93\n",
      "INFO:tensorflow:loss = 318.49603, step = 100 (0.229 sec)\n",
      "INFO:tensorflow:global_step/sec: 546.634\n",
      "INFO:tensorflow:loss = 139.72025, step = 200 (0.183 sec)\n",
      "INFO:tensorflow:global_step/sec: 555.399\n",
      "INFO:tensorflow:loss = 59.24311, step = 300 (0.180 sec)\n",
      "INFO:tensorflow:global_step/sec: 539.006\n",
      "INFO:tensorflow:loss = 45.963875, step = 400 (0.186 sec)\n",
      "INFO:tensorflow:global_step/sec: 560.652\n",
      "INFO:tensorflow:loss = 37.375244, step = 500 (0.178 sec)\n",
      "INFO:tensorflow:global_step/sec: 561.599\n",
      "INFO:tensorflow:loss = 32.92877, step = 600 (0.178 sec)\n",
      "INFO:tensorflow:global_step/sec: 555.694\n",
      "INFO:tensorflow:loss = 29.270836, step = 700 (0.180 sec)\n",
      "INFO:tensorflow:global_step/sec: 560.28\n",
      "INFO:tensorflow:loss = 25.946384, step = 800 (0.179 sec)\n",
      "INFO:tensorflow:global_step/sec: 558.796\n",
      "INFO:tensorflow:loss = 31.557884, step = 900 (0.179 sec)\n",
      "INFO:tensorflow:global_step/sec: 535.274\n",
      "INFO:tensorflow:loss = 24.583134, step = 1000 (0.187 sec)\n",
      "INFO:tensorflow:global_step/sec: 559.247\n",
      "INFO:tensorflow:loss = 25.258812, step = 1100 (0.179 sec)\n",
      "INFO:tensorflow:global_step/sec: 551.886\n",
      "INFO:tensorflow:loss = 26.867195, step = 1200 (0.181 sec)\n",
      "INFO:tensorflow:global_step/sec: 542.105\n",
      "INFO:tensorflow:loss = 31.872066, step = 1300 (0.184 sec)\n",
      "INFO:tensorflow:global_step/sec: 556.853\n",
      "INFO:tensorflow:loss = 28.62173, step = 1400 (0.180 sec)\n",
      "INFO:tensorflow:global_step/sec: 562.1\n",
      "INFO:tensorflow:loss = 28.593193, step = 1500 (0.178 sec)\n",
      "INFO:tensorflow:global_step/sec: 538.929\n",
      "INFO:tensorflow:loss = 21.218124, step = 1600 (0.186 sec)\n",
      "INFO:tensorflow:global_step/sec: 556.194\n",
      "INFO:tensorflow:loss = 26.129017, step = 1700 (0.179 sec)\n",
      "INFO:tensorflow:global_step/sec: 566.301\n",
      "INFO:tensorflow:loss = 24.904263, step = 1800 (0.176 sec)\n",
      "INFO:tensorflow:global_step/sec: 556.166\n",
      "INFO:tensorflow:loss = 25.281376, step = 1900 (0.180 sec)\n",
      "INFO:tensorflow:global_step/sec: 553.02\n",
      "INFO:tensorflow:loss = 27.07351, step = 2000 (0.181 sec)\n",
      "INFO:tensorflow:global_step/sec: 561.26\n",
      "INFO:tensorflow:loss = 21.757324, step = 2100 (0.178 sec)\n",
      "INFO:tensorflow:global_step/sec: 560.415\n",
      "INFO:tensorflow:loss = 26.613373, step = 2200 (0.178 sec)\n",
      "INFO:tensorflow:global_step/sec: 560.632\n",
      "INFO:tensorflow:loss = 22.44798, step = 2300 (0.178 sec)\n",
      "INFO:tensorflow:global_step/sec: 565.68\n",
      "INFO:tensorflow:loss = 23.080194, step = 2400 (0.177 sec)\n",
      "INFO:tensorflow:global_step/sec: 566.904\n",
      "INFO:tensorflow:loss = 22.69527, step = 2500 (0.176 sec)\n",
      "INFO:tensorflow:global_step/sec: 559.888\n",
      "INFO:tensorflow:loss = 22.87063, step = 2600 (0.179 sec)\n",
      "INFO:tensorflow:global_step/sec: 558.402\n",
      "INFO:tensorflow:loss = 22.10268, step = 2700 (0.179 sec)\n",
      "INFO:tensorflow:Calling checkpoint listeners before saving checkpoint 2800...\n",
      "INFO:tensorflow:Saving checkpoints for 2800 into /tmp/tmpfm8nazjz/model.ckpt.\n",
      "INFO:tensorflow:Calling checkpoint listeners after saving checkpoint 2800...\n",
      "INFO:tensorflow:Loss for final step: 22.425676.\n",
      "INFO:tensorflow:Calling model_fn.\n",
      "INFO:tensorflow:Done calling model_fn.\n",
      "INFO:tensorflow:Starting evaluation at 2022-01-22T14:12:11\n",
      "INFO:tensorflow:Graph was finalized.\n",
      "INFO:tensorflow:Restoring parameters from /tmp/tmpfm8nazjz/model.ckpt-2800\n",
      "INFO:tensorflow:Running local_init_op.\n",
      "INFO:tensorflow:Done running local_init_op.\n",
      "INFO:tensorflow:Inference Time : 0.08756s\n",
      "INFO:tensorflow:Finished evaluation at 2022-01-22-14:12:11\n",
      "INFO:tensorflow:Saving dict for global step 2800: global_step = 2800, loss = 24.85156\n",
      "INFO:tensorflow:Saving 'checkpoint_path' summary for global step 2800: /tmp/tmpfm8nazjz/model.ckpt-2800\n",
      "{'loss': 24.85156, 'global_step': 2800}\n"
     ]
    },
    {
     "name": "stderr",
     "output_type": "stream",
     "text": [
      "/home/wil/tensorflow/venv/lib/python3.8/site-packages/tensorflow/python/keras/engine/training.py:2426: UserWarning: `Model.state_updates` will be removed in a future version. This property should not be used in TensorFlow 2.0, as `updates` are applied automatically.\n",
      "  warnings.warn('`Model.state_updates` will be removed in a future version. '\n",
      "2022-01-22 14:12:11.071849: I tensorflow/stream_executor/cuda/cuda_gpu_executor.cc:937] successful NUMA node read from SysFS had negative value (-1), but there must be at least one NUMA node, so returning NUMA node zero\n",
      "2022-01-22 14:12:11.072091: I tensorflow/core/common_runtime/gpu/gpu_device.cc:1733] Found device 0 with properties: \n",
      "pciBusID: 0000:2d:00.0 name: GeForce RTX 2070 SUPER computeCapability: 7.5\n",
      "coreClock: 1.785GHz coreCount: 40 deviceMemorySize: 7.79GiB deviceMemoryBandwidth: 417.29GiB/s\n",
      "2022-01-22 14:12:11.072136: I tensorflow/stream_executor/cuda/cuda_gpu_executor.cc:937] successful NUMA node read from SysFS had negative value (-1), but there must be at least one NUMA node, so returning NUMA node zero\n",
      "2022-01-22 14:12:11.072340: I tensorflow/stream_executor/cuda/cuda_gpu_executor.cc:937] successful NUMA node read from SysFS had negative value (-1), but there must be at least one NUMA node, so returning NUMA node zero\n",
      "2022-01-22 14:12:11.072512: I tensorflow/core/common_runtime/gpu/gpu_device.cc:1871] Adding visible gpu devices: 0\n",
      "2022-01-22 14:12:11.072532: I tensorflow/core/common_runtime/gpu/gpu_device.cc:1258] Device interconnect StreamExecutor with strength 1 edge matrix:\n",
      "2022-01-22 14:12:11.072536: I tensorflow/core/common_runtime/gpu/gpu_device.cc:1264]      0 \n",
      "2022-01-22 14:12:11.072539: I tensorflow/core/common_runtime/gpu/gpu_device.cc:1277] 0:   N \n",
      "2022-01-22 14:12:11.072597: I tensorflow/stream_executor/cuda/cuda_gpu_executor.cc:937] successful NUMA node read from SysFS had negative value (-1), but there must be at least one NUMA node, so returning NUMA node zero\n",
      "2022-01-22 14:12:11.072802: I tensorflow/stream_executor/cuda/cuda_gpu_executor.cc:937] successful NUMA node read from SysFS had negative value (-1), but there must be at least one NUMA node, so returning NUMA node zero\n",
      "2022-01-22 14:12:11.072981: I tensorflow/core/common_runtime/gpu/gpu_device.cc:1418] Created TensorFlow device (/job:localhost/replica:0/task:0/device:GPU:0 with 6216 MB memory) -> physical GPU (device: 0, name: GeForce RTX 2070 SUPER, pci bus id: 0000:2d:00.0, compute capability: 7.5)\n"
     ]
    }
   ],
   "source": [
    "train_input_fn = make_input_fn(train, y_train, num_epochs=1400)\n",
    "test_input_fn = make_input_fn(test, y_test, num_epochs=1, shuffle=False)\n",
    "\n",
    "estimator.train(train_input_fn)\n",
    "result = estimator.evaluate(test_input_fn)\n",
    "\n",
    "print(result)"
   ]
  },
  {
   "cell_type": "code",
   "execution_count": 30,
   "id": "bed034fd",
   "metadata": {},
   "outputs": [
    {
     "name": "stdout",
     "output_type": "stream",
     "text": [
      "[[-0.8442589 ]\n",
      " [-0.9196228 ]\n",
      " [-0.8522259 ]\n",
      " [ 0.87031704]\n",
      " [ 0.83735174]\n",
      " [ 1.1116372 ]\n",
      " [-0.80827796]\n",
      " [-1.2430266 ]\n",
      " [ 0.87397623]\n",
      " [-0.8844386 ]\n",
      " [-0.91382885]\n",
      " [-0.9379465 ]\n",
      " [-0.89458334]\n",
      " [-0.8403668 ]\n",
      " [-0.99148303]\n",
      " [-0.91806936]\n",
      " [ 0.9299024 ]\n",
      " [ 0.93877435]\n",
      " [ 0.8835228 ]\n",
      " [ 0.92570865]\n",
      " [-0.83936316]\n",
      " [ 0.8989944 ]\n",
      " [-0.8777855 ]\n",
      " [ 0.90241015]\n",
      " [ 1.2515244 ]\n",
      " [-0.7917902 ]\n",
      " [-0.8693719 ]]\n"
     ]
    }
   ],
   "source": [
    "weights = estimator.get_variable_value('layer_with_weights-1/kernel/.ATTRIBUTES/VARIABLE_VALUE')\n",
    "print(weights)"
   ]
  },
  {
   "cell_type": "code",
   "execution_count": 32,
   "id": "641cca6d",
   "metadata": {},
   "outputs": [],
   "source": [
    "def extract_labels(feature_columns):\n",
    "    labels=list()\n",
    "    for col in feature_columns:\n",
    "        col_config = col.get_config()\n",
    "        if 'key' in col_config:\n",
    "            labels.append(col_config['key'])\n",
    "        elif 'categorical_column' in col_config:\n",
    "            if col_config['categorical_column']['class_name'] == 'VocabularyListCategoricalColumn':\n",
    "                key = col_config['categorical_column']['config']['key'] \n",
    "                for item in col_config['categorical_column']['config']['vocabulary_list']: \n",
    "                    labels.append(key+'_val='+str(item))\n",
    "            elif col_config['categorical_column']['class_name'] == 'CrossedColumn':\n",
    "                keys = col_config['categorical_column']['config']['keys']\n",
    "                for bucket in range(col_config['categorical_column']['config']['hash_bucket_size']):\n",
    "                    labels.append('x'.join(keys)+'_bkt_'+str(bucket))\n",
    "    return labels"
   ]
  },
  {
   "cell_type": "code",
   "execution_count": 33,
   "id": "10b7c300",
   "metadata": {},
   "outputs": [
    {
     "name": "stdout",
     "output_type": "stream",
     "text": [
      "CRIM            : -0.84\n",
      "ZN              : -0.92\n",
      "INDUS           : -0.85\n",
      "NOX             : +0.87\n",
      "RM              : +0.84\n",
      "AGE             : +1.11\n",
      "DIS             : -0.81\n",
      "TAX             : -1.24\n",
      "PTRATIO         : +0.87\n",
      "B               : -0.88\n",
      "LSTAT           : -0.91\n",
      "CHAS_val=0      : -0.94\n",
      "CHAS_val=1      : -0.89\n",
      "RAD_val=1       : -0.84\n",
      "RAD_val=2       : -0.99\n",
      "RAD_val=3       : -0.92\n",
      "RAD_val=5       : +0.93\n",
      "RAD_val=4       : +0.94\n",
      "RAD_val=8       : +0.88\n",
      "RAD_val=6       : +0.93\n",
      "RAD_val=7       : -0.84\n",
      "RAD_val=24      : +0.90\n",
      "RMxLSTAT_bkt_0  : -0.88\n",
      "RMxLSTAT_bkt_1  : +0.90\n",
      "RMxLSTAT_bkt_2  : +1.25\n",
      "RMxLSTAT_bkt_3  : -0.79\n",
      "RMxLSTAT_bkt_4  : -0.87\n"
     ]
    }
   ],
   "source": [
    "labels = extract_labels(feature_columns)\n",
    "\n",
    "for label, weight in zip(labels, weights):\n",
    "    print(f\"{label:15s} : {weight[0]:+.2f}\")"
   ]
  }
 ],
 "metadata": {
  "kernelspec": {
   "display_name": "Python 3 (ipykernel)",
   "language": "python",
   "name": "python3"
  },
  "language_info": {
   "codemirror_mode": {
    "name": "ipython",
    "version": 3
   },
   "file_extension": ".py",
   "mimetype": "text/x-python",
   "name": "python",
   "nbconvert_exporter": "python",
   "pygments_lexer": "ipython3",
   "version": "3.8.10"
  }
 },
 "nbformat": 4,
 "nbformat_minor": 5
}
