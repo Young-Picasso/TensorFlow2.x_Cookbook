{
 "cells": [
  {
   "cell_type": "markdown",
   "id": "1422cf2a",
   "metadata": {},
   "source": [
    "## Getting ready..."
   ]
  },
  {
   "cell_type": "code",
   "execution_count": 1,
   "id": "191a55fa",
   "metadata": {},
   "outputs": [
    {
     "name": "stderr",
     "output_type": "stream",
     "text": [
      "2022-01-20 14:08:59.845480: I tensorflow/stream_executor/platform/default/dso_loader.cc:53] Successfully opened dynamic library libcudart.so.11.0\n"
     ]
    }
   ],
   "source": [
    "import tensorflow as tf\n",
    "from tensorflow import keras"
   ]
  },
  {
   "cell_type": "markdown",
   "id": "fa6f83e7",
   "metadata": {},
   "source": [
    "## How to do it"
   ]
  },
  {
   "cell_type": "markdown",
   "id": "f978db87",
   "metadata": {},
   "source": [
    "### Creating a custom layer"
   ]
  },
  {
   "cell_type": "code",
   "execution_count": 2,
   "id": "c6ae1214",
   "metadata": {},
   "outputs": [],
   "source": [
    "class MyCustomDense(tf.keras.layers.Layer):\n",
    "    # Initialize this class with the number of units\n",
    "    def __init__(self, units):\n",
    "        super(MyCustomDense, self).__init__()\n",
    "        self.units = units\n",
    "        \n",
    "    # Define the weights and the bias\n",
    "    def build(self, input_shape):\n",
    "        self.w = self.add_weight(shape=(input_shape[-1], self.units),\n",
    "                                 initializer='random_normal',\n",
    "                                 trainable=True)\n",
    "        self.b = self.add_weight(shape=(self.units,),\n",
    "                                 initializer='random_normal',\n",
    "                                 trainable=True)\n",
    "        \n",
    "    # Applying this layer transformation to the input tensor\n",
    "    def call(self, inputs):\n",
    "        return tf.matmul(inputs, self.w) + self.b\n",
    "    \n",
    "    # Function to retrieve the configuration\n",
    "    def get_config(self):\n",
    "        return {'units': self.units}"
   ]
  },
  {
   "cell_type": "code",
   "execution_count": 3,
   "id": "6da49d4e",
   "metadata": {},
   "outputs": [
    {
     "name": "stderr",
     "output_type": "stream",
     "text": [
      "2022-01-20 14:17:52.167137: I tensorflow/stream_executor/platform/default/dso_loader.cc:53] Successfully opened dynamic library libcuda.so.1\n",
      "2022-01-20 14:17:52.219431: I tensorflow/stream_executor/cuda/cuda_gpu_executor.cc:937] successful NUMA node read from SysFS had negative value (-1), but there must be at least one NUMA node, so returning NUMA node zero\n",
      "2022-01-20 14:17:52.219800: I tensorflow/core/common_runtime/gpu/gpu_device.cc:1733] Found device 0 with properties: \n",
      "pciBusID: 0000:2d:00.0 name: GeForce RTX 2070 SUPER computeCapability: 7.5\n",
      "coreClock: 1.785GHz coreCount: 40 deviceMemorySize: 7.79GiB deviceMemoryBandwidth: 417.29GiB/s\n",
      "2022-01-20 14:17:52.219814: I tensorflow/stream_executor/platform/default/dso_loader.cc:53] Successfully opened dynamic library libcudart.so.11.0\n",
      "2022-01-20 14:17:52.221442: I tensorflow/stream_executor/platform/default/dso_loader.cc:53] Successfully opened dynamic library libcublas.so.11\n",
      "2022-01-20 14:17:52.221467: I tensorflow/stream_executor/platform/default/dso_loader.cc:53] Successfully opened dynamic library libcublasLt.so.11\n",
      "2022-01-20 14:17:52.222029: I tensorflow/stream_executor/platform/default/dso_loader.cc:53] Successfully opened dynamic library libcufft.so.10\n",
      "2022-01-20 14:17:52.222158: I tensorflow/stream_executor/platform/default/dso_loader.cc:53] Successfully opened dynamic library libcurand.so.10\n",
      "2022-01-20 14:17:52.223772: I tensorflow/stream_executor/platform/default/dso_loader.cc:53] Successfully opened dynamic library libcusolver.so.11\n",
      "2022-01-20 14:17:52.224152: I tensorflow/stream_executor/platform/default/dso_loader.cc:53] Successfully opened dynamic library libcusparse.so.11\n",
      "2022-01-20 14:17:52.224222: I tensorflow/stream_executor/platform/default/dso_loader.cc:53] Successfully opened dynamic library libcudnn.so.8\n",
      "2022-01-20 14:17:52.224294: I tensorflow/stream_executor/cuda/cuda_gpu_executor.cc:937] successful NUMA node read from SysFS had negative value (-1), but there must be at least one NUMA node, so returning NUMA node zero\n",
      "2022-01-20 14:17:52.224684: I tensorflow/stream_executor/cuda/cuda_gpu_executor.cc:937] successful NUMA node read from SysFS had negative value (-1), but there must be at least one NUMA node, so returning NUMA node zero\n",
      "2022-01-20 14:17:52.225010: I tensorflow/core/common_runtime/gpu/gpu_device.cc:1871] Adding visible gpu devices: 0\n",
      "2022-01-20 14:17:52.225254: I tensorflow/core/platform/cpu_feature_guard.cc:142] This TensorFlow binary is optimized with oneAPI Deep Neural Network Library (oneDNN) to use the following CPU instructions in performance-critical operations:  AVX2 FMA\n",
      "To enable them in other operations, rebuild TensorFlow with the appropriate compiler flags.\n",
      "2022-01-20 14:17:52.225762: I tensorflow/stream_executor/cuda/cuda_gpu_executor.cc:937] successful NUMA node read from SysFS had negative value (-1), but there must be at least one NUMA node, so returning NUMA node zero\n",
      "2022-01-20 14:17:52.226102: I tensorflow/core/common_runtime/gpu/gpu_device.cc:1733] Found device 0 with properties: \n",
      "pciBusID: 0000:2d:00.0 name: GeForce RTX 2070 SUPER computeCapability: 7.5\n",
      "coreClock: 1.785GHz coreCount: 40 deviceMemorySize: 7.79GiB deviceMemoryBandwidth: 417.29GiB/s\n",
      "2022-01-20 14:17:52.226138: I tensorflow/stream_executor/cuda/cuda_gpu_executor.cc:937] successful NUMA node read from SysFS had negative value (-1), but there must be at least one NUMA node, so returning NUMA node zero\n",
      "2022-01-20 14:17:52.226483: I tensorflow/stream_executor/cuda/cuda_gpu_executor.cc:937] successful NUMA node read from SysFS had negative value (-1), but there must be at least one NUMA node, so returning NUMA node zero\n",
      "2022-01-20 14:17:52.226801: I tensorflow/core/common_runtime/gpu/gpu_device.cc:1871] Adding visible gpu devices: 0\n",
      "2022-01-20 14:17:52.226819: I tensorflow/stream_executor/platform/default/dso_loader.cc:53] Successfully opened dynamic library libcudart.so.11.0\n",
      "2022-01-20 14:17:52.558488: I tensorflow/core/common_runtime/gpu/gpu_device.cc:1258] Device interconnect StreamExecutor with strength 1 edge matrix:\n",
      "2022-01-20 14:17:52.558510: I tensorflow/core/common_runtime/gpu/gpu_device.cc:1264]      0 \n",
      "2022-01-20 14:17:52.558515: I tensorflow/core/common_runtime/gpu/gpu_device.cc:1277] 0:   N \n",
      "2022-01-20 14:17:52.558656: I tensorflow/stream_executor/cuda/cuda_gpu_executor.cc:937] successful NUMA node read from SysFS had negative value (-1), but there must be at least one NUMA node, so returning NUMA node zero\n",
      "2022-01-20 14:17:52.559007: I tensorflow/stream_executor/cuda/cuda_gpu_executor.cc:937] successful NUMA node read from SysFS had negative value (-1), but there must be at least one NUMA node, so returning NUMA node zero\n",
      "2022-01-20 14:17:52.559333: I tensorflow/stream_executor/cuda/cuda_gpu_executor.cc:937] successful NUMA node read from SysFS had negative value (-1), but there must be at least one NUMA node, so returning NUMA node zero\n",
      "2022-01-20 14:17:52.559656: I tensorflow/core/common_runtime/gpu/gpu_device.cc:1418] Created TensorFlow device (/job:localhost/replica:0/task:0/device:GPU:0 with 6237 MB memory) -> physical GPU (device: 0, name: GeForce RTX 2070 SUPER, pci bus id: 0000:2d:00.0, compute capability: 7.5)\n"
     ]
    }
   ],
   "source": [
    "# Create an input layer\n",
    "inputs = keras.Input((12, 4))\n",
    "\n",
    "# Add an instance of MyCustomDense Layer\n",
    "outputs = MyCustomDense(2)(inputs)\n",
    "\n",
    "# Create a model\n",
    "model = keras.Model(inputs, outputs)\n",
    "\n",
    "# Get the model config\n",
    "config = model.get_config()"
   ]
  },
  {
   "cell_type": "code",
   "execution_count": 4,
   "id": "3885adce",
   "metadata": {},
   "outputs": [],
   "source": [
    "# Reload the model from config\n",
    "new_model = keras.Model.from_config(config,\n",
    "                                   custom_objects={'MyCustomDense': MyCustomDense})"
   ]
  },
  {
   "cell_type": "markdown",
   "id": "861be91b",
   "metadata": {},
   "source": [
    "### Creating a custom model"
   ]
  },
  {
   "cell_type": "code",
   "execution_count": 5,
   "id": "9ebe1e1e",
   "metadata": {},
   "outputs": [],
   "source": [
    "mnist = tf.keras.datasets.mnist\n",
    "(X_mnist_train, y_mnist_train), (X_mnist_test, y_mnist_test) = mnist.load_data()\n",
    "\n",
    "train_mnist_features = X_mnist_train/255\n",
    "test_mnist_features = X_mnist_test/255"
   ]
  },
  {
   "cell_type": "code",
   "execution_count": 6,
   "id": "ff9b14b4",
   "metadata": {},
   "outputs": [],
   "source": [
    "class MyMNISTModel(tf.keras.Model):\n",
    "    def __init__(self, num_classes):\n",
    "        super(MyMNISTModel, self).__init__(name='my_mnist_model')\n",
    "        self.num_classes = num_classes\n",
    "        \n",
    "        self.flatten_1 = tf.keras.layers.Flatten()\n",
    "        self.dropout = tf.keras.layers.Dropout(0.1)\n",
    "        self.dense_1 = tf.keras.layers.Dense(50, activation='relu')\n",
    "        \n",
    "        self.dense_2 = tf.keras.layers.Dense(10, activation='softmax')\n",
    "        \n",
    "    def call(self, inputs, training=False):\n",
    "        \n",
    "        x = self.flatten_1(inputs)\n",
    "        \n",
    "        # Apply dropout only during the training phase\n",
    "        x = self.dense_1(x)\n",
    "        if training:\n",
    "            x = self.dropout(x, training=training)\n",
    "        return self.dense_2(x)"
   ]
  },
  {
   "cell_type": "code",
   "execution_count": 9,
   "id": "f17eef9b",
   "metadata": {},
   "outputs": [
    {
     "name": "stderr",
     "output_type": "stream",
     "text": [
      "2022-01-20 14:28:55.143004: I tensorflow/compiler/mlir/mlir_graph_optimization_pass.cc:176] None of the MLIR Optimization Passes are enabled (registered 2)\n",
      "2022-01-20 14:28:55.159447: I tensorflow/core/platform/profile_utils/cpu_utils.cc:114] CPU Frequency: 4200250000 Hz\n",
      "2022-01-20 14:28:55.327129: I tensorflow/stream_executor/platform/default/dso_loader.cc:53] Successfully opened dynamic library libcublas.so.11\n"
     ]
    },
    {
     "name": "stdout",
     "output_type": "stream",
     "text": [
      "Epoch 1/10\n",
      " 241/1875 [==>...........................] - ETA: 1s - loss: 1.6060 - accuracy: 0.5520"
     ]
    },
    {
     "name": "stderr",
     "output_type": "stream",
     "text": [
      "2022-01-20 14:28:55.597112: I tensorflow/stream_executor/platform/default/dso_loader.cc:53] Successfully opened dynamic library libcublasLt.so.11\n"
     ]
    },
    {
     "name": "stdout",
     "output_type": "stream",
     "text": [
      "1875/1875 [==============================] - 2s 717us/step - loss: 0.7331 - accuracy: 0.7965 - val_loss: 0.3722 - val_accuracy: 0.8985\n",
      "Epoch 2/10\n",
      "1875/1875 [==============================] - 1s 660us/step - loss: 0.3954 - accuracy: 0.8852 - val_loss: 0.3027 - val_accuracy: 0.9158\n",
      "Epoch 3/10\n",
      "1875/1875 [==============================] - 1s 675us/step - loss: 0.3352 - accuracy: 0.9036 - val_loss: 0.2662 - val_accuracy: 0.9242\n",
      "Epoch 4/10\n",
      "1875/1875 [==============================] - 1s 679us/step - loss: 0.3013 - accuracy: 0.9128 - val_loss: 0.2424 - val_accuracy: 0.9298\n",
      "Epoch 5/10\n",
      "1875/1875 [==============================] - 1s 678us/step - loss: 0.2771 - accuracy: 0.9203 - val_loss: 0.2245 - val_accuracy: 0.9351\n",
      "Epoch 6/10\n",
      "1875/1875 [==============================] - 1s 676us/step - loss: 0.2561 - accuracy: 0.9266 - val_loss: 0.2107 - val_accuracy: 0.9400\n",
      "Epoch 7/10\n",
      "1875/1875 [==============================] - 1s 671us/step - loss: 0.2435 - accuracy: 0.9287 - val_loss: 0.1994 - val_accuracy: 0.9422\n",
      "Epoch 8/10\n",
      "1875/1875 [==============================] - 1s 682us/step - loss: 0.2295 - accuracy: 0.9331 - val_loss: 0.1880 - val_accuracy: 0.9444\n",
      "Epoch 9/10\n",
      "1875/1875 [==============================] - 1s 677us/step - loss: 0.2171 - accuracy: 0.9376 - val_loss: 0.1780 - val_accuracy: 0.9483\n",
      "Epoch 10/10\n",
      "1875/1875 [==============================] - 1s 681us/step - loss: 0.2081 - accuracy: 0.9394 - val_loss: 0.1716 - val_accuracy: 0.9494\n"
     ]
    },
    {
     "data": {
      "text/plain": [
       "<tensorflow.python.keras.callbacks.History at 0x7fb7ec121730>"
      ]
     },
     "execution_count": 9,
     "metadata": {},
     "output_type": "execute_result"
    }
   ],
   "source": [
    "my_mnist_model = MyMNISTModel(10)\n",
    "# Compile\n",
    "my_mnist_model.compile(optimizer='sgd',\n",
    "                      loss='sparse_categorical_crossentropy',\n",
    "                      metrics=['accuracy'])\n",
    "\n",
    "# Train\n",
    "my_mnist_model.fit(train_mnist_features, y_mnist_train, validation_data=(test_mnist_features, y_mnist_test),\n",
    "                  epochs=10)"
   ]
  }
 ],
 "metadata": {
  "kernelspec": {
   "display_name": "Python 3 (ipykernel)",
   "language": "python",
   "name": "python3"
  },
  "language_info": {
   "codemirror_mode": {
    "name": "ipython",
    "version": 3
   },
   "file_extension": ".py",
   "mimetype": "text/x-python",
   "name": "python",
   "nbconvert_exporter": "python",
   "pygments_lexer": "ipython3",
   "version": "3.8.10"
  }
 },
 "nbformat": 4,
 "nbformat_minor": 5
}
