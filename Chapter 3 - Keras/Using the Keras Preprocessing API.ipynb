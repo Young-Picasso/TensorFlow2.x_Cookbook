{
 "cells": [
  {
   "cell_type": "markdown",
   "id": "d84cf540",
   "metadata": {},
   "source": [
    "## Getting ready..."
   ]
  },
  {
   "cell_type": "code",
   "execution_count": 1,
   "id": "a6f0bc68",
   "metadata": {},
   "outputs": [
    {
     "name": "stderr",
     "output_type": "stream",
     "text": [
      "2022-01-20 15:07:46.352544: I tensorflow/stream_executor/platform/default/dso_loader.cc:53] Successfully opened dynamic library libcudart.so.11.0\n"
     ]
    }
   ],
   "source": [
    "import tensorflow as tf\n",
    "from tensorflow import keras\n",
    "import numpy as np\n",
    "from tensorflow.keras.preprocessing.sequence import TimeseriesGenerator, pad_sequences, skipgrams, make_sampling_table\n",
    "from tensorflow.keras.preprocessing.text import text_to_word_sequence, one_hot, hashing_trick, Tokenizer\n",
    "from tensorflow.keras.models import Sequential\n",
    "from tensorflow.keras.layers import Dense"
   ]
  },
  {
   "cell_type": "markdown",
   "id": "e5ac5dbc",
   "metadata": {},
   "source": [
    "## How to do it..."
   ]
  },
  {
   "cell_type": "markdown",
   "id": "1a18b83b",
   "metadata": {},
   "source": [
    "### Sequence Processing"
   ]
  },
  {
   "cell_type": "markdown",
   "id": "bba658a0",
   "metadata": {},
   "source": [
    "#### Time series generator"
   ]
  },
  {
   "cell_type": "code",
   "execution_count": 2,
   "id": "13299bbf",
   "metadata": {},
   "outputs": [
    {
     "name": "stdout",
     "output_type": "stream",
     "text": [
      "[0 1 2 3 4 5 6 7 8 9]\n"
     ]
    }
   ],
   "source": [
    "series = np.array([i for i in range(10)])\n",
    "print(series)"
   ]
  },
  {
   "cell_type": "code",
   "execution_count": 11,
   "id": "4268ab47",
   "metadata": {},
   "outputs": [],
   "source": [
    "generator = TimeseriesGenerator(data = series,\n",
    "                               targets = series,\n",
    "                               length=5,\n",
    "                               batch_size=1,\n",
    "                               shuffle=False,\n",
    "                               reverse=False)"
   ]
  },
  {
   "cell_type": "code",
   "execution_count": 12,
   "id": "95d3b216",
   "metadata": {},
   "outputs": [
    {
     "name": "stdout",
     "output_type": "stream",
     "text": [
      "Samples: 5\n"
     ]
    }
   ],
   "source": [
    "# number of samples\n",
    "print(f'Samples: {len(generator)}')"
   ]
  },
  {
   "cell_type": "code",
   "execution_count": 13,
   "id": "a45cc5c9",
   "metadata": {},
   "outputs": [
    {
     "name": "stdout",
     "output_type": "stream",
     "text": [
      "[[0 1 2 3 4]] => [5]\n",
      "[[1 2 3 4 5]] => [6]\n",
      "[[2 3 4 5 6]] => [7]\n",
      "[[3 4 5 6 7]] => [8]\n",
      "[[4 5 6 7 8]] => [9]\n"
     ]
    }
   ],
   "source": [
    "for i in range(len(generator)):\n",
    "    x, y = generator[i]\n",
    "    print(f'{x} => {y}')"
   ]
  },
  {
   "cell_type": "code",
   "execution_count": 14,
   "id": "f08cd538",
   "metadata": {},
   "outputs": [
    {
     "name": "stderr",
     "output_type": "stream",
     "text": [
      "2022-01-20 15:15:15.650952: I tensorflow/stream_executor/platform/default/dso_loader.cc:53] Successfully opened dynamic library libcuda.so.1\n",
      "2022-01-20 15:15:15.703441: I tensorflow/stream_executor/cuda/cuda_gpu_executor.cc:937] successful NUMA node read from SysFS had negative value (-1), but there must be at least one NUMA node, so returning NUMA node zero\n",
      "2022-01-20 15:15:15.703812: I tensorflow/core/common_runtime/gpu/gpu_device.cc:1733] Found device 0 with properties: \n",
      "pciBusID: 0000:2d:00.0 name: GeForce RTX 2070 SUPER computeCapability: 7.5\n",
      "coreClock: 1.785GHz coreCount: 40 deviceMemorySize: 7.79GiB deviceMemoryBandwidth: 417.29GiB/s\n",
      "2022-01-20 15:15:15.703827: I tensorflow/stream_executor/platform/default/dso_loader.cc:53] Successfully opened dynamic library libcudart.so.11.0\n",
      "2022-01-20 15:15:15.705428: I tensorflow/stream_executor/platform/default/dso_loader.cc:53] Successfully opened dynamic library libcublas.so.11\n",
      "2022-01-20 15:15:15.705451: I tensorflow/stream_executor/platform/default/dso_loader.cc:53] Successfully opened dynamic library libcublasLt.so.11\n",
      "2022-01-20 15:15:15.705994: I tensorflow/stream_executor/platform/default/dso_loader.cc:53] Successfully opened dynamic library libcufft.so.10\n",
      "2022-01-20 15:15:15.706114: I tensorflow/stream_executor/platform/default/dso_loader.cc:53] Successfully opened dynamic library libcurand.so.10\n",
      "2022-01-20 15:15:15.707687: I tensorflow/stream_executor/platform/default/dso_loader.cc:53] Successfully opened dynamic library libcusolver.so.11\n",
      "2022-01-20 15:15:15.708051: I tensorflow/stream_executor/platform/default/dso_loader.cc:53] Successfully opened dynamic library libcusparse.so.11\n",
      "2022-01-20 15:15:15.708119: I tensorflow/stream_executor/platform/default/dso_loader.cc:53] Successfully opened dynamic library libcudnn.so.8\n",
      "2022-01-20 15:15:15.708191: I tensorflow/stream_executor/cuda/cuda_gpu_executor.cc:937] successful NUMA node read from SysFS had negative value (-1), but there must be at least one NUMA node, so returning NUMA node zero\n",
      "2022-01-20 15:15:15.708578: I tensorflow/stream_executor/cuda/cuda_gpu_executor.cc:937] successful NUMA node read from SysFS had negative value (-1), but there must be at least one NUMA node, so returning NUMA node zero\n",
      "2022-01-20 15:15:15.708903: I tensorflow/core/common_runtime/gpu/gpu_device.cc:1871] Adding visible gpu devices: 0\n",
      "2022-01-20 15:15:15.709181: I tensorflow/core/platform/cpu_feature_guard.cc:142] This TensorFlow binary is optimized with oneAPI Deep Neural Network Library (oneDNN) to use the following CPU instructions in performance-critical operations:  AVX2 FMA\n",
      "To enable them in other operations, rebuild TensorFlow with the appropriate compiler flags.\n",
      "2022-01-20 15:15:15.709706: I tensorflow/stream_executor/cuda/cuda_gpu_executor.cc:937] successful NUMA node read from SysFS had negative value (-1), but there must be at least one NUMA node, so returning NUMA node zero\n",
      "2022-01-20 15:15:15.710051: I tensorflow/core/common_runtime/gpu/gpu_device.cc:1733] Found device 0 with properties: \n",
      "pciBusID: 0000:2d:00.0 name: GeForce RTX 2070 SUPER computeCapability: 7.5\n",
      "coreClock: 1.785GHz coreCount: 40 deviceMemorySize: 7.79GiB deviceMemoryBandwidth: 417.29GiB/s\n",
      "2022-01-20 15:15:15.710086: I tensorflow/stream_executor/cuda/cuda_gpu_executor.cc:937] successful NUMA node read from SysFS had negative value (-1), but there must be at least one NUMA node, so returning NUMA node zero\n",
      "2022-01-20 15:15:15.710429: I tensorflow/stream_executor/cuda/cuda_gpu_executor.cc:937] successful NUMA node read from SysFS had negative value (-1), but there must be at least one NUMA node, so returning NUMA node zero\n",
      "2022-01-20 15:15:15.710747: I tensorflow/core/common_runtime/gpu/gpu_device.cc:1871] Adding visible gpu devices: 0\n",
      "2022-01-20 15:15:15.710764: I tensorflow/stream_executor/platform/default/dso_loader.cc:53] Successfully opened dynamic library libcudart.so.11.0\n",
      "2022-01-20 15:15:16.044169: I tensorflow/core/common_runtime/gpu/gpu_device.cc:1258] Device interconnect StreamExecutor with strength 1 edge matrix:\n",
      "2022-01-20 15:15:16.044192: I tensorflow/core/common_runtime/gpu/gpu_device.cc:1264]      0 \n",
      "2022-01-20 15:15:16.044197: I tensorflow/core/common_runtime/gpu/gpu_device.cc:1277] 0:   N \n",
      "2022-01-20 15:15:16.044336: I tensorflow/stream_executor/cuda/cuda_gpu_executor.cc:937] successful NUMA node read from SysFS had negative value (-1), but there must be at least one NUMA node, so returning NUMA node zero\n",
      "2022-01-20 15:15:16.044688: I tensorflow/stream_executor/cuda/cuda_gpu_executor.cc:937] successful NUMA node read from SysFS had negative value (-1), but there must be at least one NUMA node, so returning NUMA node zero\n",
      "2022-01-20 15:15:16.045012: I tensorflow/stream_executor/cuda/cuda_gpu_executor.cc:937] successful NUMA node read from SysFS had negative value (-1), but there must be at least one NUMA node, so returning NUMA node zero\n",
      "2022-01-20 15:15:16.045321: I tensorflow/core/common_runtime/gpu/gpu_device.cc:1418] Created TensorFlow device (/job:localhost/replica:0/task:0/device:GPU:0 with 6192 MB memory) -> physical GPU (device: 0, name: GeForce RTX 2070 SUPER, pci bus id: 0000:2d:00.0, compute capability: 7.5)\n"
     ]
    }
   ],
   "source": [
    "model = Sequential()\n",
    "model.add(Dense(10, activation='relu', input_dim=5))\n",
    "model.add(Dense(1))\n",
    "model.compile(optimizer='adam', loss='mse')"
   ]
  },
  {
   "cell_type": "code",
   "execution_count": 15,
   "id": "247ec660",
   "metadata": {},
   "outputs": [
    {
     "name": "stderr",
     "output_type": "stream",
     "text": [
      "2022-01-20 15:15:26.999346: I tensorflow/compiler/mlir/mlir_graph_optimization_pass.cc:176] None of the MLIR Optimization Passes are enabled (registered 2)\n",
      "2022-01-20 15:15:27.019445: I tensorflow/core/platform/profile_utils/cpu_utils.cc:114] CPU Frequency: 4200250000 Hz\n",
      "2022-01-20 15:15:27.176421: I tensorflow/stream_executor/platform/default/dso_loader.cc:53] Successfully opened dynamic library libcublas.so.11\n"
     ]
    },
    {
     "name": "stdout",
     "output_type": "stream",
     "text": [
      "Epoch 1/10\n",
      "5/5 [==============================] - 0s 866us/step - loss: 52.8435\n",
      "Epoch 2/10\n",
      "5/5 [==============================] - 0s 770us/step - loss: 50.4968\n",
      "Epoch 3/10\n",
      "5/5 [==============================] - 0s 723us/step - loss: 48.2938\n",
      "Epoch 4/10\n",
      "5/5 [==============================] - 0s 697us/step - loss: 45.7241\n",
      "Epoch 5/10\n",
      "5/5 [==============================] - 0s 733us/step - loss: 43.3934\n",
      "Epoch 6/10\n",
      "5/5 [==============================] - 0s 739us/step - loss: 41.1153\n",
      "Epoch 7/10\n",
      "5/5 [==============================] - 0s 765us/step - loss: 38.6050\n",
      "Epoch 8/10\n",
      "5/5 [==============================] - 0s 778us/step - loss: 36.7164\n",
      "Epoch 9/10\n",
      "5/5 [==============================] - 0s 782us/step - loss: 34.4677\n",
      "Epoch 10/10\n",
      "5/5 [==============================] - 0s 750us/step - loss: 32.5846\n"
     ]
    },
    {
     "name": "stderr",
     "output_type": "stream",
     "text": [
      "2022-01-20 15:15:27.445324: I tensorflow/stream_executor/platform/default/dso_loader.cc:53] Successfully opened dynamic library libcublasLt.so.11\n"
     ]
    },
    {
     "data": {
      "text/plain": [
       "<tensorflow.python.keras.callbacks.History at 0x7f6fe0e7ae50>"
      ]
     },
     "execution_count": 15,
     "metadata": {},
     "output_type": "execute_result"
    }
   ],
   "source": [
    "model.fit(generator, epochs=10)"
   ]
  },
  {
   "cell_type": "markdown",
   "id": "5001b4f5",
   "metadata": {},
   "source": [
    "#### Padding sequences"
   ]
  },
  {
   "cell_type": "code",
   "execution_count": 16,
   "id": "138dcc58",
   "metadata": {},
   "outputs": [],
   "source": [
    "sentences = [[\"What\", \"do\", \"you\", \"like\", \"?\"],\n",
    "            [\"I\", \"like\", \"basket-ball\", \"!\"],\n",
    "            [\"And\", \"you\", \"?\"],\n",
    "            [\"I\", \"like\", \"coconut\", \"and\", \"apple\"]]"
   ]
  },
  {
   "cell_type": "code",
   "execution_count": 17,
   "id": "a47c4b1a",
   "metadata": {},
   "outputs": [],
   "source": [
    "text_set = set(np.concatenate(sentences))\n",
    "vocab_to_int = dict(zip(text_set, range(len(text_set))))\n",
    "int_to_vocab = {vocab_to_int[word]:word for word in vocab_to_int.keys()}"
   ]
  },
  {
   "cell_type": "code",
   "execution_count": 19,
   "id": "d7200387",
   "metadata": {},
   "outputs": [
    {
     "data": {
      "text/plain": [
       "[[3, 11, 10, 0, 5], [4, 0, 6, 9], [7, 10, 5], [4, 0, 8, 1, 2]]"
      ]
     },
     "execution_count": 19,
     "metadata": {},
     "output_type": "execute_result"
    }
   ],
   "source": [
    "encoded_sentences = []\n",
    "for sentence in sentences:\n",
    "    encoded_sentence = [vocab_to_int[word] for word in sentence]\n",
    "    encoded_sentences.append(encoded_sentence)\n",
    "encoded_sentences"
   ]
  },
  {
   "cell_type": "code",
   "execution_count": 20,
   "id": "bc33b124",
   "metadata": {},
   "outputs": [
    {
     "data": {
      "text/plain": [
       "array([[ 3, 11, 10,  0,  5],\n",
       "       [ 0,  4,  0,  6,  9],\n",
       "       [ 0,  0,  7, 10,  5],\n",
       "       [ 4,  0,  8,  1,  2]], dtype=int32)"
      ]
     },
     "execution_count": 20,
     "metadata": {},
     "output_type": "execute_result"
    }
   ],
   "source": [
    "pad_sequences(encoded_sentences)"
   ]
  },
  {
   "cell_type": "code",
   "execution_count": 22,
   "id": "b6a23772",
   "metadata": {},
   "outputs": [
    {
     "data": {
      "text/plain": [
       "array([[ 0,  0,  3, 11, 10,  0,  5],\n",
       "       [ 0,  0,  0,  4,  0,  6,  9],\n",
       "       [ 0,  0,  0,  0,  7, 10,  5],\n",
       "       [ 0,  0,  4,  0,  8,  1,  2]], dtype=int32)"
      ]
     },
     "execution_count": 22,
     "metadata": {},
     "output_type": "execute_result"
    }
   ],
   "source": [
    "pad_sequences(encoded_sentences, maxlen=7)"
   ]
  },
  {
   "cell_type": "code",
   "execution_count": 23,
   "id": "443595dd",
   "metadata": {},
   "outputs": [
    {
     "data": {
      "text/plain": [
       "array([[10,  0,  5],\n",
       "       [ 0,  6,  9],\n",
       "       [ 7, 10,  5],\n",
       "       [ 8,  1,  2]], dtype=int32)"
      ]
     },
     "execution_count": 23,
     "metadata": {},
     "output_type": "execute_result"
    }
   ],
   "source": [
    "pad_sequences(encoded_sentences, maxlen=3)"
   ]
  },
  {
   "cell_type": "code",
   "execution_count": 24,
   "id": "426a9013",
   "metadata": {},
   "outputs": [
    {
     "data": {
      "text/plain": [
       "array([[ 3, 11, 10],\n",
       "       [ 4,  0,  6],\n",
       "       [ 7, 10,  5],\n",
       "       [ 4,  0,  8]], dtype=int32)"
      ]
     },
     "execution_count": 24,
     "metadata": {},
     "output_type": "execute_result"
    }
   ],
   "source": [
    "pad_sequences(encoded_sentences, maxlen=3, truncating='post')"
   ]
  },
  {
   "cell_type": "markdown",
   "id": "1e77af88",
   "metadata": {},
   "source": [
    "#### Skip-grams"
   ]
  },
  {
   "cell_type": "code",
   "execution_count": 25,
   "id": "563f5c7b",
   "metadata": {},
   "outputs": [],
   "source": [
    "sentence = \"I like coconut and apple\"\n",
    "encoded_sentence = [vocab_to_int[word] for word in sentence.split()]\n",
    "vocabulary_size = len(encoded_sentence)"
   ]
  },
  {
   "cell_type": "code",
   "execution_count": 26,
   "id": "48d3e099",
   "metadata": {},
   "outputs": [],
   "source": [
    "pairs, labels = skipgrams(encoded_sentence,\n",
    "                         vocabulary_size,\n",
    "                         window_size=1,\n",
    "                         negative_samples=0)"
   ]
  },
  {
   "cell_type": "code",
   "execution_count": 27,
   "id": "4d95cee2",
   "metadata": {},
   "outputs": [
    {
     "name": "stdout",
     "output_type": "stream",
     "text": [
      "(apple, and) -> 1\n",
      "(and, apple) -> 1\n",
      "(coconut, and) -> 1\n",
      "(and, coconut) -> 1\n"
     ]
    }
   ],
   "source": [
    "for i in range(len(pairs)):\n",
    "    print(f\"({int_to_vocab[pairs[i][0]]}, {int_to_vocab[pairs[i][1]]}) -> {labels[i]}\")"
   ]
  },
  {
   "cell_type": "code",
   "execution_count": 28,
   "id": "e7da6146",
   "metadata": {},
   "outputs": [
    {
     "data": {
      "text/plain": [
       "4"
      ]
     },
     "execution_count": 28,
     "metadata": {},
     "output_type": "execute_result"
    }
   ],
   "source": [
    "len(pairs)"
   ]
  },
  {
   "cell_type": "markdown",
   "id": "25ebf552",
   "metadata": {},
   "source": [
    "### Text preprocessing"
   ]
  },
  {
   "cell_type": "markdown",
   "id": "9b5d53b5",
   "metadata": {},
   "source": [
    "#### Split text to word sequence"
   ]
  },
  {
   "cell_type": "code",
   "execution_count": 29,
   "id": "a44d21f2",
   "metadata": {},
   "outputs": [],
   "source": [
    "sentence = \"I like cocount, I like apple\""
   ]
  },
  {
   "cell_type": "code",
   "execution_count": 30,
   "id": "a4c42b28",
   "metadata": {},
   "outputs": [
    {
     "data": {
      "text/plain": [
       "['I', 'like', 'cocount', 'I', 'like', 'apple']"
      ]
     },
     "execution_count": 30,
     "metadata": {},
     "output_type": "execute_result"
    }
   ],
   "source": [
    "text_to_word_sequence(sentence, lower=False)"
   ]
  },
  {
   "cell_type": "code",
   "execution_count": 31,
   "id": "b7443c68",
   "metadata": {},
   "outputs": [
    {
     "data": {
      "text/plain": [
       "['i', 'like', 'cocount,', 'i', 'like', 'apple']"
      ]
     },
     "execution_count": 31,
     "metadata": {},
     "output_type": "execute_result"
    }
   ],
   "source": [
    "text_to_word_sequence(sentence, lower=True, filters=[])"
   ]
  },
  {
   "cell_type": "markdown",
   "id": "2e6ae7e4",
   "metadata": {},
   "source": [
    "#### Tokenizer"
   ]
  },
  {
   "cell_type": "code",
   "execution_count": 32,
   "id": "ac39d377",
   "metadata": {},
   "outputs": [],
   "source": [
    "sentences = [[\"What\", \"do\", \"you\", \"like\", \"?\"],\n",
    "            [\"I\", \"like\", \"basket-ball\", \"!\"],\n",
    "            [\"And\", \"you\", \"?\"],\n",
    "            [\"I\", \"like\", \"coconut\", \"and\", \"apple\"]]"
   ]
  },
  {
   "cell_type": "code",
   "execution_count": 34,
   "id": "4240c0cb",
   "metadata": {},
   "outputs": [],
   "source": [
    "# Create the tokenizer\n",
    "t = Tokenizer()\n",
    "# fit the tokenizer on the documents\n",
    "t.fit_on_texts(sentences)"
   ]
  },
  {
   "cell_type": "code",
   "execution_count": 35,
   "id": "b8ffb6fe",
   "metadata": {},
   "outputs": [
    {
     "name": "stdout",
     "output_type": "stream",
     "text": [
      "OrderedDict([('what', 1), ('do', 1), ('you', 2), ('like', 3), ('?', 2), ('i', 2), ('basket-ball', 1), ('!', 1), ('and', 2), ('coconut', 1), ('apple', 1)])\n"
     ]
    }
   ],
   "source": [
    "print(t.word_counts)"
   ]
  },
  {
   "cell_type": "code",
   "execution_count": 36,
   "id": "e4dc6932",
   "metadata": {},
   "outputs": [
    {
     "name": "stdout",
     "output_type": "stream",
     "text": [
      "4\n"
     ]
    }
   ],
   "source": [
    "print(t.document_count)"
   ]
  },
  {
   "cell_type": "code",
   "execution_count": 37,
   "id": "4d6fd444",
   "metadata": {},
   "outputs": [
    {
     "name": "stdout",
     "output_type": "stream",
     "text": [
      "{'like': 1, 'you': 2, '?': 3, 'i': 4, 'and': 5, 'what': 6, 'do': 7, 'basket-ball': 8, '!': 9, 'coconut': 10, 'apple': 11}\n"
     ]
    }
   ],
   "source": [
    "print(t.word_index)"
   ]
  },
  {
   "cell_type": "code",
   "execution_count": 38,
   "id": "9718047a",
   "metadata": {},
   "outputs": [
    {
     "name": "stdout",
     "output_type": "stream",
     "text": [
      "defaultdict(<class 'int'>, {'like': 3, '?': 2, 'what': 1, 'you': 2, 'do': 1, '!': 1, 'basket-ball': 1, 'i': 2, 'and': 2, 'apple': 1, 'coconut': 1})\n"
     ]
    }
   ],
   "source": [
    "print(t.word_docs)"
   ]
  },
  {
   "cell_type": "code",
   "execution_count": 39,
   "id": "daa7811d",
   "metadata": {},
   "outputs": [
    {
     "data": {
      "text/plain": [
       "array([[0., 1., 1., 1., 0., 0., 1., 1., 0., 0., 0., 0.],\n",
       "       [0., 1., 0., 0., 1., 0., 0., 0., 1., 1., 0., 0.],\n",
       "       [0., 0., 1., 1., 0., 1., 0., 0., 0., 0., 0., 0.],\n",
       "       [0., 1., 0., 0., 1., 1., 0., 0., 0., 0., 1., 1.]])"
      ]
     },
     "execution_count": 39,
     "metadata": {},
     "output_type": "execute_result"
    }
   ],
   "source": [
    "t.texts_to_matrix(sentences, mode='binary')"
   ]
  },
  {
   "cell_type": "code",
   "execution_count": 40,
   "id": "b3cecf1e",
   "metadata": {},
   "outputs": [
    {
     "data": {
      "text/plain": [
       "array([[0., 1., 1., 1., 0., 0., 1., 1., 0., 0., 0., 0.],\n",
       "       [0., 1., 0., 0., 1., 0., 0., 0., 1., 1., 0., 0.],\n",
       "       [0., 0., 1., 1., 0., 1., 0., 0., 0., 0., 0., 0.],\n",
       "       [0., 1., 0., 0., 1., 1., 0., 0., 0., 0., 1., 1.]])"
      ]
     },
     "execution_count": 40,
     "metadata": {},
     "output_type": "execute_result"
    }
   ],
   "source": [
    "t.texts_to_matrix(sentences, mode='count')"
   ]
  },
  {
   "cell_type": "markdown",
   "id": "05cab34f",
   "metadata": {},
   "source": [
    "### Image preprocessing"
   ]
  },
  {
   "cell_type": "code",
   "execution_count": 41,
   "id": "582966d5",
   "metadata": {},
   "outputs": [
    {
     "name": "stdout",
     "output_type": "stream",
     "text": [
      "Downloading data from https://www.cs.toronto.edu/~kriz/cifar-10-python.tar.gz\n",
      "170500096/170498071 [==============================] - 2s 0us/step\n"
     ]
    }
   ],
   "source": [
    "# Load CIFAR10 Dataset\n",
    "(x_cifar10_train, y_cifar10_train), (x_cifar10_test, y_cifar10_test) = tf.keras.datasets.cifar10.load_data()"
   ]
  },
  {
   "cell_type": "code",
   "execution_count": 43,
   "id": "1979c90a",
   "metadata": {},
   "outputs": [],
   "source": [
    "datagen = tf.keras.preprocessing.image.ImageDataGenerator(\n",
    "    rotation_range=15,\n",
    "    width_shift_range=3,\n",
    "    height_shift_range=3,\n",
    "    horizontal_flip=True)"
   ]
  },
  {
   "cell_type": "code",
   "execution_count": 44,
   "id": "e149eca1",
   "metadata": {},
   "outputs": [],
   "source": [
    "it = datagen.flow(x_cifar10_train, y_cifar10_train, batch_size=32)"
   ]
  },
  {
   "cell_type": "code",
   "execution_count": 48,
   "id": "06b89120",
   "metadata": {},
   "outputs": [],
   "source": [
    "model = tf.keras.models.Sequential([\n",
    "    tf.keras.layers.Conv2D(filters=32, kernel_size=3, padding='same', activation='relu', input_shape=[32, 32, 3]),\n",
    "    tf.keras.layers.Conv2D(filters=32, kernel_size=3, padding='same', activation='relu'),\n",
    "    tf.keras.layers.MaxPool2D(pool_size=2),\n",
    "    tf.keras.layers.Conv2D(filters=64, kernel_size=3, padding=\"same\", activation='relu'),\n",
    "    tf.keras.layers.Conv2D(filters=64, kernel_size=3, padding=\"same\", activation='relu'),\n",
    "    tf.keras.layers.MaxPool2D(pool_size=2),\n",
    "    tf.keras.layers.Flatten(),\n",
    "    tf.keras.layers.Dense(128, activation='relu'),\n",
    "    tf.keras.layers.Dense(10, activation=\"softmax\")\n",
    "])\n",
    "\n",
    "model.compile(loss=\"sparse_categorical_crossentropy\",\n",
    "             optimizer=tf.keras.optimizers.SGD(learning_rate=0.01),\n",
    "             metrics=['accuracy'])"
   ]
  },
  {
   "cell_type": "code",
   "execution_count": 49,
   "id": "14d5271e",
   "metadata": {},
   "outputs": [
    {
     "name": "stdout",
     "output_type": "stream",
     "text": [
      "Epoch 1/10\n"
     ]
    },
    {
     "name": "stderr",
     "output_type": "stream",
     "text": [
      "2022-01-20 16:00:14.664511: I tensorflow/stream_executor/platform/default/dso_loader.cc:53] Successfully opened dynamic library libcudnn.so.8\n",
      "2022-01-20 16:00:15.109255: I tensorflow/stream_executor/cuda/cuda_dnn.cc:359] Loaded cuDNN version 8100\n"
     ]
    },
    {
     "name": "stdout",
     "output_type": "stream",
     "text": [
      "1562/1562 [==============================] - 16s 9ms/step - loss: nan - accuracy: 0.9974 - val_loss: nan - val_accuracy: 1.0000\n",
      "Epoch 2/10\n",
      "1562/1562 [==============================] - 14s 9ms/step - loss: nan - accuracy: 1.0000 - val_loss: nan - val_accuracy: 1.0000\n",
      "Epoch 3/10\n",
      "1562/1562 [==============================] - 14s 9ms/step - loss: nan - accuracy: 1.0000 - val_loss: nan - val_accuracy: 1.0000\n",
      "Epoch 4/10\n",
      "1562/1562 [==============================] - 14s 9ms/step - loss: nan - accuracy: 1.0000 - val_loss: nan - val_accuracy: 1.0000\n",
      "Epoch 5/10\n",
      "1562/1562 [==============================] - 14s 9ms/step - loss: nan - accuracy: 1.0000 - val_loss: nan - val_accuracy: 1.0000\n",
      "Epoch 6/10\n",
      "1562/1562 [==============================] - 14s 9ms/step - loss: nan - accuracy: 1.0000 - val_loss: nan - val_accuracy: 1.0000\n",
      "Epoch 7/10\n",
      "1562/1562 [==============================] - 14s 9ms/step - loss: nan - accuracy: 1.0000 - val_loss: nan - val_accuracy: 1.0000\n",
      "Epoch 8/10\n",
      "1562/1562 [==============================] - 14s 9ms/step - loss: nan - accuracy: 1.0000 - val_loss: nan - val_accuracy: 1.0000\n",
      "Epoch 9/10\n",
      "1562/1562 [==============================] - 14s 9ms/step - loss: nan - accuracy: 1.0000 - val_loss: nan - val_accuracy: 1.0000\n",
      "Epoch 10/10\n",
      "1562/1562 [==============================] - 14s 9ms/step - loss: nan - accuracy: 1.0000 - val_loss: nan - val_accuracy: 1.0000\n"
     ]
    }
   ],
   "source": [
    "history = model.fit(it, epochs=10,\n",
    "                   steps_per_epoch=len(x_cifar10_train) / 32,\n",
    "                   validation_data=(x_cifar10_test, y_cifar10_test))"
   ]
  }
 ],
 "metadata": {
  "kernelspec": {
   "display_name": "Python 3 (ipykernel)",
   "language": "python",
   "name": "python3"
  },
  "language_info": {
   "codemirror_mode": {
    "name": "ipython",
    "version": 3
   },
   "file_extension": ".py",
   "mimetype": "text/x-python",
   "name": "python",
   "nbconvert_exporter": "python",
   "pygments_lexer": "ipython3",
   "version": "3.8.10"
  }
 },
 "nbformat": 4,
 "nbformat_minor": 5
}
