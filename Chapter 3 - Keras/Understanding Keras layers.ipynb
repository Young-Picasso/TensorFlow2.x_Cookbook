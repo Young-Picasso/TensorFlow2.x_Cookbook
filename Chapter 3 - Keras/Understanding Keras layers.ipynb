{
 "cells": [
  {
   "cell_type": "markdown",
   "id": "9d4d7f7e",
   "metadata": {},
   "source": [
    "## Getting ready..."
   ]
  },
  {
   "cell_type": "markdown",
   "id": "9eb43722",
   "metadata": {},
   "source": [
    "To start, we'll review some methods that are common in all Keras layers. These methods are very useful to know the configuration and the state of a layer."
   ]
  },
  {
   "cell_type": "markdown",
   "id": "a0b4d4ad",
   "metadata": {},
   "source": [
    "## How to do it..."
   ]
  },
  {
   "cell_type": "markdown",
   "id": "35dae934",
   "metadata": {},
   "source": [
    "Review physical book. No code for this part."
   ]
  }
 ],
 "metadata": {
  "kernelspec": {
   "display_name": "Python 3 (ipykernel)",
   "language": "python",
   "name": "python3"
  },
  "language_info": {
   "codemirror_mode": {
    "name": "ipython",
    "version": 3
   },
   "file_extension": ".py",
   "mimetype": "text/x-python",
   "name": "python",
   "nbconvert_exporter": "python",
   "pygments_lexer": "ipython3",
   "version": "3.8.10"
  }
 },
 "nbformat": 4,
 "nbformat_minor": 5
}
