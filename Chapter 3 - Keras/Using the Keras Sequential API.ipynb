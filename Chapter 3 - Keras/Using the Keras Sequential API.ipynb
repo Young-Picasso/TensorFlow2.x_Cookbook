{
 "cells": [
  {
   "cell_type": "markdown",
   "id": "a40cb3e4",
   "metadata": {},
   "source": [
    "## Getting ready..."
   ]
  },
  {
   "cell_type": "code",
   "execution_count": 2,
   "id": "9798cbc3",
   "metadata": {},
   "outputs": [],
   "source": [
    "import tensorflow as tf\n",
    "from tensorflow import keras\n",
    "from tensorflow.keras.layers import Dense\n",
    "import numpy as np"
   ]
  },
  {
   "cell_type": "markdown",
   "id": "feb40dd6",
   "metadata": {},
   "source": [
    "## How to do it..."
   ]
  },
  {
   "cell_type": "code",
   "execution_count": 5,
   "id": "cfd26e27",
   "metadata": {},
   "outputs": [],
   "source": [
    "model = tf.keras.Sequential([\n",
    "    # Add a fully connected layer with 1024 units to the model\n",
    "    tf.keras.layers.Dense(1024, input_dim=64),\n",
    "    # Add an activation layer with ReLU activation function\n",
    "    tf.keras.layers.Activation('relu'),\n",
    "    # Add a fully connected layer with 256 units to the model\n",
    "    tf.keras.layers.Dense(256),\n",
    "    # Add an activation layer with ReLU activation function\n",
    "    tf.keras.layers.Activation('relu'),\n",
    "    # Add a fully connected layer with 10 units to the model\n",
    "    tf.keras.layers.Dense(10),\n",
    "    # Add an activation layer with softmax activation function\n",
    "    tf.keras.layers.Activation('softmax')\n",
    "])"
   ]
  },
  {
   "cell_type": "markdown",
   "id": "471a813b",
   "metadata": {},
   "source": [
    "Another way to create a Sequential model is to instantiate a Sequential class and then add layers via the .add() method."
   ]
  },
  {
   "cell_type": "code",
   "execution_count": 6,
   "id": "b72917eb",
   "metadata": {},
   "outputs": [],
   "source": [
    "model = tf.keras.Sequential()\n",
    "# Add a fully connected layer with 1024 units to the model\n",
    "model.add(tf.keras.layers.Dense(1024, input_dim=64))\n",
    "# Add an activation layer with ReLU activation function\n",
    "model.add(tf.keras.layers.Activation('relu'))\n",
    "# Add a fully connected layer with 256 units to the model\n",
    "model.add(tf.keras.layers.Dense(256))\n",
    "# Add an activation layer with ReLU activation function\n",
    "model.add(tf.keras.layers.Activation('relu'))\n",
    "# Add a fully connected layer with 10 units to the model\n",
    "model.add(tf.keras.layers.Dense(10))\n",
    "# Add an activation layer with softmax activation function\n",
    "model.add(tf.keras.layers.Activation('softmax'))"
   ]
  },
  {
   "cell_type": "code",
   "execution_count": 13,
   "id": "e267d6e0",
   "metadata": {},
   "outputs": [
    {
     "name": "stdout",
     "output_type": "stream",
     "text": [
      "Help on package tensorflow.keras.layers in tensorflow.keras:\n",
      "\n",
      "NAME\n",
      "    tensorflow.keras.layers - Keras layers API.\n",
      "\n",
      "PACKAGE CONTENTS\n",
      "    experimental (package)\n",
      "\n",
      "FILE\n",
      "    /home/wil/tensorflow/venv/lib/python3.8/site-packages/tensorflow/keras/layers/__init__.py\n",
      "\n",
      "\n"
     ]
    }
   ],
   "source": [
    "help(tf.keras.layers)"
   ]
  },
  {
   "cell_type": "code",
   "execution_count": 14,
   "id": "9220c711",
   "metadata": {},
   "outputs": [],
   "source": [
    "model.compile(\n",
    "    optimizer='adam',\n",
    "    loss='categorical_crossentropy',\n",
    "    metrics=['accuracy']\n",
    ")"
   ]
  },
  {
   "cell_type": "code",
   "execution_count": 15,
   "id": "033bf3cb",
   "metadata": {},
   "outputs": [],
   "source": [
    "data = np.random.random((2000, 64))\n",
    "labels = np.random.random((2000, 10))\n",
    "val_data = np.random.random((500, 64))\n",
    "val_labels = np.random.random((500, 10))\n",
    "test_data = np.random.random((500, 64))\n",
    "test_labels = np.random.random((500, 10))"
   ]
  },
  {
   "cell_type": "code",
   "execution_count": 17,
   "id": "5920e9ed",
   "metadata": {},
   "outputs": [
    {
     "name": "stdout",
     "output_type": "stream",
     "text": [
      "Epoch 1/10\n",
      "40/40 [==============================] - 0s 1ms/step - loss: 7627.3374 - accuracy: 0.1045 - val_loss: 6855.2266 - val_accuracy: 0.1240\n",
      "Epoch 2/10\n",
      "40/40 [==============================] - 0s 1ms/step - loss: 9464.0820 - accuracy: 0.1035 - val_loss: 9345.1016 - val_accuracy: 0.1040\n",
      "Epoch 3/10\n",
      "40/40 [==============================] - 0s 999us/step - loss: 12277.0693 - accuracy: 0.1040 - val_loss: 15781.7578 - val_accuracy: 0.1240\n",
      "Epoch 4/10\n",
      "40/40 [==============================] - 0s 1ms/step - loss: 14876.0146 - accuracy: 0.0970 - val_loss: 17389.5859 - val_accuracy: 0.0940\n",
      "Epoch 5/10\n",
      "40/40 [==============================] - 0s 1ms/step - loss: 17806.3418 - accuracy: 0.0940 - val_loss: 22257.3301 - val_accuracy: 0.1080\n",
      "Epoch 6/10\n",
      "40/40 [==============================] - 0s 1ms/step - loss: 20422.4551 - accuracy: 0.1005 - val_loss: 11000.5830 - val_accuracy: 0.1240\n",
      "Epoch 7/10\n",
      "40/40 [==============================] - 0s 1ms/step - loss: 16588.9160 - accuracy: 0.1040 - val_loss: 17354.0996 - val_accuracy: 0.1080\n",
      "Epoch 8/10\n",
      "40/40 [==============================] - 0s 1ms/step - loss: 21452.0430 - accuracy: 0.1005 - val_loss: 22449.5059 - val_accuracy: 0.0800\n",
      "Epoch 9/10\n",
      "40/40 [==============================] - 0s 1ms/step - loss: 25482.1582 - accuracy: 0.1115 - val_loss: 34426.1289 - val_accuracy: 0.0960\n",
      "Epoch 10/10\n",
      "40/40 [==============================] - 0s 1ms/step - loss: 25616.5293 - accuracy: 0.0975 - val_loss: 29002.1660 - val_accuracy: 0.0800\n"
     ]
    },
    {
     "data": {
      "text/plain": [
       "<tensorflow.python.keras.callbacks.History at 0x7fb0040d65b0>"
      ]
     },
     "execution_count": 17,
     "metadata": {},
     "output_type": "execute_result"
    }
   ],
   "source": [
    "model.fit(data, labels, epochs=10, batch_size=50, validation_data=(val_data, val_labels))"
   ]
  },
  {
   "cell_type": "code",
   "execution_count": 18,
   "id": "280df88c",
   "metadata": {},
   "outputs": [
    {
     "name": "stdout",
     "output_type": "stream",
     "text": [
      "40/40 [==============================] - 0s 556us/step - loss: 28645.7051 - accuracy: 0.0920\n"
     ]
    },
    {
     "data": {
      "text/plain": [
       "[28645.705078125, 0.09200000017881393]"
      ]
     },
     "execution_count": 18,
     "metadata": {},
     "output_type": "execute_result"
    }
   ],
   "source": [
    "model.evaluate(data, labels, batch_size=50)"
   ]
  },
  {
   "cell_type": "code",
   "execution_count": 19,
   "id": "c1f5b910",
   "metadata": {},
   "outputs": [],
   "source": [
    "result = model.predict(data, batch_size=50)"
   ]
  }
 ],
 "metadata": {
  "kernelspec": {
   "display_name": "Python 3 (ipykernel)",
   "language": "python",
   "name": "python3"
  },
  "language_info": {
   "codemirror_mode": {
    "name": "ipython",
    "version": 3
   },
   "file_extension": ".py",
   "mimetype": "text/x-python",
   "name": "python",
   "nbconvert_exporter": "python",
   "pygments_lexer": "ipython3",
   "version": "3.8.10"
  }
 },
 "nbformat": 4,
 "nbformat_minor": 5
}
