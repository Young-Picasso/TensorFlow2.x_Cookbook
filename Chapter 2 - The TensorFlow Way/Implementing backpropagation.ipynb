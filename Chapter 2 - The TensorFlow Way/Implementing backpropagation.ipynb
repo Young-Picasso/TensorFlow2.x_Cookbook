{
 "cells": [
  {
   "cell_type": "markdown",
   "id": "7156a1f7",
   "metadata": {},
   "source": [
    "## How to do it"
   ]
  },
  {
   "cell_type": "code",
   "execution_count": 4,
   "id": "4bbfc241",
   "metadata": {},
   "outputs": [],
   "source": [
    "import tensorflow as tf\n",
    "import numpy as np\n",
    "import matplotlib.pyplot as plt"
   ]
  },
  {
   "cell_type": "code",
   "execution_count": 5,
   "id": "73520174",
   "metadata": {},
   "outputs": [
    {
     "data": {
      "image/png": "[encoded data removed]",
      "text/plain": [
       "<Figure size 432x288 with 1 Axes>"
      ]
     },
     "metadata": {
      "needs_background": "light"
     },
     "output_type": "display_data"
    }
   ],
   "source": [
    "np.random.seed(0)\n",
    "x_vals = np.random.normal(1, 0.1, 100).astype(np.float32)\n",
    "y_vals = (x_vals * (np.random.normal(1, 0.05, 100) - 0.5)).astype(np.float32)\n",
    "\n",
    "plt.scatter(x_vals, y_vals)\n",
    "plt.show()"
   ]
  },
  {
   "cell_type": "code",
   "execution_count": 6,
   "id": "e2d14133",
   "metadata": {},
   "outputs": [],
   "source": [
    "def my_output(X, weights, biases):\n",
    "    return tf.add(tf.multiply(X, weights), biases)"
   ]
  },
  {
   "cell_type": "code",
   "execution_count": 12,
   "id": "ba62d841",
   "metadata": {},
   "outputs": [],
   "source": [
    "def loss_func(y_true, y_pred):\n",
    "    return tf.reduce_mean(tf.square(y_pred - y_true))"
   ]
  },
  {
   "cell_type": "code",
   "execution_count": 13,
   "id": "ad9c26a9",
   "metadata": {},
   "outputs": [],
   "source": [
    "my_opt = tf.optimizers.SGD(learning_rate=0.02)"
   ]
  },
  {
   "cell_type": "code",
   "execution_count": 14,
   "id": "ce39003e",
   "metadata": {},
   "outputs": [],
   "source": [
    "tf.random.set_seed(1)\n",
    "np.random.seed(0)\n",
    "weights = tf.Variable(tf.random.normal(shape=[1]))\n",
    "biases = tf.Variable(tf.random.normal(shape=[1]))\n",
    "history = list()"
   ]
  },
  {
   "cell_type": "code",
   "execution_count": 16,
   "id": "06f13aa2",
   "metadata": {},
   "outputs": [
    {
     "name": "stdout",
     "output_type": "stream",
     "text": [
      "Step # 25 Weights: [-0.5724959] Biases: [0.91629505]\n",
      "Loss = 0.09151718020439148\n",
      "Step # 50 Weights: [-0.5048501] Biases: [0.9786189]\n",
      "Loss = 0.00013714825036004186\n",
      "Step # 75 Weights: [-0.4651749] Biases: [1.0034196]\n",
      "Loss = 0.07202579826116562\n",
      "Step # 100 Weights: [-0.47813603] Biases: [0.97745514]\n",
      "Loss = 0.002147938823327422\n"
     ]
    }
   ],
   "source": [
    "for i in range(100):\n",
    "    rand_index = np.random.choice(100)\n",
    "    rand_x = [x_vals[rand_index]]\n",
    "    rand_y = [y_vals[rand_index]]\n",
    "    with tf.GradientTape() as tape:\n",
    "        predictions = my_output(rand_x, weights, biases)\n",
    "        loss = loss_func(rand_y, predictions)\n",
    "    history.append(loss.numpy())\n",
    "    gradients = tape.gradient(loss, [weights, biases])\n",
    "    my_opt.apply_gradients(zip(gradients, [weights, biases]))\n",
    "    if (i + 1) % 25 == 0:\n",
    "        print(f'Step # {i + 1} Weights: {weights.numpy()} Biases: {biases.numpy()}')\n",
    "        print(f'Loss = {loss.numpy()}')"
   ]
  },
  {
   "cell_type": "code",
   "execution_count": 17,
   "id": "b93b6406",
   "metadata": {},
   "outputs": [
    {
     "data": {
      "image/png": "[encoded data removed]",
      "text/plain": [
       "<Figure size 432x288 with 1 Axes>"
      ]
     },
     "metadata": {
      "needs_background": "light"
     },
     "output_type": "display_data"
    }
   ],
   "source": [
    "plt.plot(history)\n",
    "plt.xlabel('iterations')\n",
    "plt.ylabel('loss')\n",
    "plt.show()"
   ]
  },
  {
   "cell_type": "code",
   "execution_count": 18,
   "id": "480f0465",
   "metadata": {},
   "outputs": [
    {
     "data": {
      "image/png": "[encoded data removed]",
      "text/plain": [
       "<Figure size 432x288 with 1 Axes>"
      ]
     },
     "metadata": {
      "needs_background": "light"
     },
     "output_type": "display_data"
    }
   ],
   "source": [
    "np.random.seed(0)\n",
    "x_vals = np.concatenate((np.random.normal(-3, 1, 50),\n",
    "                        np.random.normal(3, 1, 50))\n",
    "                       ).astype(np.float32)\n",
    "y_vals = np.concatenate((np.repeat(0., 50), np.repeat(1., 50))).astype(np.float32)\n",
    "\n",
    "plt.hist(x_vals[y_vals==1], color='b')\n",
    "plt.hist(x_vals[y_vals==0], color='r')\n",
    "plt.show()"
   ]
  },
  {
   "cell_type": "code",
   "execution_count": 19,
   "id": "9390d742",
   "metadata": {},
   "outputs": [],
   "source": [
    "def loss_func(y_true, y_pred):\n",
    "    return tf.reduce_mean(\n",
    "        tf.nn.sigmoid_cross_entropy_with_logits(labels=y_true,\n",
    "                                                logits=y_pred))"
   ]
  },
  {
   "cell_type": "code",
   "execution_count": 20,
   "id": "03e9ba61",
   "metadata": {},
   "outputs": [],
   "source": [
    "tf. random.set_seed(1)\n",
    "np.random.seed(0)\n",
    "weights = tf.Variable(tf.random.normal(shape=[1]))\n",
    "biases = tf.Variable(tf.random.normal(shape=[1]))\n",
    "history = list()"
   ]
  },
  {
   "cell_type": "code",
   "execution_count": 21,
   "id": "e1c42e06",
   "metadata": {},
   "outputs": [
    {
     "name": "stdout",
     "output_type": "stream",
     "text": [
      "Step # 25 Weights: [-0.01804189] Biases: [0.44081178]\n",
      "Loss = 0.5967270135879517\n",
      "Step # 50 Weights: [0.49321094] Biases: [0.3773208]\n",
      "Loss = 0.3199256956577301\n",
      "Step # 75 Weights: [0.7071932] Biases: [0.32154968]\n",
      "Loss = 0.03642747551202774\n",
      "Step # 100 Weights: [0.8395616] Biases: [0.30409008]\n",
      "Loss = 0.028119442984461784\n"
     ]
    }
   ],
   "source": [
    "for i in range(100):\n",
    "    rand_index = np.random.choice(100)\n",
    "    rand_x = [x_vals[rand_index]]\n",
    "    rand_y = [y_vals[rand_index]]\n",
    "    with tf.GradientTape() as tape:\n",
    "        predictions = my_output(rand_x, weights, biases)\n",
    "        loss = loss_func(rand_y, predictions)\n",
    "    history.append(loss.numpy())\n",
    "    gradients = tape.gradient(loss, [weights, biases])\n",
    "    my_opt.apply_gradients(zip(gradients, [weights, biases]))\n",
    "    if (i + 1) % 25 == 0:\n",
    "        print(f'Step # {i + 1} Weights: {weights.numpy()} Biases: {biases.numpy()}')\n",
    "        print(f'Loss = {loss.numpy()}')"
   ]
  },
  {
   "cell_type": "code",
   "execution_count": 22,
   "id": "8aed7324",
   "metadata": {},
   "outputs": [
    {
     "data": {
      "image/png": "[encoded data removed]",
      "text/plain": [
       "<Figure size 432x288 with 1 Axes>"
      ]
     },
     "metadata": {
      "needs_background": "light"
     },
     "output_type": "display_data"
    }
   ],
   "source": [
    "plt.plot(history)\n",
    "plt.xlabel('iterations')\n",
    "plt.ylabel('loss')\n",
    "plt.show()"
   ]
  }
 ],
 "metadata": {
  "kernelspec": {
   "display_name": "Python 3 (ipykernel)",
   "language": "python",
   "name": "python3"
  },
  "language_info": {
   "codemirror_mode": {
    "name": "ipython",
    "version": 3
   },
   "file_extension": ".py",
   "mimetype": "text/x-python",
   "name": "python",
   "nbconvert_exporter": "python",
   "pygments_lexer": "ipython3",
   "version": "3.8.10"
  }
 },
 "nbformat": 4,
 "nbformat_minor": 5
}
