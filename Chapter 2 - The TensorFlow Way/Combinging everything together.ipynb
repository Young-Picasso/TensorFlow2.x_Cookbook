{
 "cells": [
  {
   "cell_type": "markdown",
   "id": "27545f99",
   "metadata": {},
   "source": [
    "## Getting ready"
   ]
  },
  {
   "cell_type": "code",
   "execution_count": 1,
   "id": "c3a1a41f",
   "metadata": {},
   "outputs": [
    {
     "name": "stderr",
     "output_type": "stream",
     "text": [
      "2022-01-19 13:35:15.011700: I tensorflow/stream_executor/platform/default/dso_loader.cc:53] Successfully opened dynamic library libcudart.so.11.0\n"
     ]
    }
   ],
   "source": [
    "import matplotlib.pyplot as plt\n",
    "import numpy as np\n",
    "import tensorflow as tf\n",
    "import tensorflow_datasets as tfds"
   ]
  },
  {
   "cell_type": "markdown",
   "id": "b6bff043",
   "metadata": {},
   "source": [
    "## How to do it"
   ]
  },
  {
   "cell_type": "code",
   "execution_count": 2,
   "id": "6f7dce1c",
   "metadata": {},
   "outputs": [],
   "source": [
    "batch_size = 20"
   ]
  },
  {
   "cell_type": "code",
   "execution_count": 5,
   "id": "fcff66d8",
   "metadata": {},
   "outputs": [],
   "source": [
    "iris = tfds.load('iris', split='train[:90%]', as_supervised=True)\n",
    "iris_test = tfds.load('iris', split='train[90%:]', as_supervised=True)\n",
    "\n",
    "def iris2d(features, label):\n",
    "    return features[2:], tf.cast((label == 0), dtype=tf.float32)\n",
    "\n",
    "train_generator = (iris.map(iris2d).shuffle(buffer_size=100).batch(batch_size))\n",
    "\n",
    "test_generator = iris_test.map(iris2d).batch(1)"
   ]
  },
  {
   "cell_type": "code",
   "execution_count": 6,
   "id": "33a2146c",
   "metadata": {},
   "outputs": [],
   "source": [
    "def linear_model(X, A, b):\n",
    "    my_output = tf.add(tf.matmul(X, A), b)\n",
    "    return tf.squeeze(my_output)"
   ]
  },
  {
   "cell_type": "code",
   "execution_count": 7,
   "id": "30319005",
   "metadata": {},
   "outputs": [],
   "source": [
    "def xentropy(y_true, y_pred):\n",
    "    return tf.reduce_mean(\n",
    "    tf.nn.sigmoid_cross_entropy_with_logits(labels=y_true,\n",
    "                                            logits=y_pred))"
   ]
  },
  {
   "cell_type": "code",
   "execution_count": 8,
   "id": "85b96594",
   "metadata": {},
   "outputs": [],
   "source": [
    "my_opt = tf.optimizers.SGD(learning_rate=0.02)"
   ]
  },
  {
   "cell_type": "code",
   "execution_count": 12,
   "id": "49dd1882",
   "metadata": {},
   "outputs": [
    {
     "name": "stdout",
     "output_type": "stream",
     "text": [
      "Step # 30 Weights: [[-1.1209443  1.2983932]] Biases: [1.0132906]\n",
      "Loss = 0.26532742381095886\n",
      "Step # 60 Weights: [[-1.1826787  1.078597 ]] Biases: [1.5136807]\n",
      "Loss = 0.15758231282234192\n",
      "Step # 90 Weights: [[-1.2437662  0.8921208]] Biases: [1.9345899]\n",
      "Loss = 0.309261679649353\n",
      "Step # 120 Weights: [[-1.303399  0.733038]] Biases: [2.2899842]\n",
      "Loss = 0.1283969134092331\n",
      "Step # 150 Weights: [[-1.3524446   0.59706086]] Biases: [2.5992858]\n",
      "Loss = 0.2309454381465912\n",
      "Step # 180 Weights: [[-1.3996366   0.47767937]] Biases: [2.8690994]\n",
      "Loss = 0.17070916295051575\n",
      "Step # 210 Weights: [[-1.4459962  0.3712319]] Biases: [3.1067233]\n",
      "Loss = 0.1696748435497284\n",
      "Step # 240 Weights: [[-1.4860559   0.27646494]] Biases: [3.3210714]\n",
      "Loss = 0.13427121937274933\n",
      "Step # 270 Weights: [[-1.5245566   0.19042724]] Biases: [3.514979]\n",
      "Loss = 0.08230018615722656\n",
      "Step # 300 Weights: [[-1.5594628   0.11215301]] Biases: [3.6921487]\n",
      "Loss = 0.11972744017839432\n"
     ]
    }
   ],
   "source": [
    "tf.random.set_seed(1)\n",
    "\n",
    "np.random.seed(0)\n",
    "A = tf.Variable(tf.random.normal(shape=[2, 1]))\n",
    "b = tf.Variable(tf.random.normal(shape=[1]))\n",
    "history = list()\n",
    "\n",
    "for i in range (300):\n",
    "    iteration_loss = list()\n",
    "    for features, label in train_generator:\n",
    "        with tf.GradientTape() as tape:\n",
    "            predictions = linear_model(features, A, b)\n",
    "            loss = xentropy(label, predictions)\n",
    "        iteration_loss.append(loss.numpy())\n",
    "        gradients = tape.gradient(loss, [A, b])\n",
    "        my_opt.apply_gradients(zip(gradients, [A, b]))\n",
    "    history.append(np.mean(iteration_loss))\n",
    "    if (i + 1) % 30 == 0:\n",
    "        print(f'Step # {i + 1} Weights: {A.numpy().T} Biases: {b.numpy()}')\n",
    "        print(f'Loss = {loss.numpy()}')"
   ]
  },
  {
   "cell_type": "code",
   "execution_count": 13,
   "id": "a99561f7",
   "metadata": {},
   "outputs": [
    {
     "data": {
      "image/png": "[encoded data removed]",
      "text/plain": [
       "<Figure size 432x288 with 1 Axes>"
      ]
     },
     "metadata": {
      "needs_background": "light"
     },
     "output_type": "display_data"
    }
   ],
   "source": [
    "plt.plot(history)\n",
    "plt.xlabel('iterations')\n",
    "plt.ylabel('loss')\n",
    "plt.show()"
   ]
  },
  {
   "cell_type": "code",
   "execution_count": 15,
   "id": "1eb66076",
   "metadata": {},
   "outputs": [
    {
     "name": "stdout",
     "output_type": "stream",
     "text": [
      "test cross-entropy is 0.1024182140827179\n"
     ]
    }
   ],
   "source": [
    "predictions = list()\n",
    "labels = list()\n",
    "for features, label in test_generator:\n",
    "    predictions.append(linear_model(features, A, b).numpy())\n",
    "    labels.append(label.numpy()[0])\n",
    "    \n",
    "test_loss = xentropy(np.array(labels), np.array(predictions)).numpy()\n",
    "print(f'test cross-entropy is {test_loss}')"
   ]
  },
  {
   "cell_type": "code",
   "execution_count": 17,
   "id": "dedef3d3",
   "metadata": {},
   "outputs": [
    {
     "data": {
      "image/png": "[encoded data removed]",
      "text/plain": [
       "<Figure size 432x288 with 1 Axes>"
      ]
     },
     "metadata": {
      "needs_background": "light"
     },
     "output_type": "display_data"
    }
   ],
   "source": [
    "coefficients = np.ravel(A.numpy())\n",
    "intercept = b.numpy()\n",
    "\n",
    "# Plotting batches of examples\n",
    "for j, (features, label) in enumerate(train_generator):\n",
    "    setosa_mask = label.numpy() == 1\n",
    "    setosa = features.numpy()[setosa_mask]\n",
    "    non_setosa = features.numpy()[~setosa_mask]\n",
    "    plt.scatter(setosa[:,0], setosa[:,1], c='red', label='setosa')\n",
    "    plt.scatter(non_setosa[:,0], non_setosa[:,1], c='blue', label='Non-setosa')\n",
    "    if j == 0:\n",
    "        plt.legend(loc='lower right')\n",
    "        \n",
    "# Computing and plotting the decision function\n",
    "a = -coefficients[0] / coefficients[1]\n",
    "xx = np.linspace(plt.xlim()[0], plt.xlim()[1], num=10_000)\n",
    "yy = a * xx - intercept / coefficients[1]\n",
    "on_the_plot = (yy > plt.ylim()[0]) & (yy < plt.ylim()[1])\n",
    "plt.plot(xx[on_the_plot], yy[on_the_plot], 'k--')\n",
    "\n",
    "plt.xlabel('Petal Length')\n",
    "plt.ylabel('Petal Width')\n",
    "plt.show()"
   ]
  }
 ],
 "metadata": {
  "kernelspec": {
   "display_name": "Python 3 (ipykernel)",
   "language": "python",
   "name": "python3"
  },
  "language_info": {
   "codemirror_mode": {
    "name": "ipython",
    "version": 3
   },
   "file_extension": ".py",
   "mimetype": "text/x-python",
   "name": "python",
   "nbconvert_exporter": "python",
   "pygments_lexer": "ipython3",
   "version": "3.8.10"
  }
 },
 "nbformat": 4,
 "nbformat_minor": 5
}
